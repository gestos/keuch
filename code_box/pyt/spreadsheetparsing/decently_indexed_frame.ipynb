{
 "cells": [
  {
   "cell_type": "code",
   "execution_count": 439,
   "metadata": {
    "collapsed": true
   },
   "outputs": [],
   "source": [
    "## Import necessary modules\n",
    "import pandas as pd\n",
    "import matplotlib.pyplot as plt\n",
    "from matplotlib.dates import date2num, num2date, AutoDateFormatter, AutoDateLocator, WeekdayLocator, MonthLocator, DayLocator, DateLocator, DateFormatter\n",
    "from matplotlib.dates import MO, TU, WE, TH, FR, SA, SU\n",
    "from matplotlib.ticker import AutoMinorLocator\n",
    "import numpy as np\n",
    "import datetime, calendar\n",
    "from datetime import timedelta\n",
    "import matplotlib.patches as mpatches\n",
    "%matplotlib tk\n",
    "\n",
    "data = pd.read_pickle('/home/keuch/gits/keuch/code_box/pyt/spreadsheetparsing/entwuerfe/xls_testruns/doe_pickle_1458.pkl') # this one for average times"
   ]
  },
  {
   "cell_type": "code",
   "execution_count": 440,
   "metadata": {},
   "outputs": [],
   "source": [
    "# timestamp is our index so far\n",
    "data.index.name='stamp'"
   ]
  },
  {
   "cell_type": "code",
   "execution_count": 441,
   "metadata": {},
   "outputs": [],
   "source": [
    "#data.drop(['tt','ht','acw'],axis=1, inplace=True)\n",
    "#data.rename(columns={'dectt': 'tt', 'decht':'ht', 'decacw':'acw'}, inplace=True)"
   ]
  },
  {
   "cell_type": "code",
   "execution_count": 442,
   "metadata": {
    "collapsed": true
   },
   "outputs": [],
   "source": [
    "# build a dataframe for date values only. only use is to fill subsequent dfs from this\n",
    "ndcolorder=['dt','yy','mm','dd','wd','ww']\n",
    "nurdatum=data.groupby('xl').agg({'mm':'first','dt':'first','ww':'first','dd':'first','wd':'first','yy':'first'})\n",
    "nurdatum=nurdatum[ndcolorder]"
   ]
  },
  {
   "cell_type": "code",
   "execution_count": 443,
   "metadata": {},
   "outputs": [],
   "source": [
    "# groupby functions: time columns are reduced to the first value found, timedelta will be summed, hours dropped\n",
    "colfunx_collapse_dt={'yy':'first', 'mm':'first', 'ww':'first', 'wd':'first', 'dd':'first', 'dt':'first', 'an':'sum', 'vb':'sum', 'vl':'sum', 'ht':'sum', 'tt':'sum', 'acw':'sum', 'decht':'sum', 'dectt':'sum', 'decacw':'sum'}\n",
    "dgrp=data.groupby(['xl','bz'])\n",
    "dg=dgrp.agg(colfunx_collapse_dt).copy()"
   ]
  },
  {
   "cell_type": "code",
   "execution_count": 444,
   "metadata": {},
   "outputs": [],
   "source": [
    "d=dg.unstack().fillna(0).copy() # this will give every column a 'k' and 'n' sub-index, which is what wh need\n",
    "#d"
   ]
  },
  {
   "cell_type": "code",
   "execution_count": 445,
   "metadata": {},
   "outputs": [],
   "source": [
    "# date-related columns will have both subindices filled from \"nurdatum\" dataframe\n",
    "\n",
    "d.loc[:,('dt','k')]=nurdatum.dt\n",
    "d.loc[:,('dt','n')]=nurdatum.dt\n",
    "d.loc[:,('wd','k')]=nurdatum.wd\n",
    "d.loc[:,('wd','n')]=nurdatum.wd\n",
    "d.loc[:,('dd','k')]=nurdatum.dd\n",
    "d.loc[:,('dd','n')]=nurdatum.dd\n",
    "d.loc[:,('yy','k')]=nurdatum.yy\n",
    "d.loc[:,('yy','n')]=nurdatum.yy\n",
    "d.loc[:,('mm','k')]=nurdatum.mm\n",
    "d.loc[:,('mm','n')]=nurdatum.mm\n",
    "d.loc[:,('ww','k')]=nurdatum.ww\n",
    "d.loc[:,('ww','n')]=nurdatum.ww\n",
    "#d"
   ]
  },
  {
   "cell_type": "code",
   "execution_count": 446,
   "metadata": {},
   "outputs": [],
   "source": [
    "# k & n index stacked behind the xl-date index and\n",
    "# column order rearranged\n",
    "c_order2=['dt','yy','mm','ww','wd','dd', 'an', 'vb', 'vl','ht', 'tt', 'acw', 'decht', 'dectt', 'decacw']\n",
    "grouped_by_day=d.stack('bz').copy()\n",
    "grouped_by_day=grouped_by_day[c_order2]\n",
    "\n",
    "# split in two frames\n",
    "kernzeit_byday=grouped_by_day.xs('k',level=1).copy()\n",
    "nebnzeit_byday=grouped_by_day.xs('n',level=1).copy()"
   ]
  },
  {
   "cell_type": "code",
   "execution_count": 447,
   "metadata": {
    "collapsed": true
   },
   "outputs": [],
   "source": [
    "############## grouping, average ####################"
   ]
  },
  {
   "cell_type": "code",
   "execution_count": 448,
   "metadata": {
    "collapsed": true
   },
   "outputs": [],
   "source": [
    "# decimal minute from a timedelta\n",
    "def decminute(delta):\n",
    "    secs=delta.total_seconds()\n",
    "    decmin=secs/60\n",
    "    return decmin"
   ]
  },
  {
   "cell_type": "code",
   "execution_count": 449,
   "metadata": {},
   "outputs": [],
   "source": [
    "# create columns for daily averages, apply function to convert them to timedeltas\n",
    "kernzeit_byday['av_ht_float']=(kernzeit_byday['ht']/kernzeit_byday['vb'])#.apply(pd.to_timedelta,unit='d')\n",
    "kernzeit_byday['av_tt_float']=(kernzeit_byday['tt']/kernzeit_byday['vb'])#.apply(pd.to_timedelta,unit='d')\n",
    "kernzeit_byday['av_ac_float']=(kernzeit_byday['acw']/kernzeit_byday['vb'])#.apply(pd.to_timedelta,unit='d')\n",
    "kernzeit_byday['av_ht_dec']=(kernzeit_byday['decht']/kernzeit_byday['vb'])#.apply(pd.to_timedelta,unit='d')\n",
    "kernzeit_byday['av_tt_dec']=(kernzeit_byday['dectt']/kernzeit_byday['vb'])#.apply(pd.to_timedelta,unit='d')\n",
    "kernzeit_byday['av_ac_dec']=(kernzeit_byday['decacw']/kernzeit_byday['vb'])#.apply(pd.to_timedelta,unit='d')\n",
    "kernzeit_byday[['av_ht_tdelta','av_tt_tdelta','av_ac_tdelta']]=kernzeit_byday[['av_ht_float','av_tt_float','av_ac_float']].apply(pd.to_timedelta,unit='d')\n",
    "\n",
    "nebnzeit_byday['av_ht_float']=(nebnzeit_byday['ht']/nebnzeit_byday['vb'])#.apply(pd.to_timedelta,unit='d')\n",
    "nebnzeit_byday['av_tt_float']=(nebnzeit_byday['tt']/nebnzeit_byday['vb'])#.apply(pd.to_timedelta,unit='d')\n",
    "nebnzeit_byday['av_ac_float']=(nebnzeit_byday['acw']/nebnzeit_byday['vb'])#.apply(pd.to_timedelta,unit='d')\n",
    "nebnzeit_byday['av_ht_dec']=(nebnzeit_byday['decht']/nebnzeit_byday['vb'])#.apply(pd.to_timedelta,unit='d')\n",
    "nebnzeit_byday['av_tt_dec']=(nebnzeit_byday['dectt']/nebnzeit_byday['vb'])#.apply(pd.to_timedelta,unit='d')\n",
    "nebnzeit_byday['av_ac_dec']=(nebnzeit_byday['decacw']/nebnzeit_byday['vb'])#.apply(pd.to_timedelta,unit='d')\n",
    "nebnzeit_byday[['av_ht_tdelta','av_tt_tdelta','av_ac_tdelta']]=nebnzeit_byday[['av_ht_float','av_tt_float','av_ac_float']]\n",
    "\n",
    "kernzeit_byday=kernzeit_byday.fillna(0)\n",
    "nebnzeit_byday=nebnzeit_byday.fillna(0)"
   ]
  },
  {
   "cell_type": "code",
   "execution_count": 450,
   "metadata": {
    "collapsed": true
   },
   "outputs": [],
   "source": [
    "def add_averages(frame):\n",
    "    frame['av_ht_float']=(frame['ht']/frame['vb'])\n",
    "    frame['av_tt_float']=(frame['tt']/frame['vb'])\n",
    "    frame['av_ac_float']=(frame['acw']/frame['vb'])\n",
    "    frame['av_ht_dec']=(frame['decht']/frame['vb'])#.apply(pd.to_timedelta,unit='d')\n",
    "    frame['av_tt_dec']=(frame['dectt']/frame['vb'])#.apply(pd.to_timedelta,unit='d')\n",
    "    frame['av_ac_dec']=(frame['decacw']/frame['vb'])#.apply(pd.to_timedelta,unit='d')\n",
    "    frame[['av_ht_tdelta','av_tt_tdelta','av_ac_tdelta']]=frame[['av_ht_float','av_tt_float','av_ac_float']].apply(pd.to_timedelta,unit='d')\n",
    "    \n",
    "    frame=frame.fillna(0)\n",
    "    \n",
    "    return frame\n"
   ]
  },
  {
   "cell_type": "code",
   "execution_count": 451,
   "metadata": {},
   "outputs": [],
   "source": [
    "# group by calendar week for 2017\n",
    "funx_week={'yy':'first', 'an':'sum', 'vb':'sum', 'vl':'sum', 'ht':'sum', 'tt':'sum', 'acw':'sum', 'decht':'sum', 'dectt':'sum', 'decacw':'sum'}\n",
    "\n",
    "nebn2107=nebnzeit_byday.loc[(nebnzeit_byday['yy'] == 2017)].iloc[1:].copy() # skip first day bcause ww=52 of old year\n",
    "kern2107=kernzeit_byday.loc[(kernzeit_byday['yy'] == 2017)].iloc[1:].copy() # skip first day bcause ww=52 of old year\n",
    "weeks_2017_nebn=nebn2107.groupby('ww').agg(funx_week).copy()\n",
    "weeks_2017_kern=kern2107.groupby('ww').agg(funx_week).copy()\n",
    "\n",
    "weeks_2017_nebn_av=add_averages(weeks_2017_nebn)\n",
    "weeks_2017_kern_av=add_averages(weeks_2017_kern)"
   ]
  },
  {
   "cell_type": "code",
   "execution_count": 452,
   "metadata": {},
   "outputs": [
    {
     "data": {
      "text/html": [
       "<div>\n",
       "<style>\n",
       "    .dataframe thead tr:only-child th {\n",
       "        text-align: right;\n",
       "    }\n",
       "\n",
       "    .dataframe thead th {\n",
       "        text-align: left;\n",
       "    }\n",
       "\n",
       "    .dataframe tbody tr th {\n",
       "        vertical-align: top;\n",
       "    }\n",
       "</style>\n",
       "<table border=\"1\" class=\"dataframe\">\n",
       "  <thead>\n",
       "    <tr style=\"text-align: right;\">\n",
       "      <th></th>\n",
       "      <th>ht</th>\n",
       "      <th>tt</th>\n",
       "      <th>vb</th>\n",
       "      <th>decht</th>\n",
       "      <th>acw</th>\n",
       "      <th>decacw</th>\n",
       "      <th>dectt</th>\n",
       "      <th>an</th>\n",
       "      <th>vl</th>\n",
       "      <th>yy</th>\n",
       "      <th>av_ht_float</th>\n",
       "      <th>av_tt_float</th>\n",
       "      <th>av_ac_float</th>\n",
       "      <th>av_ht_dec</th>\n",
       "      <th>av_tt_dec</th>\n",
       "      <th>av_ac_dec</th>\n",
       "      <th>av_ht_tdelta</th>\n",
       "      <th>av_tt_tdelta</th>\n",
       "      <th>av_ac_tdelta</th>\n",
       "    </tr>\n",
       "    <tr>\n",
       "      <th>ww</th>\n",
       "      <th></th>\n",
       "      <th></th>\n",
       "      <th></th>\n",
       "      <th></th>\n",
       "      <th></th>\n",
       "      <th></th>\n",
       "      <th></th>\n",
       "      <th></th>\n",
       "      <th></th>\n",
       "      <th></th>\n",
       "      <th></th>\n",
       "      <th></th>\n",
       "      <th></th>\n",
       "      <th></th>\n",
       "      <th></th>\n",
       "      <th></th>\n",
       "      <th></th>\n",
       "      <th></th>\n",
       "      <th></th>\n",
       "    </tr>\n",
       "  </thead>\n",
       "  <tbody>\n",
       "    <tr>\n",
       "      <th>36</th>\n",
       "      <td>0.030556</td>\n",
       "      <td>0.016528</td>\n",
       "      <td>40.0</td>\n",
       "      <td>00:00:44</td>\n",
       "      <td>0.014028</td>\n",
       "      <td>00:00:20.200000</td>\n",
       "      <td>00:00:23.800001</td>\n",
       "      <td>46.0</td>\n",
       "      <td>6.0</td>\n",
       "      <td>2017</td>\n",
       "      <td>0.000764</td>\n",
       "      <td>0.000413</td>\n",
       "      <td>0.000351</td>\n",
       "      <td>00:00:01.100000</td>\n",
       "      <td>00:00:00.595000</td>\n",
       "      <td>00:00:00.505000</td>\n",
       "      <td>00:01:06.009600</td>\n",
       "      <td>00:00:35.683200</td>\n",
       "      <td>00:00:30.326400</td>\n",
       "    </tr>\n",
       "    <tr>\n",
       "      <th>37</th>\n",
       "      <td>0.052280</td>\n",
       "      <td>0.039688</td>\n",
       "      <td>46.0</td>\n",
       "      <td>00:01:15.283332</td>\n",
       "      <td>0.012593</td>\n",
       "      <td>00:00:18.133333</td>\n",
       "      <td>00:00:57.150000</td>\n",
       "      <td>55.0</td>\n",
       "      <td>9.0</td>\n",
       "      <td>2017</td>\n",
       "      <td>0.001137</td>\n",
       "      <td>0.000863</td>\n",
       "      <td>0.000274</td>\n",
       "      <td>00:00:01.636594</td>\n",
       "      <td>00:00:01.242391</td>\n",
       "      <td>00:00:00.394202</td>\n",
       "      <td>00:01:38.236800</td>\n",
       "      <td>00:01:14.563200</td>\n",
       "      <td>00:00:23.673600</td>\n",
       "    </tr>\n",
       "    <tr>\n",
       "      <th>38</th>\n",
       "      <td>0.031493</td>\n",
       "      <td>0.021944</td>\n",
       "      <td>26.0</td>\n",
       "      <td>00:00:45.349999</td>\n",
       "      <td>0.009549</td>\n",
       "      <td>00:00:13.749999</td>\n",
       "      <td>00:00:31.599999</td>\n",
       "      <td>30.0</td>\n",
       "      <td>4.0</td>\n",
       "      <td>2017</td>\n",
       "      <td>0.001211</td>\n",
       "      <td>0.000844</td>\n",
       "      <td>0.000367</td>\n",
       "      <td>00:00:01.744230</td>\n",
       "      <td>00:00:01.215384</td>\n",
       "      <td>00:00:00.528846</td>\n",
       "      <td>00:01:44.630400</td>\n",
       "      <td>00:01:12.921600</td>\n",
       "      <td>00:00:31.708799</td>\n",
       "    </tr>\n",
       "    <tr>\n",
       "      <th>39</th>\n",
       "      <td>0.041979</td>\n",
       "      <td>0.029711</td>\n",
       "      <td>34.0</td>\n",
       "      <td>00:01:00.449999</td>\n",
       "      <td>0.012269</td>\n",
       "      <td>00:00:17.666667</td>\n",
       "      <td>00:00:42.783334</td>\n",
       "      <td>41.0</td>\n",
       "      <td>7.0</td>\n",
       "      <td>2017</td>\n",
       "      <td>0.001235</td>\n",
       "      <td>0.000874</td>\n",
       "      <td>0.000361</td>\n",
       "      <td>00:00:01.777941</td>\n",
       "      <td>00:00:01.258333</td>\n",
       "      <td>00:00:00.519607</td>\n",
       "      <td>00:01:46.704000</td>\n",
       "      <td>00:01:15.513600</td>\n",
       "      <td>00:00:31.190400</td>\n",
       "    </tr>\n",
       "    <tr>\n",
       "      <th>40</th>\n",
       "      <td>0.049132</td>\n",
       "      <td>0.035451</td>\n",
       "      <td>45.0</td>\n",
       "      <td>00:01:10.750003</td>\n",
       "      <td>0.013681</td>\n",
       "      <td>00:00:19.699999</td>\n",
       "      <td>00:00:51.050000</td>\n",
       "      <td>55.0</td>\n",
       "      <td>10.0</td>\n",
       "      <td>2017</td>\n",
       "      <td>0.001092</td>\n",
       "      <td>0.000788</td>\n",
       "      <td>0.000304</td>\n",
       "      <td>00:00:01.572222</td>\n",
       "      <td>00:00:01.134444</td>\n",
       "      <td>00:00:00.437777</td>\n",
       "      <td>00:01:34.348800</td>\n",
       "      <td>00:01:08.083200</td>\n",
       "      <td>00:00:26.265600</td>\n",
       "    </tr>\n",
       "  </tbody>\n",
       "</table>\n",
       "</div>"
      ],
      "text/plain": [
       "          ht        tt    vb           decht       acw          decacw  \\\n",
       "ww                                                                       \n",
       "36  0.030556  0.016528  40.0        00:00:44  0.014028 00:00:20.200000   \n",
       "37  0.052280  0.039688  46.0 00:01:15.283332  0.012593 00:00:18.133333   \n",
       "38  0.031493  0.021944  26.0 00:00:45.349999  0.009549 00:00:13.749999   \n",
       "39  0.041979  0.029711  34.0 00:01:00.449999  0.012269 00:00:17.666667   \n",
       "40  0.049132  0.035451  45.0 00:01:10.750003  0.013681 00:00:19.699999   \n",
       "\n",
       "             dectt    an    vl    yy  av_ht_float  av_tt_float  av_ac_float  \\\n",
       "ww                                                                            \n",
       "36 00:00:23.800001  46.0   6.0  2017     0.000764     0.000413     0.000351   \n",
       "37 00:00:57.150000  55.0   9.0  2017     0.001137     0.000863     0.000274   \n",
       "38 00:00:31.599999  30.0   4.0  2017     0.001211     0.000844     0.000367   \n",
       "39 00:00:42.783334  41.0   7.0  2017     0.001235     0.000874     0.000361   \n",
       "40 00:00:51.050000  55.0  10.0  2017     0.001092     0.000788     0.000304   \n",
       "\n",
       "         av_ht_dec       av_tt_dec       av_ac_dec    av_ht_tdelta  \\\n",
       "ww                                                                   \n",
       "36 00:00:01.100000 00:00:00.595000 00:00:00.505000 00:01:06.009600   \n",
       "37 00:00:01.636594 00:00:01.242391 00:00:00.394202 00:01:38.236800   \n",
       "38 00:00:01.744230 00:00:01.215384 00:00:00.528846 00:01:44.630400   \n",
       "39 00:00:01.777941 00:00:01.258333 00:00:00.519607 00:01:46.704000   \n",
       "40 00:00:01.572222 00:00:01.134444 00:00:00.437777 00:01:34.348800   \n",
       "\n",
       "      av_tt_tdelta    av_ac_tdelta  \n",
       "ww                                  \n",
       "36 00:00:35.683200 00:00:30.326400  \n",
       "37 00:01:14.563200 00:00:23.673600  \n",
       "38 00:01:12.921600 00:00:31.708799  \n",
       "39 00:01:15.513600 00:00:31.190400  \n",
       "40 00:01:08.083200 00:00:26.265600  "
      ]
     },
     "execution_count": 452,
     "metadata": {},
     "output_type": "execute_result"
    }
   ],
   "source": [
    "weeks_2017_nebn_av.tail(5)"
   ]
  },
  {
   "cell_type": "code",
   "execution_count": 453,
   "metadata": {
    "collapsed": true
   },
   "outputs": [],
   "source": [
    "############## plotting ####################"
   ]
  },
  {
   "cell_type": "code",
   "execution_count": 486,
   "metadata": {},
   "outputs": [
    {
     "name": "stdout",
     "output_type": "stream",
     "text": [
      "<class 'pandas._libs.tslib.Timedelta'>\n",
      "<class 'pandas._libs.tslib.Timedelta'>\n"
     ]
    }
   ],
   "source": [
    "#fig=plt.figure#(figsize=(fs))\n",
    "#fig.suptitle(tit)\n",
    "    \n",
    "ax=plt.subplot(111)\n",
    "mini=pd.to_timedelta(0)\n",
    "max_handling=(weeks_2017_kern_av['av_ht_dec']).max()+(weeks_2017_kern_av['av_ht_dec'].max())/10\n",
    "max_handling_label=(weeks_2017_kern_av['av_ht_tdelta']).max()\n",
    "\n",
    "\n",
    "\n",
    "ax.plot(weeks_2017_nebn_av.index,weeks_2017_nebn_av['av_ht_dec'])\n",
    "ax.plot(weeks_2017_kern_av.index,weeks_2017_kern_av['av_ht_dec'])\n",
    "\n",
    "minmaxindex=pd.to_timedelta([0,max_handling])\n",
    "print (type(mini))\n",
    "print (type(max_handling))\n",
    "#ax.set_ylim([mini,max_handling])"
   ]
  },
  {
   "cell_type": "code",
   "execution_count": 460,
   "metadata": {},
   "outputs": [
    {
     "data": {
      "text/plain": [
       "ww\n",
       "1    00:00:04.057136\n",
       "2    00:00:03.815267\n",
       "3    00:00:03.692989\n",
       "4    00:00:03.779990\n",
       "5    00:00:03.859131\n",
       "6    00:00:03.944225\n",
       "7    00:00:03.412066\n",
       "8    00:00:03.670955\n",
       "9    00:00:04.029772\n",
       "10   00:00:03.983621\n",
       "11   00:00:03.535897\n",
       "12   00:00:03.820037\n",
       "13   00:00:04.008662\n",
       "14   00:00:03.632112\n",
       "15   00:00:03.804698\n",
       "16   00:00:04.609425\n",
       "17   00:00:04.421985\n",
       "18   00:00:03.742600\n",
       "19   00:00:04.027892\n",
       "20   00:00:04.048102\n",
       "21   00:00:03.849907\n",
       "22   00:00:04.116714\n",
       "23   00:00:03.963435\n",
       "24   00:00:03.741349\n",
       "25   00:00:03.765119\n",
       "26   00:00:03.860940\n",
       "27   00:00:03.987763\n",
       "28   00:00:04.072837\n",
       "29   00:00:03.622623\n",
       "30   00:00:04.081643\n",
       "31   00:00:04.267220\n",
       "32   00:00:04.134514\n",
       "33   00:00:03.859546\n",
       "34   00:00:04.064489\n",
       "35   00:00:04.254410\n",
       "36   00:00:04.233017\n",
       "37   00:00:04.277372\n",
       "38   00:00:04.106802\n",
       "39   00:00:03.951325\n",
       "40   00:00:04.139618\n",
       "Name: av_ht_dec, dtype: timedelta64[ns]"
      ]
     },
     "execution_count": 460,
     "metadata": {},
     "output_type": "execute_result"
    }
   ],
   "source": [
    "weeks_2017_kern_av['av_ht_dec']"
   ]
  },
  {
   "cell_type": "code",
   "execution_count": 472,
   "metadata": {},
   "outputs": [
    {
     "data": {
      "text/plain": [
       "TimedeltaIndex(['00:00:00', '00:00:05.070367'], dtype='timedelta64[ns]', freq=None)"
      ]
     },
     "execution_count": 472,
     "metadata": {},
     "output_type": "execute_result"
    }
   ],
   "source": [
    "pd.to_timedelta([0,max_handling])"
   ]
  },
  {
   "cell_type": "code",
   "execution_count": 478,
   "metadata": {},
   "outputs": [
    {
     "data": {
      "text/plain": [
       "datetime.timedelta(0, 5, 70368)"
      ]
     },
     "execution_count": 478,
     "metadata": {},
     "output_type": "execute_result"
    }
   ],
   "source": [
    "xx=max_handling.to_pytimedelta()\n",
    "xx"
   ]
  },
  {
   "cell_type": "code",
   "execution_count": 480,
   "metadata": {},
   "outputs": [
    {
     "data": {
      "text/plain": [
       "TimedeltaIndex(['0 days'], dtype='timedelta64[ns]', freq='D')"
      ]
     },
     "execution_count": 480,
     "metadata": {},
     "output_type": "execute_result"
    }
   ],
   "source": [
    "pd.timedelta_range(0,max_handling)"
   ]
  },
  {
   "cell_type": "code",
   "execution_count": 489,
   "metadata": {},
   "outputs": [
    {
     "data": {
      "text/plain": [
       "Components(days=0, hours=0, minutes=0, seconds=5, milliseconds=70, microseconds=367, nanoseconds=817)"
      ]
     },
     "execution_count": 489,
     "metadata": {},
     "output_type": "execute_result"
    }
   ],
   "source": [
    "max_handling.components"
   ]
  },
  {
   "cell_type": "code",
   "execution_count": 504,
   "metadata": {},
   "outputs": [],
   "source": [
    "tdelta_example=weeks_2017_kern_av.loc[1,['av_ht_tdelta']][0]"
   ]
  },
  {
   "cell_type": "code",
   "execution_count": 507,
   "metadata": {},
   "outputs": [
    {
     "data": {
      "text/plain": [
       "numpy.timedelta64(243388800000,'ns')"
      ]
     },
     "execution_count": 507,
     "metadata": {},
     "output_type": "execute_result"
    }
   ],
   "source": [
    "tdelta_example.to_timedelta64()"
   ]
  },
  {
   "cell_type": "code",
   "execution_count": null,
   "metadata": {
    "collapsed": true
   },
   "outputs": [],
   "source": []
  }
 ],
 "metadata": {
  "kernelspec": {
   "display_name": "Python 3",
   "language": "python",
   "name": "python3"
  },
  "language_info": {
   "codemirror_mode": {
    "name": "ipython",
    "version": 3
   },
   "file_extension": ".py",
   "mimetype": "text/x-python",
   "name": "python",
   "nbconvert_exporter": "python",
   "pygments_lexer": "ipython3",
   "version": "3.4.5"
  }
 },
 "nbformat": 4,
 "nbformat_minor": 2
}
