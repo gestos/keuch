{
 "cells": [
  {
   "cell_type": "code",
   "execution_count": 9,
   "metadata": {
    "collapsed": true
   },
   "outputs": [],
   "source": [
    "## Import necessary modules\n",
    "import pandas as pd\n",
    "import matplotlib.pyplot as plt\n",
    "from matplotlib.dates import date2num, num2date, AutoDateFormatter, AutoDateLocator, WeekdayLocator, MonthLocator, DayLocator, DateLocator, DateFormatter\n",
    "from matplotlib.dates import MO, TU, WE, TH, FR, SA, SU\n",
    "from matplotlib.ticker import AutoMinorLocator, AutoLocator, FormatStrFormatter, ScalarFormatter\n",
    "from matplotlib import dates\n",
    "import numpy as np\n",
    "import datetime, calendar\n",
    "from datetime import timedelta\n",
    "import matplotlib.patches as mpatches\n",
    "%matplotlib tk\n",
    "\n",
    "data = pd.read_pickle('/home/keuch/gits/keuch/code_box/pyt/spreadsheetparsing/doe_pickle_1458.pkl') # this one for average times"
   ]
  },
  {
   "cell_type": "code",
   "execution_count": 14,
   "metadata": {},
   "outputs": [
    {
     "data": {
      "text/plain": [
       "Index([  'month',    'year',         0,         1,         2,         3,\n",
       "               4,         5,         6,         7,         8,         9,\n",
       "              10,        11,        12,        13,        14,        15,\n",
       "              16,        17,        18,        19,        20,        21,\n",
       "              22,        23,        24,   'summa',   'xlday',     'day',\n",
       "          'date',    'week', 'weekday'],\n",
       "      dtype='object')"
      ]
     },
     "execution_count": 14,
     "metadata": {},
     "output_type": "execute_result"
    }
   ],
   "source": [
    "# timestamp is our index so far\n",
    "data.index.name='stamp'\n",
    "\n",
    "data.columns"
   ]
  },
  {
   "cell_type": "code",
   "execution_count": 12,
   "metadata": {},
   "outputs": [
    {
     "ename": "KeyError",
     "evalue": "'xl'",
     "output_type": "error",
     "traceback": [
      "\u001b[0;31m---------------------------------------------------------------------------\u001b[0m",
      "\u001b[0;31mKeyError\u001b[0m                                  Traceback (most recent call last)",
      "\u001b[0;32m<ipython-input-12-3ad992a71095>\u001b[0m in \u001b[0;36m<module>\u001b[0;34m()\u001b[0m\n\u001b[1;32m      1\u001b[0m \u001b[0;31m# build a dataframe for date values only. only use is to fill subsequent dfs from this\u001b[0m\u001b[0;34m\u001b[0m\u001b[0;34m\u001b[0m\u001b[0m\n\u001b[1;32m      2\u001b[0m \u001b[0mndcolorder\u001b[0m\u001b[0;34m=\u001b[0m\u001b[0;34m[\u001b[0m\u001b[0;34m'dt'\u001b[0m\u001b[0;34m,\u001b[0m\u001b[0;34m'yy'\u001b[0m\u001b[0;34m,\u001b[0m\u001b[0;34m'mm'\u001b[0m\u001b[0;34m,\u001b[0m\u001b[0;34m'dd'\u001b[0m\u001b[0;34m,\u001b[0m\u001b[0;34m'wd'\u001b[0m\u001b[0;34m,\u001b[0m\u001b[0;34m'ww'\u001b[0m\u001b[0;34m]\u001b[0m\u001b[0;34m\u001b[0m\u001b[0m\n\u001b[0;32m----> 3\u001b[0;31m \u001b[0mnurdatum\u001b[0m\u001b[0;34m=\u001b[0m\u001b[0mdata\u001b[0m\u001b[0;34m.\u001b[0m\u001b[0mgroupby\u001b[0m\u001b[0;34m(\u001b[0m\u001b[0;34m'xl'\u001b[0m\u001b[0;34m)\u001b[0m\u001b[0;34m.\u001b[0m\u001b[0magg\u001b[0m\u001b[0;34m(\u001b[0m\u001b[0;34m{\u001b[0m\u001b[0;34m'mm'\u001b[0m\u001b[0;34m:\u001b[0m\u001b[0;34m'first'\u001b[0m\u001b[0;34m,\u001b[0m\u001b[0;34m'dt'\u001b[0m\u001b[0;34m:\u001b[0m\u001b[0;34m'first'\u001b[0m\u001b[0;34m,\u001b[0m\u001b[0;34m'ww'\u001b[0m\u001b[0;34m:\u001b[0m\u001b[0;34m'first'\u001b[0m\u001b[0;34m,\u001b[0m\u001b[0;34m'dd'\u001b[0m\u001b[0;34m:\u001b[0m\u001b[0;34m'first'\u001b[0m\u001b[0;34m,\u001b[0m\u001b[0;34m'wd'\u001b[0m\u001b[0;34m:\u001b[0m\u001b[0;34m'first'\u001b[0m\u001b[0;34m,\u001b[0m\u001b[0;34m'yy'\u001b[0m\u001b[0;34m:\u001b[0m\u001b[0;34m'first'\u001b[0m\u001b[0;34m}\u001b[0m\u001b[0;34m)\u001b[0m\u001b[0;34m\u001b[0m\u001b[0m\n\u001b[0m\u001b[1;32m      4\u001b[0m \u001b[0mnurdatum\u001b[0m\u001b[0;34m=\u001b[0m\u001b[0mnurdatum\u001b[0m\u001b[0;34m[\u001b[0m\u001b[0mndcolorder\u001b[0m\u001b[0;34m]\u001b[0m\u001b[0;34m\u001b[0m\u001b[0m\n",
      "\u001b[0;32m/home/keuch/gits/keuch/code_box/pyt/spreadsheetparsing/entwuerfe/ve/lib/python3.4/site-packages/pandas/core/generic.py\u001b[0m in \u001b[0;36mgroupby\u001b[0;34m(self, by, axis, level, as_index, sort, group_keys, squeeze, **kwargs)\u001b[0m\n\u001b[1;32m   4414\u001b[0m         return groupby(self, by=by, axis=axis, level=level, as_index=as_index,\n\u001b[1;32m   4415\u001b[0m                        \u001b[0msort\u001b[0m\u001b[0;34m=\u001b[0m\u001b[0msort\u001b[0m\u001b[0;34m,\u001b[0m \u001b[0mgroup_keys\u001b[0m\u001b[0;34m=\u001b[0m\u001b[0mgroup_keys\u001b[0m\u001b[0;34m,\u001b[0m \u001b[0msqueeze\u001b[0m\u001b[0;34m=\u001b[0m\u001b[0msqueeze\u001b[0m\u001b[0;34m,\u001b[0m\u001b[0;34m\u001b[0m\u001b[0m\n\u001b[0;32m-> 4416\u001b[0;31m                        **kwargs)\n\u001b[0m\u001b[1;32m   4417\u001b[0m \u001b[0;34m\u001b[0m\u001b[0m\n\u001b[1;32m   4418\u001b[0m     def asfreq(self, freq, method=None, how=None, normalize=False,\n",
      "\u001b[0;32m/home/keuch/gits/keuch/code_box/pyt/spreadsheetparsing/entwuerfe/ve/lib/python3.4/site-packages/pandas/core/groupby.py\u001b[0m in \u001b[0;36mgroupby\u001b[0;34m(obj, by, **kwds)\u001b[0m\n\u001b[1;32m   1697\u001b[0m         \u001b[0;32mraise\u001b[0m \u001b[0mTypeError\u001b[0m\u001b[0;34m(\u001b[0m\u001b[0;34m'invalid type: %s'\u001b[0m \u001b[0;34m%\u001b[0m \u001b[0mtype\u001b[0m\u001b[0;34m(\u001b[0m\u001b[0mobj\u001b[0m\u001b[0;34m)\u001b[0m\u001b[0;34m)\u001b[0m\u001b[0;34m\u001b[0m\u001b[0m\n\u001b[1;32m   1698\u001b[0m \u001b[0;34m\u001b[0m\u001b[0m\n\u001b[0;32m-> 1699\u001b[0;31m     \u001b[0;32mreturn\u001b[0m \u001b[0mklass\u001b[0m\u001b[0;34m(\u001b[0m\u001b[0mobj\u001b[0m\u001b[0;34m,\u001b[0m \u001b[0mby\u001b[0m\u001b[0;34m,\u001b[0m \u001b[0;34m**\u001b[0m\u001b[0mkwds\u001b[0m\u001b[0;34m)\u001b[0m\u001b[0;34m\u001b[0m\u001b[0m\n\u001b[0m\u001b[1;32m   1700\u001b[0m \u001b[0;34m\u001b[0m\u001b[0m\n\u001b[1;32m   1701\u001b[0m \u001b[0;34m\u001b[0m\u001b[0m\n",
      "\u001b[0;32m/home/keuch/gits/keuch/code_box/pyt/spreadsheetparsing/entwuerfe/ve/lib/python3.4/site-packages/pandas/core/groupby.py\u001b[0m in \u001b[0;36m__init__\u001b[0;34m(self, obj, keys, axis, level, grouper, exclusions, selection, as_index, sort, group_keys, squeeze, **kwargs)\u001b[0m\n\u001b[1;32m    390\u001b[0m                                                     \u001b[0mlevel\u001b[0m\u001b[0;34m=\u001b[0m\u001b[0mlevel\u001b[0m\u001b[0;34m,\u001b[0m\u001b[0;34m\u001b[0m\u001b[0m\n\u001b[1;32m    391\u001b[0m                                                     \u001b[0msort\u001b[0m\u001b[0;34m=\u001b[0m\u001b[0msort\u001b[0m\u001b[0;34m,\u001b[0m\u001b[0;34m\u001b[0m\u001b[0m\n\u001b[0;32m--> 392\u001b[0;31m                                                     mutated=self.mutated)\n\u001b[0m\u001b[1;32m    393\u001b[0m \u001b[0;34m\u001b[0m\u001b[0m\n\u001b[1;32m    394\u001b[0m         \u001b[0mself\u001b[0m\u001b[0;34m.\u001b[0m\u001b[0mobj\u001b[0m \u001b[0;34m=\u001b[0m \u001b[0mobj\u001b[0m\u001b[0;34m\u001b[0m\u001b[0m\n",
      "\u001b[0;32m/home/keuch/gits/keuch/code_box/pyt/spreadsheetparsing/entwuerfe/ve/lib/python3.4/site-packages/pandas/core/groupby.py\u001b[0m in \u001b[0;36m_get_grouper\u001b[0;34m(obj, key, axis, level, sort, mutated)\u001b[0m\n\u001b[1;32m   2688\u001b[0m                 \u001b[0min_axis\u001b[0m\u001b[0;34m,\u001b[0m \u001b[0mname\u001b[0m\u001b[0;34m,\u001b[0m \u001b[0mlevel\u001b[0m\u001b[0;34m,\u001b[0m \u001b[0mgpr\u001b[0m \u001b[0;34m=\u001b[0m \u001b[0;32mFalse\u001b[0m\u001b[0;34m,\u001b[0m \u001b[0;32mNone\u001b[0m\u001b[0;34m,\u001b[0m \u001b[0mgpr\u001b[0m\u001b[0;34m,\u001b[0m \u001b[0;32mNone\u001b[0m\u001b[0;34m\u001b[0m\u001b[0m\n\u001b[1;32m   2689\u001b[0m             \u001b[0;32melse\u001b[0m\u001b[0;34m:\u001b[0m\u001b[0;34m\u001b[0m\u001b[0m\n\u001b[0;32m-> 2690\u001b[0;31m                 \u001b[0;32mraise\u001b[0m \u001b[0mKeyError\u001b[0m\u001b[0;34m(\u001b[0m\u001b[0mgpr\u001b[0m\u001b[0;34m)\u001b[0m\u001b[0;34m\u001b[0m\u001b[0m\n\u001b[0m\u001b[1;32m   2691\u001b[0m         \u001b[0;32melif\u001b[0m \u001b[0misinstance\u001b[0m\u001b[0;34m(\u001b[0m\u001b[0mgpr\u001b[0m\u001b[0;34m,\u001b[0m \u001b[0mGrouper\u001b[0m\u001b[0;34m)\u001b[0m \u001b[0;32mand\u001b[0m \u001b[0mgpr\u001b[0m\u001b[0;34m.\u001b[0m\u001b[0mkey\u001b[0m \u001b[0;32mis\u001b[0m \u001b[0;32mnot\u001b[0m \u001b[0;32mNone\u001b[0m\u001b[0;34m:\u001b[0m\u001b[0;34m\u001b[0m\u001b[0m\n\u001b[1;32m   2692\u001b[0m             \u001b[0;31m# Add key to exclusions\u001b[0m\u001b[0;34m\u001b[0m\u001b[0;34m\u001b[0m\u001b[0m\n",
      "\u001b[0;31mKeyError\u001b[0m: 'xl'"
     ]
    }
   ],
   "source": [
    "# build a dataframe for date values only. only use is to fill subsequent dfs from this\n",
    "ndcolorder=['dt','yy','mm','dd','wd','ww']\n",
    "nurdatum=data.groupby('xl').agg({'mm':'first','dt':'first','ww':'first','dd':'first','wd':'first','yy':'first'})\n",
    "nurdatum=nurdatum[ndcolorder]"
   ]
  },
  {
   "cell_type": "code",
   "execution_count": null,
   "metadata": {
    "collapsed": true
   },
   "outputs": [],
   "source": [
    "# groupby functions: time columns are reduced to the first value found, timedelta will be summed, hours dropped\n",
    "colfunx_collapse_dt={'yy':'first', 'mm':'first', 'ww':'first', 'wd':'first', 'dd':'first', 'dt':'first', 'an':'sum', 'vb':'sum', 'vl':'sum', 'ht':'sum', 'tt':'sum', 'acw':'sum', 'decht':'sum', 'dectt':'sum', 'decacw':'sum'}\n",
    "dgrp=data.groupby(['xl','bz'])\n",
    "dg=dgrp.agg(colfunx_collapse_dt).copy()"
   ]
  },
  {
   "cell_type": "code",
   "execution_count": null,
   "metadata": {
    "collapsed": true
   },
   "outputs": [],
   "source": [
    "d=dg.unstack().fillna(0).copy() # this will give every column a 'k' and 'n' sub-index, which is what wh need"
   ]
  },
  {
   "cell_type": "code",
   "execution_count": null,
   "metadata": {
    "collapsed": true
   },
   "outputs": [],
   "source": [
    "# date-related columns will have both subindices filled from \"nurdatum\" dataframe\n",
    "\n",
    "d.loc[:,('dt','k')]=nurdatum.dt\n",
    "d.loc[:,('dt','n')]=nurdatum.dt\n",
    "d.loc[:,('wd','k')]=nurdatum.wd\n",
    "d.loc[:,('wd','n')]=nurdatum.wd\n",
    "d.loc[:,('dd','k')]=nurdatum.dd\n",
    "d.loc[:,('dd','n')]=nurdatum.dd\n",
    "d.loc[:,('yy','k')]=nurdatum.yy\n",
    "d.loc[:,('yy','n')]=nurdatum.yy\n",
    "d.loc[:,('mm','k')]=nurdatum.mm\n",
    "d.loc[:,('mm','n')]=nurdatum.mm\n",
    "d.loc[:,('ww','k')]=nurdatum.ww\n",
    "d.loc[:,('ww','n')]=nurdatum.ww\n",
    "#d"
   ]
  },
  {
   "cell_type": "code",
   "execution_count": null,
   "metadata": {
    "collapsed": true
   },
   "outputs": [],
   "source": [
    "# k & n index stacked behind the xl-date index and\n",
    "# column order rearranged\n",
    "c_order2=['dt','yy','mm','ww','wd','dd', 'an', 'vb', 'vl','ht', 'tt', 'acw', 'decht', 'dectt', 'decacw']\n",
    "grouped_by_day=d.stack('bz').copy()\n",
    "grouped_by_day=grouped_by_day[c_order2]\n",
    "\n",
    "# split in two frames\n",
    "kernzeit_byday=grouped_by_day.xs('k',level=1).copy()\n",
    "nebnzeit_byday=grouped_by_day.xs('n',level=1).copy()"
   ]
  },
  {
   "cell_type": "code",
   "execution_count": null,
   "metadata": {
    "collapsed": true
   },
   "outputs": [],
   "source": [
    "############## grouping, average ####################"
   ]
  },
  {
   "cell_type": "code",
   "execution_count": null,
   "metadata": {
    "collapsed": true
   },
   "outputs": [],
   "source": [
    "# function for adding the columns with averages later\n",
    "def add_averages(frame):\n",
    "    frame['av_ht_xlfloat']=(frame['ht']/frame['vb'])#.apply(pd.to_timedelta,unit='d')\n",
    "    frame['av_tt_xlfloat']=(frame['tt']/frame['vb'])#.apply(pd.to_timedelta,unit='d')\n",
    "    frame['av_ac_xlfloat']=(frame['acw']/frame['vb'])#.apply(pd.to_timedelta,unit='d')\n",
    "    frame[['av_ht_tdelta','av_tt_tdelta','av_ac_tdelta']]=frame[['av_ht_xlfloat','av_tt_xlfloat','av_ac_xlfloat']].apply(pd.to_timedelta,unit='d').fillna(0)\n",
    "    frame['av_ht_float']=frame['av_ht_tdelta'].apply(timedelta.total_seconds).div(60)\n",
    "    frame['av_tt_float']=frame['av_tt_tdelta'].apply(timedelta.total_seconds).div(60)\n",
    "    frame['av_ac_float']=frame['av_ac_tdelta'].apply(timedelta.total_seconds).div(60)\n",
    "    \n",
    "    return frame"
   ]
  },
  {
   "cell_type": "code",
   "execution_count": null,
   "metadata": {
    "collapsed": true
   },
   "outputs": [],
   "source": [
    "# group by calendar week for 2017\n",
    "funx_week={'yy':'first', 'an':'sum', 'vb':'sum', 'vl':'sum', 'ht':'sum', 'tt':'sum', 'acw':'sum'}\n",
    "\n",
    "nebn2107=nebnzeit_byday.loc[(nebnzeit_byday['yy'] == 2017)].iloc[1:].copy() # skip first day bcause ww=52 of old year, only valid for 2017!\n",
    "kern2107=kernzeit_byday.loc[(kernzeit_byday['yy'] == 2017)].iloc[1:].copy() # skip first day bcause ww=52 of old year, only valid for 2017!\n",
    "\n",
    "weeks_2017_nebn=nebn2107.groupby('ww').agg(funx_week).copy() # group by week\n",
    "weeks_2017_kern=kern2107.groupby('ww').agg(funx_week).copy() # group by week\n",
    "\n",
    "w17_nebn_av=add_averages(weeks_2017_nebn) # add averages as columns\n",
    "w17_kern_av=add_averages(weeks_2017_kern) # add averages as columns"
   ]
  },
  {
   "cell_type": "code",
   "execution_count": null,
   "metadata": {
    "collapsed": true
   },
   "outputs": [],
   "source": [
    "#w17_nebn_av.tail(5)"
   ]
  },
  {
   "cell_type": "code",
   "execution_count": null,
   "metadata": {
    "collapsed": true
   },
   "outputs": [],
   "source": [
    "############## plotting ####################"
   ]
  },
  {
   "cell_type": "code",
   "execution_count": null,
   "metadata": {
    "collapsed": true
   },
   "outputs": [],
   "source": [
    "def decminutes_to_mmss(decimal):\n",
    "    tdelta=timedelta(minutes=decimal)\n",
    "    sekunden=tdelta.seconds\n",
    "    minuten=(sekunden % 3600) // 60\n",
    "    restsekunden=str(sekunden %60).zfill(2)\n",
    "    mmssstring='{}:{}'.format(minuten, restsekunden)\n",
    "    return mmssstring"
   ]
  },
  {
   "cell_type": "code",
   "execution_count": null,
   "metadata": {
    "collapsed": true
   },
   "outputs": [],
   "source": [
    "def maptix2labels(ticks):\n",
    "    ylabelz=list()\n",
    "    for tic in ticks:\n",
    "        tic=abs(tic)\n",
    "        sstr=decminutes_to_mmss(tic)\n",
    "        ylabelz.append(sstr)\n",
    "    return ylabelz"
   ]
  },
  {
   "cell_type": "code",
   "execution_count": null,
   "metadata": {
    "collapsed": true
   },
   "outputs": [],
   "source": [
    "# colors\n",
    "bgkern='#FFF7F2'\n",
    "bgnebn='#F8FFF2'\n",
    "aht=\"#21a9ff\"\n",
    "att=\"#ceecff\"\n",
    "aac=\"#c4c4c4\"\n",
    "zielzeit=\"#FF006E\"\n",
    "bars=\"#A06A00\""
   ]
  },
  {
   "cell_type": "code",
   "execution_count": null,
   "metadata": {
    "collapsed": true
   },
   "outputs": [],
   "source": [
    "f, (ax1, ax2) = plt.subplots(1, 2, sharey=False, figsize=(12,5))\n",
    "\n",
    "commonmax=(w17_kern_av['av_ht_float'].max())+0.5\n",
    "commonmin=-0.25\n",
    "\n",
    "htmean_k=w17_kern_av['av_ht_float'].replace(0,np.NaN).mean()\n",
    "htmean_n=w17_nebn_av['av_ht_float'].replace(0,np.NaN).mean() # decent mean value without the zeroes jan-mar\n",
    "\n",
    "### plots\n",
    "\n",
    "ax3 = ax1.twinx()\n",
    "ax3.tick_params('y', labelsize=6, labelcolor=bars)\n",
    "\n",
    "ax4 = ax2.twinx()\n",
    "ax4.tick_params('y', labelsize=6, labelcolor=bars)\n",
    "\n",
    "kcalls=ax3.bar(w17_kern_av.index, w17_kern_av['vb'], width=0.8, alpha=0.1, color=bars, label='calls')\n",
    "ncalls=ax4.bar(w17_nebn_av.index, w17_nebn_av['vb'], width=0.8, alpha=0.1, color=bars, label='calls')\n",
    "\n",
    "kaht,=ax1.plot(w17_kern_av.index,w17_kern_av['av_ht_float'],color=aht,label=\"aht\")\n",
    "katt,=ax1.plot(w17_kern_av.index,w17_kern_av['av_tt_float'],color=att,label=\"att\")\n",
    "kacw,=ax1.plot(w17_kern_av.index,w17_kern_av['av_ac_float'],color=aac,label=\"acw\")\n",
    "naht,=ax2.plot(w17_nebn_av.index,w17_nebn_av['av_ht_float'],color=aht,label=\"aht\")\n",
    "natt,=ax2.plot(w17_nebn_av.index,w17_nebn_av['av_tt_float'],color=att,label=\"att\")\n",
    "nacw,=ax2.plot(w17_nebn_av.index,w17_nebn_av['av_ac_float'],color=aac,label=\"acw\")\n",
    "\n",
    "kziel=ax1.axhline(y=3.5,color=zielzeit,ls=':',alpha=0.75, label='3:30 min')\n",
    "kreal=ax1.axhline(y=htmean_k,color=aht,ls='--',alpha=0.9, label=str(decminutes_to_mmss(htmean_k)))\n",
    "nziel=ax2.axhline(y=1.5,color=zielzeit,ls=':',alpha=0.75, label='1:30 min')\n",
    "nreal=ax2.axhline(y=htmean_n,color=aht,ls='--',alpha=0.9, label=str(decminutes_to_mmss(htmean_n)))\n",
    "\n",
    "### ax1 labels\n",
    "ax1.set_ylim(commonmin,commonmax)\n",
    "\n",
    "minloc=AutoMinorLocator(4)\n",
    "ax1.yaxis.set_minor_locator(minloc)\n",
    "ax1.yaxis.set_minor_formatter(ScalarFormatter()) # is the same as major formatter\n",
    "\n",
    "left_tix_mj=ax1.get_yticks()\n",
    "left_tix_mn=ax1.get_yticks(minor=True)\n",
    "left_lbl_mj=maptix2labels(left_tix_mj)\n",
    "left_lbl_mn=maptix2labels(left_tix_mn)\n",
    "\n",
    "ax1.yaxis.set_ticklabels(left_lbl_mj)\n",
    "ax1.yaxis.set_ticklabels(left_lbl_mn,minor=True,size=6)\n",
    "\n",
    "\n",
    "### ax2 labels\n",
    "ax2.set_ylim(ax1.get_ylim())\n",
    "\n",
    "ax2.yaxis.set_minor_locator(minloc)\n",
    "ax2.yaxis.set_minor_formatter(ScalarFormatter()) # is the same as major formatter\n",
    "\n",
    "left_tix_mj=ax2.get_yticks()\n",
    "left_tix_mn=ax2.get_yticks(minor=True)\n",
    "left_lbl_mj=maptix2labels(left_tix_mj)\n",
    "left_lbl_mn=maptix2labels(left_tix_mn)\n",
    "\n",
    "ax2.yaxis.set_ticklabels(left_lbl_mj)\n",
    "ax2.yaxis.set_ticklabels(left_lbl_mn,minor=True,size=6)\n",
    "\n",
    "### color adjustments, titles, legend\n",
    "ax1.set_facecolor(bgkern)\n",
    "ax2.set_facecolor(bgnebn)\n",
    "\n",
    "ax1.set_title('Kernzeit', size=9)\n",
    "ax2.set_title('Nebenzeit', size=9)\n",
    "\n",
    "ax1.set_xlabel('Woche', size=7)\n",
    "ax2.set_xlabel('Woche', size=7)\n",
    "ax1.tick_params('x', labelsize=8)\n",
    "ax2.tick_params('x', labelsize=8)\n",
    "\n",
    "ax1.set_ylabel('Minuten', rotation=90)\n",
    "ax4.set_ylabel('Calls',rotation=90,color=bars)\n",
    "\n",
    "f.suptitle('Bearbeitungszeiten 2017 nach KW und Durchschnitt')\n",
    "\n",
    "f.legend((kaht,katt,kacw,kziel,kreal,kcalls),('handling','talk','afterwork','zielzeit','Ø-Zeit real','calls'),fontsize=7,ncol=2,loc='upper right',borderaxespad=2)\n",
    "\n",
    "path='/home/keuch/gits/keuch/code_box/pyt/spreadsheetparsing/ce_teamleitung/plots/durchschn_Zeiten_getrennt'\n",
    "f.savefig(path,ext='png')"
   ]
  },
  {
   "cell_type": "code",
   "execution_count": null,
   "metadata": {
    "collapsed": true
   },
   "outputs": [],
   "source": []
  },
  {
   "cell_type": "code",
   "execution_count": null,
   "metadata": {},
   "outputs": [],
   "source": [
    "print('todo: function from plot with appropriate arguments, 1459 as well')"
   ]
  },
  {
   "cell_type": "code",
   "execution_count": null,
   "metadata": {
    "collapsed": true
   },
   "outputs": [],
   "source": []
  },
  {
   "cell_type": "code",
   "execution_count": null,
   "metadata": {
    "collapsed": true
   },
   "outputs": [],
   "source": []
  },
  {
   "cell_type": "code",
   "execution_count": null,
   "metadata": {
    "collapsed": true
   },
   "outputs": [],
   "source": []
  },
  {
   "cell_type": "code",
   "execution_count": null,
   "metadata": {
    "collapsed": true
   },
   "outputs": [],
   "source": []
  },
  {
   "cell_type": "code",
   "execution_count": null,
   "metadata": {
    "collapsed": true
   },
   "outputs": [],
   "source": []
  },
  {
   "cell_type": "code",
   "execution_count": null,
   "metadata": {},
   "outputs": [],
   "source": [
    "#### from here on: only test fpr the agentplots\n",
    "w17_kern_av['av_ht_float']"
   ]
  },
  {
   "cell_type": "code",
   "execution_count": null,
   "metadata": {
    "collapsed": true
   },
   "outputs": [],
   "source": []
  }
 ],
 "metadata": {
  "kernelspec": {
   "display_name": "Python 3",
   "language": "python",
   "name": "python3"
  },
  "language_info": {
   "codemirror_mode": {
    "name": "ipython",
    "version": 3
   },
   "file_extension": ".py",
   "mimetype": "text/x-python",
   "name": "python",
   "nbconvert_exporter": "python",
   "pygments_lexer": "ipython3",
   "version": "3.4.5"
  }
 },
 "nbformat": 4,
 "nbformat_minor": 2
}
