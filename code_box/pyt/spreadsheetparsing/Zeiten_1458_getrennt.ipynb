{
 "cells": [
  {
   "cell_type": "code",
   "execution_count": 202,
   "metadata": {
    "collapsed": true
   },
   "outputs": [],
   "source": [
    "## Import necessary modules\n",
    "import pandas as pd\n",
    "import matplotlib.pyplot as plt\n",
    "from matplotlib.dates import date2num, AutoDateFormatter, AutoDateLocator, WeekdayLocator, MonthLocator, DayLocator, DateLocator, DateFormatter\n",
    "from matplotlib.dates import MO, TU, WE, TH, FR, SA, SU\n",
    "from matplotlib.ticker import AutoMinorLocator\n",
    "import numpy as np\n",
    "import datetime, calendar\n",
    "from datetime import timedelta\n",
    "import matplotlib.patches as mpatches\n",
    "%matplotlib tk\n",
    "\n",
    "data = pd.read_pickle('/home/keuch/gits/keuch/code_box/pyt/spreadsheetparsing/entwuerfe/xls_testruns/doe_pickle_1458.pkl') # this one for average times"
   ]
  },
  {
   "cell_type": "code",
   "execution_count": 204,
   "metadata": {},
   "outputs": [
    {
     "name": "stdout",
     "output_type": "stream",
     "text": [
      "Index(['tm', 'dt', 'yy', 'mm', 'ww', 'wd', 'dd', 'xl', 'hh', 'an', 'vb', 'vl',\n",
      "       'ht', 'tt', 'acw', 'bz', 'dectt', 'decht', 'decacw'],\n",
      "      dtype='object')\n"
     ]
    }
   ],
   "source": [
    "print(data.columns)"
   ]
  },
  {
   "cell_type": "code",
   "execution_count": 205,
   "metadata": {
    "collapsed": true
   },
   "outputs": [],
   "source": [
    "# functions that will be apllied on grouping, left out dt bz and hh; dt and bz should be indices, hh can be dropped\n",
    "colfunx_collapse_dt={'yy':'first', 'mm':'first', 'ww':'first', 'wd':'first', 'dd':'first', 'xl':'first', 'an':'sum', 'vb':'sum', 'vl':'sum', 'ht':'sum', 'tt':'sum', 'acw':'sum','decht':'sum', 'dectt':'sum', 'decacw':'sum'}\n",
    "# group data by day and bearbzeit\n",
    "data_grouped=data.groupby(['dt','bz']).agg(colfunx_collapse_dt)"
   ]
  },
  {
   "cell_type": "code",
   "execution_count": 206,
   "metadata": {},
   "outputs": [],
   "source": [
    "# dates without neben- or kernzeit should contain each index, but fill them with null. Solution see https://stackoverflow.com/questions/17287933/filling-in-date-gaps-in-multiindex-pandas-dataframe\n",
    "dg=data_grouped.unstack('dt').fillna(0).stack('dt')\n",
    "dg2=dg.reorder_levels(['dt','bz'])"
   ]
  },
  {
   "cell_type": "code",
   "execution_count": 212,
   "metadata": {},
   "outputs": [],
   "source": [
    "# averages as their own columns\n",
    "dg2['aht']=(dg2['ht']/dg2['vb']).fillna(0)\n",
    "dg2['att']=(dg2['tt']/dg2['vb']).fillna(0)\n",
    "dg2['aacw']=(dg2['acw']/dg2['vb']).fillna(0)\n",
    "\n",
    "# function for conversion of excel-floats to timedelta objects\n",
    "def float_to_delta(xlfloat):\n",
    "    deltatime=timedelta(xlfloat)\n",
    "    return deltatime\n",
    "dg2[['td_att','td_aht','td_aacw']] = dg2[['att', 'aht', 'aacw']].applymap(float_to_delta)\n",
    "\n",
    "# reorder columns for better comprehensibility, left out the decimal times and the excel-averages\n",
    "col_order=['xl','yy','mm','dd','ww','wd','an','vb','vl','ht','tt','acw','td_aht','td_att','td_aacw']\n",
    "dg2=dg2[col_order]\n",
    "\n"
   ]
  },
  {
   "cell_type": "code",
   "execution_count": 213,
   "metadata": {},
   "outputs": [],
   "source": [
    "kernzeit=dg2.xs('k', level=1, drop_level=False)\n",
    "nebnzeit=dg2.xs('n', level=1, drop_level=False)\n",
    "# both frames share the same index (level 0, i.e. datetime.date)"
   ]
  },
  {
   "cell_type": "code",
   "execution_count": 214,
   "metadata": {},
   "outputs": [
    {
     "data": {
      "text/html": [
       "<div>\n",
       "<style>\n",
       "    .dataframe thead tr:only-child th {\n",
       "        text-align: right;\n",
       "    }\n",
       "\n",
       "    .dataframe thead th {\n",
       "        text-align: left;\n",
       "    }\n",
       "\n",
       "    .dataframe tbody tr th {\n",
       "        vertical-align: top;\n",
       "    }\n",
       "</style>\n",
       "<table border=\"1\" class=\"dataframe\">\n",
       "  <thead>\n",
       "    <tr style=\"text-align: right;\">\n",
       "      <th></th>\n",
       "      <th></th>\n",
       "      <th>xl</th>\n",
       "      <th>yy</th>\n",
       "      <th>mm</th>\n",
       "      <th>dd</th>\n",
       "      <th>ww</th>\n",
       "      <th>wd</th>\n",
       "      <th>an</th>\n",
       "      <th>vb</th>\n",
       "      <th>vl</th>\n",
       "      <th>ht</th>\n",
       "      <th>tt</th>\n",
       "      <th>acw</th>\n",
       "      <th>td_aht</th>\n",
       "      <th>td_att</th>\n",
       "      <th>td_aacw</th>\n",
       "    </tr>\n",
       "    <tr>\n",
       "      <th>dt</th>\n",
       "      <th>bz</th>\n",
       "      <th></th>\n",
       "      <th></th>\n",
       "      <th></th>\n",
       "      <th></th>\n",
       "      <th></th>\n",
       "      <th></th>\n",
       "      <th></th>\n",
       "      <th></th>\n",
       "      <th></th>\n",
       "      <th></th>\n",
       "      <th></th>\n",
       "      <th></th>\n",
       "      <th></th>\n",
       "      <th></th>\n",
       "      <th></th>\n",
       "    </tr>\n",
       "  </thead>\n",
       "  <tbody>\n",
       "    <tr>\n",
       "      <th>2017-10-04</th>\n",
       "      <th>k</th>\n",
       "      <td>43012.0</td>\n",
       "      <td>2017.0</td>\n",
       "      <td>10.0</td>\n",
       "      <td>4.0</td>\n",
       "      <td>40.0</td>\n",
       "      <td>Wed</td>\n",
       "      <td>326.0</td>\n",
       "      <td>268.0</td>\n",
       "      <td>58.0</td>\n",
       "      <td>0.726447</td>\n",
       "      <td>0.600822</td>\n",
       "      <td>0.125625</td>\n",
       "      <td>00:03:54.197761</td>\n",
       "      <td>00:03:13.697761</td>\n",
       "      <td>00:00:40.500000</td>\n",
       "    </tr>\n",
       "    <tr>\n",
       "      <th>2017-10-05</th>\n",
       "      <th>k</th>\n",
       "      <td>43013.0</td>\n",
       "      <td>2017.0</td>\n",
       "      <td>10.0</td>\n",
       "      <td>5.0</td>\n",
       "      <td>40.0</td>\n",
       "      <td>Thu</td>\n",
       "      <td>303.0</td>\n",
       "      <td>257.0</td>\n",
       "      <td>46.0</td>\n",
       "      <td>0.739329</td>\n",
       "      <td>0.627847</td>\n",
       "      <td>0.111481</td>\n",
       "      <td>00:04:08.552529</td>\n",
       "      <td>00:03:31.073930</td>\n",
       "      <td>00:00:37.478599</td>\n",
       "    </tr>\n",
       "    <tr>\n",
       "      <th>2017-10-06</th>\n",
       "      <th>k</th>\n",
       "      <td>43014.0</td>\n",
       "      <td>2017.0</td>\n",
       "      <td>10.0</td>\n",
       "      <td>6.0</td>\n",
       "      <td>40.0</td>\n",
       "      <td>Fri</td>\n",
       "      <td>371.0</td>\n",
       "      <td>332.0</td>\n",
       "      <td>39.0</td>\n",
       "      <td>0.971354</td>\n",
       "      <td>0.815104</td>\n",
       "      <td>0.156250</td>\n",
       "      <td>00:04:12.786145</td>\n",
       "      <td>00:03:32.123494</td>\n",
       "      <td>00:00:40.662651</td>\n",
       "    </tr>\n",
       "    <tr>\n",
       "      <th>2017-10-07</th>\n",
       "      <th>k</th>\n",
       "      <td>43015.0</td>\n",
       "      <td>2017.0</td>\n",
       "      <td>10.0</td>\n",
       "      <td>7.0</td>\n",
       "      <td>40.0</td>\n",
       "      <td>Sat</td>\n",
       "      <td>66.0</td>\n",
       "      <td>50.0</td>\n",
       "      <td>16.0</td>\n",
       "      <td>0.167535</td>\n",
       "      <td>0.140706</td>\n",
       "      <td>0.026829</td>\n",
       "      <td>00:04:49.500000</td>\n",
       "      <td>00:04:03.140000</td>\n",
       "      <td>00:00:46.360000</td>\n",
       "    </tr>\n",
       "    <tr>\n",
       "      <th>2017-10-08</th>\n",
       "      <th>k</th>\n",
       "      <td>0.0</td>\n",
       "      <td>0.0</td>\n",
       "      <td>0.0</td>\n",
       "      <td>0.0</td>\n",
       "      <td>0.0</td>\n",
       "      <td>0</td>\n",
       "      <td>0.0</td>\n",
       "      <td>0.0</td>\n",
       "      <td>0.0</td>\n",
       "      <td>0.000000</td>\n",
       "      <td>0.000000</td>\n",
       "      <td>0.000000</td>\n",
       "      <td>00:00:00</td>\n",
       "      <td>00:00:00</td>\n",
       "      <td>00:00:00</td>\n",
       "    </tr>\n",
       "  </tbody>\n",
       "</table>\n",
       "</div>"
      ],
      "text/plain": [
       "                    xl      yy    mm   dd    ww   wd     an     vb    vl  \\\n",
       "dt         bz                                                              \n",
       "2017-10-04 k   43012.0  2017.0  10.0  4.0  40.0  Wed  326.0  268.0  58.0   \n",
       "2017-10-05 k   43013.0  2017.0  10.0  5.0  40.0  Thu  303.0  257.0  46.0   \n",
       "2017-10-06 k   43014.0  2017.0  10.0  6.0  40.0  Fri  371.0  332.0  39.0   \n",
       "2017-10-07 k   43015.0  2017.0  10.0  7.0  40.0  Sat   66.0   50.0  16.0   \n",
       "2017-10-08 k       0.0     0.0   0.0  0.0   0.0    0    0.0    0.0   0.0   \n",
       "\n",
       "                     ht        tt       acw          td_aht          td_att  \\\n",
       "dt         bz                                                                 \n",
       "2017-10-04 k   0.726447  0.600822  0.125625 00:03:54.197761 00:03:13.697761   \n",
       "2017-10-05 k   0.739329  0.627847  0.111481 00:04:08.552529 00:03:31.073930   \n",
       "2017-10-06 k   0.971354  0.815104  0.156250 00:04:12.786145 00:03:32.123494   \n",
       "2017-10-07 k   0.167535  0.140706  0.026829 00:04:49.500000 00:04:03.140000   \n",
       "2017-10-08 k   0.000000  0.000000  0.000000        00:00:00        00:00:00   \n",
       "\n",
       "                      td_aacw  \n",
       "dt         bz                  \n",
       "2017-10-04 k  00:00:40.500000  \n",
       "2017-10-05 k  00:00:37.478599  \n",
       "2017-10-06 k  00:00:40.662651  \n",
       "2017-10-07 k  00:00:46.360000  \n",
       "2017-10-08 k         00:00:00  "
      ]
     },
     "execution_count": 214,
     "metadata": {},
     "output_type": "execute_result"
    }
   ],
   "source": [
    "kernzeit.tail()"
   ]
  },
  {
   "cell_type": "code",
   "execution_count": null,
   "metadata": {},
   "outputs": [],
   "source": []
  },
  {
   "cell_type": "code",
   "execution_count": null,
   "metadata": {},
   "outputs": [],
   "source": []
  },
  {
   "cell_type": "code",
   "execution_count": null,
   "metadata": {},
   "outputs": [],
   "source": []
  },
  {
   "cell_type": "code",
   "execution_count": null,
   "metadata": {
    "collapsed": true
   },
   "outputs": [],
   "source": []
  }
 ],
 "metadata": {
  "kernelspec": {
   "display_name": "Python 3",
   "language": "python",
   "name": "python3"
  },
  "language_info": {
   "codemirror_mode": {
    "name": "ipython",
    "version": 3
   },
   "file_extension": ".py",
   "mimetype": "text/x-python",
   "name": "python",
   "nbconvert_exporter": "python",
   "pygments_lexer": "ipython3",
   "version": "3.4.5"
  }
 },
 "nbformat": 4,
 "nbformat_minor": 2
}
