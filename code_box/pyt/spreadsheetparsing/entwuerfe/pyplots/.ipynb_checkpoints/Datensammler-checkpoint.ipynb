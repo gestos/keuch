{
 "cells": [
  {
   "cell_type": "code",
   "execution_count": 1,
   "metadata": {},
   "outputs": [],
   "source": [
    "%load_ext autoreload\n",
    "%autoreload 2\n",
    "\n",
    "## Import necessary modules\n",
    "import os,sys\n",
    "import pandas as pd\n",
    "import pickle\n",
    "import matplotlib.pyplot as plt\n",
    "from matplotlib.dates import date2num, AutoDateFormatter, AutoDateLocator, WeekdayLocator, MonthLocator, DayLocator, DateLocator, DateFormatter\n",
    "from matplotlib.dates import MO, TU, WE, TH, FR, SA, SU\n",
    "from matplotlib.ticker import AutoMinorLocator, AutoLocator, FormatStrFormatter, ScalarFormatter\n",
    "import numpy as np\n",
    "import datetime, calendar\n",
    "from datetime import timedelta\n",
    "import matplotlib.patches as mpatches\n",
    "from itertools import tee\n",
    "from traitlets import traitlets\n",
    "\n",
    "sys.path.append(os.path.abspath('/home/keuch/gits/keuch/code_box/pyt/spreadsheetparsing/entwuerfe/pyplots/lib/'))\n",
    "from ce_funclib import determine_kernzeit as dtkz\n",
    "from ce_funclib import continuity_check\n",
    "\n",
    "\n",
    "from ipywidgets import widgets, interact, interactive, fixed, interact_manual, Layout\n",
    "from IPython.display import display\n",
    "#%matplotlib inline\n",
    "%matplotlib tk"
   ]
  },
  {
   "cell_type": "markdown",
   "metadata": {},
   "source": [
    "## Agenten"
   ]
  },
  {
   "cell_type": "markdown",
   "metadata": {},
   "source": [
    "### Deklarationen"
   ]
  },
  {
   "cell_type": "code",
   "execution_count": 2,
   "metadata": {
    "collapsed": true
   },
   "outputs": [],
   "source": [
    "## Lese-Verzeichnis, in dem die Agenten-Reports liegen\n",
    "pth_read_1458='/home/keuch/gits/keuch/code_box/pyt/spreadsheetparsing/datenhalde/1458/'\n",
    "pth_read_agents='/home/keuch/gits/keuch/code_box/pyt/spreadsheetparsing/datenhalde/alle_agents_taeglich/'\n",
    "## Schreib-Verzeichnis, in das der gesammelte pickle abgelegt werden soll\n",
    "pklpth='/home/keuch/gits/keuch/code_box/pyt/spreadsheetparsing/datenhalde/datapickles/'\n",
    "heute=datetime.date.today().strftime('%Y-%m-%d')"
   ]
  },
  {
   "cell_type": "markdown",
   "metadata": {},
   "source": [
    "### Funktionen"
   ]
  },
  {
   "cell_type": "code",
   "execution_count": 3,
   "metadata": {
    "collapsed": true
   },
   "outputs": [],
   "source": [
    "######## GET A LIST OF MATCHING .xls FILES FROM THE GIVEN DIRECTORY\n",
    "def collectfiles(pfad,welche):\n",
    "    \n",
    "    if welche == 'agents':\n",
    "        startstring = 'CE_alle_Ag'\n",
    "    elif welche == '1458':\n",
    "        startstring = '1458_daily'\n",
    "    else:\n",
    "        return 'bitte angeben, welche Art Files gelesen werden soll (agents oder hotlinenummer)'\n",
    "            \n",
    "    \n",
    "    xlfilelist=list()\n",
    "\n",
    "    for xlfile in os.listdir(pfad):\n",
    "        if xlfile.startswith(startstring):\n",
    "            xlfileabs=os.path.join(pfad,xlfile)\n",
    "            xlfilelist.append(xlfileabs)\n",
    "    return sorted(xlfilelist)"
   ]
  },
  {
   "cell_type": "code",
   "execution_count": 4,
   "metadata": {
    "collapsed": true
   },
   "outputs": [],
   "source": [
    "def makeniceframe(ixframe):        ## funktion nimmt einen mit daten befüllten frame und bringt ihn in eine vernünftige form\n",
    "    \n",
    "    exframe=ixframe.copy()\n",
    "    \n",
    "    exframe.columns=range(0,30) # rename columns to a temporarily more readable format, fancy rename later\n",
    "    usefulcols={0:'tstamp',1:'agent',3:'an',4:'be',22:'vl',24:'ht_float',29:'tt_float'} # map cols to decent names\n",
    "    exframe=exframe[sorted(usefulcols.keys())] # skip cols and keep the ones we need\n",
    "    exframe.rename(columns=usefulcols,inplace=True) # rename cols\n",
    "    exframe=exframe[3:-1] # strip text rows and the mangled sum row\n",
    "    exframe['tstamp']=pd.to_datetime(exframe['tstamp'],format=' %d.%m.%Y %H:%M ')\n",
    "    exframe['date']=exframe['tstamp'].dt.date\n",
    "    exframe[['wd','ww','mm','yy']]=exframe['tstamp'].dt.strftime('%a,%W,%m,%Y').str.split(',',expand=True) # make ww,yy,mm,wd columns\n",
    "    exframe['bz']=exframe['tstamp'].apply(dtkz)\n",
    "\n",
    "    exframe['ort']=exframe['agent'].str[0] # split the identifier into useable columns\n",
    "    exframe['id']=exframe['agent'].str[-6:] # split the identifier into useable columns\n",
    "    exframe['agent']=exframe['agent'].str[2:-7] # split the identifier into useable columns\n",
    "    \n",
    "    #### trying unification while parse\n",
    "    unify_id={'gesinst':'995887','stanzju':'878457','papkeda':'891914'}\n",
    "    exframe.loc[exframe['id'] == unify_id['gesinst'],'agent'] = 'gesinst'\n",
    "    exframe.loc[exframe['id'] == unify_id['stanzju'],'agent'] = 'stanzju'\n",
    "    exframe.loc[exframe['id'] == unify_id['papkeda'],'agent'] = 'papkeda'\n",
    "    \n",
    "    # integers should be of appropriate datatype, we received them as strings\n",
    "    exframe[['vl','an','be','ww','mm','yy']]=exframe[['vl','an','be','ww','mm','yy']].astype(np.int64) #just for the beauty of it\n",
    "    \n",
    "    return exframe"
   ]
  },
  {
   "cell_type": "code",
   "execution_count": 5,
   "metadata": {
    "collapsed": true
   },
   "outputs": [],
   "source": [
    "def parse_filelist_to_dataframe(liste):\n",
    "    \n",
    "    liste_leerer_tage=list()    \n",
    "    bigframe=pd.DataFrame()\n",
    "    \n",
    "    for datei in liste:\n",
    "        readframe=pd.read_excel(datei)\n",
    "\n",
    "        if len(readframe.columns) == 3:           # Dateien mit nur 3 Spalten enthalten keine Call-Daten\n",
    "            print('empty ', end='')\n",
    "            liste_leerer_tage.append(datei)\n",
    "        \n",
    "        elif len(readframe.columns) == 30:\n",
    "            print('. ', end='')\n",
    "            niceframe=makeniceframe(readframe)\n",
    "            bigframe=bigframe.append(niceframe)\n",
    "            \n",
    "        else:\n",
    "            print('Datei zum Nachgucken, hat weder 3 noch 30 Spalten')\n",
    "\n",
    "    bigframe.sort_values(by='tstamp', inplace=True) # ganzen frame nach Uhrzeiten sortieren\n",
    "    bigframe.set_index('tstamp',inplace=True) # timestamp als neuer Index\n",
    "    \n",
    "    return bigframe,liste_leerer_tage"
   ]
  },
  {
   "cell_type": "markdown",
   "metadata": {},
   "source": [
    "### Filescraping und Roh-Dataframe"
   ]
  },
  {
   "cell_type": "code",
   "execution_count": null,
   "metadata": {},
   "outputs": [
    {
     "name": "stdout",
     "output_type": "stream",
     "text": [
      ". . . . . . . . . . . . . . . . . . . . . . . . . . . . . . . . . . . . . . . . . . . . empty . . . . . . . . . . . . . . . . . . . . . . . . . . empty . . . . . . . . . . . . . . . . . . . . . . . . . . . . . . . . . . . . . . . . . . . . . . . . . . . . . . . . . . . . . . . . . . . . . . . . . . . . . . . . . . . . . . . . . . . . . . . . . . . . . . . . . . . . . . . . . . . . . . . . . . . . . . . . . . . . . . . . . . . . . . . . . . . . . . . . . . . . . . . . . . . . . . . . . . . . . . . . . . . . . . . . . . . . empty . . . . . . . . . . . . . empty . . . . . . empty . . "
     ]
    }
   ],
   "source": [
    "filelist_agents=collectfiles(pth_read_agents,'agents')\n",
    "big_frame,leeretage=parse_filelist_to_dataframe(filelist_agents)"
   ]
  },
  {
   "cell_type": "code",
   "execution_count": null,
   "metadata": {
    "collapsed": true
   },
   "outputs": [],
   "source": [
    "big_frame.to_pickle(pklpth+'Rohdaten_Agenten-'+heute+'.pkl')\n",
    "big_frame.to_pickle(pklpth+'Rohdaten_Agenten_aktuell.pkl')\n",
    "with open(pklpth+'Rohdaten_Agenten_Leertage'+heute, 'wb') as f:\n",
    "    pickle.dump(leeretage, f)"
   ]
  },
  {
   "cell_type": "markdown",
   "metadata": {
    "collapsed": true
   },
   "source": [
    "## 1458"
   ]
  },
  {
   "cell_type": "markdown",
   "metadata": {
    "collapsed": true
   },
   "source": [
    "### Deklarationen Hotline_1458"
   ]
  },
  {
   "cell_type": "code",
   "execution_count": null,
   "metadata": {
    "collapsed": true
   },
   "outputs": [],
   "source": [
    "neededcols=[0,1,2,3,5,12,21] # Liste der Spalten, die aus dem Excelfile gelesen werden sollen\n",
    "new_colnames=['tstp','clls','ange','verb','tt','acw','lost'] # Namen, die spaeter auf die Spalten kommen\n",
    "shitcols=('Verbindungszeit [hh:mm:ss]','Nachbearbeitungszeit [hh:mm:ss]')\n",
    "converts={shitcols[0]:str,shitcols[1]:str}\n",
    "ipynb_name='1458_allrounder'\n",
    "global ipynb_name"
   ]
  },
  {
   "cell_type": "markdown",
   "metadata": {},
   "source": [
    "### Funktionen 1458"
   ]
  },
  {
   "cell_type": "code",
   "execution_count": null,
   "metadata": {
    "collapsed": true
   },
   "outputs": [],
   "source": [
    "def turn_xls_to_df(file):\n",
    "\n",
    "    excel_df=pd.read_excel(file,skiprows=3,skip_footer=1,usecols=neededcols,converters=converts)# die ersten 3 werden nicht benötigt, letzte auch nicht\n",
    "    excel_df['Timestamp'] = pd.to_datetime(excel_df['Timestamp'], format=' %d.%m.%Y %H:%M ') # statt string soll das ein datetime werden\n",
    "    excel_df.columns=new_colnames\n",
    "    excel_df2=excel_df.set_index('tstp').copy() # die timestamps sollen der index sein\n",
    "        \n",
    "    return excel_df2"
   ]
  },
  {
   "cell_type": "code",
   "execution_count": null,
   "metadata": {
    "collapsed": true
   },
   "outputs": [],
   "source": [
    "filelist_1458=collectfiles(pth_read_1458,'1458')"
   ]
  },
  {
   "cell_type": "code",
   "execution_count": null,
   "metadata": {
    "collapsed": true
   },
   "outputs": [],
   "source": [
    "greatframe=pd.DataFrame() # leeren df initialisieren\n",
    "for i in filelist_1458:\n",
    "    i_frame=turn_xls_to_df(i)\n",
    "    greatframe=greatframe.append(i_frame) \n",
    "# alle files werden ordentlich in df konvertiert und an den ausserhalb der funktion kreierten df angehangen\n",
    "# greatframe # hier sind alle daten vollständig enthalten, die gebraucht werden, der Ur-Frame"
   ]
  },
  {
   "cell_type": "code",
   "execution_count": null,
   "metadata": {
    "collapsed": true
   },
   "outputs": [],
   "source": [
    "## Anrufzeiten statt datetime oder string nach timedelta (Sekunden) gewandelt\n",
    "greatframe[['tt','acw']]=greatframe[['tt','acw']].apply(pd.to_timedelta).astype('timedelta64[s]')\n",
    "greatframe['ht'] = (greatframe['tt']+greatframe['acw'])"
   ]
  },
  {
   "cell_type": "code",
   "execution_count": null,
   "metadata": {
    "collapsed": true
   },
   "outputs": [],
   "source": [
    "## add kern- und nebenzeit column\n",
    "greatframe['bz'] = greatframe.index.map(dtkz)"
   ]
  },
  {
   "cell_type": "code",
   "execution_count": null,
   "metadata": {
    "collapsed": true
   },
   "outputs": [],
   "source": [
    "greatframe.to_pickle(pklpth+'Rohdaten_1458-'+heute+'.pkl')\n",
    "greatframe.to_pickle(pklpth+'Rohdaten_1458_aktuell.pkl')\n",
    "#with open(pklpth+'Rohdaten_Agenten_Leertage'+heute, 'wb') as f:\n",
    "#    pickle.dump(leeretage, f)"
   ]
  },
  {
   "cell_type": "code",
   "execution_count": null,
   "metadata": {
    "collapsed": true
   },
   "outputs": [],
   "source": []
  }
 ],
 "metadata": {
  "kernelspec": {
   "display_name": "Python 3",
   "language": "python",
   "name": "python3"
  },
  "language_info": {
   "codemirror_mode": {
    "name": "ipython",
    "version": 3
   },
   "file_extension": ".py",
   "mimetype": "text/x-python",
   "name": "python",
   "nbconvert_exporter": "python",
   "pygments_lexer": "ipython3",
   "version": "3.4.8"
  }
 },
 "nbformat": 4,
 "nbformat_minor": 2
}
