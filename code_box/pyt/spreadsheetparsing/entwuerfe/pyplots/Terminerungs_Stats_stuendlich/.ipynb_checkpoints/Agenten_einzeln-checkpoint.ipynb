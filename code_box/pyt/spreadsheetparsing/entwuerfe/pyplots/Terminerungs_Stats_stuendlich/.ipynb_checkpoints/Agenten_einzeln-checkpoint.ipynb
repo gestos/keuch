{
 "cells": [
  {
   "cell_type": "code",
   "execution_count": 412,
   "metadata": {},
   "outputs": [
    {
     "name": "stdout",
     "output_type": "stream",
     "text": [
      "The autoreload extension is already loaded. To reload it, use:\n",
      "  %reload_ext autoreload\n"
     ]
    }
   ],
   "source": [
    "%load_ext autoreload\n",
    "%autoreload 2\n",
    "\n",
    "## Import necessary modules\n",
    "import os,sys\n",
    "import pandas as pd\n",
    "import pickle\n",
    "import matplotlib.pyplot as plt\n",
    "from matplotlib.dates import date2num, AutoDateFormatter, AutoDateLocator, WeekdayLocator, MonthLocator, DayLocator, DateLocator, DateFormatter\n",
    "from matplotlib.dates import MO, TU, WE, TH, FR, SA, SU\n",
    "from matplotlib.ticker import AutoMinorLocator, AutoLocator, MultipleLocator, FormatStrFormatter, ScalarFormatter, FuncFormatter\n",
    "import numpy as np\n",
    "import datetime, calendar\n",
    "from datetime import timedelta\n",
    "import matplotlib.patches as mpatches\n",
    "from itertools import tee\n",
    "from traitlets import traitlets\n",
    "import matplotlib.gridspec as gridspec\n",
    "\n",
    "sys.path.append(os.path.abspath('/home/keuch/gits/keuch/code_box/pyt/spreadsheetparsing/entwuerfe/pyplots/lib/'))\n",
    "from ce_funclib import determine_kernzeit as dtkz\n",
    "from ce_funclib import continuity_check, decminutes_to_mmss as dec2min\n",
    "\n",
    "\n",
    "from ipywidgets import widgets, interact, interactive, fixed, interact_manual, Layout\n",
    "from IPython.display import display\n",
    "#%matplotlib inline\n",
    "%matplotlib tk\n",
    "\n",
    "\n",
    "## Import data frome pickle generated from muß ein file mit agentenstats sein, wird generiert von Datensammler_Agenten.ipynb\n",
    "pklpth='/home/keuch/gits/keuch/code_box/pyt/spreadsheetparsing/datenhalde/datapickles/Rohdaten_Agenten_aktuell.pkl'\n",
    "\n",
    "## Beispiel-Excel-Dateien mit und ohne Anrufe\n",
    "#emptyday='/home/keuch/gits/keuch/code_box/pyt/spreadsheetparsing/test_stats/archiv/CE_alle_Agenten_taeglich_2018-03-11.xls'\n",
    "#regularday='/home/keuch/gits/keuch/code_box/pyt/spreadsheetparsing/test_stats/archiv/CE_alle_Agenten_taeglich_2018-03-12.xls'\n"
   ]
  },
  {
   "cell_type": "markdown",
   "metadata": {},
   "source": [
    "## Funktionen"
   ]
  },
  {
   "cell_type": "code",
   "execution_count": 413,
   "metadata": {
    "collapsed": true
   },
   "outputs": [],
   "source": [
    "def add_averages(frame):\n",
    "\n",
    "    frame['avtt']=frame['tt_float']/frame['be']\n",
    "    frame['avht']=frame['ht_float']/frame['be']\n",
    "    frame['avacw']=frame['acw_float']/frame['be']\n",
    "    \n",
    "    colorder_with_abs=['an','be','vl','avht','avtt','avacw','ht_float','tt_float','acw_float']\n",
    "    frame_with_abs=frame[colorder_with_abs]\n",
    "    \n",
    "    #colorder_av_only=['an','be','vl','avht','avtt','avacw']\n",
    "    #frame_only_av=frame[colorder_av_only].fillna(0).unstack('bz')  # die Bearbeitungszeit soll hoch in die Spalten\n",
    "    \n",
    "    return frame_with_abs.fillna(0)"
   ]
  },
  {
   "cell_type": "code",
   "execution_count": 414,
   "metadata": {
    "collapsed": true
   },
   "outputs": [],
   "source": [
    "### dezimal-zeiten zu uhrzeiten umwandeln, inplace, daher noch eine kopie machen, um die dez.-daten zu erhalten...\n",
    "def frame_dezimalzeiten_zu_mmss(frame):\n",
    "    mit_mmss=frame.copy()\n",
    "    lev=mit_mmss.columns.get_level_values(1)\n",
    "    mit_mmss.iloc[:,(lev == 'avht') | (lev == 'avtt') | (lev == 'avacw')] = mit_mmss.iloc[:,(lev == 'avht') | (lev == 'avtt') | (lev == 'avacw')].applymap(decminutes_to_mmss)\n",
    "    return mit_mmss\n",
    "#frame_dezimalzeiten_zu_mmss(mit_summe_sortiert)"
   ]
  },
  {
   "cell_type": "markdown",
   "metadata": {},
   "source": [
    "## Daten und Dataframe"
   ]
  },
  {
   "cell_type": "code",
   "execution_count": 415,
   "metadata": {
    "collapsed": true
   },
   "outputs": [],
   "source": [
    "big_frame=pd.read_pickle(pklpth)  # wo kommt der pickle her und wie generiere ich einen aktualisierten? -> Datensammler.py\n",
    "big_frame[['ht_float','tt_float']]=big_frame[['ht_float','tt_float']].apply(pd.to_numeric)\n",
    "big_frame['acw_float']=big_frame['ht_float']-big_frame['tt_float']\n",
    "big_frame['calweeks']=big_frame.index.strftime('%Y-%V')"
   ]
  },
  {
   "cell_type": "code",
   "execution_count": null,
   "metadata": {},
   "outputs": [],
   "source": []
  },
  {
   "cell_type": "code",
   "execution_count": 416,
   "metadata": {
    "collapsed": true
   },
   "outputs": [],
   "source": [
    "## Zeitraum für den plot wählen und filtern\n",
    "von_bis=(datetime.date(2018,4,5),datetime.date(2018,4,5))\n",
    "zeitraum=big_frame.loc[(big_frame.index.date >= von_bis[0]) & (big_frame.index.date <= von_bis[1])].copy()"
   ]
  },
  {
   "cell_type": "code",
   "execution_count": 417,
   "metadata": {},
   "outputs": [],
   "source": [
    "zeitraum=zeitraum.groupby([pd.Grouper('agent'),pd.Grouper('bz')]).sum().unstack('bz',fill_value=0).stack('bz')\n",
    "\n",
    "g = zeitraum.sum(level=['agent']) # einen Zwischenframe erstellen, der nur die Kern- und Nebenzeit summiert\n",
    "zeitraum=zeitraum.append(g.assign(bz='g').set_index('bz', append=True)).sort_index() # die Summe dem alten Frame beigeben"
   ]
  },
  {
   "cell_type": "code",
   "execution_count": null,
   "metadata": {},
   "outputs": [],
   "source": []
  },
  {
   "cell_type": "code",
   "execution_count": 418,
   "metadata": {},
   "outputs": [],
   "source": [
    "zeitraum=add_averages(zeitraum)"
   ]
  },
  {
   "cell_type": "code",
   "execution_count": 419,
   "metadata": {},
   "outputs": [],
   "source": [
    "zindex=zeitraum.xs('g',level='bz').sort_values('avht').index   # nur gesamtzeit sortiert nach angenommenen, davon der index\n",
    "zeitraum=zeitraum.reindex(zindex,level=0) # frame danach sortiert"
   ]
  },
  {
   "cell_type": "code",
   "execution_count": 420,
   "metadata": {},
   "outputs": [
    {
     "data": {
      "text/html": [
       "<div>\n",
       "<style>\n",
       "    .dataframe thead tr:only-child th {\n",
       "        text-align: right;\n",
       "    }\n",
       "\n",
       "    .dataframe thead th {\n",
       "        text-align: left;\n",
       "    }\n",
       "\n",
       "    .dataframe tbody tr th {\n",
       "        vertical-align: top;\n",
       "    }\n",
       "</style>\n",
       "<table border=\"1\" class=\"dataframe\">\n",
       "  <thead>\n",
       "    <tr style=\"text-align: right;\">\n",
       "      <th></th>\n",
       "      <th></th>\n",
       "      <th>an</th>\n",
       "      <th>be</th>\n",
       "      <th>vl</th>\n",
       "      <th>avht</th>\n",
       "      <th>avtt</th>\n",
       "      <th>avacw</th>\n",
       "      <th>ht_float</th>\n",
       "      <th>tt_float</th>\n",
       "      <th>acw_float</th>\n",
       "    </tr>\n",
       "    <tr>\n",
       "      <th>agent</th>\n",
       "      <th>bz</th>\n",
       "      <th></th>\n",
       "      <th></th>\n",
       "      <th></th>\n",
       "      <th></th>\n",
       "      <th></th>\n",
       "      <th></th>\n",
       "      <th></th>\n",
       "      <th></th>\n",
       "      <th></th>\n",
       "    </tr>\n",
       "  </thead>\n",
       "  <tbody>\n",
       "    <tr>\n",
       "      <th rowspan=\"3\" valign=\"top\">dehnsil</th>\n",
       "      <th>g</th>\n",
       "      <td>1</td>\n",
       "      <td>1</td>\n",
       "      <td>0</td>\n",
       "      <td>0.066700</td>\n",
       "      <td>0.016700</td>\n",
       "      <td>0.050000</td>\n",
       "      <td>0.0667</td>\n",
       "      <td>0.0167</td>\n",
       "      <td>0.0500</td>\n",
       "    </tr>\n",
       "    <tr>\n",
       "      <th>k</th>\n",
       "      <td>0</td>\n",
       "      <td>0</td>\n",
       "      <td>0</td>\n",
       "      <td>0.000000</td>\n",
       "      <td>0.000000</td>\n",
       "      <td>0.000000</td>\n",
       "      <td>0.0000</td>\n",
       "      <td>0.0000</td>\n",
       "      <td>0.0000</td>\n",
       "    </tr>\n",
       "    <tr>\n",
       "      <th>n</th>\n",
       "      <td>1</td>\n",
       "      <td>1</td>\n",
       "      <td>0</td>\n",
       "      <td>0.066700</td>\n",
       "      <td>0.016700</td>\n",
       "      <td>0.050000</td>\n",
       "      <td>0.0667</td>\n",
       "      <td>0.0167</td>\n",
       "      <td>0.0500</td>\n",
       "    </tr>\n",
       "    <tr>\n",
       "      <th>tetzlva</th>\n",
       "      <th>g</th>\n",
       "      <td>38</td>\n",
       "      <td>38</td>\n",
       "      <td>0</td>\n",
       "      <td>2.253071</td>\n",
       "      <td>2.014032</td>\n",
       "      <td>0.239039</td>\n",
       "      <td>85.6167</td>\n",
       "      <td>76.5332</td>\n",
       "      <td>9.0835</td>\n",
       "    </tr>\n",
       "  </tbody>\n",
       "</table>\n",
       "</div>"
      ],
      "text/plain": [
       "            an  be  vl      avht      avtt     avacw  ht_float  tt_float  \\\n",
       "agent   bz                                                                 \n",
       "dehnsil g    1   1   0  0.066700  0.016700  0.050000    0.0667    0.0167   \n",
       "        k    0   0   0  0.000000  0.000000  0.000000    0.0000    0.0000   \n",
       "        n    1   1   0  0.066700  0.016700  0.050000    0.0667    0.0167   \n",
       "tetzlva g   38  38   0  2.253071  2.014032  0.239039   85.6167   76.5332   \n",
       "\n",
       "            acw_float  \n",
       "agent   bz             \n",
       "dehnsil g      0.0500  \n",
       "        k      0.0000  \n",
       "        n      0.0500  \n",
       "tetzlva g      9.0835  "
      ]
     },
     "execution_count": 420,
     "metadata": {},
     "output_type": "execute_result"
    }
   ],
   "source": [
    "zeitraum.head(4)"
   ]
  },
  {
   "cell_type": "code",
   "execution_count": 527,
   "metadata": {},
   "outputs": [],
   "source": [
    "def agentplot(frame,vonbis):\n",
    "    \n",
    "    gcol,lostcol,verbcol,ncol,kcol,ncol2=\"#777777\",\"#AC003A\",\"#008EC4\",\"#000000\",\"#4F7DFF\",'#424242'\n",
    "    \n",
    "    fig = plt.figure(figsize=(10,7))\n",
    "    ax1 = plt.subplot2grid((1, 3), (0, 1), colspan=2)\n",
    "    ax2 = plt.subplot2grid((1, 3), (0, 0), colspan=1)\n",
    "    \n",
    "    \n",
    "    d_ix=frame.index.get_level_values(0).unique()\n",
    "    agents_ticks=range(len(d_ix))\n",
    "    \n",
    "        \n",
    "    ####################################################\n",
    "    ### subplot für die Zeiten\n",
    "    \n",
    "    ## y-ticks nach Agenten\n",
    "    ax1.set_yticks(agents_ticks)\n",
    "    ax1.set_yticklabels(d_ix)\n",
    "            \n",
    "    ## locators und formatters für die rechte x-achse\n",
    "    ax1.xaxis.set_major_locator(MultipleLocator(1))\n",
    "    ax1.xaxis.set_minor_locator(AutoMinorLocator(2))\n",
    "    ax1.xaxis.set_minor_formatter(FuncFormatter(dec2min))    # Die Dezimalzahlen der Y-Achse sollen labels im MM:SS Format erhalten\n",
    "    ax1.xaxis.set_major_formatter(FuncFormatter(dec2min))\n",
    "    for label in ax1.get_xticklabels(which='both'):          # lösung mit loop scheint am einfachsten zu sein...\n",
    "        label.set_rotation(75) \n",
    "    for label in ax1.get_xticklabels(which='major'):\n",
    "        label.set_fontsize(7)\n",
    "    for label in ax1.get_xticklabels(which='minor'):\n",
    "        label.set_fontsize(6)\n",
    "    \n",
    "    ## Hilfslinien\n",
    "    ax1.grid(which='major', axis='x', linestyle='-', zorder=0, alpha=0.5)\n",
    "    ax1.grid(which='minor', axis='x', linestyle='--', zorder=0, alpha=0.5)\n",
    "    ax1.set_axisbelow(True)\n",
    "    \n",
    "    ## linien für median und mittel\n",
    "    mediht=frame.xs('g', level='bz')['avht'].median()\n",
    "    meanht=frame.xs('g', level='bz')['avht'].mean()\n",
    "    medi_line=ax1.axvline(x=mediht,color='#FF7B00',linewidth=1,label=str(dec2min(mediht))+' mittel gesamt',zorder=0)\n",
    "    mean_line=ax1.axvline(x=meanht,color='#FF0000',linewidth=1,label=str(dec2min(meanht))+' median gesamt',zorder=0)\n",
    "    \n",
    "    ## barchart für die Durchschnittszeiten\n",
    "    g_aht=frame.xs('g', level='bz')['avht'].values\n",
    "    g_att=frame.xs('g', level='bz')['avtt'].values\n",
    "    g_aacw=frame.xs('g', level='bz')['avacw'].values\n",
    "\n",
    "    bar_aht=ax1.barh(agents_ticks,g_aht,color=gcol,height=0.8,label='gesamt_aht')\n",
    "    bar_att=ax1.barh(agents_ticks,g_att,color=verbcol,height=0.4,label='gesamt_att')\n",
    "    bar_aacw=ax1.barh(agents_ticks,g_aacw,color=lostcol,left=g_att,height=0.4,label='gesamt_aacw')\n",
    "       \n",
    "    \n",
    "    \n",
    "    #####################################################\n",
    "    ### subplot für die zahl der calls\n",
    "    \n",
    "    ## Y-Achse wie im ersten subplot, aber alles auf der rechten Seite und ohne labels\n",
    "    ax2.set_yticks(ax1.get_yticks())\n",
    "    ax2.set_ylim(ax1.get_ylim())\n",
    "    ax2.yaxis.tick_right()\n",
    "    ax2.tick_params(axis='y',which='both',labelright=False)\n",
    "    \n",
    "    ## locators und formatters für die X-Achse\n",
    "    ax2.xaxis.set_major_locator(MultipleLocator(10))\n",
    "    ax2.xaxis.set_minor_locator(AutoMinorLocator(2))\n",
    "\n",
    "    \n",
    "    ## barchart für angenommene calls\n",
    "    g_calls = frame.xs('g', level='bz')['an'].values\n",
    "    g_calls_be = frame.xs('g', level='bz')['be'].values\n",
    "    g_calls_vl = frame.xs('g', level='bz')['vl'].values\n",
    "    bar_an=ax2.barh(agents_ticks,g_calls,color=gcol,height=0.4,label='anzahl calls')\n",
    "    #bar_be=ax2.barh(agents_ticks,g_calls_be,color=verbcol,height=0.4,label='angenommen')\n",
    "    bar_vl=ax2.barh(agents_ticks,g_calls_vl,color=lostcol,height=0.4,label='verloren')\n",
    "    \n",
    "    ## X-Achse soll hier von rechts nach links gehen\n",
    "    x2=ax2.get_xlim()    # normale x-achse\n",
    "    x2_rev=(x2[1],x2[0]) # koordinaten umgedreht\n",
    "    ax2.set_xlim(x2_rev) # und als neue achse gesetzt\n",
    "    \n",
    "    ## Hilfslinien\n",
    "    ax2.grid(which='major', axis='x', linestyle='-', zorder=0, alpha=0.5)\n",
    "    ax2.grid(which='minor', axis='x', linestyle='--', zorder=0, alpha=0.5)\n",
    "    ax2.set_axisbelow(True)\n",
    "    \n",
    "    ## Summe der Calls in ein Eck\n",
    "    summe_calls_gesamt=frame.xs('g', level='bz')['an'].sum()\n",
    "    ax2.text(0.5, 0.005, 'Summe: '+str(summe_calls_gesamt), transform = ax2.transAxes, color=gcol, fontsize='10',horizontalalignment='center')\n",
    "    #fig.tight_layout()\n",
    "    \n",
    "    \n",
    "    #####################################################\n",
    "    ## Einstellungen, die die ganze fig betreffen\n",
    "    \n",
    "    ## Abstand der Plots zueinander\n",
    "    plt.subplots_adjust(wspace=0.4)\n",
    "    \n",
    "    ## Titel für die beiden Subplots jeweils nach oben\n",
    "    ax1.set_xlabel('Minuten')\n",
    "    ax1.xaxis.set_label_coords(0.5,1.05)\n",
    "    ax2.set_xlabel('Calls')\n",
    "    ax2.xaxis.set_label_coords(0.5,1.05)\n",
    "    \n",
    "    titel='Aufschlüsselung nach Agent für den Zeitraum '+vonbis[0].strftime('%D')+' bis '+von_bis[1].strftime('%D')\n",
    "    fig.suptitle(titel,fontsize=9)\n"
   ]
  },
  {
   "cell_type": "code",
   "execution_count": 528,
   "metadata": {},
   "outputs": [],
   "source": [
    "agentplot(zeitraum,von_bis)"
   ]
  },
  {
   "cell_type": "code",
   "execution_count": 451,
   "metadata": {},
   "outputs": [
    {
     "data": {
      "text/plain": [
       "'04/05/18'"
      ]
     },
     "execution_count": 451,
     "metadata": {},
     "output_type": "execute_result"
    }
   ],
   "source": [
    "von_bis[0].strftime('%D')"
   ]
  },
  {
   "cell_type": "code",
   "execution_count": null,
   "metadata": {
    "collapsed": true
   },
   "outputs": [],
   "source": []
  }
 ],
 "metadata": {
  "kernelspec": {
   "display_name": "Python 3",
   "language": "python",
   "name": "python3"
  },
  "language_info": {
   "codemirror_mode": {
    "name": "ipython",
    "version": 3
   },
   "file_extension": ".py",
   "mimetype": "text/x-python",
   "name": "python",
   "nbconvert_exporter": "python",
   "pygments_lexer": "ipython3",
   "version": "3.4.8"
  }
 },
 "nbformat": 4,
 "nbformat_minor": 2
}
