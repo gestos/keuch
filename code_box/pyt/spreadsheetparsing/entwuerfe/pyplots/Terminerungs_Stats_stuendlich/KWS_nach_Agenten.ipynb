{
 "cells": [
  {
   "cell_type": "code",
   "execution_count": 1,
   "metadata": {
    "collapsed": true
   },
   "outputs": [],
   "source": [
    "%load_ext autoreload\n",
    "%autoreload 2\n",
    "\n",
    "## Import necessary modules\n",
    "import os,sys\n",
    "import pandas as pd\n",
    "import pickle\n",
    "import matplotlib.pyplot as plt\n",
    "from matplotlib.dates import date2num, AutoDateFormatter, AutoDateLocator, WeekdayLocator, MonthLocator, DayLocator, DateLocator, DateFormatter\n",
    "from matplotlib.dates import MO, TU, WE, TH, FR, SA, SU\n",
    "from matplotlib.ticker import AutoMinorLocator, AutoLocator, FormatStrFormatter, ScalarFormatter\n",
    "import numpy as np\n",
    "import datetime, calendar\n",
    "from datetime import timedelta\n",
    "import matplotlib.patches as mpatches\n",
    "from itertools import tee\n",
    "from traitlets import traitlets\n",
    "\n",
    "sys.path.append(os.path.abspath('/home/keuch/gits/keuch/code_box/pyt/spreadsheetparsing/entwuerfe/xls_testruns/lib/'))\n",
    "from ce_funclib import determine_kernzeit as dtkz\n",
    "from ce_funclib import continuity_check, decminutes_to_mmss\n",
    "\n",
    "\n",
    "from ipywidgets import widgets, interact, interactive, fixed, interact_manual, Layout\n",
    "from IPython.display import display\n",
    "#%matplotlib inline\n",
    "%matplotlib tk\n",
    "\n",
    "\n",
    "## Import data frome pickle generated from muß ein file mit agentenstats sein, wird generiert von Datensammler_Agenten.ipynb\n",
    "pklpth='/home/keuch/gits/keuch/code_box/pyt/spreadsheetparsing/datenhalde/datapickles/Agenten-2018-04-21'\n",
    "\n",
    "## Beispiel-Excel-Dateien mit und ohne Anrufe\n",
    "emptyday='/home/keuch/gits/keuch/code_box/pyt/spreadsheetparsing/test_stats/archiv/CE_alle_Agenten_taeglich_2018-03-11.xls'\n",
    "regularday='/home/keuch/gits/keuch/code_box/pyt/spreadsheetparsing/test_stats/archiv/CE_alle_Agenten_taeglich_2018-03-12.xls'\n"
   ]
  },
  {
   "cell_type": "markdown",
   "metadata": {},
   "source": [
    "## Funktionen"
   ]
  },
  {
   "cell_type": "code",
   "execution_count": 2,
   "metadata": {
    "collapsed": true
   },
   "outputs": [],
   "source": [
    "def add_averages(frame):\n",
    "\n",
    "    frame['acw_float']=frame['ht_float']-frame['tt_float']\n",
    "    frame['avtt']=frame['tt_float']/frame['be']\n",
    "    frame['avht']=frame['ht_float']/frame['be']\n",
    "    frame['avacw']=frame['acw_float']/frame['be']\n",
    "    \n",
    "    colorder_with_abs=['an','be','vl','avht','avtt','avacw','ht_float','tt_float','acw_float']\n",
    "    frame_with_abs=frame[colorder_with_abs]\n",
    "    \n",
    "    colorder_av_only=['an','be','vl','avht','avtt','avacw']\n",
    "    frame_only_av=frame[colorder_av_only].fillna(0).unstack('bz')  # die Bearbeitungszeit soll hoch in die Spalten\n",
    "    \n",
    "    return frame_only_av"
   ]
  },
  {
   "cell_type": "code",
   "execution_count": 3,
   "metadata": {
    "collapsed": true
   },
   "outputs": [],
   "source": [
    "### dezimal-zeiten zu uhrzeiten umwandeln, inplace, daher noch eine kopie machen, um die dez.-daten zu erhalten...\n",
    "def frame_dezimalzeiten_zu_mmss(frame):\n",
    "    mit_mmss=frame.copy()\n",
    "    lev=mit_mmss.columns.get_level_values(1)\n",
    "    mit_mmss.iloc[:,(lev == 'avht') | (lev == 'avtt') | (lev == 'avacw')] = mit_mmss.iloc[:,(lev == 'avht') | (lev == 'avtt') | (lev == 'avacw')].applymap(decminutes_to_mmss)\n",
    "    return mit_mmss\n",
    "#frame_dezimalzeiten_zu_mmss(mit_summe_sortiert)"
   ]
  },
  {
   "cell_type": "markdown",
   "metadata": {},
   "source": [
    "## Daten und Dataframe"
   ]
  },
  {
   "cell_type": "code",
   "execution_count": 4,
   "metadata": {
    "collapsed": true
   },
   "outputs": [],
   "source": [
    "big_frame=pd.read_pickle(pklpth)  # wo kommt der pickle her und wie generiere ich einen aktualisierten? -> Datensammler.py\n",
    "big_frame['calweeks']=big_frame.index.strftime('%Y-%V')"
   ]
  },
  {
   "cell_type": "code",
   "execution_count": 5,
   "metadata": {
    "collapsed": true
   },
   "outputs": [],
   "source": [
    "sumfunx={'an':'sum','be':'sum','vl':'sum','ht_float':'sum','tt_float':'sum'}\n",
    "colorder=['an','be','vl','tt_float','ht_float']\n",
    "\n",
    "gruppiert=big_frame.groupby([pd.Grouper('calweeks'), pd.Grouper('agent'), pd.Grouper('ort'), pd.Grouper('bz')]).agg(sumfunx)\n",
    "gruppiert = gruppiert.unstack('bz').fillna(0).stack('bz') # fehlene Bearbeitungseiten mit 0 auffüllen\n",
    "k_n = gruppiert.sum(level=['calweeks','agent','ort']) # einen Zwischenframe erstellen, der nur die Kern- und Nebenzeit summiert\n",
    "\n",
    "mit_gesamt_bz=gruppiert.append(k_n.assign(bz='g').set_index('bz', append=True)).sort_index() # die Summe dem alten Frame beigeben\n",
    "\n",
    "# https://stackoverflow.com/questions/17287933/filling-in-date-gaps-in-multiindex-pandas-dataframe\n",
    "# https://stackoverflow.com/questions/20110170/turn-pandas-multi-index-into-column\n",
    "# https://stackoverflow.com/questions/45856724/how-to-get-sub-total-according-to-index-level-in-multi-index-pandas-dataframe"
   ]
  },
  {
   "cell_type": "code",
   "execution_count": 6,
   "metadata": {
    "collapsed": true
   },
   "outputs": [],
   "source": [
    "## Summe für jede Woche als Agent \"SUM\" hinzufügen\n",
    "\n",
    "summenzeile=mit_gesamt_bz.sum(level=['calweeks','bz']) # Zwischenframe, der die Summe für jede Woche beinhaltet\n",
    "sume=summenzeile.assign(agent='SUM',ort='N').set_index(['agent','ort'], append=True).reorder_levels(['calweeks','agent','ort','bz'], axis=0)\n",
    "mit_summe=mit_gesamt_bz.append(sume).sort_index() # Summe wird eingefuegt und mit Name und 'Ort' versehen"
   ]
  },
  {
   "cell_type": "code",
   "execution_count": 7,
   "metadata": {
    "collapsed": true
   },
   "outputs": [],
   "source": [
    "mit_durchschnitt=add_averages(mit_summe)"
   ]
  },
  {
   "cell_type": "code",
   "execution_count": 8,
   "metadata": {
    "collapsed": true
   },
   "outputs": [],
   "source": [
    "mit_durchschnitt=mit_durchschnitt.swaplevel(0,1,1).sort_index(1) # Angeordnet nach Bearbeitungszeit -> Anrufdaten\n",
    "mit_durchschnitt.columns.names=['bz','daten'] # Namen fuer die Spalten-Indexlevels vergeben\n",
    "# https://stackoverflow.com/questions/40411300/swapping-ordering-multi-index-columns-in-pandas"
   ]
  },
  {
   "cell_type": "code",
   "execution_count": 9,
   "metadata": {
    "collapsed": true
   },
   "outputs": [],
   "source": [
    "l0_order=['g','k','n']                        \n",
    "l1_order=['an','be','vl','avht','avtt','avacw']\n",
    "\n",
    "mit_durchschnitt=mit_durchschnitt.reindex_axis(l0_order, axis=1, level=0).reindex_axis(l1_order, axis=1, level=1)   # Reihenfolge der MultiindexSpalten"
   ]
  },
  {
   "cell_type": "code",
   "execution_count": 10,
   "metadata": {
    "collapsed": true
   },
   "outputs": [],
   "source": [
    "# Sortieren nach Kalenderwoche und innerhalb derer nach Anzahl angenommener Calls\n",
    "mit_durchschnitt=mit_durchschnitt.sort_values(('g','an'), ascending=False).sort_index(level='calweeks', sort_remaining=False)\n",
    "#mit_durchschnitt.head(15)\n",
    "# https://stackoverflow.com/questions/43472125/sort-pandas-dataframe-with-multiindex-according-to-column-value"
   ]
  },
  {
   "cell_type": "markdown",
   "metadata": {},
   "source": [
    "#### mit_durchschnitt = selbes Format wie Exceltabelle"
   ]
  },
  {
   "cell_type": "markdown",
   "metadata": {},
   "source": [
    "## Styles und Plots"
   ]
  },
  {
   "cell_type": "code",
   "execution_count": 11,
   "metadata": {
    "collapsed": true
   },
   "outputs": [],
   "source": [
    "#def cfun(x):\n",
    "#    #print(type(x), end=' ')\n",
    "#    #print(x.name)\n",
    "#    if x.name[0] == 'ttl':\n",
    "#        return ['background-color: blue']\n",
    "#    elif x.name[0] == 'k':\n",
    "#        return ['background-color: red']\n",
    "#    elif x.name[0] == 'n':\n",
    "#        return ['background-color: yellow']\n",
    "#    else:\n",
    "#        return['']\n",
    "#def dfun(x):\n",
    "#    is_sum = x.index.get_level_values('agent') == 'SUMME'\n",
    "#    return ['color: red' if v else '' for v in is_sum]\n",
    "\n",
    "\n",
    "#colored=mit_mmss.style.apply(cfun).apply(dfun)#.format(styledict)"
   ]
  },
  {
   "cell_type": "code",
   "execution_count": null,
   "metadata": {
    "collapsed": true
   },
   "outputs": [],
   "source": []
  },
  {
   "cell_type": "code",
   "execution_count": null,
   "metadata": {
    "collapsed": true
   },
   "outputs": [],
   "source": []
  },
  {
   "cell_type": "code",
   "execution_count": null,
   "metadata": {
    "collapsed": true
   },
   "outputs": [],
   "source": []
  },
  {
   "cell_type": "code",
   "execution_count": 12,
   "metadata": {
    "collapsed": true
   },
   "outputs": [],
   "source": [
    "styledict={('g','avht'):'{:.2f}',('g','avtt'):'{:.2f}',('g','avacw'):'{:.2f}',\\\n",
    "                                     ('k','avht'):'{:.2f}',('k','avtt'):'{:.2f}',('k','avacw'):'{:.2f}',\\\n",
    "                                     ('n','avht'):'{:.2f}',('n','avtt'):'{:.2f}',('n','avacw'):'{:.2f}',}"
   ]
  }
 ],
 "metadata": {
  "kernelspec": {
   "display_name": "Python 3",
   "language": "python",
   "name": "python3"
  },
  "language_info": {
   "codemirror_mode": {
    "name": "ipython",
    "version": 3
   },
   "file_extension": ".py",
   "mimetype": "text/x-python",
   "name": "python",
   "nbconvert_exporter": "python",
   "pygments_lexer": "ipython3",
   "version": "3.4.8"
  }
 },
 "nbformat": 4,
 "nbformat_minor": 2
}
