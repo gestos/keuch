{
 "cells": [
  {
   "cell_type": "code",
   "execution_count": 14,
   "metadata": {},
   "outputs": [
    {
     "name": "stdout",
     "output_type": "stream",
     "text": [
      "The autoreload extension is already loaded. To reload it, use:\n",
      "  %reload_ext autoreload\n"
     ]
    }
   ],
   "source": [
    "%load_ext autoreload\n",
    "%autoreload 2\n",
    "\n",
    "## Import necessary modules\n",
    "import os,sys\n",
    "import pandas as pd\n",
    "import pickle\n",
    "import matplotlib.pyplot as plt\n",
    "from matplotlib.dates import date2num, AutoDateFormatter, AutoDateLocator, WeekdayLocator, MonthLocator, DayLocator, DateLocator, DateFormatter\n",
    "from matplotlib.dates import MO, TU, WE, TH, FR, SA, SU\n",
    "from matplotlib.ticker import AutoMinorLocator, AutoLocator, FormatStrFormatter, ScalarFormatter\n",
    "import numpy as np\n",
    "import datetime, calendar\n",
    "from datetime import timedelta\n",
    "import matplotlib.patches as mpatches\n",
    "from itertools import tee\n",
    "from traitlets import traitlets\n",
    "\n",
    "sys.path.append(os.path.abspath('/home/keuch/gits/keuch/code_box/pyt/spreadsheetparsing/entwuerfe/xls_testruns/lib/'))\n",
    "from ce_funclib import determine_kernzeit as dtkz\n",
    "from ce_funclib import continuity_check\n",
    "\n",
    "\n",
    "from ipywidgets import widgets, interact, interactive, fixed, interact_manual, Layout\n",
    "from IPython.display import display\n",
    "#%matplotlib inline\n",
    "%matplotlib tk"
   ]
  },
  {
   "cell_type": "markdown",
   "metadata": {},
   "source": [
    "## Deklarationen"
   ]
  },
  {
   "cell_type": "code",
   "execution_count": 21,
   "metadata": {
    "collapsed": true
   },
   "outputs": [],
   "source": [
    "## Lese-Verzeichnis, in dem die Agenten-Reports liegen\n",
    "arcpth='/home/keuch/gits/keuch/code_box/pyt/spreadsheetparsing/datenhalde/alle_agents_taeglich/'\n",
    "## Schreib-Verzeichnis, in das der gesammelte pickle abgelegt werden soll\n",
    "pklpth='/home/keuch/gits/keuch/code_box/pyt/spreadsheetparsing/datenhalde/datapickles/'\n",
    "heute=datetime.date.today().strftime('%Y-%m-%d')"
   ]
  },
  {
   "cell_type": "markdown",
   "metadata": {},
   "source": [
    "## Funktionen"
   ]
  },
  {
   "cell_type": "code",
   "execution_count": 15,
   "metadata": {
    "collapsed": true
   },
   "outputs": [],
   "source": [
    "######## GET A LIST OF MATCHING .xls FILES FROM THE GIVEN DIRECTORY\n",
    "def collectxlfiles(arcpath):\n",
    "    xlfilelist=list()\n",
    "\n",
    "    for xlfile in os.listdir(arcpath):\n",
    "        if xlfile.startswith('CE_alle_Ag'):\n",
    "            xlfileabs=os.path.join(arcpath,xlfile)\n",
    "            xlfilelist.append(xlfileabs)\n",
    "    return sorted(xlfilelist)"
   ]
  },
  {
   "cell_type": "code",
   "execution_count": 16,
   "metadata": {
    "collapsed": true
   },
   "outputs": [],
   "source": [
    "def makeniceframe(ixframe):        ## funktion nimmt einen mit daten befüllten frame und bringt ihn in eine vernünftige form\n",
    "    \n",
    "    exframe=ixframe.copy()\n",
    "    \n",
    "    exframe.columns=range(0,30) # rename columns to a temporarily more readable format, fancy rename later\n",
    "    usefulcols={0:'tstamp',1:'agent',3:'an',4:'be',22:'vl',24:'ht_float',29:'tt_float'} # map cols to decent names\n",
    "    exframe=exframe[sorted(usefulcols.keys())] # skip cols and keep the ones we need\n",
    "    exframe.rename(columns=usefulcols,inplace=True) # rename cols\n",
    "    exframe=exframe[3:-1] # strip text rows and the mangled sum row\n",
    "    exframe['tstamp']=pd.to_datetime(exframe['tstamp'],format=' %d.%m.%Y %H:%M ')\n",
    "    exframe['date']=exframe['tstamp'].dt.date\n",
    "    exframe[['wd','ww','mm','yy']]=exframe['tstamp'].dt.strftime('%a,%W,%m,%Y').str.split(',',expand=True) # make ww,yy,mm,wd columns\n",
    "    exframe['bz']=exframe['tstamp'].apply(dtkz)\n",
    "\n",
    "    exframe['ort']=exframe['agent'].str[0] # split the identifier into useable columns\n",
    "    exframe['id']=exframe['agent'].str[-6:] # split the identifier into useable columns\n",
    "    exframe['agent']=exframe['agent'].str[2:-7] # split the identifier into useable columns\n",
    "    \n",
    "    #### trying unification while parse\n",
    "    unify_id={'gesinst':'995887','stanzju':'878457','papkeda':'891914'}\n",
    "    exframe.loc[exframe['id'] == unify_id['gesinst'],'agent'] = 'gesinst'\n",
    "    exframe.loc[exframe['id'] == unify_id['stanzju'],'agent'] = 'stanzju'\n",
    "    exframe.loc[exframe['id'] == unify_id['papkeda'],'agent'] = 'papkeda'\n",
    "    \n",
    "    # integers should be of appropriate datatype, we received them as strings\n",
    "    exframe[['vl','an','be','ww','mm','yy']]=exframe[['vl','an','be','ww','mm','yy']].astype(np.int64) #just for the beauty of it\n",
    "    \n",
    "    return exframe"
   ]
  },
  {
   "cell_type": "code",
   "execution_count": 18,
   "metadata": {
    "collapsed": true
   },
   "outputs": [],
   "source": [
    "def parse_filelist_to_dataframe(liste):\n",
    "    \n",
    "    liste_leerer_tage=list()    \n",
    "    bigframe=pd.DataFrame()\n",
    "    \n",
    "    for datei in liste:\n",
    "        readframe=pd.read_excel(datei)\n",
    "\n",
    "        if len(readframe.columns) == 3:           # Dateien mit nur 3 Spalten enthalten keine Call-Daten\n",
    "            print('empty ', end='')\n",
    "            liste_leerer_tage.append(datei)\n",
    "        \n",
    "        elif len(readframe.columns) == 30:\n",
    "            print('. ', end='')\n",
    "            niceframe=makeniceframe(readframe)\n",
    "            bigframe=bigframe.append(niceframe)\n",
    "            \n",
    "        else:\n",
    "            print('Datei zum Nachgucken, hat weder 3 noch 30 Spalten')\n",
    "\n",
    "    bigframe.sort_values(by='tstamp', inplace=True) # ganzen frame nach Uhrzeiten sortieren\n",
    "    bigframe.set_index('tstamp',inplace=True) # timestamp als neuer Index\n",
    "    \n",
    "    return bigframe,liste_leerer_tage"
   ]
  },
  {
   "cell_type": "markdown",
   "metadata": {},
   "source": [
    "## Filescraping und Roh-Dataframe"
   ]
  },
  {
   "cell_type": "code",
   "execution_count": 19,
   "metadata": {},
   "outputs": [
    {
     "name": "stdout",
     "output_type": "stream",
     "text": [
      ". . . . . . . . . . . . . . . . . . . . . . . . . . . . . . . . . . . . . . . . . . . . empty . . . . . . . . . . . . . . . . . . . . . . . . . . empty . . . . . . . . . . . . . . . . . . . . . . . . . . . . . . . . . . . . . . . . . . . . . . . . . . . . . . . . . . . . . . . . . . . . . . . . . . . . . . . . . . . . . . . . . . . . . . . . . . . . . . . . . . . . . . . . . . . . . . . . . . . . . . . . . . . . . . . . . . . . . . . . . . . . . . . . . . . . . . . . . . . . . . . . . . . . . . . . . . . . . . . . . . . . empty . . . . . . . . . . . . . empty . . . . . . empty . . . . . . . . . . . . . . . . . . . . . . . . . . . . . . . . . . . . . . . . . . . . . . . . . . . . . . . . . . . . . . . . . . . . . . . . . . . . . . . . . . . empty . . . . . . empty . . . . . . . . . . . . . . . . . . . . . . . . . . . empty . . . . . . . . "
     ]
    }
   ],
   "source": [
    "xlfilelist=collectxlfiles(arcpth)\n",
    "big_frame,leeretage=parse_filelist_to_dataframe(xlfilelist)"
   ]
  },
  {
   "cell_type": "code",
   "execution_count": 20,
   "metadata": {},
   "outputs": [],
   "source": [
    "big_frame.to_pickle(pklpth+'Rohdaten_Agenten-'+heute+'.pkl')\n",
    "big_frame.to_pickle(pklpth+'Rohdaten_Agenten_aktuell.pkl')\n",
    "with open(pklpth+'Rohdaten_Agenten_Leertage'+heute, 'wb') as f:\n",
    "    pickle.dump(leeretage, f)"
   ]
  },
  {
   "cell_type": "code",
   "execution_count": null,
   "metadata": {
    "collapsed": true
   },
   "outputs": [],
   "source": []
  },
  {
   "cell_type": "code",
   "execution_count": null,
   "metadata": {
    "collapsed": true
   },
   "outputs": [],
   "source": []
  },
  {
   "cell_type": "code",
   "execution_count": null,
   "metadata": {
    "collapsed": true
   },
   "outputs": [],
   "source": []
  }
 ],
 "metadata": {
  "kernelspec": {
   "display_name": "Python 3",
   "language": "python",
   "name": "python3"
  },
  "language_info": {
   "codemirror_mode": {
    "name": "ipython",
    "version": 3
   },
   "file_extension": ".py",
   "mimetype": "text/x-python",
   "name": "python",
   "nbconvert_exporter": "python",
   "pygments_lexer": "ipython3",
   "version": "3.4.8"
  }
 },
 "nbformat": 4,
 "nbformat_minor": 2
}
