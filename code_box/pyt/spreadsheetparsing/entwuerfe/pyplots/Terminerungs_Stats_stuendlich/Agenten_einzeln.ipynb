{
 "cells": [
  {
   "cell_type": "code",
   "execution_count": 112,
   "metadata": {},
   "outputs": [
    {
     "name": "stdout",
     "output_type": "stream",
     "text": [
      "The autoreload extension is already loaded. To reload it, use:\n",
      "  %reload_ext autoreload\n"
     ]
    }
   ],
   "source": [
    "%load_ext autoreload\n",
    "%autoreload 2\n",
    "\n",
    "## Import necessary modules\n",
    "import os,sys\n",
    "import pandas as pd\n",
    "import pickle\n",
    "import matplotlib.pyplot as plt\n",
    "from matplotlib.dates import date2num, AutoDateFormatter, AutoDateLocator, WeekdayLocator, MonthLocator, DayLocator, DateLocator, DateFormatter\n",
    "from matplotlib.dates import MO, TU, WE, TH, FR, SA, SU\n",
    "from matplotlib.ticker import AutoMinorLocator, AutoLocator, MultipleLocator, FormatStrFormatter, ScalarFormatter, FuncFormatter\n",
    "import numpy as np\n",
    "import datetime, calendar\n",
    "from datetime import timedelta\n",
    "import matplotlib.patches as mpatches\n",
    "from itertools import tee\n",
    "from traitlets import traitlets\n",
    "import matplotlib.gridspec as gridspec\n",
    "\n",
    "sys.path.append(os.path.abspath('/home/keuch/gits/keuch/code_box/pyt/spreadsheetparsing/entwuerfe/pyplots/lib/'))\n",
    "from ce_funclib import determine_kernzeit as dtkz\n",
    "from ce_funclib import continuity_check, decminutes_to_mmss as dec2min\n",
    "\n",
    "from ipywidgets import widgets, interact, interactive, fixed, interact_manual, Layout\n",
    "from IPython.display import display\n",
    "\n",
    "%matplotlib tk\n",
    "\n",
    "## Import data frome pickle generated from muß ein file mit agentenstats sein, wird generiert von Datensammler_Agenten.ipynb\n",
    "pklpth='/home/keuch/gits/keuch/code_box/pyt/spreadsheetparsing/datenhalde/datapickles/Rohdaten_Agenten_aktuell.pkl'"
   ]
  },
  {
   "cell_type": "markdown",
   "metadata": {},
   "source": [
    "## Funktionen"
   ]
  },
  {
   "cell_type": "code",
   "execution_count": 113,
   "metadata": {
    "collapsed": true
   },
   "outputs": [],
   "source": [
    "def add_averages(frame):\n",
    "\n",
    "    frame['avtt']=frame['tt_float']/frame['be']\n",
    "    frame['avht']=frame['ht_float']/frame['be']\n",
    "    frame['avacw']=frame['acw_float']/frame['be']\n",
    "    \n",
    "    colorder_with_abs=['an','be','vl','avht','avtt','avacw','ht_float','tt_float','acw_float']\n",
    "    frame_with_abs=frame[colorder_with_abs]\n",
    "    \n",
    "    #colorder_av_only=['an','be','vl','avht','avtt','avacw']\n",
    "    #frame_only_av=frame[colorder_av_only].fillna(0).unstack('bz')  # die Bearbeitungszeit soll hoch in die Spalten\n",
    "    \n",
    "    return frame_with_abs.fillna(0)"
   ]
  },
  {
   "cell_type": "markdown",
   "metadata": {},
   "source": [
    "## Daten und Dataframe"
   ]
  },
  {
   "cell_type": "code",
   "execution_count": 114,
   "metadata": {
    "collapsed": true
   },
   "outputs": [],
   "source": [
    "big_frame=pd.read_pickle(pklpth)  # wo kommt der pickle her und wie generiere ich einen aktualisierten? -> Datensammler.py\n",
    "big_frame[['ht_float','tt_float']]=big_frame[['ht_float','tt_float']].apply(pd.to_numeric)\n",
    "big_frame['acw_float']=big_frame['ht_float']-big_frame['tt_float']\n",
    "big_frame['calweeks']=big_frame.index.strftime('%Y-%V')"
   ]
  },
  {
   "cell_type": "code",
   "execution_count": null,
   "metadata": {
    "collapsed": true
   },
   "outputs": [],
   "source": []
  },
  {
   "cell_type": "code",
   "execution_count": 125,
   "metadata": {
    "collapsed": true
   },
   "outputs": [],
   "source": [
    "## Zeitraum für den plot wählen und filtern\n",
    "von_bis=(datetime.date(2018,1,1),datetime.date(2018,4,19))\n",
    "zeitraum=big_frame.loc[(big_frame.index.date >= von_bis[0]) & (big_frame.index.date <= von_bis[1])].copy()"
   ]
  },
  {
   "cell_type": "code",
   "execution_count": 126,
   "metadata": {
    "collapsed": true
   },
   "outputs": [],
   "source": [
    "zeitraum=zeitraum.groupby([pd.Grouper('agent'),pd.Grouper('bz')]).sum().unstack('bz',fill_value=0).stack('bz')\n",
    "g = zeitraum.sum(level=['agent']) # einen Zwischenframe erstellen, der nur die Kern- und Nebenzeit summiert\n",
    "zeitraum=zeitraum.append(g.assign(bz='g').set_index('bz', append=True)).sort_index() # die Summe dem alten Frame beigeben"
   ]
  },
  {
   "cell_type": "code",
   "execution_count": 127,
   "metadata": {
    "collapsed": true
   },
   "outputs": [],
   "source": [
    "zeitraum=add_averages(zeitraum)"
   ]
  },
  {
   "cell_type": "code",
   "execution_count": 128,
   "metadata": {
    "collapsed": true
   },
   "outputs": [],
   "source": [
    "zindex=zeitraum.xs('g',level='bz').sort_values('avht').index   # nur gesamtzeit sortiert nach angenommenen, davon der index\n",
    "zeitraum=zeitraum.reindex(zindex,level=0) # frame danach sortiert"
   ]
  },
  {
   "cell_type": "code",
   "execution_count": 133,
   "metadata": {},
   "outputs": [],
   "source": [
    "def agentplot(frame,vonbis):\n",
    "    \n",
    "    gcol,lostcol,verbcol,ncol,kcol,ncol2=\"#777777\",\"#AC003A\",\"#008EC4\",\"#000000\",\"#4F7DFF\",'#424242'\n",
    "    \n",
    "    fig = plt.figure(figsize=(10,7))\n",
    "    ax1 = plt.subplot2grid((1, 3), (0, 1), colspan=2)\n",
    "    ax2 = plt.subplot2grid((1, 3), (0, 0), colspan=1)\n",
    "    \n",
    "    d_ix=frame.index.get_level_values(0).unique()\n",
    "    agents_ticks=range(len(d_ix))\n",
    "    \n",
    "    ####################################################\n",
    "    ### subplot für die Zeiten\n",
    "    \n",
    "    ## y-ticks nach Agenten\n",
    "    ax1.set_yticks(agents_ticks)\n",
    "    ax1.set_yticklabels(d_ix)\n",
    "            \n",
    "    ## locators und formatters für die rechte x-achse\n",
    "    ax1.xaxis.set_major_locator(MultipleLocator(1))\n",
    "    ax1.xaxis.set_minor_locator(AutoMinorLocator(2))\n",
    "    ax1.xaxis.set_major_formatter(FuncFormatter(dec2min))\n",
    "    ax1.xaxis.set_minor_formatter(FuncFormatter(dec2min))    # Die Dezimalzahlen der Y-Achse sollen labels im MM:SS Format erhalten\n",
    "    \n",
    "    for label in ax1.get_xticklabels(which='both'):          # lösung mit loop scheint am einfachsten zu sein...\n",
    "        label.set_rotation(75) \n",
    "    for label in ax1.get_xticklabels(which='major'):\n",
    "        label.set_fontsize(7)\n",
    "    for label in ax1.get_xticklabels(which='minor'):\n",
    "        label.set_fontsize(6)\n",
    "    \n",
    "    ## Hilfslinien\n",
    "    ax1.grid(which='major', axis='x', linestyle='-', zorder=0, alpha=0.5)\n",
    "    ax1.grid(which='minor', axis='x', linestyle='--', zorder=0, alpha=0.5)\n",
    "    ax1.set_axisbelow(True)\n",
    "    \n",
    "    ## linien für median und mittel\n",
    "    mediht=frame.xs('g', level='bz')['avht'].median()\n",
    "    meanht=frame.xs('g', level='bz')['avht'].mean()\n",
    "    medi_line=ax1.axvline(x=mediht,color='#FF7B00',linewidth=1,label=str(dec2min(mediht))+' mittel gesamt',zorder=0)\n",
    "    mean_line=ax1.axvline(x=meanht,color='#FF0000',linewidth=1,label=str(dec2min(meanht))+' median gesamt',zorder=0)\n",
    "    \n",
    "    ## barchart für die Durchschnittszeiten\n",
    "    g_aht=frame.xs('g', level='bz')['avht'].values\n",
    "    g_att=frame.xs('g', level='bz')['avtt'].values\n",
    "    g_aacw=frame.xs('g', level='bz')['avacw'].values\n",
    "\n",
    "    bar_aht=ax1.barh(agents_ticks,g_aht,color=gcol,height=0.8,label='gesamt_aht')\n",
    "    bar_att=ax1.barh(agents_ticks,g_att,color=verbcol,height=0.4,label='gesamt_att')\n",
    "    bar_aacw=ax1.barh(agents_ticks,g_aacw,color=lostcol,left=g_att,height=0.4,label='gesamt_aacw')\n",
    "       \n",
    "    #####################################################\n",
    "    ### subplot für die zahl der calls\n",
    "    summe_calls_gesamt=frame.xs('g', level='bz')['an'].sum()\n",
    "    \n",
    "    ## Y-Achse wie im ersten subplot, aber alles auf der rechten Seite und ohne labels\n",
    "    ax2.set_yticks(ax1.get_yticks())\n",
    "    ax2.set_ylim(ax1.get_ylim())\n",
    "    ax2.yaxis.tick_right()\n",
    "    ax2.tick_params(axis='y',which='both',labelright=False)\n",
    "    \n",
    "    ## locators und formatters für die X-Achse\n",
    "    ax2.xaxis.set_major_locator(AutoLocator())\n",
    "    ax2.xaxis.set_minor_locator(AutoMinorLocator())\n",
    "    ax2.xaxis.set_minor_formatter(FormatStrFormatter(\"%d\"))\n",
    "    for label in ax2.get_xticklabels(which='both'):          # lösung mit loop scheint am einfachsten zu sein...\n",
    "        label.set_rotation(90) \n",
    "    for label in ax2.get_xticklabels(which='major'):\n",
    "        label.set_fontsize(7)\n",
    "        label.set_fontweight('bold')\n",
    "    for label in ax2.get_xticklabels(which='minor'):\n",
    "        label.set_fontsize(6)\n",
    "\n",
    "    \n",
    "    ## barchart für angenommene calls\n",
    "    g_calls = frame.xs('g', level='bz')['an'].values\n",
    "    k_calls = frame.xs('k', level='bz')['an'].values\n",
    "    n_calls = frame.xs('n', level='bz')['an'].values\n",
    "    bar_g=ax2.barh(agents_ticks,g_calls,color=gcol,height=0.4,label='anzahl calls gesamt')\n",
    "    bar_k=ax2.barh(agents_ticks,k_calls,color=verbcol,height=0.15,label='anzahl calls kern')\n",
    "    bar_n=ax2.barh(agents_ticks,n_calls,color=lostcol,left=k_calls,height=0.15,label='anzahl calls neben')\n",
    "    \n",
    "    ## X-Achse soll hier von rechts nach links gehen\n",
    "    x2=ax2.get_xlim()    # normale x-achse\n",
    "    x2_rev=(x2[1],x2[0]) # koordinaten umgedreht\n",
    "    ax2.set_xlim(x2_rev) # und als neue achse gesetzt\n",
    "    \n",
    "    ## Hilfslinien\n",
    "    ax2.grid(which='major', axis='x', linestyle='-', zorder=0, alpha=1)\n",
    "    ax2.grid(which='minor', axis='x', linestyle='--', zorder=0, alpha=0.5)\n",
    "    ax2.set_axisbelow(True)\n",
    "    \n",
    "    ## Summe der Calls in ein Eck\n",
    "    ax2.text(0.5, 0.005, 'Summe: '+str(summe_calls_gesamt), transform = ax2.transAxes, color=\"black\", fontsize='10',horizontalalignment='center')\n",
    "    #fig.tight_layout()\n",
    "    \n",
    "    \n",
    "    #####################################################\n",
    "    ## Einstellungen, die die ganze fig betreffen\n",
    "    \n",
    "    ## Abstand der Plots zueinander\n",
    "    plt.subplots_adjust(wspace=0.4)\n",
    "    \n",
    "    ## Titel für die beiden Subplots jeweils nach oben\n",
    "    ax1.set_xlabel('Minuten')\n",
    "    ax1.xaxis.set_label_coords(0.5,1.05)\n",
    "    ax2.set_xlabel('Calls')\n",
    "    ax2.xaxis.set_label_coords(0.5,1.05)\n",
    "    \n",
    "    titel='Aufschlüsselung nach Agent für den Zeitraum '+vonbis[0].strftime('%D')+' bis '+von_bis[1].strftime('%D')\n",
    "    fig.suptitle(titel,fontsize=9)\n",
    "    \n",
    "    ## Legende\n",
    "    handles, labels = ax1.get_legend_handles_labels()\n",
    "    labels[0],labels[1],labels[2],labels[3],labels[4]=('mittel (ht)','median (ht)','Calls gesamt / HT','Calls Kernzeit / TT', 'Calls Nebenzeit / ACW')\n",
    "    order=[2,3,4,0,1]; labels=[labels[x] for x in order]; handles=[handles[x] for x in order]\n",
    "    \n",
    "    fig.legend(handles,labels,loc='lower right', fontsize=7, bbox_to_anchor=(0.9,0.15),ncol=1)\n",
    "    fig.set_facecolor('#000000')"
   ]
  },
  {
   "cell_type": "code",
   "execution_count": 134,
   "metadata": {},
   "outputs": [],
   "source": [
    "agentplot(zeitraum,von_bis)"
   ]
  },
  {
   "cell_type": "code",
   "execution_count": null,
   "metadata": {},
   "outputs": [],
   "source": []
  },
  {
   "cell_type": "code",
   "execution_count": null,
   "metadata": {
    "collapsed": true
   },
   "outputs": [],
   "source": []
  }
 ],
 "metadata": {
  "kernelspec": {
   "display_name": "Python 3",
   "language": "python",
   "name": "python3"
  },
  "language_info": {
   "codemirror_mode": {
    "name": "ipython",
    "version": 3
   },
   "file_extension": ".py",
   "mimetype": "text/x-python",
   "name": "python",
   "nbconvert_exporter": "python",
   "pygments_lexer": "ipython3",
   "version": "3.4.5"
  }
 },
 "nbformat": 4,
 "nbformat_minor": 2
}
