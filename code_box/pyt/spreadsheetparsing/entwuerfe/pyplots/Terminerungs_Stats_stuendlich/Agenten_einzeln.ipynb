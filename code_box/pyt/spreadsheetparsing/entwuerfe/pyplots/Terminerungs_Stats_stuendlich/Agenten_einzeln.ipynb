{
 "cells": [
  {
   "cell_type": "code",
   "execution_count": 114,
   "metadata": {},
   "outputs": [
    {
     "name": "stdout",
     "output_type": "stream",
     "text": [
      "The autoreload extension is already loaded. To reload it, use:\n",
      "  %reload_ext autoreload\n"
     ]
    }
   ],
   "source": [
    "%load_ext autoreload\n",
    "%autoreload 2\n",
    "\n",
    "## Import necessary modules\n",
    "import os,sys\n",
    "import pandas as pd\n",
    "import pickle\n",
    "import matplotlib.pyplot as plt\n",
    "from matplotlib.dates import date2num, AutoDateFormatter, AutoDateLocator, WeekdayLocator, MonthLocator, DayLocator, DateLocator, DateFormatter\n",
    "from matplotlib.dates import MO, TU, WE, TH, FR, SA, SU\n",
    "from matplotlib.ticker import AutoMinorLocator, AutoLocator, MultipleLocator, FormatStrFormatter, ScalarFormatter, FuncFormatter\n",
    "import numpy as np\n",
    "import datetime, calendar\n",
    "from datetime import timedelta\n",
    "import matplotlib.patches as mpatches\n",
    "from itertools import tee\n",
    "from traitlets import traitlets\n",
    "import matplotlib.gridspec as gridspec\n",
    "\n",
    "sys.path.append(os.path.abspath('/home/keuch/gits/keuch/code_box/pyt/spreadsheetparsing/entwuerfe/pyplots/lib/'))\n",
    "from ce_funclib import determine_kernzeit as dtkz\n",
    "from ce_funclib import continuity_check, decminutes_to_mmss as dec2min\n",
    "\n",
    "from ipywidgets import widgets, interact, interactive, fixed, interact_manual, Layout\n",
    "from IPython.display import display\n",
    "\n",
    "%matplotlib tk\n",
    "\n",
    "## Import data frome pickle generated from muß ein file mit agentenstats sein, wird generiert von Datensammler_Agenten.ipynb\n",
    "pklpth='/home/keuch/gits/keuch/code_box/pyt/spreadsheetparsing/datenhalde/datapickles/Rohdaten_Agenten_aktuell.pkl'"
   ]
  },
  {
   "cell_type": "markdown",
   "metadata": {},
   "source": [
    "## Funktionen"
   ]
  },
  {
   "cell_type": "code",
   "execution_count": 115,
   "metadata": {
    "collapsed": true
   },
   "outputs": [],
   "source": [
    "def add_averages(frame):\n",
    "\n",
    "    frame['avtt']=frame['tt_float']/frame['be']\n",
    "    frame['avht']=frame['ht_float']/frame['be']\n",
    "    frame['avacw']=frame['acw_float']/frame['be']\n",
    "    \n",
    "    colorder_with_abs=['an','be','vl','avht','avtt','avacw','ht_float','tt_float','acw_float']\n",
    "    frame_with_abs=frame[colorder_with_abs]\n",
    "    \n",
    "    #colorder_av_only=['an','be','vl','avht','avtt','avacw']\n",
    "    #frame_only_av=frame[colorder_av_only].fillna(0).unstack('bz')  # die Bearbeitungszeit soll hoch in die Spalten\n",
    "    \n",
    "    return frame_with_abs.fillna(0)"
   ]
  },
  {
   "cell_type": "code",
   "execution_count": 203,
   "metadata": {
    "collapsed": true
   },
   "outputs": [],
   "source": [
    "def prepare_plotframe(frame,von_bis):\n",
    "    zeitraum_roh=frame.loc[(frame.index.date >= von_bis[0]) & (frame.index.date <= von_bis[1])].copy()\n",
    "    von_bis_real=(zeitraum_roh.index.date.min(),zeitraum_roh.index.date.max())\n",
    "\n",
    "    zeitraum_grp=zeitraum_roh.groupby([pd.Grouper('agent'),pd.Grouper('bz')]).sum().unstack('bz',fill_value=0).stack('bz')\n",
    "    g = zeitraum_grp.sum(level=['agent']) # einen Zwischenframe erstellen, der nur die Kern- und Nebenzeit summiert\n",
    "    zeitraum_grp=zeitraum_grp.append(g.assign(bz='g').set_index('bz', append=True)).sort_index() # die Summe dem alten Frame beigeben\n",
    "\n",
    "    zeitraum_grp_plusavs=add_averages(zeitraum_grp)\n",
    "\n",
    "    zindex=zeitraum_grp_plusavs.xs('g',level='bz').sort_values('avht').index   # nur gesamtzeit sortiert nach angenommenen, davon der index\n",
    "    zeitraum_grp_plusavs=zeitraum_grp_plusavs.reindex(zindex,level=0) # frame danach sortiert\n",
    "    \n",
    "    return zeitraum_grp_plusavs,von_bis_real"
   ]
  },
  {
   "cell_type": "markdown",
   "metadata": {},
   "source": [
    "### plot-funktionen"
   ]
  },
  {
   "cell_type": "code",
   "execution_count": 206,
   "metadata": {
    "collapsed": true
   },
   "outputs": [],
   "source": [
    "def agentplot(frame,vonbis):\n",
    "    \n",
    "    gcol,lostcol,verbcol,ncol,kcol,ncol2=\"#777777\",\"#AC003A\",\"#008EC4\",\"#000000\",\"#4F7DFF\",'#424242'\n",
    "    \n",
    "    fig = plt.figure(figsize=(10,7))\n",
    "    ax1 = plt.subplot2grid((1, 3), (0, 1), colspan=2)\n",
    "    ax2 = plt.subplot2grid((1, 3), (0, 0), colspan=1)\n",
    "    \n",
    "    d_ix=frame.index.get_level_values(0).unique()\n",
    "    agents_ticks=range(len(d_ix))\n",
    "    \n",
    "    ####################################################\n",
    "    ### subplot für die Zeiten\n",
    "    \n",
    "    ## y-ticks nach Agenten\n",
    "    ax1.set_yticks(agents_ticks)\n",
    "    ax1.set_yticklabels(d_ix)\n",
    "            \n",
    "    ## locators und formatters für die rechte x-achse\n",
    "    ax1.xaxis.set_major_locator(MultipleLocator(1))\n",
    "    ax1.xaxis.set_minor_locator(AutoMinorLocator(2))\n",
    "    ax1.xaxis.set_major_formatter(FuncFormatter(dec2min))\n",
    "    ax1.xaxis.set_minor_formatter(FuncFormatter(dec2min))    # Die Dezimalzahlen der Y-Achse sollen labels im MM:SS Format erhalten\n",
    "    \n",
    "    for label in ax1.get_xticklabels(which='both'):          # lösung mit loop scheint am einfachsten zu sein...\n",
    "        label.set_rotation(75) \n",
    "    for label in ax1.get_xticklabels(which='major'):\n",
    "        label.set_fontsize(7)\n",
    "        label.set_fontweight('bold')\n",
    "    for label in ax1.get_xticklabels(which='minor'):\n",
    "        label.set_fontsize(6)\n",
    "    \n",
    "    ## Hilfslinien\n",
    "    ax1.grid(which='major', axis='x', linestyle='-', zorder=0, alpha=0.5)\n",
    "    ax1.grid(which='minor', axis='x', linestyle='--', zorder=0, alpha=0.5)\n",
    "    ax1.set_axisbelow(True)\n",
    "    \n",
    "    ## linien für mittel (median ist sinnlos, weil die ausgangsdaten schon nach Stunde zusammengefasst sind)\n",
    "    meangcol,meankcol,meanncol = '#FF0000','#FBFF00','#42FF00'\n",
    "    meanht_g=frame.xs('g', level='bz')['ht_float'].sum()/frame.xs('g', level='bz')['be'].sum()\n",
    "    meanht_k=frame.xs('k', level='bz')['ht_float'].sum()/frame.xs('k', level='bz')['be'].sum()\n",
    "    meanht_n=frame.xs('n', level='bz')['ht_float'].sum()/frame.xs('n', level='bz')['be'].sum()\n",
    "    mean_line_g=ax1.axvline(x=meanht_g,color=meangcol,linewidth=1,label=str(dec2min(meanht_g))+' Ø-HT Kern+Neben Alle',zorder=0)\n",
    "    mean_line_k=ax1.axvline(x=meanht_k,color=meankcol,linewidth=1,label=str(dec2min(meanht_k))+' Ø-HT Kern Alle',zorder=0)\n",
    "    mean_line_n=ax1.axvline(x=meanht_n,color=meanncol,linewidth=1,label=str(dec2min(meanht_n))+' Ø-HT Neben Alle',zorder=0)\n",
    "    \n",
    "    ## barchart für die Durchschnittszeiten\n",
    "    g_aht=frame.xs('g', level='bz')['avht'].values\n",
    "    g_att=frame.xs('g', level='bz')['avtt'].values\n",
    "    g_aacw=frame.xs('g', level='bz')['avacw'].values\n",
    "\n",
    "    bar_aht=ax1.barh(agents_ticks,g_aht,color=gcol,height=0.8,label='gesamt_aht')\n",
    "    bar_att=ax1.barh(agents_ticks,g_att,color=verbcol,height=0.2,label='ATT Kern+Neben (Agent)')\n",
    "    bar_aacw=ax1.barh(agents_ticks,g_aacw,color=lostcol,left=g_att,height=0.2,label='AACW Kern+Neben (Agent)')\n",
    "       \n",
    "    #####################################################\n",
    "    ### subplot für die zahl der calls\n",
    "    summe_calls_gesamt=frame.xs('g', level='bz')['an'].sum()\n",
    "    \n",
    "    ## Y-Achse wie im ersten subplot, aber alles auf der rechten Seite und ohne labels\n",
    "    ax2.set_yticks(ax1.get_yticks())\n",
    "    ax2.set_ylim(ax1.get_ylim())\n",
    "    ax2.yaxis.tick_right()\n",
    "    ax2.tick_params(axis='y',which='both',labelright=False)\n",
    "    \n",
    "    ## locators und formatters für die X-Achse\n",
    "    ax2.xaxis.set_major_locator(AutoLocator())\n",
    "    ax2.xaxis.set_minor_locator(AutoMinorLocator())\n",
    "    ax2.xaxis.set_minor_formatter(FormatStrFormatter(\"%d\"))\n",
    "    for label in ax2.get_xticklabels(which='both'):          # lösung mit loop scheint am einfachsten zu sein...\n",
    "        label.set_rotation(75) \n",
    "    for label in ax2.get_xticklabels(which='major'):\n",
    "        label.set_fontsize(7)\n",
    "        label.set_fontweight('bold')\n",
    "    for label in ax2.get_xticklabels(which='minor'):\n",
    "        label.set_fontsize(6)\n",
    "\n",
    "    \n",
    "    ## barchart für angenommene calls\n",
    "    \n",
    "    kc_col,nc_col='#8D00CC','#51D5FF'\n",
    "    \n",
    "    g_calls = frame.xs('g', level='bz')['an'].values\n",
    "    k_calls = frame.xs('k', level='bz')['an'].values\n",
    "    n_calls = frame.xs('n', level='bz')['an'].values\n",
    "    bar_g=ax2.barh(agents_ticks,g_calls,color=gcol,height=0.8,label='calls gesamt')\n",
    "    bar_k=ax2.barh(agents_ticks,k_calls,color=kc_col,height=0.2,label='davon in Kernzeit')\n",
    "    bar_n=ax2.barh(agents_ticks,n_calls,color=nc_col,left=k_calls,height=0.2,label='davon in Nebenzeit')\n",
    "    \n",
    "    ## X-Achse soll hier von rechts nach links gehen\n",
    "    x2=ax2.get_xlim()    # normale x-achse\n",
    "    x2_rev=(x2[1]+15,x2[0]) # koordinaten umgedreht + 10 Einheiten Puffer zum Rand\n",
    "    ax2.set_xlim(x2_rev) # und als neue achse gesetzt\n",
    "    \n",
    "    ## Hilfslinien\n",
    "    ax2.grid(which='major', axis='x', linestyle='-', zorder=0, alpha=1)\n",
    "    ax2.grid(which='minor', axis='x', linestyle='--', zorder=0, alpha=0.5)\n",
    "    ax2.set_axisbelow(True)\n",
    "    \n",
    "    ## Summe der Calls in ein Eck\n",
    "    ax2.text(0.5, 0.005, 'Summe: '+str(summe_calls_gesamt), transform = ax2.transAxes, color=\"black\", fontsize='10',horizontalalignment='center')\n",
    "    \n",
    "    #####################################################\n",
    "    ## Einstellungen, die die ganze fig betreffen\n",
    "    \n",
    "    ## Abstand der Plots zueinander\n",
    "    plt.subplots_adjust(wspace=0.4)\n",
    "    \n",
    "    ## Titel für die beiden Subplots jeweils nach oben\n",
    "    ax1.set_xlabel('Minuten')\n",
    "    ax1.xaxis.set_label_coords(0.5,1.05)\n",
    "    ax2.set_xlabel('Calls')\n",
    "    ax2.xaxis.set_label_coords(0.5,1.05)\n",
    "    \n",
    "    titel='Aufschlüsselung nach Agent für den Zeitraum '+vonbis[0].strftime('%D')+' bis '+vonbis[1].strftime('%D')\n",
    "    fig.suptitle(titel,fontsize=9)\n",
    "    \n",
    "    ## Legende\n",
    "    right_handles, right_labels = ax1.get_legend_handles_labels()\n",
    "    left_handles, left_labels = ax2.get_legend_handles_labels()\n",
    "    handles=[right_handles[3],left_handles[1],left_handles[2],right_handles[4],right_handles[5],right_handles[0],right_handles[1],right_handles[2]]\n",
    "    labels=['Calls Kern+Neben | HT Kern+Neben',left_labels[1],left_labels[2],right_labels[4],right_labels[5],right_labels[0],right_labels[1],right_labels[2]]\n",
    "    \n",
    "    fig.legend(handles,labels,loc='lower right', fontsize=7, bbox_to_anchor=(0.95,0.15),ncol=1,framealpha=0.9)\n",
    "    ax1.set_facecolor('#F1EFE7')\n",
    "    ax2.set_facecolor('#E9F1E7')\n",
    "\n",
    "    plotname='Agenten_'+vonbis[0].strftime('%Y_%m_%d')+'_bis_'+vonbis[1].strftime('%Y_%m_%d')\n",
    "    fig.canvas.set_window_title(plotname)"
   ]
  },
  {
   "cell_type": "markdown",
   "metadata": {},
   "source": [
    "## Daten und Dataframe"
   ]
  },
  {
   "cell_type": "code",
   "execution_count": 154,
   "metadata": {
    "collapsed": true
   },
   "outputs": [],
   "source": [
    "big_frame=pd.read_pickle(pklpth)  # wo kommt der pickle her und wie generiere ich einen aktualisierten? -> Datensammler.py\n",
    "big_frame[['ht_float','tt_float']]=big_frame[['ht_float','tt_float']].apply(pd.to_numeric)\n",
    "big_frame['acw_float']=big_frame['ht_float']-big_frame['tt_float']\n",
    "big_frame['calweeks']=big_frame.index.strftime('%Y-%V')"
   ]
  },
  {
   "cell_type": "markdown",
   "metadata": {},
   "source": [
    "#### von Hand"
   ]
  },
  {
   "cell_type": "code",
   "execution_count": 189,
   "metadata": {
    "collapsed": true
   },
   "outputs": [],
   "source": [
    "## Zeitraum für den plot wählen und filtern\n",
    "#von_bis=(datetime.date(2018,4,1),datetime.date(2018,4,30))\n",
    "#plotframe,von_bis_real=prepare_plotframe(big_frame,von_bis)\n",
    "#agentplot(plotframe,von_bis_real)"
   ]
  },
  {
   "cell_type": "markdown",
   "metadata": {
    "collapsed": true
   },
   "source": [
    "#### mit loop mehrere Monate"
   ]
  },
  {
   "cell_type": "code",
   "execution_count": 208,
   "metadata": {},
   "outputs": [],
   "source": [
    "plotyear=2018\n",
    "for plotmonth in range(4,5):\n",
    "    lastday=calendar.monthrange(plotyear,plotmonth)[1]\n",
    "    von_bis=(datetime.date(plotyear,plotmonth,1),datetime.date(plotyear,plotmonth,lastday))\n",
    "    plotframe,von_bis_real=prepare_plotframe(big_frame,von_bis)\n",
    "    agentplot(plotframe,von_bis_real)\n",
    "  \n",
    "    "
   ]
  },
  {
   "cell_type": "code",
   "execution_count": null,
   "metadata": {},
   "outputs": [],
   "source": []
  },
  {
   "cell_type": "code",
   "execution_count": null,
   "metadata": {},
   "outputs": [],
   "source": []
  },
  {
   "cell_type": "code",
   "execution_count": null,
   "metadata": {
    "collapsed": true
   },
   "outputs": [],
   "source": []
  }
 ],
 "metadata": {
  "kernelspec": {
   "display_name": "Python 3",
   "language": "python",
   "name": "python3"
  },
  "language_info": {
   "codemirror_mode": {
    "name": "ipython",
    "version": 3
   },
   "file_extension": ".py",
   "mimetype": "text/x-python",
   "name": "python",
   "nbconvert_exporter": "python",
   "pygments_lexer": "ipython3",
   "version": "3.4.8"
  }
 },
 "nbformat": 4,
 "nbformat_minor": 2
}
