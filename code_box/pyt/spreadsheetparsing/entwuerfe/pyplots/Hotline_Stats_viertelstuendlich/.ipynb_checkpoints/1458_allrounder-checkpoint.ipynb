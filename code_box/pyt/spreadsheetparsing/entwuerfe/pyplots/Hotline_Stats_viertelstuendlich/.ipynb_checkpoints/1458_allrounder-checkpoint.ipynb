{
 "cells": [
  {
   "cell_type": "code",
   "execution_count": 1,
   "metadata": {},
   "outputs": [],
   "source": [
    "## Import necessary modules\n",
    "%load_ext autoreload\n",
    "%autoreload 2\n",
    "\n",
    "import os,sys\n",
    "import pandas as pd\n",
    "import matplotlib.pyplot as plt\n",
    "from matplotlib.dates import date2num, AutoDateFormatter, AutoDateLocator, WeekdayLocator, MonthLocator, DayLocator, DateLocator, DateFormatter\n",
    "from matplotlib.dates import MO, TU, WE, TH, FR, SA, SU\n",
    "from matplotlib.ticker import AutoMinorLocator, AutoLocator, FormatStrFormatter, ScalarFormatter, MultipleLocator, FixedLocator, FuncFormatter\n",
    "import numpy as np\n",
    "import datetime, calendar\n",
    "from datetime import timedelta\n",
    "import matplotlib.patches as mpatches\n",
    "from itertools import tee\n",
    "\n",
    "sys.path.append(os.path.abspath('/home/keuch/gits/keuch/code_box/pyt/spreadsheetparsing/entwuerfe/pyplots/lib/'))\n",
    "from ce_funclib import determine_kernzeit as dtkz, decminutes_to_mmss as dec2min\n",
    "#from ce_plotlib import abs_plot\n",
    "\n",
    "%matplotlib tk"
   ]
  },
  {
   "cell_type": "markdown",
   "metadata": {},
   "source": [
    "## Deklarationen"
   ]
  },
  {
   "cell_type": "code",
   "execution_count": null,
   "metadata": {
    "collapsed": true
   },
   "outputs": [],
   "source": [
    "arcpath='/home/keuch/gits/keuch/code_box/pyt/spreadsheetparsing/datenhalde/1458/' #Leseverzeichnis\n",
    "neededcols=[0,1,2,3,5,12,21] # Liste der Spalten, die aus dem Excelfile gelesen werden sollen\n",
    "new_colnames=['tstp','clls','ange','verb','tt','acw','lost'] # Namen, die spaeter auf die Spalten kommen\n",
    "shitcols=('Verbindungszeit [hh:mm:ss]','Nachbearbeitungszeit [hh:mm:ss]')\n",
    "converts={shitcols[0]:str,shitcols[1]:str}\n",
    "ipynb_name='1458_allrounder'\n",
    "global ipynb_name"
   ]
  },
  {
   "cell_type": "markdown",
   "metadata": {},
   "source": [
    "## Funktionen"
   ]
  },
  {
   "cell_type": "markdown",
   "metadata": {},
   "source": [
    "#### data"
   ]
  },
  {
   "cell_type": "code",
   "execution_count": null,
   "metadata": {
    "collapsed": true
   },
   "outputs": [],
   "source": [
    "######## GET A LIST OF MATCHING .xls FILES FROM THE GIVEN DIRECTORY\n",
    "def collectxlfiles(arcpath):\n",
    "    xlfilelist=list()\n",
    "\n",
    "    for xlfile in os.listdir(arcpath):\n",
    "        if xlfile.startswith('1458_daily'):\n",
    "            xlfileabs=os.path.join(arcpath,xlfile)\n",
    "            xlfilelist.append(xlfileabs)\n",
    "    return sorted(xlfilelist)"
   ]
  },
  {
   "cell_type": "code",
   "execution_count": null,
   "metadata": {
    "collapsed": true
   },
   "outputs": [],
   "source": [
    "def turn_xls_to_df(file):\n",
    "\n",
    "    excel_df=pd.read_excel(file,skiprows=3,skip_footer=1,usecols=neededcols,converters=converts)# die ersten 3 werden nicht benötigt, letzte auch nicht\n",
    "    excel_df['Timestamp'] = pd.to_datetime(excel_df['Timestamp'], format=' %d.%m.%Y %H:%M ') # statt string soll das ein datetime werden\n",
    "    excel_df.columns=new_colnames\n",
    "    excel_df2=excel_df.set_index('tstp').copy() # die timestamps sollen der index sein\n",
    "        \n",
    "    return excel_df2"
   ]
  },
  {
   "cell_type": "code",
   "execution_count": null,
   "metadata": {
    "collapsed": true
   },
   "outputs": [],
   "source": [
    "def add_averages(frame):\n",
    "\n",
    "    frame['avtt']=(frame['tt']/frame['verb'])/60\n",
    "    frame['avht']=(frame['ht']/frame['verb'])/60\n",
    "    frame['avacw']=(frame['acw']/frame['verb'])/60\n",
    "    colorder_with_abs=['clls','verb','lost','avht','avtt','avacw','ht','tt','acw']\n",
    "    frame_with_abs=frame[colorder_with_abs].fillna(0)\n",
    "    \n",
    "    return frame_with_abs"
   ]
  },
  {
   "cell_type": "code",
   "execution_count": null,
   "metadata": {
    "collapsed": true
   },
   "outputs": [],
   "source": [
    "def labelspucker(x_index):\n",
    "    xx=x_index\n",
    "    von_monat=xx.month.unique()[0]\n",
    "    bis_monat=xx.month.unique()[-1]\n",
    "    von_jahr=xx.year.unique()[0]\n",
    "    bis_jahr=xx.year.unique()[-1]\n",
    "    \n",
    "    if (von_monat == bis_monat):\n",
    "        labeltext=str(calendar.month_abbr[von_monat])+' '+str(von_jahr)\n",
    "    else:\n",
    "        labeltext=str(calendar.month_abbr[von_monat])+' '+str(von_jahr)+' bis '+str(calendar.month_abbr[bis_monat])+' '+str(bis_jahr)\n",
    "    return labeltext"
   ]
  },
  {
   "cell_type": "code",
   "execution_count": null,
   "metadata": {
    "collapsed": true
   },
   "outputs": [],
   "source": [
    "def labels_percentize(series):\n",
    "    return [\"{0:.1f}%\".format(x) if not np.isnan(x) else '' for x in series.values]"
   ]
  },
  {
   "cell_type": "markdown",
   "metadata": {},
   "source": [
    "#### plot"
   ]
  },
  {
   "cell_type": "code",
   "execution_count": null,
   "metadata": {
    "collapsed": true
   },
   "outputs": [],
   "source": [
    "def abs_plot(frame):\n",
    "\n",
    "    gcol,lostcol,verbcol,ncol,kcol,ncol2=\"#777777\",\"#AC003A\",\"#008EC4\",\"#000000\",\"#4F7DFF\",'#424242'\n",
    "    \n",
    "    ## Index und Daten ziehen\n",
    "    d_ix=frame.index.get_level_values(0).unique()   ### Grundlage für die Plots: alle Tage des Zeitraums\n",
    "    g_val=frame.xs('g', level='bz')['clls']\n",
    "    k_val=frame.xs('k', level='bz')['clls']\n",
    "    n_val=frame.xs('n', level='bz')['clls']\n",
    "    verb=frame.xs('g', level='bz')['verb']\n",
    "    lost=frame.xs('g', level='bz')['lost']\n",
    "    \n",
    "    ## Breite des plots anhand der vorhandenen Tage einstellen\n",
    "    numdays=len(plotmonth.index.get_level_values(0).unique())\n",
    "    figwdth=int(np.ceil(np.sqrt(numdays)*(numdays/(numdays*1.5))+6))  # kommt ungefähr hin: je mehr Tage, desto breiter der plot\n",
    "    fig = plt.figure(figsize=(figwdth,10))\n",
    "\n",
    "    ## Locators und Formatters \n",
    "    evry_sun = WeekdayLocator(6,interval=int(np.ceil(numdays/90))) # bis 90 Tage jeden Sonntag angeben, darüber nur jeden zweiten\n",
    "    weekFormatter = DateFormatter('%a,%d.%-m.%y')\n",
    "\n",
    "    \n",
    "    \n",
    "    ##################################################\n",
    "    ## erster subplot: Zahl der Calls und Annahmequote\n",
    "    ax = fig.add_subplot(211)\n",
    "\n",
    "    ax.xaxis.set_major_locator(evry_sun)\n",
    "    ax.xaxis.set_major_formatter(weekFormatter)\n",
    "    ax.yaxis.set_minor_locator(AutoMinorLocator())\n",
    "\n",
    "    ## Hilfslinien\n",
    "    ax.grid(which='major', axis='y', linestyle='-', zorder=0, alpha=0.2, color=gcol)\n",
    "    ax.grid(which='minor', axis='y', linestyle='--', zorder=0, alpha=0.1)\n",
    "    ax.grid(which='minor', axis='x', linestyle='--', zorder=0, alpha=0.1)\n",
    "    ax.set_axisbelow(True)\n",
    "\n",
    "\n",
    "    bar_g=ax.bar(d_ix,g_val,color=gcol,width=0.8, label='calls')\n",
    "    bar_n=ax.bar(d_ix,n_val, color=ncol, width=0.4, align='edge',label='davon nebenzeit')\n",
    "    bar_verb=ax.bar(d_ix,verb,color=verbcol,width=-0.3, label='verbunden')\n",
    "    bar_lost=ax.bar(d_ix,lost,color=lostcol,width=-0.3, bottom=verb,label='verloren')\n",
    "\n",
    "    plt.setp(ax.get_xticklabels(), rotation=30, horizontalalignment='right', fontsize=7)\n",
    "    ax.set_ylabel('calls',rotation=90)\n",
    "\n",
    "    ## Annahme % oben anzeigen, aber nur, wenn weniger als 90 Tage dargestellt werden\n",
    "    annahmequote=(verb/g_val)*100\n",
    "    if numdays <= 90:\n",
    "        ax.xaxis.set_minor_locator(DayLocator())\n",
    "        ax2=ax.twiny()\n",
    "        ax2labels=labels_percentize(annahmequote);   ## muss so formatiert werden, siehe hier https://stackoverflow.com/questions/45056579/is-it-possible-to-format-the-labels-using-set-xticklabels-in-matplotlib\n",
    "        ax2.set_xlim(ax.get_xlim());\n",
    "        ax2.set_xticks(d_ix.values);\n",
    "        ax2.set_xticklabels(ax2labels,fontsize='6.25',rotation='90',ha='left');\n",
    "\n",
    "    ## angepasste legende\n",
    "    handles, labels = ax.get_legend_handles_labels()\n",
    "    labels[0],labels[1],labels[2],labels[3]=str(labels[0]+' '+str(int(g_val.sum()))),str(labels[1]+' '+str(int(n_val.sum()))),str(labels[2]+' '+str(int(verb.sum()))),str(labels[3]+' '+str(int(lost.sum())))\n",
    "    ax.legend(handles, labels,loc='upper left',bbox_to_anchor=(1,1),prop={'size': 6}).get_texts()[3].set_color(lostcol)\n",
    "\n",
    "    \n",
    "    ###################################################################################\n",
    "    # zweiter subplot für Bearbeitungszeiten\n",
    "    \n",
    "    ax_tm = fig.add_subplot(212)\n",
    "    \n",
    "    bar_ix=date2num(d_ix.date)   # Index für die X-Achse muß in Nummern gezählt werden, um die bars hinterher zu justieren\n",
    "    \n",
    "    ## Ticks und Formatierungen für die X-Achse\n",
    "    ax_tm.set_xticks(d_ix.values)\n",
    "    ax_tm.set_xticklabels(d_ix.date,fontsize='6.25',rotation='30',ha='left')\n",
    "    ax_tm.xaxis.set_major_locator(evry_sun)\n",
    "    ax_tm.xaxis.set_minor_locator(FixedLocator(bar_ix))\n",
    "    ax_tm.xaxis.set_major_formatter(weekFormatter)\n",
    "    \n",
    "    ## Ticks und Formatierungen für die Y-Achse\n",
    "    ax_tm.yaxis.set_minor_formatter(FuncFormatter(dec2min))    # Die Dezimalzahlen der Y-Achse sollen labels im MM:SS Format erhalten\n",
    "    ax_tm.yaxis.set_major_formatter(FuncFormatter(dec2min))\n",
    "    ax_tm.yaxis.set_minor_locator(AutoMinorLocator(4))         # Minor ticks in Unterteilungen der major ticks\n",
    "    ax_tm.tick_params(axis='y',which='minor',labelsize=6)\n",
    "    ax_tm.set_ylabel('minuten',rotation=90)\n",
    "    \n",
    "    ## Hilfslinien\n",
    "    ax_tm.grid(which='major', axis='y', linestyle='-', zorder=0, alpha=0.2, color=gcol)\n",
    "    ax_tm.grid(which='minor', axis='y', linestyle='--', zorder=0, alpha=0.1)\n",
    "    ax_tm.grid(which='minor', axis='x', linestyle='--', zorder=0, alpha=0.1)\n",
    "    ax_tm.set_axisbelow(True)\n",
    "\n",
    "    ## Daten aus den Frames, die dann angezeigt werden\n",
    "    ht_k, tt_k, aw_k = frame.xs('k', level='bz')['avht'], frame.xs('k', level='bz')['avtt'], frame.xs('k', level='bz')['avacw']\n",
    "    ht_n, tt_n, aw_n = frame.xs('n', level='bz')['avht'], frame.xs('n', level='bz')['avtt'], frame.xs('n', level='bz')['avacw']\n",
    "    ht_median_kernzeit = ht_k.median()\n",
    "    ht_average_kernzeit = ht_k.mean()\n",
    "    \n",
    "    ## Grafiken erzeugen    \n",
    "    avline=ax_tm.axhline(y=ht_average_kernzeit,xmax=0.01,color='#FF7B00',linewidth=5,label=str(dec2min(ht_average_kernzeit))+' mittel kern')\n",
    "    mdline=ax_tm.axhline(y=ht_median_kernzeit,xmax=0.01,color='#FF0000',linewidth=5,label=str(dec2min(ht_median_kernzeit))+' median kern')\n",
    "    \n",
    "    zeiten_k_ht=ax_tm.bar(bar_ix-0.4,ht_k,color=gcol,width=0.4, label='ht kern',align='edge')\n",
    "    zeiten_n_ht=ax_tm.bar(bar_ix,ht_n,color=ncol2,width=0.4, label='ht neben',align='edge',alpha=0.2)\n",
    "    \n",
    "    zeiten_k_tt=ax_tm.bar(bar_ix-0.25,tt_k,color=verbcol,width=0.1, label='tt',align='edge')\n",
    "    zeiten_k_aw=ax_tm.bar(bar_ix-0.25,aw_k,color=lostcol,width=0.1, label='acw',align='edge',bottom=tt_k)\n",
    "    \n",
    "    zeiten_n_tt=ax_tm.bar(bar_ix+0.15,tt_n,color=verbcol,width=0.1,align='edge',alpha=0.2)\n",
    "    zeiten_n_aw=ax_tm.bar(bar_ix+0.15,aw_n,color=lostcol,width=0.1,align='edge',bottom=tt_n,alpha=0.2)\n",
    "    \n",
    "    \n",
    "    ## Legende\n",
    "    ax_tm.legend(loc='upper left',bbox_to_anchor=(1,1),prop={'size': 6})\n",
    "    \n",
    "    ## 'watermark'\n",
    "    ax_tm.text(0.85, -0.1, 'abs_plot()', horizontalalignment='left', verticalalignment='bottom', transform=ax.transAxes, color='#A3ABBD', fontsize='6')\n",
    "\n",
    "    \n",
    "    ######### Abschluss\n",
    "    fig.suptitle(labelspucker(d_ix))\n",
    "    plt.subplots_adjust(left=0.1,right=0.85)\n",
    "    fig.show()"
   ]
  },
  {
   "cell_type": "code",
   "execution_count": null,
   "metadata": {
    "collapsed": true
   },
   "outputs": [],
   "source": [
    "def plotby_avhour(frame,vonbis):\n",
    "\n",
    "    gcol,lostcol,verbcol,ncol,kcol,titcol,bgcol=\"#777777\",\"#AC003A\",\"#008EC4\",\"#000000\",\"#4F7DFF\",\"#0084E0\",\"#F4F4F4\"\n",
    "\n",
    "    fig,ax1 = plt.subplots()\n",
    "    ax2=ax1.twiny()\n",
    "    \n",
    "    ax1.set_facecolor(bgcol)\n",
    "    ax1.grid(which='major', axis='y', linestyle=':', zorder=0)\n",
    "    ax1.grid(which='major', axis='x', linestyle='--', zorder=0, color=titcol, alpha=0.1)\n",
    "    ax1.set_axisbelow(True)\n",
    "    \n",
    "    ax1.set_xlabel('Uhrzeit')\n",
    "    ax1.set_ylabel('Calls')\n",
    "\n",
    "    x_x=frame.index.values\n",
    "    ax1.xaxis.set_major_locator(FixedLocator(x_x))\n",
    "    ax1labels=[\"{:}:00\".format(x) for x in x_x]; \n",
    "    ax1.set_xticklabels(ax1labels,fontsize='7', rotation='45');\n",
    "\n",
    "    clls, verb, lost = frame['clls'], frame['verb'], frame['lost']\n",
    "\n",
    "    cbar=ax1.bar(x_x,clls,width=0.8,color=gcol,label='calls')\n",
    "    vbar=ax1.bar(x_x,verb,width=0.4,color=verbcol,label='verbunden')\n",
    "    lbar=ax1.bar(x_x,lost,width=0.4,color=lostcol,bottom=verb,label='verloren')\n",
    "\n",
    "    annahmequote=(frame['verb']/frame['clls'])*100\n",
    "\n",
    "    ax2labels=[\"{0:.1f}%\".format(x) for x in annahmequote.values];   ## muss so formatiert werden, siehe hier https://stackoverflow.com/questions/45056579/is-it-possible-to-format-the-labels-using-set-xticklabels-in-matplotlib\n",
    "    ax2.set_xlim(ax1.get_xlim());\n",
    "    ax2.set_xticks(annahmequote.index.values);\n",
    "    ax2.set_xticklabels(ax2labels,fontsize='6.25',rotation='45',ha='left');\n",
    "\n",
    "    oberer_rand=ax1.get_ylim()[1]\n",
    "    for i in x_x:\n",
    "        txt=(int(frame.loc[i,['lost']]))\n",
    "        ax1.text(i,(oberer_rand*0.9725),txt,fontsize=6,horizontalalignment='center', color=lostcol)  \n",
    "    \n",
    "    von,bis=vonbis[0].strftime('%d.%m.%y'),vonbis[1].strftime('%d.%m.%y')\n",
    "    fig.suptitle('1458: Calls per Stunde dargestellt von '+von+' bis '+bis,fontsize=9,color=titcol)\n",
    "    \n",
    "    plt.subplots_adjust(top=0.825, bottom=0.125)\n",
    "    handles, labels = ax1.get_legend_handles_labels()\n",
    "    \n",
    "    labels[0],labels[1],labels[2]=str(labels[0]+' '+str(frame['clls'].sum())),str(labels[1]+' '+str(frame['verb'].sum())),str(labels[2]+' '+str(frame['lost'].sum()))\n",
    "    \n",
    "    fig.legend(handles,labels,loc='center', fontsize=7, bbox_to_anchor=(0.25,0.7),ncol=1)"
   ]
  },
  {
   "cell_type": "code",
   "execution_count": null,
   "metadata": {
    "collapsed": true
   },
   "outputs": [],
   "source": [
    "def plotby_avhour2(frameindex,framek,framen,vonbis):\n",
    "    \n",
    "    gcol,lostcol,verbcol,ncol,kcol,titcol,bgcol,ncol2=\"#777777\",\"#AC003A\",\"#008EC4\",\"#000000\",\"#4F7DFF\",\"#0084E0\",\"#F4F4F4\",'#424242'\n",
    "    fig = plt.figure(figsize=(12,6))\n",
    "    \n",
    "    ###############################################\n",
    "    ## subplot nur für kernzeit\n",
    "    \n",
    "    ax1 = fig.add_subplot(121)\n",
    "    \n",
    "    ax1.set_facecolor(bgcol)\n",
    "    ax1.grid(which='major', axis='y', linestyle=':', zorder=0)\n",
    "    ax1.grid(which='major', axis='x', linestyle='--', zorder=0, color=titcol, alpha=0.1)\n",
    "    ax1.set_axisbelow(True)\n",
    "    \n",
    "    ax1.set_xlabel('Kernzeit')\n",
    "    ax1.set_ylabel('Calls')\n",
    "\n",
    "    x_x=frameindex.values\n",
    "    ax1.xaxis.set_major_locator(FixedLocator(x_x))\n",
    "    ax1labels=[\"{:}:00\".format(x) for x in x_x]; \n",
    "    ax1.set_xticklabels(ax1labels,fontsize='7', rotation='45');\n",
    "\n",
    "    cllsk, verbk, lostk = framek['clls'], framek['verb'], framek['lost']\n",
    "\n",
    "    cbark=ax1.bar(x_x,cllsk,width=0.8,color=gcol,label='calls')\n",
    "    vbark=ax1.bar(x_x,verbk,width=0.4,color=verbcol,label='verbunden')\n",
    "    lbark=ax1.bar(x_x,lostk,width=0.4,color=lostcol,bottom=verbk,label='verloren')\n",
    "\n",
    "    annahmequotek=(framek['verb']/framek['clls'])*100\n",
    "    \n",
    "    ax2=ax1.twiny()\n",
    "    ax2labels=labels_percentize(annahmequotek);   ## muss so formatiert werden, siehe hier https://stackoverflow.com/questions/45056579/is-it-possible-to-format-the-labels-using-set-xticklabels-in-matplotlib\n",
    "    ax2.set_xlim(ax1.get_xlim());\n",
    "    ax2.set_xticks(annahmequotek.index.values);\n",
    "    ax2.set_xticklabels(ax2labels,fontsize='6.25',rotation='45',ha='left');\n",
    "\n",
    "    oberer_rand=ax1.get_ylim()[1]\n",
    "    for i in x_x:\n",
    "        txt=(int(framek.loc[i,['lost']]))\n",
    "        ax1.text(i,(oberer_rand*0.9725),txt,fontsize=6,horizontalalignment='center', color=lostcol)  \n",
    "    \n",
    "    \n",
    "    ###############################################\n",
    "    ## subplot nur für nebenzeit\n",
    "    \n",
    "    ax_n1 = fig.add_subplot(122)\n",
    "    ax_n2=ax_n1.twiny()\n",
    "    \n",
    "    ax_n1.set_facecolor(bgcol)\n",
    "    ax_n1.grid(which='major', axis='y', linestyle=':', zorder=0)\n",
    "    ax_n1.grid(which='major', axis='x', linestyle='--', zorder=0, color=titcol, alpha=0.1)\n",
    "    ax_n1.set_axisbelow(True)\n",
    "    \n",
    "    ax_n1.set_xlabel('Nebenzeit')\n",
    "    ax_n1.set_ylabel('Calls')\n",
    "\n",
    "    ax_n1.xaxis.set_major_locator(FixedLocator(x_x))\n",
    "    ax_n1labels=[\"{:}:00\".format(x) for x in x_x]; \n",
    "    ax_n1.set_xticklabels(ax1labels,fontsize='7', rotation='45');\n",
    "\n",
    "    cllsn, verbn, lostn = framen['clls'], framen['verb'], framen['lost'] # gibts schon\n",
    "    \n",
    "    cbar_n=ax_n1.bar(x_x,cllsn,width=0.8,color=gcol,label='calls')\n",
    "    vbar_n=ax_n1.bar(x_x,verbn,width=0.4,color=verbcol,label='verbunden')\n",
    "    lbar_n=ax_n1.bar(x_x,lostn,width=0.4,color=lostcol,bottom=verbn,label='verloren')\n",
    "    \n",
    "    annahmequoten=(framen['verb']/framen['clls'])*100       \n",
    "    \n",
    "    ax_n2labels=labels_percentize(annahmequoten) ## muss so formatiert werden, siehe hier https://stackoverflow.com/questions/45056579/is-it-possible-to-format-the-labels-using-set-xticklabels-in-matplotlib\n",
    "    ax_n2.set_xlim(ax_n1.get_xlim());\n",
    "    ax_n2.set_xticks(annahmequoten.index.values);\n",
    "    ax_n2.set_xticklabels(ax_n2labels,fontsize='6.25',rotation='45',ha='left');\n",
    "\n",
    "    oberer_rand=ax_n1.get_ylim()[1]\n",
    "    for i in x_x:\n",
    "        txt=(int(framen.loc[i,['lost']]))\n",
    "        ax_n1.text(i,(oberer_rand*0.9725),txt,fontsize=6,horizontalalignment='center', color=lostcol)  \n",
    "    \n",
    "    ################################################\n",
    "    ## Legende\n",
    "    \n",
    "    von,bis=vonbis[0].strftime('%d.%m.%y'),vonbis[1].strftime('%d.%m.%y')\n",
    "    fig.suptitle('1458: Calls per Stunde dargestellt von '+von+' bis '+bis,fontsize=9,color=titcol)\n",
    "    \n",
    "    plt.subplots_adjust(top=0.825, bottom=0.125)\n",
    "    khandles, klabels = ax1.get_legend_handles_labels()\n",
    "    nhandles, nlabels = ax_n1.get_legend_handles_labels()\n",
    "    \n",
    "    klabels[0],klabels[1],klabels[2]=str(klabels[0]+' '+str(framek['clls'].sum())),str(klabels[1]+' '+str(framek['verb'].sum())),str(klabels[2]+' '+str(framek['lost'].sum()))\n",
    "    nlabels[0],nlabels[1],nlabels[2]=str(nlabels[0]+' '+str(framen['clls'].sum())),str(nlabels[1]+' '+str(framen['verb'].sum())),str(nlabels[2]+' '+str(framen['lost'].sum()))\n",
    "    \n",
    "    \n",
    "    k_legend = ax1.legend(khandles,klabels,loc='center', fontsize=7, bbox_to_anchor=(0.2,0.7),ncol=1).get_texts()[2].set_color(lostcol)\n",
    "    n_legend = ax_n1.legend(nhandles,nlabels,loc='center', fontsize=7, bbox_to_anchor=(0.7,0.7),ncol=1).get_texts()[2].set_color(lostcol)\n",
    "    \n",
    "\n",
    "    #fig.set_dpi(200)"
   ]
  },
  {
   "cell_type": "markdown",
   "metadata": {},
   "source": [
    "## Datensammeln und Frame mit allen Daten herstellen"
   ]
  },
  {
   "cell_type": "code",
   "execution_count": null,
   "metadata": {
    "collapsed": true
   },
   "outputs": [],
   "source": [
    "xlfilelist=collectxlfiles(arcpath)"
   ]
  },
  {
   "cell_type": "code",
   "execution_count": null,
   "metadata": {
    "collapsed": true
   },
   "outputs": [],
   "source": [
    "greatframe=pd.DataFrame() # leeren df initialisieren\n",
    "for i in xlfilelist:\n",
    "    i_frame=turn_xls_to_df(i)\n",
    "    greatframe=greatframe.append(i_frame) \n",
    "# alle files werden ordentlich in df konvertiert und an den ausserhalb der funktion kreierten df angehangen\n",
    "# greatframe # hier sind alle daten vollständig enthalten, die gebraucht werden, der Ur-Frame"
   ]
  },
  {
   "cell_type": "code",
   "execution_count": null,
   "metadata": {
    "collapsed": true
   },
   "outputs": [],
   "source": [
    "## Anrufzeiten statt datetime oder string nach timedelta (Sekunden) gewandelt\n",
    "greatframe[['tt','acw']]=greatframe[['tt','acw']].apply(pd.to_timedelta).astype('timedelta64[s]')\n",
    "greatframe['ht'] = (greatframe['tt']+greatframe['acw'])"
   ]
  },
  {
   "cell_type": "code",
   "execution_count": null,
   "metadata": {
    "collapsed": true
   },
   "outputs": [],
   "source": [
    "## add kern- und nebenzeit column\n",
    "greatframe['bz'] = greatframe.index.map(dtkz)"
   ]
  },
  {
   "cell_type": "code",
   "execution_count": 2,
   "metadata": {
    "collapsed": true
   },
   "outputs": [],
   "source": [
    "greatframe=pd.read_pickle('/home/keuch/gits/keuch/code_box/pyt/spreadsheetparsing/datenhalde/datapickles/Rohdaten_1458-2018-04-29.pkl')"
   ]
  },
  {
   "cell_type": "markdown",
   "metadata": {},
   "source": [
    "## Zeitraum für die Plots festlegen"
   ]
  },
  {
   "cell_type": "code",
   "execution_count": 3,
   "metadata": {
    "collapsed": true
   },
   "outputs": [],
   "source": [
    "## Zeitraum für den plot wählen und filtern\n",
    "von_bis=(datetime.date(2018,1,1),datetime.date(2018,1,31))\n",
    "zeitraum=greatframe.loc[(greatframe.index.date >= von_bis[0]) & (greatframe.index.date <= von_bis[1])]"
   ]
  },
  {
   "cell_type": "markdown",
   "metadata": {},
   "source": [
    "## Gruppierung nach Tagen (Datum)"
   ]
  },
  {
   "cell_type": "code",
   "execution_count": 4,
   "metadata": {
    "collapsed": true
   },
   "outputs": [],
   "source": [
    "daily_frame=zeitraum.groupby([pd.Grouper(freq='D'),pd.Grouper('bz')]).sum().copy() # Nebenzeit nach Tagen gruppiert\n",
    "daily_frame=daily_frame.unstack('bz').fillna(0).stack('bz')"
   ]
  },
  {
   "cell_type": "code",
   "execution_count": 5,
   "metadata": {
    "collapsed": true
   },
   "outputs": [],
   "source": [
    "g = daily_frame.sum(level=['tstp']) # einen Zwischenframe erstellen, der nur die Kern- und Nebenzeit summiert\n",
    "g.assign(bz='g').set_index('bz', append=True).sort_index() # die Summe dem alten Frame beigeben\n",
    "daily=daily_frame.append(g.assign(bz='g').set_index('bz', append=True)).sort_index() # die Summe dem alten Frame beigeben"
   ]
  },
  {
   "cell_type": "code",
   "execution_count": 6,
   "metadata": {},
   "outputs": [
    {
     "ename": "NameError",
     "evalue": "name 'add_averages' is not defined",
     "output_type": "error",
     "traceback": [
      "\u001b[0;31m---------------------------------------------------------------------------\u001b[0m",
      "\u001b[0;31mNameError\u001b[0m                                 Traceback (most recent call last)",
      "\u001b[0;32m<ipython-input-6-8cc7a3d6ec6d>\u001b[0m in \u001b[0;36m<module>\u001b[0;34m()\u001b[0m\n\u001b[0;32m----> 1\u001b[0;31m \u001b[0mdaily_av\u001b[0m\u001b[0;34m=\u001b[0m\u001b[0madd_averages\u001b[0m\u001b[0;34m(\u001b[0m\u001b[0mdaily\u001b[0m\u001b[0;34m)\u001b[0m  \u001b[0;31m# mit durschnittlichen Zeiten acw/calls etc.\u001b[0m\u001b[0;34m\u001b[0m\u001b[0m\n\u001b[0m",
      "\u001b[0;31mNameError\u001b[0m: name 'add_averages' is not defined"
     ]
    }
   ],
   "source": [
    "daily_av=add_averages(daily)  # mit durschnittlichen Zeiten acw/calls etc."
   ]
  },
  {
   "cell_type": "markdown",
   "metadata": {},
   "source": [
    "#### Slicing und Plotting für Tage (Datum)"
   ]
  },
  {
   "cell_type": "code",
   "execution_count": null,
   "metadata": {
    "collapsed": true
   },
   "outputs": [],
   "source": [
    "d_ix=daily_av.index.get_level_values(0)  # das ist der datetime-index (level 0), kann mit monat,jahr usw. bedient werden\n",
    "plotmonth=daily_av.loc[(d_ix.date >= von_bis[0]) & (d_ix.date <= von_bis[1])]"
   ]
  },
  {
   "cell_type": "code",
   "execution_count": null,
   "metadata": {
    "collapsed": true
   },
   "outputs": [],
   "source": [
    "abs_plot(plotmonth)"
   ]
  },
  {
   "cell_type": "markdown",
   "metadata": {},
   "source": [
    "## Gruppierung nach Stunden"
   ]
  },
  {
   "cell_type": "code",
   "execution_count": null,
   "metadata": {
    "collapsed": true
   },
   "outputs": [],
   "source": [
    "von_bis_real=(zeitraum.index.date.min(),zeitraum.index.date.max())\n",
    "hh_gruppiert=add_averages(zeitraum.groupby(zeitraum.index.hour).sum())  # nach stunden zusammengefasst"
   ]
  },
  {
   "cell_type": "markdown",
   "metadata": {},
   "source": [
    "#### ohne Trennung nach kern- und nebenzeit"
   ]
  },
  {
   "cell_type": "code",
   "execution_count": null,
   "metadata": {
    "collapsed": true
   },
   "outputs": [],
   "source": [
    "plotby_avhour(hh_gruppiert,von_bis_real)"
   ]
  },
  {
   "cell_type": "markdown",
   "metadata": {},
   "source": [
    "#### kern- und nebenzeit in 2 subplots"
   ]
  },
  {
   "cell_type": "code",
   "execution_count": null,
   "metadata": {
    "collapsed": true
   },
   "outputs": [],
   "source": [
    "ke,ne=zeitraum.loc[zeitraum['bz'] == 'k'],zeitraum.loc[zeitraum['bz'] == 'n']\n",
    "ges_grp=add_averages(zeitraum.groupby(zeitraum.index.hour).sum())\n",
    "hourindex=ges_grp.index\n",
    "ke_grp=add_averages(ke.groupby(ke.index.hour).sum()).reindex(hourindex,fill_value=0)\n",
    "ne_grp=add_averages(ne.groupby(ne.index.hour).sum()).reindex(hourindex,fill_value=0)"
   ]
  },
  {
   "cell_type": "code",
   "execution_count": null,
   "metadata": {
    "collapsed": true
   },
   "outputs": [],
   "source": [
    "plotby_avhour2(hourindex,ke_grp,ne_grp,von_bis_real)"
   ]
  },
  {
   "cell_type": "code",
   "execution_count": null,
   "metadata": {
    "collapsed": true
   },
   "outputs": [],
   "source": []
  },
  {
   "cell_type": "code",
   "execution_count": null,
   "metadata": {
    "collapsed": true
   },
   "outputs": [],
   "source": []
  },
  {
   "cell_type": "code",
   "execution_count": null,
   "metadata": {
    "collapsed": true
   },
   "outputs": [],
   "source": []
  },
  {
   "cell_type": "code",
   "execution_count": null,
   "metadata": {
    "collapsed": true
   },
   "outputs": [],
   "source": []
  },
  {
   "cell_type": "code",
   "execution_count": null,
   "metadata": {
    "collapsed": true
   },
   "outputs": [],
   "source": []
  }
 ],
 "metadata": {
  "kernelspec": {
   "display_name": "Python 3",
   "language": "python",
   "name": "python3"
  },
  "language_info": {
   "codemirror_mode": {
    "name": "ipython",
    "version": 3
   },
   "file_extension": ".py",
   "mimetype": "text/x-python",
   "name": "python",
   "nbconvert_exporter": "python",
   "pygments_lexer": "ipython3",
   "version": "3.4.8"
  }
 },
 "nbformat": 4,
 "nbformat_minor": 2
}
