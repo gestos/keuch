{
 "cells": [
  {
   "cell_type": "code",
   "execution_count": 22,
   "metadata": {},
   "outputs": [],
   "source": [
    "## Import necessary modules\n",
    "import os,sys\n",
    "import pandas as pd\n",
    "import matplotlib.pyplot as plt\n",
    "from matplotlib.dates import date2num, AutoDateFormatter, AutoDateLocator, WeekdayLocator, MonthLocator, DayLocator, DateLocator, DateFormatter\n",
    "from matplotlib.dates import MO, TU, WE, TH, FR, SA, SU\n",
    "from matplotlib.ticker import AutoMinorLocator, AutoLocator, FormatStrFormatter, ScalarFormatter\n",
    "import numpy as np\n",
    "import datetime, calendar\n",
    "from datetime import timedelta\n",
    "import matplotlib.patches as mpatches\n",
    "from itertools import tee\n",
    "\n",
    "sys.path.append(os.path.abspath('/home/keuch/gits/keuch/code_box/pyt/spreadsheetparsing/entwuerfe/xls_testruns/lib/'))\n",
    "from ce_funclib import determine_kernzeit as dtkz\n",
    "\n",
    "%matplotlib tk"
   ]
  },
  {
   "cell_type": "markdown",
   "metadata": {},
   "source": [
    "## Deklarationen"
   ]
  },
  {
   "cell_type": "code",
   "execution_count": 23,
   "metadata": {},
   "outputs": [],
   "source": [
    "arcpath='/home/keuch/gits/keuch/code_box/pyt/spreadsheetparsing/datenhalde/1458/' #Leseverzeichnis\n",
    "neededcols=[0,1,2,3,5,12,21] # Liste der Spalten, die aus dem Excelfile gelesen werden sollen\n",
    "new_colnames=['tstp','clls','ange','verb','tt','acw','lost'] # Namen, die spaeter auf die Spalten kommen\n",
    "shitcols=('Verbindungszeit [hh:mm:ss]','Nachbearbeitungszeit [hh:mm:ss]')\n",
    "converts={shitcols[0]:str,shitcols[1]:str}"
   ]
  },
  {
   "cell_type": "markdown",
   "metadata": {},
   "source": [
    "## Funktionen"
   ]
  },
  {
   "cell_type": "code",
   "execution_count": 24,
   "metadata": {
    "collapsed": true
   },
   "outputs": [],
   "source": [
    "######## GET A LIST OF MATCHING .xls FILES FROM THE GIVEN DIRECTORY\n",
    "def collectxlfiles(arcpath):\n",
    "    xlfilelist=list()\n",
    "\n",
    "    for xlfile in os.listdir(arcpath):\n",
    "        if xlfile.startswith('1458_daily'):\n",
    "            xlfileabs=os.path.join(arcpath,xlfile)\n",
    "            xlfilelist.append(xlfileabs)\n",
    "    return sorted(xlfilelist)"
   ]
  },
  {
   "cell_type": "code",
   "execution_count": 25,
   "metadata": {
    "collapsed": true
   },
   "outputs": [],
   "source": [
    "def turn_xls_to_df(file):\n",
    "\n",
    "    excel_df=pd.read_excel(file,skiprows=3,skip_footer=1,usecols=neededcols,converters=converts)# die ersten 3 werden nicht benötigt, letzte auch nicht\n",
    "    excel_df['Timestamp'] = pd.to_datetime(excel_df['Timestamp'], format=' %d.%m.%Y %H:%M ') # statt string soll das ein datetime werden\n",
    "    excel_df.columns=new_colnames\n",
    "    excel_df2=excel_df.set_index('tstp').copy() # die timestamps sollen der index sein\n",
    "        \n",
    "    return excel_df2"
   ]
  },
  {
   "cell_type": "code",
   "execution_count": 26,
   "metadata": {
    "collapsed": true
   },
   "outputs": [],
   "source": [
    "def add_averages(frame):\n",
    "\n",
    "    frame['avtt']=(frame['tt']/frame['verb'])/60\n",
    "    frame['avht']=(frame['ht']/frame['verb'])/60\n",
    "    frame['avacw']=(frame['acw']/frame['verb'])/60\n",
    "    colorder_with_abs=['clls','verb','lost','avht','avtt','avacw','ht','tt','acw']\n",
    "    frame_with_abs=frame[colorder_with_abs].fillna(0)\n",
    "    \n",
    "    return frame_with_abs"
   ]
  },
  {
   "cell_type": "code",
   "execution_count": 53,
   "metadata": {
    "collapsed": true
   },
   "outputs": [],
   "source": [
    "def labelspucker(x_index):\n",
    "    xx=x_index\n",
    "    print(xx.month.unique())\n",
    "    von_monat=xx.month.unique()[0]\n",
    "    bis_monat=xx.month.unique()[-1]\n",
    "    von_jahr=xx.year.unique()[0]\n",
    "    bis_jahr=xx.year.unique()[-1]\n",
    "    \n",
    "    if (von_monat == bis_monat):\n",
    "        labeltext=str(calendar.month_abbr[von_monat])+' '+str(von_jahr)\n",
    "        \n",
    "    return labeltext"
   ]
  },
  {
   "cell_type": "markdown",
   "metadata": {},
   "source": [
    "## Datensammeln und Frame mit allen Daten herstellen"
   ]
  },
  {
   "cell_type": "code",
   "execution_count": 28,
   "metadata": {},
   "outputs": [],
   "source": [
    "xlfilelist=collectxlfiles(arcpath)"
   ]
  },
  {
   "cell_type": "code",
   "execution_count": 29,
   "metadata": {},
   "outputs": [],
   "source": [
    "greatframe=pd.DataFrame() # leeren df initialisieren\n",
    "for i in xlfilelist:\n",
    "    i_frame=turn_xls_to_df(i)\n",
    "    greatframe=greatframe.append(i_frame) \n",
    "# alle files werden ordentlich in df konvertiert und an den ausserhalb der funktion kreierten df angehangen\n",
    "# greatframe # hier sind alle daten vollständig enthalten, die gebraucht werden, der Ur-Frame"
   ]
  },
  {
   "cell_type": "code",
   "execution_count": 30,
   "metadata": {},
   "outputs": [],
   "source": [
    "## Anrufzeiten statt datetime oder string nach timedelta (Sekunden) gewandelt\n",
    "greatframe[['tt','acw']]=greatframe[['tt','acw']].apply(pd.to_timedelta).astype('timedelta64[s]')\n",
    "greatframe['ht'] = (greatframe['tt']+greatframe['acw'])"
   ]
  },
  {
   "cell_type": "code",
   "execution_count": 31,
   "metadata": {},
   "outputs": [],
   "source": [
    "## add kern- und nebenzeit column\n",
    "greatframe['bz'] = greatframe.index.map(dtkz)"
   ]
  },
  {
   "cell_type": "code",
   "execution_count": 32,
   "metadata": {},
   "outputs": [],
   "source": [
    "daily_frame=greatframe.groupby([pd.Grouper(freq='D'),pd.Grouper('bz')]).sum().copy() # Nebenzeit nach Tagen gruppiert\n",
    "daily_frame=daily_frame.unstack('bz').fillna(0).stack('bz')"
   ]
  },
  {
   "cell_type": "code",
   "execution_count": 33,
   "metadata": {},
   "outputs": [],
   "source": [
    "g = daily_frame.sum(level=['tstp']) # einen Zwischenframe erstellen, der nur die Kern- und Nebenzeit summiert\n",
    "g.assign(bz='g').set_index('bz', append=True).sort_index() # die Summe dem alten Frame beigeben\n",
    "daily=daily_frame.append(g.assign(bz='g').set_index('bz', append=True)).sort_index() # die Summe dem alten Frame beigeben"
   ]
  },
  {
   "cell_type": "code",
   "execution_count": 34,
   "metadata": {},
   "outputs": [],
   "source": [
    "daily_av=add_averages(daily)  # durschnittliche Zeiten acw/calls etc."
   ]
  },
  {
   "cell_type": "markdown",
   "metadata": {},
   "source": [
    "## Slicing und Plotting"
   ]
  },
  {
   "cell_type": "code",
   "execution_count": 35,
   "metadata": {},
   "outputs": [],
   "source": [
    "d_ix=daily_av.index.get_level_values(0)  # das ist der datetime-index (level 0), kann mit monat,jahr usw. bedient werden\n",
    "apr_18=daily_av.loc[(d_ix.month == 4) & (d_ix.year == 2018)]\n",
    "mar_18=daily_av.loc[(d_ix.month == 3) & (d_ix.year == 2018)]"
   ]
  },
  {
   "cell_type": "code",
   "execution_count": 36,
   "metadata": {},
   "outputs": [
    {
     "data": {
      "text/html": [
       "<div>\n",
       "<style>\n",
       "    .dataframe thead tr:only-child th {\n",
       "        text-align: right;\n",
       "    }\n",
       "\n",
       "    .dataframe thead th {\n",
       "        text-align: left;\n",
       "    }\n",
       "\n",
       "    .dataframe tbody tr th {\n",
       "        vertical-align: top;\n",
       "    }\n",
       "</style>\n",
       "<table border=\"1\" class=\"dataframe\">\n",
       "  <thead>\n",
       "    <tr style=\"text-align: right;\">\n",
       "      <th></th>\n",
       "      <th></th>\n",
       "      <th>clls</th>\n",
       "      <th>verb</th>\n",
       "      <th>lost</th>\n",
       "      <th>avht</th>\n",
       "      <th>avtt</th>\n",
       "      <th>avacw</th>\n",
       "      <th>ht</th>\n",
       "      <th>tt</th>\n",
       "      <th>acw</th>\n",
       "    </tr>\n",
       "    <tr>\n",
       "      <th>tstp</th>\n",
       "      <th>bz</th>\n",
       "      <th></th>\n",
       "      <th></th>\n",
       "      <th></th>\n",
       "      <th></th>\n",
       "      <th></th>\n",
       "      <th></th>\n",
       "      <th></th>\n",
       "      <th></th>\n",
       "      <th></th>\n",
       "    </tr>\n",
       "  </thead>\n",
       "  <tbody>\n",
       "    <tr>\n",
       "      <th rowspan=\"3\" valign=\"top\">2018-04-01</th>\n",
       "      <th>g</th>\n",
       "      <td>3.0</td>\n",
       "      <td>3.0</td>\n",
       "      <td>0.0</td>\n",
       "      <td>1.716667</td>\n",
       "      <td>1.155556</td>\n",
       "      <td>0.561111</td>\n",
       "      <td>309.0</td>\n",
       "      <td>208.0</td>\n",
       "      <td>101.0</td>\n",
       "    </tr>\n",
       "    <tr>\n",
       "      <th>k</th>\n",
       "      <td>0.0</td>\n",
       "      <td>0.0</td>\n",
       "      <td>0.0</td>\n",
       "      <td>0.000000</td>\n",
       "      <td>0.000000</td>\n",
       "      <td>0.000000</td>\n",
       "      <td>0.0</td>\n",
       "      <td>0.0</td>\n",
       "      <td>0.0</td>\n",
       "    </tr>\n",
       "    <tr>\n",
       "      <th>n</th>\n",
       "      <td>3.0</td>\n",
       "      <td>3.0</td>\n",
       "      <td>0.0</td>\n",
       "      <td>1.716667</td>\n",
       "      <td>1.155556</td>\n",
       "      <td>0.561111</td>\n",
       "      <td>309.0</td>\n",
       "      <td>208.0</td>\n",
       "      <td>101.0</td>\n",
       "    </tr>\n",
       "    <tr>\n",
       "      <th rowspan=\"2\" valign=\"top\">2018-04-02</th>\n",
       "      <th>g</th>\n",
       "      <td>3.0</td>\n",
       "      <td>2.0</td>\n",
       "      <td>1.0</td>\n",
       "      <td>3.516667</td>\n",
       "      <td>2.516667</td>\n",
       "      <td>1.000000</td>\n",
       "      <td>422.0</td>\n",
       "      <td>302.0</td>\n",
       "      <td>120.0</td>\n",
       "    </tr>\n",
       "    <tr>\n",
       "      <th>k</th>\n",
       "      <td>3.0</td>\n",
       "      <td>2.0</td>\n",
       "      <td>1.0</td>\n",
       "      <td>3.516667</td>\n",
       "      <td>2.516667</td>\n",
       "      <td>1.000000</td>\n",
       "      <td>422.0</td>\n",
       "      <td>302.0</td>\n",
       "      <td>120.0</td>\n",
       "    </tr>\n",
       "  </tbody>\n",
       "</table>\n",
       "</div>"
      ],
      "text/plain": [
       "               clls  verb  lost      avht      avtt     avacw     ht     tt  \\\n",
       "tstp       bz                                                                 \n",
       "2018-04-01 g    3.0   3.0   0.0  1.716667  1.155556  0.561111  309.0  208.0   \n",
       "           k    0.0   0.0   0.0  0.000000  0.000000  0.000000    0.0    0.0   \n",
       "           n    3.0   3.0   0.0  1.716667  1.155556  0.561111  309.0  208.0   \n",
       "2018-04-02 g    3.0   2.0   1.0  3.516667  2.516667  1.000000  422.0  302.0   \n",
       "           k    3.0   2.0   1.0  3.516667  2.516667  1.000000  422.0  302.0   \n",
       "\n",
       "                 acw  \n",
       "tstp       bz         \n",
       "2018-04-01 g   101.0  \n",
       "           k     0.0  \n",
       "           n   101.0  \n",
       "2018-04-02 g   120.0  \n",
       "           k   120.0  "
      ]
     },
     "execution_count": 36,
     "metadata": {},
     "output_type": "execute_result"
    }
   ],
   "source": [
    "apr_18.head()"
   ]
  },
  {
   "cell_type": "code",
   "execution_count": 68,
   "metadata": {},
   "outputs": [],
   "source": [
    "def abs_plot(frame):\n",
    "    gcol=\"#777777\"\n",
    "    lostcol=\"#AC003A\"\n",
    "    verbcol=\"#008EC4\"\n",
    "    ncol=\"#000000\"\n",
    "    kcol=\"#4F7DFF\"\n",
    "\n",
    "    sonn = WeekdayLocator(6)\n",
    "    weekFormatter = DateFormatter('%a %b %d')\n",
    "\n",
    "    fig,ax=plt.subplots()\n",
    "\n",
    "    ax.xaxis.set_major_locator(sonn)\n",
    "    ax.xaxis.set_major_formatter(weekFormatter)\n",
    "\n",
    "    ax.grid(which='major', axis='y', linestyle=':', zorder=0)\n",
    "    ax.set_axisbelow(True)\n",
    "\n",
    "\n",
    "    d_ix=frame.index.get_level_values(0).unique()\n",
    "    g_val=frame.xs('g', level='bz')['clls']\n",
    "    k_val=frame.xs('k', level='bz')['clls']\n",
    "    n_val=frame.xs('n', level='bz')['clls']\n",
    "    verb=frame.xs('g', level='bz')['verb']\n",
    "    lost=frame.xs('g', level='bz')['lost']\n",
    "\n",
    "    bar_g=ax.bar(d_ix,g_val,color=gcol,width=0.8, label='calls')\n",
    "    bar_n=ax.bar(d_ix,n_val, color=ncol, width=0.4, align='edge',label='davon nebenzeit')\n",
    "    bar_verb=ax.bar(d_ix,verb,color=verbcol,width=-0.3, label='verbunden')\n",
    "    bar_lost=ax.bar(d_ix,lost,color=lostcol,width=-0.3, bottom=verb,label='verloren')\n",
    "    #bar_k=ax.bar(d_ix,k_val, color=kcol, width=0.2, align='center')\n",
    "\n",
    "\n",
    "    ax.set_xlabel(labelspucker(d_ix))\n",
    "    ax.set_ylabel('calls',rotation=90)\n",
    "    \n",
    "    \n",
    "    handles, labels = ax.get_legend_handles_labels()\n",
    "    ax.legend(handles, labels)\n",
    "\n",
    "    \n",
    "    \n",
    "    \n",
    "    \n",
    "    fig.show()\n",
    "    \n",
    "    #return d_ix\n",
    "    \n",
    "    "
   ]
  },
  {
   "cell_type": "code",
   "execution_count": 69,
   "metadata": {},
   "outputs": [
    {
     "name": "stdout",
     "output_type": "stream",
     "text": [
      "1\n",
      "Int64Index([1], dtype='int64', name='tstp')\n",
      "2\n",
      "Int64Index([2], dtype='int64', name='tstp')\n",
      "3\n",
      "Int64Index([3], dtype='int64', name='tstp')\n",
      "4\n",
      "Int64Index([4], dtype='int64', name='tstp')\n"
     ]
    }
   ],
   "source": [
    "plotyear=2018\n",
    "\n",
    "for i in range(1,5):\n",
    "    print(i)\n",
    "    plotmonth=daily_av.loc[(d_ix.month == i) & (d_ix.year == plotyear)]\n",
    "    abs_plot(plotmonth)"
   ]
  },
  {
   "cell_type": "code",
   "execution_count": 46,
   "metadata": {},
   "outputs": [
    {
     "data": {
      "text/plain": [
       "Int64Index([11, 12, 1, 2, 3, 4, 5, 6, 7, 8, 9, 10], dtype='int64', name='tstp')"
      ]
     },
     "execution_count": 46,
     "metadata": {},
     "output_type": "execute_result"
    }
   ],
   "source": []
  },
  {
   "cell_type": "code",
   "execution_count": null,
   "metadata": {},
   "outputs": [],
   "source": []
  },
  {
   "cell_type": "code",
   "execution_count": null,
   "metadata": {},
   "outputs": [],
   "source": []
  },
  {
   "cell_type": "code",
   "execution_count": null,
   "metadata": {},
   "outputs": [],
   "source": []
  }
 ],
 "metadata": {
  "kernelspec": {
   "display_name": "Python 3",
   "language": "python",
   "name": "python3"
  },
  "language_info": {
   "codemirror_mode": {
    "name": "ipython",
    "version": 3
   },
   "file_extension": ".py",
   "mimetype": "text/x-python",
   "name": "python",
   "nbconvert_exporter": "python",
   "pygments_lexer": "ipython3",
   "version": "3.4.8"
  }
 },
 "nbformat": 4,
 "nbformat_minor": 2
}
