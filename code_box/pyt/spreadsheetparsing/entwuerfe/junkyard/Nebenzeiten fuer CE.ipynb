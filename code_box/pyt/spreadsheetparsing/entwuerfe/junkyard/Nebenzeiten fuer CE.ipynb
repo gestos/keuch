{
 "cells": [
  {
   "cell_type": "code",
   "execution_count": 1,
   "metadata": {
    "collapsed": true
   },
   "outputs": [],
   "source": [
    "## Import necessary modules\n",
    "import os,sys\n",
    "import pandas as pd\n",
    "import matplotlib.pyplot as plt\n",
    "from matplotlib.dates import date2num, AutoDateFormatter, AutoDateLocator, WeekdayLocator, MonthLocator, DayLocator, DateLocator, DateFormatter\n",
    "from matplotlib.dates import MO, TU, WE, TH, FR, SA, SU\n",
    "from matplotlib.ticker import AutoMinorLocator, AutoLocator, FormatStrFormatter, ScalarFormatter\n",
    "import numpy as np\n",
    "import datetime, calendar\n",
    "from datetime import timedelta\n",
    "import matplotlib.patches as mpatches\n",
    "from itertools import tee\n",
    "\n",
    "%matplotlib tk"
   ]
  },
  {
   "cell_type": "code",
   "execution_count": 2,
   "metadata": {},
   "outputs": [
    {
     "ename": "FileNotFoundError",
     "evalue": "[Errno 2] No such file or directory: '/home/keuch/gits/keuch/code_box/pyt/spreadsheetparsing/test_stats/archiv/'",
     "output_type": "error",
     "traceback": [
      "\u001b[0;31m---------------------------------------------------------------------------\u001b[0m",
      "\u001b[0;31mFileNotFoundError\u001b[0m                         Traceback (most recent call last)",
      "\u001b[0;32m<ipython-input-2-b7edd7e742ab>\u001b[0m in \u001b[0;36m<module>\u001b[0;34m()\u001b[0m\n\u001b[1;32m     10\u001b[0m     \u001b[0;32mreturn\u001b[0m \u001b[0msorted\u001b[0m\u001b[0;34m(\u001b[0m\u001b[0mxlfilelist\u001b[0m\u001b[0;34m)\u001b[0m\u001b[0;34m\u001b[0m\u001b[0m\n\u001b[1;32m     11\u001b[0m \u001b[0;34m\u001b[0m\u001b[0m\n\u001b[0;32m---> 12\u001b[0;31m \u001b[0mxlfilelist\u001b[0m\u001b[0;34m=\u001b[0m\u001b[0mcollectxlfiles\u001b[0m\u001b[0;34m(\u001b[0m\u001b[0marcpath\u001b[0m\u001b[0;34m)\u001b[0m\u001b[0;34m\u001b[0m\u001b[0m\n\u001b[0m",
      "\u001b[0;32m<ipython-input-2-b7edd7e742ab>\u001b[0m in \u001b[0;36mcollectxlfiles\u001b[0;34m(arcpath)\u001b[0m\n\u001b[1;32m      4\u001b[0m     \u001b[0mxlfilelist\u001b[0m\u001b[0;34m=\u001b[0m\u001b[0mlist\u001b[0m\u001b[0;34m(\u001b[0m\u001b[0;34m)\u001b[0m\u001b[0;34m\u001b[0m\u001b[0m\n\u001b[1;32m      5\u001b[0m \u001b[0;34m\u001b[0m\u001b[0m\n\u001b[0;32m----> 6\u001b[0;31m     \u001b[0;32mfor\u001b[0m \u001b[0mxlfile\u001b[0m \u001b[0;32min\u001b[0m \u001b[0mos\u001b[0m\u001b[0;34m.\u001b[0m\u001b[0mlistdir\u001b[0m\u001b[0;34m(\u001b[0m\u001b[0marcpath\u001b[0m\u001b[0;34m)\u001b[0m\u001b[0;34m:\u001b[0m\u001b[0;34m\u001b[0m\u001b[0m\n\u001b[0m\u001b[1;32m      7\u001b[0m         \u001b[0;32mif\u001b[0m \u001b[0mxlfile\u001b[0m\u001b[0;34m.\u001b[0m\u001b[0mstartswith\u001b[0m\u001b[0;34m(\u001b[0m\u001b[0;34m'1458_daily'\u001b[0m\u001b[0;34m)\u001b[0m\u001b[0;34m:\u001b[0m\u001b[0;34m\u001b[0m\u001b[0m\n\u001b[1;32m      8\u001b[0m             \u001b[0mxlfileabs\u001b[0m\u001b[0;34m=\u001b[0m\u001b[0mos\u001b[0m\u001b[0;34m.\u001b[0m\u001b[0mpath\u001b[0m\u001b[0;34m.\u001b[0m\u001b[0mjoin\u001b[0m\u001b[0;34m(\u001b[0m\u001b[0marcpath\u001b[0m\u001b[0;34m,\u001b[0m\u001b[0mxlfile\u001b[0m\u001b[0;34m)\u001b[0m\u001b[0;34m\u001b[0m\u001b[0m\n",
      "\u001b[0;31mFileNotFoundError\u001b[0m: [Errno 2] No such file or directory: '/home/keuch/gits/keuch/code_box/pyt/spreadsheetparsing/test_stats/archiv/'"
     ]
    }
   ],
   "source": [
    "######## GET A LIST OF MATCHING .xls FILES FROM THE GIVEN DIRECTORY\n",
    "arcpath='/home/keuch/gits/keuch/code_box/pyt/spreadsheetparsing/test_stats/archiv/'\n",
    "def collectxlfiles(arcpath):\n",
    "    xlfilelist=list()\n",
    "\n",
    "    for xlfile in os.listdir(arcpath):\n",
    "        if xlfile.startswith('1458_daily'):\n",
    "            xlfileabs=os.path.join(arcpath,xlfile)\n",
    "            xlfilelist.append(xlfileabs)\n",
    "    return sorted(xlfilelist)\n",
    "\n",
    "xlfilelist=collectxlfiles(arcpath)"
   ]
  },
  {
   "cell_type": "code",
   "execution_count": null,
   "metadata": {
    "collapsed": true
   },
   "outputs": [],
   "source": [
    "def turn_xls_to_df(file):\n",
    "    needecols=[0,1,2,3,4,5,12,21] # Liste der Spalten, die aus dem Excelfile gelesen werden sollen\n",
    "    nucolnames=['tstp','clls','ange','verb','ht','tt','acw','lost'] # Namen, die spaeter auf die Spalten kommen\n",
    "    \n",
    "    excel_df=pd.read_excel(file,skiprows=3,skip_footer=1,usecols=needecols)  # die ersten 3 werden nicht benötigt, letzte auch nicht\n",
    "    excel_df['Timestamp'] = pd.to_datetime(excel_df['Timestamp'], format=' %d.%m.%Y %H:%M ') # statt string soll das ein datetime werden\n",
    "    excel_df.columns=nucolnames\n",
    "    excel_df2=excel_df.set_index('tstp').copy() # die timestamps sollen der index sein\n",
    "        \n",
    "    return excel_df2"
   ]
  },
  {
   "cell_type": "code",
   "execution_count": null,
   "metadata": {
    "collapsed": true
   },
   "outputs": [],
   "source": [
    "greatframe=pd.DataFrame() # leeren df initialisieren\n",
    "for i in xlfilelist:\n",
    "    i_frame=turn_xls_to_df(i)\n",
    "    greatframe=greatframe.append(i_frame) \n",
    "# alle files werden ordentlich in df konvertiert und an den ausserhalb der funktion kreierten df angehangen\n",
    "# greatframe # hier sind alle daten vollständig enthalten, die gebraucht werden, der Ur-Frame"
   ]
  },
  {
   "cell_type": "code",
   "execution_count": null,
   "metadata": {
    "collapsed": true
   },
   "outputs": [],
   "source": [
    "uhrzeit=greatframe.index.time # nur die Uhrzeit der Timestamps im Index\n",
    "wday=greatframe.index.weekday\n",
    "\n",
    "# Nebenzeiten von 00:00-07:29 und wieder von 20:00-23:59\n",
    "nulluhr=datetime.time(0, 0)\n",
    "halbacht_am=datetime.time(7, 29)\n",
    "siebzehn30=datetime.time(17, 30)\n",
    "zwanzig=datetime.time(20, 0)\n",
    "vierundzwanzig=datetime.time(23, 59)\n",
    "dreizehn=datetime.time(13, 0)\n",
    "\n",
    "WeekNZ = (wday.isin([0,1,2,3,4]) & ((uhrzeit >= nulluhr) & (uhrzeit <= halbacht_am) | ((uhrzeit >= siebzehn30) & (uhrzeit < vierundzwanzig))))\n",
    "SamsNZ = (wday.isin([5]) & ((uhrzeit >= nulluhr) & (uhrzeit <= halbacht_am) | ((uhrzeit >= dreizehn) & (uhrzeit < vierundzwanzig))))\n",
    "SonnNZ = (wday.isin([6]))"
   ]
  },
  {
   "cell_type": "code",
   "execution_count": null,
   "metadata": {
    "collapsed": true,
    "scrolled": true
   },
   "outputs": [],
   "source": [
    "Nebenzeit_CE = greatframe.loc[(WeekNZ|SamsNZ|SonnNZ)].copy() # Nebenzeit viertelstündlich\n",
    "\n",
    "NZ_CE_DAY=Nebenzeit_CE.groupby(pd.TimeGrouper(freq='D')).sum().copy() # Nebenzeit nach Tagen gruppiert\n",
    "NZ_CE_DAY['wd'] = NZ_CE_DAY.index.weekday"
   ]
  },
  {
   "cell_type": "code",
   "execution_count": null,
   "metadata": {
    "collapsed": true
   },
   "outputs": [],
   "source": [
    "index_month=NZ_CE_DAY.index.month # nur der Monat der Timestamps im Index\n",
    "index_year=NZ_CE_DAY.index.year\n",
    "\n",
    "q1 = ((index_month >= 1) & (index_month <= 3))   # Quartal 1 usw.\n",
    "q2 = ((index_month >= 4) & (index_month <= 6))\n",
    "q3 = ((index_month >= 7) & (index_month <= 9))\n",
    "q4 = ((index_month >= 10) & (index_month <= 12))"
   ]
  },
  {
   "cell_type": "code",
   "execution_count": null,
   "metadata": {
    "collapsed": true
   },
   "outputs": [],
   "source": [
    "-"
   ]
  },
  {
   "cell_type": "code",
   "execution_count": null,
   "metadata": {
    "collapsed": true
   },
   "outputs": [],
   "source": [
    "jahr = 2017\n",
    "Start_2017=datetime.date(2017,1,1)\n",
    "EndQ1_2018=datetime.date(2018,3,31)\n",
    "#Quart=NZ_CE_DAY.loc[(index_year == jahr) & q4].copy()\n",
    "Quart=NZ_CE_DAY.loc[(NZ_CE_DAY.index.date >= Start_2017) & (NZ_CE_DAY.index.date <= EndQ1_2018)].copy()\n",
    "\n",
    "plotzi(Quart,4)"
   ]
  },
  {
   "cell_type": "code",
   "execution_count": null,
   "metadata": {
    "collapsed": true
   },
   "outputs": [],
   "source": []
  },
  {
   "cell_type": "code",
   "execution_count": null,
   "metadata": {
    "collapsed": true
   },
   "outputs": [],
   "source": []
  },
  {
   "cell_type": "code",
   "execution_count": null,
   "metadata": {
    "collapsed": true
   },
   "outputs": [],
   "source": []
  },
  {
   "cell_type": "code",
   "execution_count": null,
   "metadata": {
    "collapsed": true
   },
   "outputs": [],
   "source": []
  },
  {
   "cell_type": "code",
   "execution_count": null,
   "metadata": {
    "collapsed": true
   },
   "outputs": [],
   "source": []
  },
  {
   "cell_type": "code",
   "execution_count": null,
   "metadata": {
    "collapsed": true
   },
   "outputs": [],
   "source": []
  }
 ],
 "metadata": {
  "kernelspec": {
   "display_name": "Python 3",
   "language": "python",
   "name": "python3"
  },
  "language_info": {
   "codemirror_mode": {
    "name": "ipython",
    "version": 3
   },
   "file_extension": ".py",
   "mimetype": "text/x-python",
   "name": "python",
   "nbconvert_exporter": "python",
   "pygments_lexer": "ipython3",
   "version": "3.4.8"
  }
 },
 "nbformat": 4,
 "nbformat_minor": 2
}
