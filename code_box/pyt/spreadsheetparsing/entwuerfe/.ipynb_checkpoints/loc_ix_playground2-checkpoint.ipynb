{
 "cells": [
  {
   "cell_type": "code",
   "execution_count": 1,
   "metadata": {},
   "outputs": [],
   "source": [
    "## Import necessary modules\n",
    "import pandas as pd\n",
    "import matplotlib.pyplot as plt\n",
    "from matplotlib.dates import AutoDateFormatter, AutoDateLocator, WeekdayLocator, MonthLocator, DayLocator, DateLocator, DateFormatter\n",
    "from matplotlib.dates import MO, TU, WE, TH, FR, SA, SU\n",
    "from matplotlib.ticker import AutoMinorLocator\n",
    "import numpy as np\n",
    "import datetime, calendar\n",
    "%matplotlib inline\n",
    "\n",
    "\n",
    "## Import data frome pickle generated from hotline_daily.py\n",
    "data = pd.read_pickle('/home/keuch/gits/keuch/code_box/pyt/spreadsheetparsing/entwuerfe/pickle_2304.pkl')"
   ]
  },
  {
   "cell_type": "code",
   "execution_count": 2,
   "metadata": {
    "collapsed": true
   },
   "outputs": [],
   "source": [
    "def rearrange(df):\n",
    "    index_filter=df.loc[['tix']] ## select all hours-index rows\n",
    "    \n",
    "    hourse=list(range(0,25))  ## these is from 0 to 24 (25 entries!) and maps the hour indices\n",
    "    mh=index_filter[hourse]  ## columns with half- and hour steps were named 0-24\n",
    "    oldcols=mh.columns.values.tolist() ## list of the names of the hourse\n",
    "    newcols=mh.loc['tix'].drop_duplicates().loc['tix'].values.tolist() ## one row of the hour indices provides the new column names\n",
    "    cols=dict(zip(oldcols,newcols)) ## old column names get mapped to new columns names\n",
    "\n",
    "    mhnew=df.rename(columns=cols).drop('tix') ## new dataframe has the old 'tix' entries as column names; 'tix' rows are dropped since not needed any more\n",
    "    mhnew=mhnew.reset_index().set_index(['xlday']).rename(columns={'index':'status'}) ## new index will be the excel date numbers, old index is moved to a column named 'status'\n",
    "    \n",
    "    return mhnew, newcols"
   ]
  },
  {
   "cell_type": "code",
   "execution_count": 3,
   "metadata": {
    "collapsed": true
   },
   "outputs": [],
   "source": [
    "def timerange(*,df, years, months=range(1,13), weeks=range(1,53), weekdays=['Mon','Tue','Wed','Thu','Fri','Sat','Sun']):\n",
    "    resultat=df.loc[(df['year'].isin(years)) & (df['month'].isin(months)) & (df['week'].isin(weeks)) & (df['weekday'].isin(weekdays))]\n",
    "    return resultat"
   ]
  },
  {
   "cell_type": "markdown",
   "metadata": {},
   "source": [
    "# end of function definitions"
   ]
  },
  {
   "cell_type": "code",
   "execution_count": 4,
   "metadata": {
    "collapsed": true,
    "scrolled": true
   },
   "outputs": [],
   "source": [
    "ndata,hcols=rearrange(data) ## rearranged dataframe with hour_indices as colums and list of hour_index-columns for future use\n",
    "#ndata.head()"
   ]
  },
  {
   "cell_type": "markdown",
   "metadata": {
    "collapsed": true
   },
   "source": [
    "### time range filter:\n",
    "Arguments must be passed as a list or as a range. Example:\n",
    "\n",
    "**timerange(df=ndata,years=[2016,2017],months=[3],weeks=[6],weekdays=['Sun','Sun'])**\n",
    "\n",
    "Note the double entry for a single weekday!\n",
    "Leaving parameters empty gives default values (=all). Months and Weeks may be mutually exclusive and raise exceptions"
   ]
  },
  {
   "cell_type": "code",
   "execution_count": 5,
   "metadata": {
    "collapsed": true
   },
   "outputs": [],
   "source": [
    "plotframe = timerange(df=ndata,years=[2017],weeks=[4])"
   ]
  },
  {
   "cell_type": "code",
   "execution_count": 6,
   "metadata": {
    "collapsed": true
   },
   "outputs": [],
   "source": [
    "pf = plotframe.drop(hcols,axis=1)  ## at this place, we dont need the hourly figures, only day sums\n",
    "\n",
    "#pf.loc[:, pf.loc[['status']] == 'angekommen']  THIS DOES NOT WORK. The Colon ist wrong and stuff\n",
    "#pf.loc[pf['status'] == 'angekommen'].summa\n"
   ]
  },
  {
   "cell_type": "code",
   "execution_count": 7,
   "metadata": {
    "collapsed": true
   },
   "outputs": [],
   "source": [
    "def fplot(zeitspanne,frame,titel):\n",
    "    fig = plt.figure()\n",
    "    ax = fig.add_subplot(111)\n",
    "   \n",
    "    x_achse_an=pf.loc[frame['status'] == 'angekommen'].date.values\n",
    "    y_achse_an=pf.loc[frame['status'] == 'angekommen'].summa.values\n",
    "    x_achse_vb=pf.loc[frame['status'] == 'verbunden'].date.values\n",
    "    y_achse_vb=pf.loc[frame['status'] == 'verbunden'].summa.values\n",
    "    x_achse_vl=pf.loc[frame['status'] == 'verloren'].date.values\n",
    "    y_achse_vl=pf.loc[frame['status'] == 'verloren'].summa.values\n",
    "    x_achse_sla=pf.loc[frame['status'] == 'servicelevel'].date.values\n",
    "    y_achse_sla=pf.loc[frame['status'] == 'servicelevel'].summa.values\n",
    "    \n",
    "    if len(x_achse_an) < 8:\n",
    "        plt.rcParams[\"figure.figsize\"] = [6,4]\n",
    "\n",
    "\n",
    "    if zeitspanne == 'jahr':\n",
    "        xtit='gesamtes Jahr'\n",
    "    elif zeitspanne == 'monat':\n",
    "        start=x_achse_an.min().strftime('%d.%m.%Y')\n",
    "        ende=x_achse_an.max().strftime('%d.%m.%Y')\n",
    "        ax.set_title('Anrufe '+start+' - '+ende)\n",
    "        xtick_locator_mj = DayLocator(bymonthday=range(3,32,4))\n",
    "        xtick_locator_mn = DayLocator(bymonthday=range(1,32,4))\n",
    "        xtick_formatter = DateFormatter('%a,%d.%m.')\n",
    "        ax.xaxis.set_major_locator(xtick_locator_mj)\n",
    "        ax.xaxis.set_minor_locator(xtick_locator_mn)\n",
    "        ax.xaxis.set_major_formatter(xtick_formatter)\n",
    "        ax.xaxis.set_minor_formatter(xtick_formatter)\n",
    "        ax.xaxis.set_tick_params(which='major', pad=1, length=20, width=1.5, labelsize=6,zorder=20)\n",
    "        ax.xaxis.set_tick_params(which='minor', pad=1, length=5, width=1.5, labelsize=6,zorder=2)\n",
    "    elif zeitspanne == 'woche':\n",
    "        kw=x_achse_an.min().strftime('%W')\n",
    "        ax.set_title('Anrufe KW '+kw)\n",
    "        ax.title.set_position([.5, 1.05])\n",
    "        xtick_locator_mn = WeekdayLocator(byweekday=[TU,WE,TH,FR,SA,SU])\n",
    "        xtick_formatter_mn = DateFormatter('%d.%m.')\n",
    "        xtick_locator_mj = WeekdayLocator(byweekday=MO)\n",
    "        xtick_formatter_mj = DateFormatter('%a,%d.%m.')\n",
    "        ax.xaxis.set_major_locator(xtick_locator_mj)\n",
    "        ax.xaxis.set_major_formatter(xtick_formatter_mj)\n",
    "        ax.xaxis.set_minor_locator(xtick_locator_mn)\n",
    "        ax.xaxis.set_minor_formatter(xtick_formatter_mn)\n",
    "        ax.xaxis.set_tick_params(which='both', pad=1, length=5, width=1.5, labelsize=6,zorder=20)\n",
    "        # Y-Axis: major ticks every 50, minor ticks every 10  \n",
    "        ax.set_axisbelow(True)\n",
    "        ax.yaxis.grid(True)\n",
    "        ax.yaxis.set_minor_locator(AutoMinorLocator(5))\n",
    "        ax.yaxis.grid(True, which='minor', color='#E8E6BF', linestyle='--', alpha=0.5, zorder=0)\n",
    "        ax.yaxis.grid(True, which='major', color='#6DC3EC', linestyle='-', zorder=3)\n",
    "    \n",
    "    ax.set_zorder(5) \n",
    "    ax.margins(0.01)\n",
    "    ax.set_ylabel('Anrufe')\n",
    "    an_bar=ax.bar(x_achse_an,y_achse_an,width=0.8, alpha=1, color='#8F8F8F', label='angekommen', align='center',zorder=5)\n",
    "    vb_bar=ax.bar(x_achse_vb,y_achse_vb,width=0.6, alpha=1, color='#13B3F5', label='angekommen', align='center',zorder=5)\n",
    "    vl_bar=ax.bar(x_achse_vl,y_achse_vl,width=0.4, alpha=1, color='#F52013', label='angekommen', align='center',zorder=5)\n",
    "    \n",
    "    for bar in vb_bar:\n",
    "        coords=[bar.get_x(),bar.get_height()]\n",
    "        tde=int(coords[1])\n",
    "        tx=ax.text(coords[0]+0.3,coords[1]+1.5,s=str(tde),size=9,color='#13B3F5',weight='bold',zorder=100,ha='center')\n",
    "        #tx=ax.text(coords[0]+0.3,coords[1]+1.5,s=str(tde),size=9,color='#13B3F5',weight='bold',zorder=100,ha='center')\n",
    "        #tx.set_bbox(dict(color='#ffffff', alpha=0.5,capstyle='butt',zorder=0))\n",
    "\n",
    "        \n",
    "    ax2 = ax.twinx()\n",
    "    ax2.set_zorder(5) \n",
    "    ax2.set_axisbelow(True)\n",
    "    slamark=ax2.plot(x_achse_sla,y_achse_sla*100,c='#966B6E',marker='.', ls='None')\n",
    "    ax2.axhline(y=80, color='#966B6E', alpha=0.5, linestyle='--', label=\"80% SLA\",zorder=0) # show the desired SLA\n",
    "    ax2.set_ylabel('% SLA')\n",
    "    lowest_sla=y_achse_sla.min()*100\n",
    "    if lowest_sla > 50:\n",
    "        ax2.set_ylim(bottom=50, top=100)\n",
    "    else:\n",
    "        ax2.set_ylim(bottom=lowest_sla, top=100)\n",
    "    for coords in slamark[0].get_xydata():\n",
    "        tde=round(coords[1],1)\n",
    "        tx=ax2.text(coords[0],ax2.get_ylim()[1]+1.5,s=str(tde)+'%',size=7,color='#966B6E',weight='bold',ha='center',zorder=10)\n",
    "        #tx.set_bbox(dict(edgecolor='#ffffff', alpha=0.5,capstyle='butt',zorder=0))\n",
    "    \n",
    "    fig.tight_layout()"
   ]
  },
  {
   "cell_type": "code",
   "execution_count": 8,
   "metadata": {},
   "outputs": [
    {
     "data": {
      "image/png": "[encoded data removed]",
      "text/plain": [
       "<matplotlib.figure.Figure at 0xac90d50c>"
      ]
     },
     "metadata": {},
     "output_type": "display_data"
    }
   ],
   "source": [
    "## Woche oder Monat angeben\n",
    "for i in range (4,5):\n",
    "    plotframe = timerange(df=ndata,years=[2017],weeks=[i])\n",
    "    pf = plotframe.drop(hcols,axis=1)\n",
    "    fplot('woche',pf,'arbeitstitel')\n"
   ]
  },
  {
   "cell_type": "markdown",
   "metadata": {},
   "source": []
  }
 ],
 "metadata": {
  "kernelspec": {
   "display_name": "Python 3",
   "language": "python",
   "name": "python3"
  },
  "language_info": {
   "codemirror_mode": {
    "name": "ipython",
    "version": 3
   },
   "file_extension": ".py",
   "mimetype": "text/x-python",
   "name": "python",
   "nbconvert_exporter": "python",
   "pygments_lexer": "ipython3",
   "version": "3.4.5"
  }
 },
 "nbformat": 4,
 "nbformat_minor": 2
}
