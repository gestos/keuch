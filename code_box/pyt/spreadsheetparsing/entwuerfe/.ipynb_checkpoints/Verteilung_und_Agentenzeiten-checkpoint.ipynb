{
 "cells": [
  {
   "cell_type": "code",
   "execution_count": 1,
   "metadata": {},
   "outputs": [],
   "source": [
    "## Import necessary modules\n",
    "import pandas as pd\n",
    "import matplotlib.pyplot as plt\n",
    "from matplotlib.dates import date2num, AutoDateFormatter, AutoDateLocator, WeekdayLocator, MonthLocator, DayLocator, DateLocator, DateFormatter\n",
    "from matplotlib.dates import MO, TU, WE, TH, FR, SA, SU\n",
    "from matplotlib.ticker import AutoMinorLocator\n",
    "import numpy as np\n",
    "import datetime, calendar\n",
    "from datetime import datetime\n",
    "import matplotlib.patches as mpatches\n",
    "%matplotlib tk\n",
    "\n",
    "## Import data frome pickle generated from hotline_daily.py\n",
    "data = pd.read_pickle('/home/keuch/gits/keuch/code_box/pyt/spreadsheetparsing/entwuerfe/agentenpickel.pkl')\n",
    "data2=data.drop(['dt','dd','hh','tt','acw','wd','yy','ag','ht','vl','mm','an'],1)\n",
    "wsplit=data2.groupby(['ww','lo','bz']).sum()"
   ]
  },
  {
   "cell_type": "code",
   "execution_count": 2,
   "metadata": {
    "collapsed": true
   },
   "outputs": [],
   "source": [
    "def ttmonatl(frame,agent):\n",
    "    fig=plt.figure(figsize=(6,4))\n",
    "    fig.suptitle('talk- und handlingtimes '+agent)\n",
    "    aht=\"#003873\"\n",
    "    aacw=\"#EE0042\"\n",
    "    att=\"#899EB2\"\n",
    "    nzb=\"#C7798F\"\n",
    "\n",
    "    ax=fig.add_subplot(111)\n",
    "    ax.margins(0,0)\n",
    "    ax.set_xlabel('Monat')\n",
    "    ax.set_ylabel('Minuten')\n",
    "    ax.set_xticks(ustck.index)\n",
    "    ax.set_ylim(0,10)\n",
    "    ax.axhline(y=3.5,color=nzb,ls='--',alpha=0.6, label='3:30min')\n",
    "    htime=ax.plot(frame.index,ustck['aht',agent],color=aht,label='aht')\n",
    "    ttime=ax.plot(frame.index,ustck['att',agent],color=att,label='att')\n",
    "    wtime=ax.plot(frame.index,ustck['aacw',agent],color=aacw,label='aacw')\n",
    "    for mon in htime:\n",
    "        xpos=mon.get_xdata()\n",
    "        heig=mon.get_ydata()\n",
    "        for coord in xpos:\n",
    "            calls=frame['be',agent].values[coord-1]\n",
    "            note=ax.text(coord,ax.get_ylim()[1], s=str(int(calls)),ha='center')\n",
    "\n",
    "    ax.legend()"
   ]
  },
  {
   "cell_type": "code",
   "execution_count": 3,
   "metadata": {},
   "outputs": [
    {
     "data": {
      "text/plain": [
       "<matplotlib.legend.Legend at 0xaba431cc>"
      ]
     },
     "execution_count": 3,
     "metadata": {},
     "output_type": "execute_result"
    }
   ],
   "source": [
    "unstckd=wsplit.unstack().unstack()\n",
    "kernzeit=unstckd['be','k']\n",
    "nebenzeit=unstckd['be','n']\n",
    "\n",
    "fig=plt.figure(figsize=(12,6))\n",
    "fig.suptitle('Anrufverteilung Hagenow zu Berlin')\n",
    "kzh=\"#003873\"\n",
    "kzb=\"#EE0042\"\n",
    "nzh=\"#899EB2\"\n",
    "nzb=\"#C7798F\"\n",
    "\n",
    "ax=fig.add_subplot(131)\n",
    "ax.margins(0,0)\n",
    "ax.set_facecolor('#FFFAE4')\n",
    "ax.set_xticks(unstckd.index)\n",
    "ax.set_title('Gesamte Zeit')\n",
    "ax.set_ylabel('angenommene Calls')\n",
    "ax.set_xlabel('Kalenderwoche')\n",
    "ax.yaxis.grid(True, which='major', color='#8C8C8C', linestyle=':')\n",
    "ax.set_axisbelow(True)\n",
    "p2 = ax.bar(unstckd.index, nebenzeit['B']+kernzeit['B'], width=.8, color=kzb, bottom=nebenzeit['H']+kernzeit['H'], label=\"Ber\")\n",
    "p1 = ax.bar(unstckd.index, nebenzeit['H']+kernzeit['H'], width=.8, color=kzh, label=\"Hag\")\n",
    "maxcalls=ax.get_ylim()\n",
    "\n",
    "ax2=fig.add_subplot(132)\n",
    "ax2.margins(0,0)\n",
    "ax2.set_facecolor('#F4FBF3')\n",
    "ax2.set_xticks(unstckd.index)\n",
    "ax2.set_title('Kernzeit 11:30-19:30')\n",
    "ax2.set_ylim(maxcalls)\n",
    "p2 = ax2.bar(unstckd.index, kernzeit['B'], width=.8, color=nzb, bottom=kernzeit['H'], label=\"Ber\")\n",
    "p1 = ax2.bar(unstckd.index, kernzeit['H'], width=.8, color=nzh, label=\"Hag\")\n",
    "\n",
    "ax3=fig.add_subplot(133)\n",
    "ax3.margins(0,0)\n",
    "ax3.set_facecolor('#F4FBF3')\n",
    "ax3.set_xticks(unstckd.index)\n",
    "ax3.set_title('Nebenzeit 19:30-11:30')\n",
    "ax3.set_ylim(maxcalls)\n",
    "p2 = ax3.bar(unstckd.index, nebenzeit['B'], width=.8, color=nzb, bottom=nebenzeit['H'], label=\"Ber\")\n",
    "p1 = ax3.bar(unstckd.index, nebenzeit['H'], width=.8, color=nzh, label=\"Hag\")\n",
    "\n",
    "ax.legend()\n",
    "ax2.legend()\n",
    "ax3.legend()"
   ]
  },
  {
   "cell_type": "code",
   "execution_count": 4,
   "metadata": {},
   "outputs": [],
   "source": [
    "colfunx={'tt':'sum','acw':'sum','be':'sum'}\n",
    "monate=data.groupby(['mm','ag']).agg(colfunx)\n",
    "monate['ht']=monate.tt+monate.acw\n",
    "monate['att']=monate['tt']/monate.be\n",
    "monate['aacw']=monate['acw']/monate.be\n",
    "monate['aht']=monate['ht']/monate.be\n",
    "ustck=monate.unstack()"
   ]
  },
  {
   "cell_type": "code",
   "execution_count": 5,
   "metadata": {
    "collapsed": true
   },
   "outputs": [],
   "source": [
    "ttmonatl(ustck,'neumath')"
   ]
  },
  {
   "cell_type": "code",
   "execution_count": null,
   "metadata": {
    "collapsed": true
   },
   "outputs": [],
   "source": []
  }
 ],
 "metadata": {
  "kernelspec": {
   "display_name": "Python 3",
   "language": "python",
   "name": "python3"
  },
  "language_info": {
   "codemirror_mode": {
    "name": "ipython",
    "version": 3
   },
   "file_extension": ".py",
   "mimetype": "text/x-python",
   "name": "python",
   "nbconvert_exporter": "python",
   "pygments_lexer": "ipython3",
   "version": "3.4.5"
  }
 },
 "nbformat": 4,
 "nbformat_minor": 2
}
