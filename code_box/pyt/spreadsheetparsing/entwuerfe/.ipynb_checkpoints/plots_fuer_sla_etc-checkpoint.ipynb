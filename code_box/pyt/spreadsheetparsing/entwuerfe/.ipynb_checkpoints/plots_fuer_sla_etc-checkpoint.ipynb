{
 "cells": [
  {
   "cell_type": "code",
   "execution_count": 211,
   "metadata": {
    "collapsed": true
   },
   "outputs": [],
   "source": [
    "import pandas as pd\n",
    "import matplotlib.pyplot as plt\n",
    "%matplotlib inline"
   ]
  },
  {
   "cell_type": "code",
   "execution_count": 212,
   "metadata": {},
   "outputs": [],
   "source": [
    "data = pd.read_pickle('pickle_hotline_0904.pkl')"
   ]
  },
  {
   "cell_type": "code",
   "execution_count": 213,
   "metadata": {},
   "outputs": [],
   "source": [
    "d1 = data.loc[['angekommen','verbunden']][['day','summa']]"
   ]
  },
  {
   "cell_type": "code",
   "execution_count": 214,
   "metadata": {},
   "outputs": [
    {
     "data": {
      "text/html": [
       "<div>\n",
       "<table border=\"1\" class=\"dataframe\">\n",
       "  <thead>\n",
       "    <tr style=\"text-align: right;\">\n",
       "      <th></th>\n",
       "      <th>day</th>\n",
       "      <th>week</th>\n",
       "      <th>0</th>\n",
       "      <th>1</th>\n",
       "      <th>2</th>\n",
       "      <th>3</th>\n",
       "      <th>4</th>\n",
       "      <th>5</th>\n",
       "      <th>6</th>\n",
       "      <th>7</th>\n",
       "      <th>...</th>\n",
       "      <th>16</th>\n",
       "      <th>17</th>\n",
       "      <th>18</th>\n",
       "      <th>19</th>\n",
       "      <th>20</th>\n",
       "      <th>21</th>\n",
       "      <th>22</th>\n",
       "      <th>23</th>\n",
       "      <th>24</th>\n",
       "      <th>summa</th>\n",
       "    </tr>\n",
       "  </thead>\n",
       "  <tbody>\n",
       "    <tr>\n",
       "      <th>tix</th>\n",
       "      <td>42689</td>\n",
       "      <td>46</td>\n",
       "      <td>00:00-00:30</td>\n",
       "      <td>00:30-01:30</td>\n",
       "      <td>01:30-02:30</td>\n",
       "      <td>02:30-03:30</td>\n",
       "      <td>03:30-04:30</td>\n",
       "      <td>04:30-05:30</td>\n",
       "      <td>05:30-06:30</td>\n",
       "      <td>06:30-07:30</td>\n",
       "      <td>...</td>\n",
       "      <td>15:30-16:30</td>\n",
       "      <td>16:30-17:30</td>\n",
       "      <td>17:30-18:30</td>\n",
       "      <td>18:30-19:30</td>\n",
       "      <td>19:30-20:30</td>\n",
       "      <td>20:30-21:30</td>\n",
       "      <td>21:30-22:30</td>\n",
       "      <td>22:30-23:30</td>\n",
       "      <td>23:30-00:00</td>\n",
       "      <td>.</td>\n",
       "    </tr>\n",
       "    <tr>\n",
       "      <th>angekommen</th>\n",
       "      <td>42689</td>\n",
       "      <td>46</td>\n",
       "      <td>0</td>\n",
       "      <td>0</td>\n",
       "      <td>0</td>\n",
       "      <td>0</td>\n",
       "      <td>0</td>\n",
       "      <td>0</td>\n",
       "      <td>1</td>\n",
       "      <td>3</td>\n",
       "      <td>...</td>\n",
       "      <td>17</td>\n",
       "      <td>0</td>\n",
       "      <td>5</td>\n",
       "      <td>4</td>\n",
       "      <td>1</td>\n",
       "      <td>0</td>\n",
       "      <td>0</td>\n",
       "      <td>0</td>\n",
       "      <td>0</td>\n",
       "      <td>152</td>\n",
       "    </tr>\n",
       "    <tr>\n",
       "      <th>verbunden</th>\n",
       "      <td>42689</td>\n",
       "      <td>46</td>\n",
       "      <td>0</td>\n",
       "      <td>0</td>\n",
       "      <td>0</td>\n",
       "      <td>0</td>\n",
       "      <td>0</td>\n",
       "      <td>0</td>\n",
       "      <td>1</td>\n",
       "      <td>3</td>\n",
       "      <td>...</td>\n",
       "      <td>16</td>\n",
       "      <td>0</td>\n",
       "      <td>5</td>\n",
       "      <td>4</td>\n",
       "      <td>1</td>\n",
       "      <td>0</td>\n",
       "      <td>0</td>\n",
       "      <td>0</td>\n",
       "      <td>0</td>\n",
       "      <td>132</td>\n",
       "    </tr>\n",
       "    <tr>\n",
       "      <th>verloren</th>\n",
       "      <td>42689</td>\n",
       "      <td>46</td>\n",
       "      <td>0</td>\n",
       "      <td>0</td>\n",
       "      <td>0</td>\n",
       "      <td>0</td>\n",
       "      <td>0</td>\n",
       "      <td>0</td>\n",
       "      <td>0</td>\n",
       "      <td>0</td>\n",
       "      <td>...</td>\n",
       "      <td>1</td>\n",
       "      <td>0</td>\n",
       "      <td>0</td>\n",
       "      <td>0</td>\n",
       "      <td>0</td>\n",
       "      <td>0</td>\n",
       "      <td>0</td>\n",
       "      <td>0</td>\n",
       "      <td>0</td>\n",
       "      <td>20</td>\n",
       "    </tr>\n",
       "    <tr>\n",
       "      <th>servicelevel</th>\n",
       "      <td>42689</td>\n",
       "      <td>46</td>\n",
       "      <td>.</td>\n",
       "      <td>.</td>\n",
       "      <td>.</td>\n",
       "      <td>.</td>\n",
       "      <td>.</td>\n",
       "      <td>.</td>\n",
       "      <td>1</td>\n",
       "      <td>1</td>\n",
       "      <td>...</td>\n",
       "      <td>0.941176</td>\n",
       "      <td>.</td>\n",
       "      <td>1</td>\n",
       "      <td>1</td>\n",
       "      <td>1</td>\n",
       "      <td>.</td>\n",
       "      <td>.</td>\n",
       "      <td>.</td>\n",
       "      <td>.</td>\n",
       "      <td>0.868421</td>\n",
       "    </tr>\n",
       "  </tbody>\n",
       "</table>\n",
       "<p>5 rows × 28 columns</p>\n",
       "</div>"
      ],
      "text/plain": [
       "                day  week            0            1            2            3  \\\n",
       "tix           42689    46  00:00-00:30  00:30-01:30  01:30-02:30  02:30-03:30   \n",
       "angekommen    42689    46            0            0            0            0   \n",
       "verbunden     42689    46            0            0            0            0   \n",
       "verloren      42689    46            0            0            0            0   \n",
       "servicelevel  42689    46            .            .            .            .   \n",
       "\n",
       "                        4            5            6            7    ...     \\\n",
       "tix           03:30-04:30  04:30-05:30  05:30-06:30  06:30-07:30    ...      \n",
       "angekommen              0            0            1            3    ...      \n",
       "verbunden               0            0            1            3    ...      \n",
       "verloren                0            0            0            0    ...      \n",
       "servicelevel            .            .            1            1    ...      \n",
       "\n",
       "                       16           17           18           19           20  \\\n",
       "tix           15:30-16:30  16:30-17:30  17:30-18:30  18:30-19:30  19:30-20:30   \n",
       "angekommen             17            0            5            4            1   \n",
       "verbunden              16            0            5            4            1   \n",
       "verloren                1            0            0            0            0   \n",
       "servicelevel     0.941176            .            1            1            1   \n",
       "\n",
       "                       21           22           23           24     summa  \n",
       "tix           20:30-21:30  21:30-22:30  22:30-23:30  23:30-00:00         .  \n",
       "angekommen              0            0            0            0       152  \n",
       "verbunden               0            0            0            0       132  \n",
       "verloren                0            0            0            0        20  \n",
       "servicelevel            .            .            .            .  0.868421  \n",
       "\n",
       "[5 rows x 28 columns]"
      ]
     },
     "execution_count": 214,
     "metadata": {},
     "output_type": "execute_result"
    }
   ],
   "source": [
    "data.head(5)"
   ]
  },
  {
   "cell_type": "code",
   "execution_count": 215,
   "metadata": {},
   "outputs": [
    {
     "name": "stdout",
     "output_type": "stream",
     "text": [
      "[0, 1, 2, 3, 4, 5, 6, 7, 8, 9, 10, 11, 12, 13, 14, 15, 16, 17, 18, 19, 20, 21, 22, 23, 24]\n"
     ]
    }
   ],
   "source": [
    "time_index = list(range(0,25))\n",
    "#time_index.insert(0,'day')\n",
    "print time_index\n",
    "verlorene_daily=data.loc['verloren'][time_index]\n",
    "sla_daily=data.loc['servicelevel'][time_index]"
   ]
  },
  {
   "cell_type": "code",
   "execution_count": 216,
   "metadata": {},
   "outputs": [
    {
     "name": "stdout",
     "output_type": "stream",
     "text": [
      "(142, 25)\n",
      "(142, 25)\n"
     ]
    },
    {
     "data": {
      "text/plain": [
       "pandas.core.series.Series"
      ]
     },
     "execution_count": 216,
     "metadata": {},
     "output_type": "execute_result"
    }
   ],
   "source": [
    "print verlorene_daily.shape\n",
    "print sla_daily.shape\n",
    "lostcalls_av = verlorene_daily.mean()\n",
    "type(lostcalls_av)"
   ]
  },
  {
   "cell_type": "code",
   "execution_count": 217,
   "metadata": {},
   "outputs": [
    {
     "data": {
      "text/plain": [
       "<Container object of 25 artists>"
      ]
     },
     "execution_count": 217,
     "metadata": {},
     "output_type": "execute_result"
    },
    {
     "data": {
      "image/png": "[encoded data removed]",
      "text/plain": [
       "<matplotlib.figure.Figure at 0xae760bac>"
      ]
     },
     "metadata": {},
     "output_type": "display_data"
    }
   ],
   "source": [
    "\n",
    "\n"
   ]
  },
  {
   "cell_type": "code",
   "execution_count": 245,
   "metadata": {},
   "outputs": [
    {
     "name": "stdout",
     "output_type": "stream",
     "text": [
      "<class 'pandas.core.frame.DataFrame'>\n",
      "<class 'pandas.core.series.Series'>\n",
      "0     0.666667\n",
      "1          NaN\n",
      "2          NaN\n",
      "3     0.533333\n",
      "4     1.000000\n",
      "5     0.500000\n",
      "6     0.750000\n",
      "7     0.916876\n",
      "8     0.946542\n",
      "9     0.871084\n",
      "10    0.860685\n",
      "11    0.853108\n",
      "12    0.896804\n",
      "13    0.938879\n",
      "14    0.928221\n",
      "15    0.914485\n",
      "16    0.888185\n",
      "17    0.936928\n",
      "18    0.839348\n",
      "19    0.846686\n",
      "20    0.886719\n",
      "21    0.777778\n",
      "22    0.742424\n",
      "23    0.571429\n",
      "24         NaN\n",
      "dtype: float64\n"
     ]
    }
   ],
   "source": [
    "print type (sla_daily)\n",
    "sla_daily = sla_daily.iloc[:,time_index].apply(pd.to_numeric, errors=\"coerce\")\n",
    "#print sla_daily[time_index].count().head(5)\n",
    "#print sla_daily[time_index].sum().head(5)\n",
    "sla_by_hix=sla_daily[time_index].mean()\n",
    "print type(sla_by_hix)\n",
    "print sla_by_hix"
   ]
  },
  {
   "cell_type": "code",
   "execution_count": 248,
   "metadata": {},
   "outputs": [
    {
     "data": {
      "text/plain": [
       "<matplotlib.lines.Line2D at 0xadda4a8c>"
      ]
     },
     "execution_count": 248,
     "metadata": {},
     "output_type": "execute_result"
    },
    {
     "data": {
      "image/png": "[encoded data removed]",
      "text/plain": [
       "<matplotlib.figure.Figure at 0xadea62ac>"
      ]
     },
     "metadata": {},
     "output_type": "display_data"
    }
   ],
   "source": [
    "plt.ylabel('verlorene im Durchschnitt')\n",
    "plt.xlabel('Stunde')\n",
    "plt.bar(lostcalls_av.index,lostcalls_av,align=\"center\")\n",
    "plt.plot(sla_by_hix,'g+')\n",
    "plt.axhline(y=0.8, color='r', linestyle='-')"
   ]
  },
  {
   "cell_type": "code",
   "execution_count": 258,
   "metadata": {},
   "outputs": [
    {
     "name": "stdout",
     "output_type": "stream",
     "text": [
      "0.741935483871\n",
      "0.75\n"
     ]
    }
   ],
   "source": [
    "data_num = data.iloc[:,time_index].apply(pd.to_numeric, errors=\"coerce\")\n",
    "calls_nullbishalb = data.loc['angekommen'][6].sum()\n",
    "verb_nullbishalb = data.loc['verbunden'][6].sum()\n",
    "verl_nullbishalb = data.loc['verloren'][6].sum()\n",
    "calls_nullbishalb, verb_nullbishalb, verl_nullbishalb\n",
    "print verb_nullbishalb/calls_nullbishalb\n",
    "print sla_by_hix[6]\n"
   ]
  },
  {
   "cell_type": "code",
   "execution_count": 259,
   "metadata": {},
   "outputs": [
    {
     "name": "stdout",
     "output_type": "stream",
     "text": [
      "0.89029535865\n",
      "0.916876226146\n"
     ]
    }
   ],
   "source": [
    "calls_nullbishalb = data.loc['angekommen'][7].sum()\n",
    "verb_nullbishalb = data.loc['verbunden'][7].sum()\n",
    "verl_nullbishalb = data.loc['verloren'][7].sum()\n",
    "calls_nullbishalb, verb_nullbishalb, verl_nullbishalb\n",
    "print verb_nullbishalb/calls_nullbishalb\n",
    "print sla_by_hix[7]"
   ]
  },
  {
   "cell_type": "code",
   "execution_count": 260,
   "metadata": {},
   "outputs": [
    {
     "name": "stdout",
     "output_type": "stream",
     "text": [
      "0.94403892944\n",
      "0.946542492595\n"
     ]
    }
   ],
   "source": [
    "calls_nullbishalb = data.loc['angekommen'][8].sum()\n",
    "verb_nullbishalb = data.loc['verbunden'][8].sum()\n",
    "verl_nullbishalb = data.loc['verloren'][8].sum()\n",
    "calls_nullbishalb, verb_nullbishalb, verl_nullbishalb\n",
    "print verb_nullbishalb/calls_nullbishalb\n",
    "print sla_by_hix[8]"
   ]
  },
  {
   "cell_type": "markdown",
   "metadata": {},
   "source": [
    "**abweichende Werte für mean() und handgerechnet...**"
   ]
  },
  {
   "cell_type": "code",
   "execution_count": null,
   "metadata": {
    "collapsed": true
   },
   "outputs": [],
   "source": []
  }
 ],
 "metadata": {
  "kernelspec": {
   "display_name": "Python 2",
   "language": "python",
   "name": "python2"
  },
  "language_info": {
   "codemirror_mode": {
    "name": "ipython",
    "version": 2
   },
   "file_extension": ".py",
   "mimetype": "text/x-python",
   "name": "python",
   "nbconvert_exporter": "python",
   "pygments_lexer": "ipython2",
   "version": "2.7.12"
  }
 },
 "nbformat": 4,
 "nbformat_minor": 2
}
