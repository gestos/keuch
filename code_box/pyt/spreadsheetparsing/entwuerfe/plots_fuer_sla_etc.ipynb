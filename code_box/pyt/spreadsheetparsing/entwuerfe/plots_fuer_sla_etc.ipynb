{
 "cells": [
  {
   "cell_type": "code",
   "execution_count": 2,
   "metadata": {},
   "outputs": [],
   "source": [
    "import pandas as pd\n",
    "import matplotlib.pyplot as plt\n",
    "%matplotlib gtk"
   ]
  },
  {
   "cell_type": "code",
   "execution_count": 4,
   "metadata": {
    "collapsed": true
   },
   "outputs": [],
   "source": [
    "data = pd.read_pickle('pickle_hotline_0904.pkl')"
   ]
  },
  {
   "cell_type": "code",
   "execution_count": 5,
   "metadata": {
    "collapsed": true
   },
   "outputs": [],
   "source": [
    "d1 = data.loc[['angekommen','verbunden']][['day','summa']]"
   ]
  },
  {
   "cell_type": "code",
   "execution_count": 6,
   "metadata": {},
   "outputs": [
    {
     "data": {
      "text/html": [
       "<div>\n",
       "<table border=\"1\" class=\"dataframe\">\n",
       "  <thead>\n",
       "    <tr style=\"text-align: right;\">\n",
       "      <th></th>\n",
       "      <th>day</th>\n",
       "      <th>week</th>\n",
       "      <th>0</th>\n",
       "      <th>1</th>\n",
       "      <th>2</th>\n",
       "      <th>3</th>\n",
       "      <th>4</th>\n",
       "      <th>5</th>\n",
       "      <th>6</th>\n",
       "      <th>7</th>\n",
       "      <th>...</th>\n",
       "      <th>16</th>\n",
       "      <th>17</th>\n",
       "      <th>18</th>\n",
       "      <th>19</th>\n",
       "      <th>20</th>\n",
       "      <th>21</th>\n",
       "      <th>22</th>\n",
       "      <th>23</th>\n",
       "      <th>24</th>\n",
       "      <th>summa</th>\n",
       "    </tr>\n",
       "  </thead>\n",
       "  <tbody>\n",
       "    <tr>\n",
       "      <th>tix</th>\n",
       "      <td>42688.0</td>\n",
       "      <td>46</td>\n",
       "      <td>00:00-00:30</td>\n",
       "      <td>00:30-01:30</td>\n",
       "      <td>01:30-02:30</td>\n",
       "      <td>02:30-03:30</td>\n",
       "      <td>03:30-04:30</td>\n",
       "      <td>04:30-05:30</td>\n",
       "      <td>05:30-06:30</td>\n",
       "      <td>06:30-07:30</td>\n",
       "      <td>...</td>\n",
       "      <td>15:30-16:30</td>\n",
       "      <td>16:30-17:30</td>\n",
       "      <td>17:30-18:30</td>\n",
       "      <td>18:30-19:30</td>\n",
       "      <td>19:30-20:30</td>\n",
       "      <td>20:30-21:30</td>\n",
       "      <td>21:30-22:30</td>\n",
       "      <td>22:30-23:30</td>\n",
       "      <td>23:30-00:00</td>\n",
       "      <td>NaN</td>\n",
       "    </tr>\n",
       "    <tr>\n",
       "      <th>angekommen</th>\n",
       "      <td>42688.0</td>\n",
       "      <td>46</td>\n",
       "      <td>0</td>\n",
       "      <td>0</td>\n",
       "      <td>0</td>\n",
       "      <td>0</td>\n",
       "      <td>0</td>\n",
       "      <td>0</td>\n",
       "      <td>1</td>\n",
       "      <td>5</td>\n",
       "      <td>...</td>\n",
       "      <td>14</td>\n",
       "      <td>9</td>\n",
       "      <td>7</td>\n",
       "      <td>5</td>\n",
       "      <td>0</td>\n",
       "      <td>0</td>\n",
       "      <td>1</td>\n",
       "      <td>0</td>\n",
       "      <td>0</td>\n",
       "      <td>321</td>\n",
       "    </tr>\n",
       "    <tr>\n",
       "      <th>verbunden</th>\n",
       "      <td>42688.0</td>\n",
       "      <td>46</td>\n",
       "      <td>0</td>\n",
       "      <td>0</td>\n",
       "      <td>0</td>\n",
       "      <td>0</td>\n",
       "      <td>0</td>\n",
       "      <td>0</td>\n",
       "      <td>0</td>\n",
       "      <td>4</td>\n",
       "      <td>...</td>\n",
       "      <td>13</td>\n",
       "      <td>8</td>\n",
       "      <td>5</td>\n",
       "      <td>5</td>\n",
       "      <td>0</td>\n",
       "      <td>0</td>\n",
       "      <td>0</td>\n",
       "      <td>0</td>\n",
       "      <td>0</td>\n",
       "      <td>221</td>\n",
       "    </tr>\n",
       "    <tr>\n",
       "      <th>verloren</th>\n",
       "      <td>42688.0</td>\n",
       "      <td>46</td>\n",
       "      <td>0</td>\n",
       "      <td>0</td>\n",
       "      <td>0</td>\n",
       "      <td>0</td>\n",
       "      <td>0</td>\n",
       "      <td>0</td>\n",
       "      <td>1</td>\n",
       "      <td>1</td>\n",
       "      <td>...</td>\n",
       "      <td>1</td>\n",
       "      <td>1</td>\n",
       "      <td>2</td>\n",
       "      <td>0</td>\n",
       "      <td>0</td>\n",
       "      <td>0</td>\n",
       "      <td>1</td>\n",
       "      <td>0</td>\n",
       "      <td>0</td>\n",
       "      <td>100</td>\n",
       "    </tr>\n",
       "    <tr>\n",
       "      <th>servicelevel</th>\n",
       "      <td>42688.0</td>\n",
       "      <td>46</td>\n",
       "      <td>NaN</td>\n",
       "      <td>NaN</td>\n",
       "      <td>NaN</td>\n",
       "      <td>NaN</td>\n",
       "      <td>NaN</td>\n",
       "      <td>NaN</td>\n",
       "      <td>0</td>\n",
       "      <td>0.8</td>\n",
       "      <td>...</td>\n",
       "      <td>0.928571</td>\n",
       "      <td>0.888889</td>\n",
       "      <td>0.714286</td>\n",
       "      <td>1</td>\n",
       "      <td>NaN</td>\n",
       "      <td>NaN</td>\n",
       "      <td>0</td>\n",
       "      <td>NaN</td>\n",
       "      <td>NaN</td>\n",
       "      <td>0.688474</td>\n",
       "    </tr>\n",
       "  </tbody>\n",
       "</table>\n",
       "<p>5 rows × 28 columns</p>\n",
       "</div>"
      ],
      "text/plain": [
       "                  day  week            0            1            2  \\\n",
       "tix           42688.0    46  00:00-00:30  00:30-01:30  01:30-02:30   \n",
       "angekommen    42688.0    46            0            0            0   \n",
       "verbunden     42688.0    46            0            0            0   \n",
       "verloren      42688.0    46            0            0            0   \n",
       "servicelevel  42688.0    46          NaN          NaN          NaN   \n",
       "\n",
       "                        3            4            5            6            7  \\\n",
       "tix           02:30-03:30  03:30-04:30  04:30-05:30  05:30-06:30  06:30-07:30   \n",
       "angekommen              0            0            0            1            5   \n",
       "verbunden               0            0            0            0            4   \n",
       "verloren                0            0            0            1            1   \n",
       "servicelevel          NaN          NaN          NaN            0          0.8   \n",
       "\n",
       "                ...              16           17           18           19  \\\n",
       "tix             ...     15:30-16:30  16:30-17:30  17:30-18:30  18:30-19:30   \n",
       "angekommen      ...              14            9            7            5   \n",
       "verbunden       ...              13            8            5            5   \n",
       "verloren        ...               1            1            2            0   \n",
       "servicelevel    ...        0.928571     0.888889     0.714286            1   \n",
       "\n",
       "                       20           21           22           23           24  \\\n",
       "tix           19:30-20:30  20:30-21:30  21:30-22:30  22:30-23:30  23:30-00:00   \n",
       "angekommen              0            0            1            0            0   \n",
       "verbunden               0            0            0            0            0   \n",
       "verloren                0            0            1            0            0   \n",
       "servicelevel          NaN          NaN            0          NaN          NaN   \n",
       "\n",
       "                 summa  \n",
       "tix                NaN  \n",
       "angekommen         321  \n",
       "verbunden          221  \n",
       "verloren           100  \n",
       "servicelevel  0.688474  \n",
       "\n",
       "[5 rows x 28 columns]"
      ]
     },
     "execution_count": 6,
     "metadata": {},
     "output_type": "execute_result"
    }
   ],
   "source": [
    "data.head(5)"
   ]
  },
  {
   "cell_type": "code",
   "execution_count": 7,
   "metadata": {},
   "outputs": [
    {
     "name": "stdout",
     "output_type": "stream",
     "text": [
      "[0, 1, 2, 3, 4, 5, 6, 7, 8, 9, 10, 11, 12, 13, 14, 15, 16, 17, 18, 19, 20, 21, 22, 23, 24]\n"
     ]
    }
   ],
   "source": [
    "time_index = list(range(0,25))\n",
    "#time_index.insert(0,'day')\n",
    "print time_index\n",
    "verlorene_daily=data.loc['verloren'][time_index]\n",
    "sla_daily=data.loc['servicelevel'][time_index]"
   ]
  },
  {
   "cell_type": "code",
   "execution_count": 8,
   "metadata": {},
   "outputs": [
    {
     "name": "stdout",
     "output_type": "stream",
     "text": [
      "(143, 25)\n",
      "(143, 25)\n"
     ]
    },
    {
     "data": {
      "text/plain": [
       "pandas.core.series.Series"
      ]
     },
     "execution_count": 8,
     "metadata": {},
     "output_type": "execute_result"
    }
   ],
   "source": [
    "print verlorene_daily.shape\n",
    "print sla_daily.shape\n",
    "lostcalls_av = verlorene_daily.mean()\n",
    "type(lostcalls_av)"
   ]
  },
  {
   "cell_type": "code",
   "execution_count": null,
   "metadata": {},
   "outputs": [],
   "source": [
    "\n",
    "\n"
   ]
  },
  {
   "cell_type": "code",
   "execution_count": 9,
   "metadata": {},
   "outputs": [
    {
     "name": "stdout",
     "output_type": "stream",
     "text": [
      "<class 'pandas.core.frame.DataFrame'>\n",
      "<class 'pandas.core.series.Series'>\n",
      "0     0.666667\n",
      "1          NaN\n",
      "2          NaN\n",
      "3     0.533333\n",
      "4     1.000000\n",
      "5     0.500000\n",
      "6     0.712500\n",
      "7     0.915578\n",
      "8     0.941873\n",
      "9     0.867078\n",
      "10    0.858338\n",
      "11    0.851129\n",
      "12    0.897427\n",
      "13    0.939455\n",
      "14    0.928939\n",
      "15    0.915249\n",
      "16    0.888530\n",
      "17    0.936487\n",
      "18    0.838190\n",
      "19    0.848204\n",
      "20    0.886719\n",
      "21    0.777778\n",
      "22    0.710145\n",
      "23    0.571429\n",
      "24         NaN\n",
      "dtype: float64\n"
     ]
    }
   ],
   "source": [
    "print type (sla_daily)\n",
    "sla_daily = sla_daily.iloc[:,time_index].apply(pd.to_numeric, errors=\"coerce\")\n",
    "#print sla_daily[time_index].count().head(5)\n",
    "#print sla_daily[time_index].sum().head(5)\n",
    "sla_by_hix=sla_daily[time_index].mean()\n",
    "print type(sla_by_hix)\n",
    "print sla_by_hix"
   ]
  },
  {
   "cell_type": "code",
   "execution_count": 10,
   "metadata": {},
   "outputs": [
    {
     "data": {
      "text/plain": [
       "<matplotlib.lines.Line2D at 0xac237a8c>"
      ]
     },
     "execution_count": 10,
     "metadata": {},
     "output_type": "execute_result"
    }
   ],
   "source": [
    "plt.ylabel('verlorene im Durchschnitt')\n",
    "plt.xlabel('Stunde')\n",
    "plt.bar(lostcalls_av.index,lostcalls_av,align=\"center\")\n",
    "plt.plot(sla_by_hix,'g+')\n",
    "plt.axhline(y=0.8, color='r', linestyle='-')"
   ]
  },
  {
   "cell_type": "code",
   "execution_count": 11,
   "metadata": {},
   "outputs": [
    {
     "name": "stdout",
     "output_type": "stream",
     "text": [
      "0.71875\n",
      "0.7125\n"
     ]
    }
   ],
   "source": [
    "data_num = data.iloc[:,time_index].apply(pd.to_numeric, errors=\"coerce\")\n",
    "calls_nullbishalb = data.loc['angekommen'][6].sum()\n",
    "verb_nullbishalb = data.loc['verbunden'][6].sum()\n",
    "verl_nullbishalb = data.loc['verloren'][6].sum()\n",
    "calls_nullbishalb, verb_nullbishalb, verl_nullbishalb\n",
    "print verb_nullbishalb/calls_nullbishalb\n",
    "print sla_by_hix[6]\n"
   ]
  },
  {
   "cell_type": "code",
   "execution_count": 12,
   "metadata": {},
   "outputs": [
    {
     "name": "stdout",
     "output_type": "stream",
     "text": [
      "0.888429752066\n",
      "0.915577601411\n"
     ]
    }
   ],
   "source": [
    "calls_nullbishalb = data.loc['angekommen'][7].sum()\n",
    "verb_nullbishalb = data.loc['verbunden'][7].sum()\n",
    "verl_nullbishalb = data.loc['verloren'][7].sum()\n",
    "calls_nullbishalb, verb_nullbishalb, verl_nullbishalb\n",
    "print verb_nullbishalb/calls_nullbishalb\n",
    "print sla_by_hix[7]"
   ]
  },
  {
   "cell_type": "code",
   "execution_count": 13,
   "metadata": {},
   "outputs": [
    {
     "name": "stdout",
     "output_type": "stream",
     "text": [
      "0.908096280088\n",
      "0.941872544922\n"
     ]
    }
   ],
   "source": [
    "calls_nullbishalb = data.loc['angekommen'][8].sum()\n",
    "verb_nullbishalb = data.loc['verbunden'][8].sum()\n",
    "verl_nullbishalb = data.loc['verloren'][8].sum()\n",
    "calls_nullbishalb, verb_nullbishalb, verl_nullbishalb\n",
    "print verb_nullbishalb/calls_nullbishalb\n",
    "print sla_by_hix[8]"
   ]
  },
  {
   "cell_type": "markdown",
   "metadata": {},
   "source": [
    "**abweichende Werte für mean() und handgerechnet...**"
   ]
  },
  {
   "cell_type": "code",
   "execution_count": null,
   "metadata": {
    "collapsed": true
   },
   "outputs": [],
   "source": []
  }
 ],
 "metadata": {
  "kernelspec": {
   "display_name": "Python 2",
   "language": "python",
   "name": "python2"
  },
  "language_info": {
   "codemirror_mode": {
    "name": "ipython",
    "version": 2
   },
   "file_extension": ".py",
   "mimetype": "text/x-python",
   "name": "python",
   "nbconvert_exporter": "python",
   "pygments_lexer": "ipython2",
   "version": "2.7.12"
  }
 },
 "nbformat": 4,
 "nbformat_minor": 2
}
