{
 "cells": [
  {
   "cell_type": "code",
   "execution_count": 1,
   "metadata": {
    "collapsed": true
   },
   "outputs": [],
   "source": [
    "## Import necessary modules\n",
    "import pandas as pd\n",
    "import matplotlib.pyplot as plt\n",
    "from matplotlib.dates import date2num, AutoDateFormatter, AutoDateLocator, WeekdayLocator, MonthLocator, DayLocator, DateLocator, DateFormatter\n",
    "from matplotlib.dates import MO, TU, WE, TH, FR, SA, SU\n",
    "from matplotlib.ticker import AutoMinorLocator\n",
    "import numpy as np\n",
    "import datetime, calendar\n",
    "from datetime import datetime\n",
    "%matplotlib tk\n",
    "\n",
    "\n",
    "## Import data frome pickle generated from hotline_daily.py\n",
    "data = pd.read_pickle('/home/keuch/gits/keuch/code_box/pyt/spreadsheetparsing/entwuerfe/pickle_2304.pkl')"
   ]
  },
  {
   "cell_type": "code",
   "execution_count": 2,
   "metadata": {
    "collapsed": true
   },
   "outputs": [],
   "source": [
    "def rearrange(df):\n",
    "    index_filter=df.loc[['tix']] ## select all hours-index rows\n",
    "    \n",
    "    hourse=list(range(0,25))  ## these is from 0 to 24 (25 entries!) and maps the hour indices\n",
    "    mh=index_filter[hourse]  ## columns with half- and hour steps were named 0-24\n",
    "    oldcols=mh.columns.values.tolist() ## list of the names of the hourse\n",
    "    newcols=mh.loc['tix'].drop_duplicates().loc['tix'].values.tolist() ## one row of the hour indices provides the new column names\n",
    "    cols=dict(zip(oldcols,newcols)) ## old column names get mapped to new columns names\n",
    "\n",
    "    mhnew=df.rename(columns=cols).drop('tix') ## new dataframe has the old 'tix' entries as column names; 'tix' rows are dropped since not needed any more\n",
    "    mhnew=mhnew.reset_index().set_index(['xlday']).rename(columns={'index':'status'}) ## new index will be the excel date numbers, old index is moved to a column named 'status'\n",
    "    \n",
    "    return mhnew, newcols"
   ]
  },
  {
   "cell_type": "code",
   "execution_count": 3,
   "metadata": {
    "collapsed": true
   },
   "outputs": [],
   "source": [
    "def timerange(*,df, years, months=range(1,13), weeks=range(1,53), weekdays=['Mon','Tue','Wed','Thu','Fri','Sat','Sun']):\n",
    "    resultat=df.loc[(df['year'].isin(years)) & (df['month'].isin(months)) & (df['week'].isin(weeks)) & (df['weekday'].isin(weekdays))]\n",
    "    \n",
    "    return resultat"
   ]
  },
  {
   "cell_type": "markdown",
   "metadata": {},
   "source": [
    "# end of function definitions"
   ]
  },
  {
   "cell_type": "code",
   "execution_count": 4,
   "metadata": {
    "scrolled": true
   },
   "outputs": [
    {
     "data": {
      "text/html": [
       "<div>\n",
       "<table border=\"1\" class=\"dataframe\">\n",
       "  <thead>\n",
       "    <tr style=\"text-align: right;\">\n",
       "      <th></th>\n",
       "      <th>status</th>\n",
       "      <th>month</th>\n",
       "      <th>year</th>\n",
       "      <th>00:00-00:30</th>\n",
       "      <th>00:30-01:30</th>\n",
       "      <th>01:30-02:30</th>\n",
       "      <th>02:30-03:30</th>\n",
       "      <th>03:30-04:30</th>\n",
       "      <th>04:30-05:30</th>\n",
       "      <th>05:30-06:30</th>\n",
       "      <th>...</th>\n",
       "      <th>19:30-20:30</th>\n",
       "      <th>20:30-21:30</th>\n",
       "      <th>21:30-22:30</th>\n",
       "      <th>22:30-23:30</th>\n",
       "      <th>23:30-00:00</th>\n",
       "      <th>summa</th>\n",
       "      <th>day</th>\n",
       "      <th>date</th>\n",
       "      <th>week</th>\n",
       "      <th>weekday</th>\n",
       "    </tr>\n",
       "    <tr>\n",
       "      <th>xlday</th>\n",
       "      <th></th>\n",
       "      <th></th>\n",
       "      <th></th>\n",
       "      <th></th>\n",
       "      <th></th>\n",
       "      <th></th>\n",
       "      <th></th>\n",
       "      <th></th>\n",
       "      <th></th>\n",
       "      <th></th>\n",
       "      <th></th>\n",
       "      <th></th>\n",
       "      <th></th>\n",
       "      <th></th>\n",
       "      <th></th>\n",
       "      <th></th>\n",
       "      <th></th>\n",
       "      <th></th>\n",
       "      <th></th>\n",
       "      <th></th>\n",
       "      <th></th>\n",
       "    </tr>\n",
       "  </thead>\n",
       "  <tbody>\n",
       "    <tr>\n",
       "      <th>42688.0</th>\n",
       "      <td>angekommen</td>\n",
       "      <td>11</td>\n",
       "      <td>2016</td>\n",
       "      <td>0</td>\n",
       "      <td>0</td>\n",
       "      <td>0</td>\n",
       "      <td>0</td>\n",
       "      <td>0</td>\n",
       "      <td>0</td>\n",
       "      <td>1</td>\n",
       "      <td>...</td>\n",
       "      <td>0</td>\n",
       "      <td>0</td>\n",
       "      <td>1</td>\n",
       "      <td>0</td>\n",
       "      <td>0</td>\n",
       "      <td>321</td>\n",
       "      <td>14</td>\n",
       "      <td>2016-11-14</td>\n",
       "      <td>46</td>\n",
       "      <td>Mon</td>\n",
       "    </tr>\n",
       "    <tr>\n",
       "      <th>42688.0</th>\n",
       "      <td>verbunden</td>\n",
       "      <td>11</td>\n",
       "      <td>2016</td>\n",
       "      <td>0</td>\n",
       "      <td>0</td>\n",
       "      <td>0</td>\n",
       "      <td>0</td>\n",
       "      <td>0</td>\n",
       "      <td>0</td>\n",
       "      <td>0</td>\n",
       "      <td>...</td>\n",
       "      <td>0</td>\n",
       "      <td>0</td>\n",
       "      <td>0</td>\n",
       "      <td>0</td>\n",
       "      <td>0</td>\n",
       "      <td>221</td>\n",
       "      <td>14</td>\n",
       "      <td>2016-11-14</td>\n",
       "      <td>46</td>\n",
       "      <td>Mon</td>\n",
       "    </tr>\n",
       "    <tr>\n",
       "      <th>42688.0</th>\n",
       "      <td>verloren</td>\n",
       "      <td>11</td>\n",
       "      <td>2016</td>\n",
       "      <td>0</td>\n",
       "      <td>0</td>\n",
       "      <td>0</td>\n",
       "      <td>0</td>\n",
       "      <td>0</td>\n",
       "      <td>0</td>\n",
       "      <td>1</td>\n",
       "      <td>...</td>\n",
       "      <td>0</td>\n",
       "      <td>0</td>\n",
       "      <td>1</td>\n",
       "      <td>0</td>\n",
       "      <td>0</td>\n",
       "      <td>100</td>\n",
       "      <td>14</td>\n",
       "      <td>2016-11-14</td>\n",
       "      <td>46</td>\n",
       "      <td>Mon</td>\n",
       "    </tr>\n",
       "    <tr>\n",
       "      <th>42688.0</th>\n",
       "      <td>servicelevel</td>\n",
       "      <td>11</td>\n",
       "      <td>2016</td>\n",
       "      <td>NaN</td>\n",
       "      <td>NaN</td>\n",
       "      <td>NaN</td>\n",
       "      <td>NaN</td>\n",
       "      <td>NaN</td>\n",
       "      <td>NaN</td>\n",
       "      <td>0</td>\n",
       "      <td>...</td>\n",
       "      <td>NaN</td>\n",
       "      <td>NaN</td>\n",
       "      <td>0</td>\n",
       "      <td>NaN</td>\n",
       "      <td>NaN</td>\n",
       "      <td>0.688474</td>\n",
       "      <td>14</td>\n",
       "      <td>2016-11-14</td>\n",
       "      <td>46</td>\n",
       "      <td>Mon</td>\n",
       "    </tr>\n",
       "    <tr>\n",
       "      <th>42689.0</th>\n",
       "      <td>angekommen</td>\n",
       "      <td>11</td>\n",
       "      <td>2016</td>\n",
       "      <td>0</td>\n",
       "      <td>0</td>\n",
       "      <td>0</td>\n",
       "      <td>0</td>\n",
       "      <td>0</td>\n",
       "      <td>0</td>\n",
       "      <td>1</td>\n",
       "      <td>...</td>\n",
       "      <td>1</td>\n",
       "      <td>0</td>\n",
       "      <td>0</td>\n",
       "      <td>0</td>\n",
       "      <td>0</td>\n",
       "      <td>152</td>\n",
       "      <td>15</td>\n",
       "      <td>2016-11-15</td>\n",
       "      <td>46</td>\n",
       "      <td>Tue</td>\n",
       "    </tr>\n",
       "  </tbody>\n",
       "</table>\n",
       "<p>5 rows × 33 columns</p>\n",
       "</div>"
      ],
      "text/plain": [
       "               status  month  year 00:00-00:30 00:30-01:30 01:30-02:30  \\\n",
       "xlday                                                                    \n",
       "42688.0    angekommen     11  2016           0           0           0   \n",
       "42688.0     verbunden     11  2016           0           0           0   \n",
       "42688.0      verloren     11  2016           0           0           0   \n",
       "42688.0  servicelevel     11  2016         NaN         NaN         NaN   \n",
       "42689.0    angekommen     11  2016           0           0           0   \n",
       "\n",
       "        02:30-03:30 03:30-04:30 04:30-05:30 05:30-06:30   ...   19:30-20:30  \\\n",
       "xlday                                                     ...                 \n",
       "42688.0           0           0           0           1   ...             0   \n",
       "42688.0           0           0           0           0   ...             0   \n",
       "42688.0           0           0           0           1   ...             0   \n",
       "42688.0         NaN         NaN         NaN           0   ...           NaN   \n",
       "42689.0           0           0           0           1   ...             1   \n",
       "\n",
       "        20:30-21:30 21:30-22:30 22:30-23:30 23:30-00:00     summa day  \\\n",
       "xlday                                                                   \n",
       "42688.0           0           1           0           0       321  14   \n",
       "42688.0           0           0           0           0       221  14   \n",
       "42688.0           0           1           0           0       100  14   \n",
       "42688.0         NaN           0         NaN         NaN  0.688474  14   \n",
       "42689.0           0           0           0           0       152  15   \n",
       "\n",
       "               date week weekday  \n",
       "xlday                             \n",
       "42688.0  2016-11-14   46     Mon  \n",
       "42688.0  2016-11-14   46     Mon  \n",
       "42688.0  2016-11-14   46     Mon  \n",
       "42688.0  2016-11-14   46     Mon  \n",
       "42689.0  2016-11-15   46     Tue  \n",
       "\n",
       "[5 rows x 33 columns]"
      ]
     },
     "execution_count": 4,
     "metadata": {},
     "output_type": "execute_result"
    }
   ],
   "source": [
    "ndata,hcols=rearrange(data) ## rearranged dataframe with hour_indices as colums and list of hour_index-columns for future use\n",
    "maxcallsperday=ndata.loc[ndata.status == 'angekommen'].summa.max() ## hoechste Anzahl Calls im pickle\n",
    "ndata.head()"
   ]
  },
  {
   "cell_type": "markdown",
   "metadata": {
    "collapsed": true
   },
   "source": [
    "### time range filter:\n",
    "Arguments must be passed as a list or as a range. Example:\n",
    "\n",
    "**timerange(df=ndata,years=[2016,2017],months=[3],weeks=[6],weekdays=['Sun','Sun'])**\n",
    "\n",
    "Note the double entry for a single weekday!\n",
    "Leaving parameters empty gives default values (=all). Months and Weeks may be mutually exclusive and raise exceptions"
   ]
  },
  {
   "cell_type": "code",
   "execution_count": 5,
   "metadata": {
    "collapsed": true
   },
   "outputs": [],
   "source": [
    "plotframe = timerange(df=ndata,years=[2017],weeks=[4])"
   ]
  },
  {
   "cell_type": "code",
   "execution_count": 6,
   "metadata": {},
   "outputs": [
    {
     "data": {
      "text/plain": [
       "xlday\n",
       "42758.0    107\n",
       "42759.0     80\n",
       "42760.0     47\n",
       "42761.0     59\n",
       "42762.0     83\n",
       "42763.0     27\n",
       "42764.0      6\n",
       "Name: summa, dtype: object"
      ]
     },
     "execution_count": 6,
     "metadata": {},
     "output_type": "execute_result"
    }
   ],
   "source": [
    "pf = plotframe.drop(hcols,axis=1)  ## at this place, we dont need the hourly figures, only day sums\n",
    "\n",
    "#pf.loc[:, pf.loc[['status']] == 'angekommen']  ##THIS DOES NOT WORK. The Colon ist wrong and stuff\n",
    "pf.loc[pf['status'] == 'angekommen'].summa\n",
    "\n"
   ]
  },
  {
   "cell_type": "code",
   "execution_count": null,
   "metadata": {
    "collapsed": true
   },
   "outputs": [],
   "source": []
  },
  {
   "cell_type": "code",
   "execution_count": 25,
   "metadata": {
    "collapsed": true
   },
   "outputs": [],
   "source": [
    "def fplot(zeitspanne,frame,titel):\n",
    "   \n",
    "    #x_=pf.loc[frame['status'] == 'angekommen'].index\n",
    "    #x_dates=pf.loc[frame['status'] == 'angekommen'].date.values\n",
    "    x_=pf.loc[frame['status'] == 'angekommen'].date.values\n",
    "    x2_=pf.loc[frame['status'] == 'angekommen'].date\n",
    "    y_an=pf.loc[frame['status'] == 'angekommen'].summa.values\n",
    "    y_vb=pf.loc[frame['status'] == 'verbunden'].summa.values\n",
    "    y_vl=pf.loc[frame['status'] == 'verloren'].summa.values\n",
    "    y_sla=pf.loc[frame['status'] == 'servicelevel'].summa.values*100\n",
    "    sla_c=\"#FF4D7D\"\n",
    "    an_c=\"#D3E4EA\"\n",
    "    vb_c=\"#007EB8\"\n",
    "    vl_c=\"#000000\"\n",
    "    slamin=y_sla.min()\n",
    "    anmax=y_an.max()\n",
    "    if zeitspanne=\n",
    "    \n",
    "    \n",
    "    \n",
    "    fig=plt.figure()\n",
    "    \n",
    "    \n",
    "    ########## SUBPLOT 0, Horiz. Line #############\n",
    "    \n",
    "    ax=plt.subplot(111)\n",
    "    ax.plot(x_,y_sla,ls='None')\n",
    "    if slamin < 55:\n",
    "        ax.set_ylim(slamin-10,101)\n",
    "    else:\n",
    "        ax.set_ylim(50,101)\n",
    "    ax.axhline(y=80,color=sla_c,ls='--',alpha=0.6)\n",
    "    \n",
    "    \n",
    "    \n",
    "    ########## SUBPLOT 1, 3 Bars #############\n",
    "   \n",
    "    ax1=ax.twinx()\n",
    "    ax1.yaxis.tick_left()\n",
    "    if anmax < 100:\n",
    "        ax1.set_ylim(0,100)\n",
    "    anbar=ax1.bar(x_,y_an,width=0.8,color=an_c)\n",
    "    vnbar=ax1.bar(x_,y_vb,width=0.6,color=vb_c)\n",
    "    vlbar=ax1.bar(x_,y_vl,width=0.4,color=vl_c)\n",
    "    for bar in vnbar:\n",
    "        xpos=bar.get_x()\n",
    "        heig=bar.get_height()\n",
    "        ax1.text(xpos+0.3,heig+2.3, s=str(int(heig)),ha='center',color=vb_c)\n",
    "    for bar in vlbar:\n",
    "        xpos=bar.get_x()\n",
    "        heig=bar.get_height()\n",
    "        if heig > 0:\n",
    "            ax1.text(xpos+0.2,heig+0.7, s=str(int(heig)),ha='center',color=vl_c)\n",
    "    \n",
    "    ########## SUBPLOT 2, Scatter SLA above bars #############\n",
    "    \n",
    "    ax2=ax.twinx()\n",
    "    pydt=[date2num(i) for i in x_]\n",
    "    \n",
    "    condition=['#3CE834' if i>80 else '#E8344C' for i in y_sla]\n",
    "    condsize=[15 if i>80 else 40 for i in y_sla]\n",
    "    \n",
    "    scat=ax2.scatter(pydt,y_sla, c=condition, marker='x', s=condsize)\n",
    "    if slamin < 55:\n",
    "        ax2.set_ylim(slamin-10,101)\n",
    "    else:\n",
    "        ax2.set_ylim(50,101)\n",
    "    for ix,val in enumerate(y_sla):\n",
    "        if val < 80:\n",
    "            ax2.text(pydt[ix],ax2.get_ylim()[1]+1, s=str(round(val)),ha='center',color=sla_c)\n",
    "\n",
    "    \n",
    "    ## turn off the labels of the downmost plot. needs to be done after all plots are finished\n",
    "    ax.tick_params(axis='y',which='both',left='off',right='off',labelleft='off',labelright='off') # First: disable the copied ax.labels\n",
    "    ax.tick_params(axis='x', which='both', labelsize=8)\n",
    "    \n",
    "    xtick_mj_locator = WeekdayLocator(byweekday=MO)\n",
    "    xtick_mj_formatter = DateFormatter('%a,%d.%m.')\n",
    "    ax.xaxis.set_major_locator(xtick_mj_locator)\n",
    "    ax.xaxis.set_major_formatter(xtick_mj_formatter)\n",
    "    \n",
    "    xtick_mn_locator = WeekdayLocator(byweekday=[TU,WE,TH,FR,SA,SU])\n",
    "    xtick_mn_formatter = DateFormatter('%d.%m.')\n",
    "    ax.xaxis.set_minor_locator(xtick_mn_locator)\n",
    "    ax.xaxis.set_minor_formatter(xtick_mn_formatter)\n",
    "    \n",
    "    \n",
    "    \n",
    "    #### some settings for the downmost plot\n",
    "    ax.spines['right'].set_visible(False) \n",
    "    ax.spines['left'].set_visible(False) \n",
    "    ax.spines['top'].set_visible(False) \n",
    "    ax.spines['bottom'].set_visible(False) \n",
    "\n",
    "    \n",
    "    \n",
    "    #### use the middle plot for the y-axis ticks and label on the left side and gridlines\n",
    "    ax1.set_ylabel('Anzahl Calls')\n",
    "    ax1.yaxis.set_label_position('left')\n",
    "    \n",
    "    ax1.spines['right'].set_visible(False) \n",
    "    ax1.spines['left'].set_visible(False) \n",
    "    ax1.spines['top'].set_visible(False) \n",
    "    ax1.spines['bottom'].set_visible(False) \n",
    "\n",
    "    \n",
    "    y_int=ax1.yaxis.get_majorticklocs()[1]  #|\n",
    "    if y_int > 10:                          #|\n",
    "        min_locs=AutoMinorLocator(y_int/5)  #| this will return steps of 4 for 20\n",
    "    elif y_int <= 10:                       #| and steps of 2 for 10\n",
    "        min_locs=AutoMinorLocator(5)        #|\n",
    "            \n",
    "    ax1.yaxis.set_minor_locator(min_locs)\n",
    "    \n",
    "    ax1.set_axisbelow(True)\n",
    "    ax1.yaxis.grid(b=True, which='major', color=vb_c, linestyle='-')\n",
    "    ax1.yaxis.grid(b=True, which='minor', color='brown', linestyle=':', alpha=0.2, lw=0.5)\n",
    "    \n",
    "    ax1.tick_params(axis='y',which='both',left='on',right='off',labelleft='on',labelright='off')\n",
    "    ax1.tick_params(axis='x',which='both',bottom='off',top='off',labelbottom='off',labeltop='off') #xticks off -> ax.xticks\n",
    "    \n",
    "    \n",
    "    #### use the top plot for the y-axis ticks and label on the right side\n",
    "    ax2.tick_params(axis='y',which='both',left='off',right='on',labelleft='off',labelright='on')\n",
    "    ax2.set_ylabel('Prozent SLA')\n",
    "    ax2.yaxis.set_label_position('right')\n",
    "    ax2.spines['right'].set_color(sla_c)\n",
    "    ax2.spines['left'].set_color(vb_c)\n",
    "    ax2.spines['left'].set_lw(2)\n",
    "    ax2.tick_params(axis='x',which='both',bottom='off',top='off',labelbottom='off',labeltop='off') #xticks off -> ax.xticks\n",
    "    \n",
    "\n",
    "\n",
    "    \n",
    "\n",
    "\n"
   ]
  },
  {
   "cell_type": "code",
   "execution_count": 26,
   "metadata": {},
   "outputs": [],
   "source": [
    "## Woche oder Monat angeben\n",
    "for i in range (14,15):\n",
    "    plotframe = timerange(df=ndata,years=[2017],weeks=[i])\n",
    "    if not plotframe.empty:\n",
    "        pf = plotframe.drop(hcols,axis=1)\n",
    "        plotted=fplot('woche',pf,'arbeitstitel')\n",
    "        #path='/home/keuch/gits/keuch/code_box/pyt/spreadsheetparsing/ce_teamleitung/plots/'\n",
    "        #plotted.savefig(path+titel,ext='png')\n",
    "        #print(plotframe.head())\n"
   ]
  },
  {
   "cell_type": "code",
   "execution_count": null,
   "metadata": {
    "collapsed": true
   },
   "outputs": [],
   "source": []
  },
  {
   "cell_type": "code",
   "execution_count": null,
   "metadata": {
    "collapsed": true
   },
   "outputs": [],
   "source": []
  },
  {
   "cell_type": "code",
   "execution_count": null,
   "metadata": {
    "collapsed": true
   },
   "outputs": [],
   "source": []
  },
  {
   "cell_type": "code",
   "execution_count": null,
   "metadata": {
    "collapsed": true
   },
   "outputs": [],
   "source": []
  },
  {
   "cell_type": "code",
   "execution_count": null,
   "metadata": {
    "collapsed": true
   },
   "outputs": [],
   "source": []
  },
  {
   "cell_type": "code",
   "execution_count": null,
   "metadata": {
    "collapsed": true
   },
   "outputs": [],
   "source": []
  },
  {
   "cell_type": "code",
   "execution_count": null,
   "metadata": {
    "collapsed": true
   },
   "outputs": [],
   "source": []
  },
  {
   "cell_type": "code",
   "execution_count": null,
   "metadata": {
    "collapsed": true
   },
   "outputs": [],
   "source": []
  },
  {
   "cell_type": "code",
   "execution_count": null,
   "metadata": {
    "collapsed": true
   },
   "outputs": [],
   "source": []
  },
  {
   "cell_type": "code",
   "execution_count": null,
   "metadata": {
    "collapsed": true
   },
   "outputs": [],
   "source": []
  },
  {
   "cell_type": "code",
   "execution_count": null,
   "metadata": {
    "collapsed": true
   },
   "outputs": [],
   "source": []
  },
  {
   "cell_type": "code",
   "execution_count": null,
   "metadata": {
    "collapsed": true
   },
   "outputs": [],
   "source": []
  },
  {
   "cell_type": "code",
   "execution_count": null,
   "metadata": {
    "collapsed": true
   },
   "outputs": [],
   "source": []
  },
  {
   "cell_type": "code",
   "execution_count": null,
   "metadata": {
    "collapsed": true
   },
   "outputs": [],
   "source": []
  },
  {
   "cell_type": "code",
   "execution_count": null,
   "metadata": {
    "collapsed": true
   },
   "outputs": [],
   "source": []
  },
  {
   "cell_type": "markdown",
   "metadata": {},
   "source": []
  }
 ],
 "metadata": {
  "kernelspec": {
   "display_name": "Python 3",
   "language": "python",
   "name": "python3"
  },
  "language_info": {
   "codemirror_mode": {
    "name": "ipython",
    "version": 3
   },
   "file_extension": ".py",
   "mimetype": "text/x-python",
   "name": "python",
   "nbconvert_exporter": "python",
   "pygments_lexer": "ipython3",
   "version": "3.4.5"
  }
 },
 "nbformat": 4,
 "nbformat_minor": 2
}
