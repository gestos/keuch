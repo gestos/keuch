{
 "cells": [
  {
   "cell_type": "code",
   "execution_count": 19,
   "metadata": {
    "collapsed": true
   },
   "outputs": [],
   "source": [
    "## Import necessary modules\n",
    "import pandas as pd\n",
    "import matplotlib.pyplot as plt\n",
    "from matplotlib.dates import AutoDateFormatter, AutoDateLocator, WeekdayLocator, DateFormatter\n",
    "from matplotlib.dates import MO, TU, WE, TH, FR, SA, SU\n",
    "import numpy as np\n",
    "import datetime\n",
    "%matplotlib gtk"
   ]
  },
  {
   "cell_type": "code",
   "execution_count": 20,
   "metadata": {
    "collapsed": true
   },
   "outputs": [],
   "source": [
    "## Import data frome pickle generated from hotline_daily.py\n",
    "data = pd.read_pickle('pickle_hotline_0904.pkl')"
   ]
  },
  {
   "cell_type": "code",
   "execution_count": 21,
   "metadata": {},
   "outputs": [
    {
     "data": {
      "text/html": [
       "<div>\n",
       "<table border=\"1\" class=\"dataframe\">\n",
       "  <thead>\n",
       "    <tr style=\"text-align: right;\">\n",
       "      <th></th>\n",
       "      <th>month</th>\n",
       "      <th>year</th>\n",
       "      <th>0</th>\n",
       "      <th>1</th>\n",
       "      <th>2</th>\n",
       "      <th>3</th>\n",
       "      <th>4</th>\n",
       "      <th>5</th>\n",
       "      <th>6</th>\n",
       "      <th>7</th>\n",
       "      <th>...</th>\n",
       "      <th>21</th>\n",
       "      <th>22</th>\n",
       "      <th>23</th>\n",
       "      <th>24</th>\n",
       "      <th>summa</th>\n",
       "      <th>xlday</th>\n",
       "      <th>day</th>\n",
       "      <th>date</th>\n",
       "      <th>week</th>\n",
       "      <th>weekday</th>\n",
       "    </tr>\n",
       "  </thead>\n",
       "  <tbody>\n",
       "    <tr>\n",
       "      <th>tix</th>\n",
       "      <td>11</td>\n",
       "      <td>2016</td>\n",
       "      <td>00:00-00:30</td>\n",
       "      <td>00:30-01:30</td>\n",
       "      <td>01:30-02:30</td>\n",
       "      <td>02:30-03:30</td>\n",
       "      <td>03:30-04:30</td>\n",
       "      <td>04:30-05:30</td>\n",
       "      <td>05:30-06:30</td>\n",
       "      <td>06:30-07:30</td>\n",
       "      <td>...</td>\n",
       "      <td>20:30-21:30</td>\n",
       "      <td>21:30-22:30</td>\n",
       "      <td>22:30-23:30</td>\n",
       "      <td>23:30-00:00</td>\n",
       "      <td>NaN</td>\n",
       "      <td>42688.0</td>\n",
       "      <td>14</td>\n",
       "      <td>2016-11-14</td>\n",
       "      <td>46</td>\n",
       "      <td>Mon</td>\n",
       "    </tr>\n",
       "    <tr>\n",
       "      <th>angekommen</th>\n",
       "      <td>11</td>\n",
       "      <td>2016</td>\n",
       "      <td>0</td>\n",
       "      <td>0</td>\n",
       "      <td>0</td>\n",
       "      <td>0</td>\n",
       "      <td>0</td>\n",
       "      <td>0</td>\n",
       "      <td>1</td>\n",
       "      <td>5</td>\n",
       "      <td>...</td>\n",
       "      <td>0</td>\n",
       "      <td>1</td>\n",
       "      <td>0</td>\n",
       "      <td>0</td>\n",
       "      <td>321</td>\n",
       "      <td>42688.0</td>\n",
       "      <td>14</td>\n",
       "      <td>2016-11-14</td>\n",
       "      <td>46</td>\n",
       "      <td>Mon</td>\n",
       "    </tr>\n",
       "    <tr>\n",
       "      <th>verbunden</th>\n",
       "      <td>11</td>\n",
       "      <td>2016</td>\n",
       "      <td>0</td>\n",
       "      <td>0</td>\n",
       "      <td>0</td>\n",
       "      <td>0</td>\n",
       "      <td>0</td>\n",
       "      <td>0</td>\n",
       "      <td>0</td>\n",
       "      <td>4</td>\n",
       "      <td>...</td>\n",
       "      <td>0</td>\n",
       "      <td>0</td>\n",
       "      <td>0</td>\n",
       "      <td>0</td>\n",
       "      <td>221</td>\n",
       "      <td>42688.0</td>\n",
       "      <td>14</td>\n",
       "      <td>2016-11-14</td>\n",
       "      <td>46</td>\n",
       "      <td>Mon</td>\n",
       "    </tr>\n",
       "  </tbody>\n",
       "</table>\n",
       "<p>3 rows × 33 columns</p>\n",
       "</div>"
      ],
      "text/plain": [
       "            month  year            0            1            2            3  \\\n",
       "tix            11  2016  00:00-00:30  00:30-01:30  01:30-02:30  02:30-03:30   \n",
       "angekommen     11  2016            0            0            0            0   \n",
       "verbunden      11  2016            0            0            0            0   \n",
       "\n",
       "                      4            5            6            7   ...    \\\n",
       "tix         03:30-04:30  04:30-05:30  05:30-06:30  06:30-07:30   ...     \n",
       "angekommen            0            0            1            5   ...     \n",
       "verbunden             0            0            0            4   ...     \n",
       "\n",
       "                     21           22           23           24 summa    xlday  \\\n",
       "tix         20:30-21:30  21:30-22:30  22:30-23:30  23:30-00:00   NaN  42688.0   \n",
       "angekommen            0            1            0            0   321  42688.0   \n",
       "verbunden             0            0            0            0   221  42688.0   \n",
       "\n",
       "           day        date week weekday  \n",
       "tix         14  2016-11-14   46     Mon  \n",
       "angekommen  14  2016-11-14   46     Mon  \n",
       "verbunden   14  2016-11-14   46     Mon  \n",
       "\n",
       "[3 rows x 33 columns]"
      ]
     },
     "execution_count": 21,
     "metadata": {},
     "output_type": "execute_result"
    }
   ],
   "source": [
    "## Have a look at the data structure\n",
    "data.head(3)"
   ]
  },
  {
   "cell_type": "code",
   "execution_count": 22,
   "metadata": {},
   "outputs": [
    {
     "data": {
      "text/html": [
       "<div>\n",
       "<table border=\"1\" class=\"dataframe\">\n",
       "  <thead>\n",
       "    <tr style=\"text-align: right;\">\n",
       "      <th></th>\n",
       "      <th>summa</th>\n",
       "      <th>weekday</th>\n",
       "      <th>day</th>\n",
       "    </tr>\n",
       "    <tr>\n",
       "      <th>date</th>\n",
       "      <th></th>\n",
       "      <th></th>\n",
       "      <th></th>\n",
       "    </tr>\n",
       "  </thead>\n",
       "  <tbody>\n",
       "    <tr>\n",
       "      <th>2016-11-14</th>\n",
       "      <td>321</td>\n",
       "      <td>Mon</td>\n",
       "      <td>14</td>\n",
       "    </tr>\n",
       "    <tr>\n",
       "      <th>2016-11-15</th>\n",
       "      <td>152</td>\n",
       "      <td>Tue</td>\n",
       "      <td>15</td>\n",
       "    </tr>\n",
       "  </tbody>\n",
       "</table>\n",
       "</div>"
      ],
      "text/plain": [
       "           summa weekday  day\n",
       "date                         \n",
       "2016-11-14   321     Mon   14\n",
       "2016-11-15   152     Tue   15"
      ]
     },
     "execution_count": 22,
     "metadata": {},
     "output_type": "execute_result"
    }
   ],
   "source": [
    "## separate the sums of calls, verbundene and lost into different dataframes; this will avoid tuple indexing\n",
    "calls_d=data[['date','summa','weekday','day']].loc['angekommen'].set_index(\"date\")\n",
    "verbu_d=data[['date','summa','weekday','day']].loc['verbunden'].set_index(\"date\")\n",
    "verlo_d=data[['date','summa','weekday','day']].loc['verloren'].set_index(\"date\")\n",
    "\n",
    "## have a look at one of the new dataframes\n",
    "calls_d.head(2)"
   ]
  },
  {
   "cell_type": "code",
   "execution_count": 23,
   "metadata": {},
   "outputs": [
    {
     "data": {
      "text/html": [
       "<div>\n",
       "<table border=\"1\" class=\"dataframe\">\n",
       "  <thead>\n",
       "    <tr style=\"text-align: right;\">\n",
       "      <th></th>\n",
       "      <th>weekday</th>\n",
       "      <th>day</th>\n",
       "      <th>angekommen</th>\n",
       "      <th>verbunden</th>\n",
       "      <th>verloren</th>\n",
       "    </tr>\n",
       "    <tr>\n",
       "      <th>date</th>\n",
       "      <th></th>\n",
       "      <th></th>\n",
       "      <th></th>\n",
       "      <th></th>\n",
       "      <th></th>\n",
       "    </tr>\n",
       "  </thead>\n",
       "  <tbody>\n",
       "    <tr>\n",
       "      <th>2016-11-14</th>\n",
       "      <td>Mon</td>\n",
       "      <td>14</td>\n",
       "      <td>321</td>\n",
       "      <td>221</td>\n",
       "      <td>100</td>\n",
       "    </tr>\n",
       "    <tr>\n",
       "      <th>2016-11-15</th>\n",
       "      <td>Tue</td>\n",
       "      <td>15</td>\n",
       "      <td>152</td>\n",
       "      <td>132</td>\n",
       "      <td>20</td>\n",
       "    </tr>\n",
       "  </tbody>\n",
       "</table>\n",
       "</div>"
      ],
      "text/plain": [
       "           weekday  day angekommen verbunden verloren\n",
       "date                                                 \n",
       "2016-11-14     Mon   14        321       221      100\n",
       "2016-11-15     Tue   15        152       132       20"
      ]
     },
     "execution_count": 23,
     "metadata": {},
     "output_type": "execute_result"
    }
   ],
   "source": [
    "## merge dataframes again into one, containing the sums and indexed by date.\n",
    "## this seems kind of redundant, given the frames above. guess it should be refactored; but works for now\n",
    "\n",
    "dayf = pd.DataFrame(index=calls_d.index)\n",
    "dayf[['angekommen','weekday','day']]=calls_d[['summa','weekday','day']]\n",
    "dayf['verbunden']=verbu_d['summa']\n",
    "dayf['verloren']=verlo_d['summa']\n",
    "dayf=dayf[['weekday','day','angekommen','verbunden','verloren']]\n",
    "\n",
    "## take a glance at the new dataframe\n",
    "dayf.head(2)"
   ]
  },
  {
   "cell_type": "code",
   "execution_count": 25,
   "metadata": {},
   "outputs": [
    {
     "name": "stdout",
     "output_type": "stream",
     "text": [
      "<matplotlib.dates.WeekdayLocator object at 0xa908aaec>\n",
      "<matplotlib.dates.DateFormatter object at 0xa908a32c>\n"
     ]
    }
   ],
   "source": [
    "## this will generate the ticks on the x-Axis of the plot\n",
    "## I don't fully understand this, though. more reading is due\n",
    "xtick_locator = WeekdayLocator(byweekday=MO)\n",
    "xtick_formatter = DateFormatter('%W/%y')\n",
    "\n",
    "#print(xtick_locator)\n",
    "#print(xtick_formatter)\n",
    "\n"
   ]
  },
  {
   "cell_type": "code",
   "execution_count": 28,
   "metadata": {
    "collapsed": true
   },
   "outputs": [],
   "source": [
    "## Create the plot from the summary dataframe\n",
    "## X-Axis should be dates, Y-Axis should be number of calls\n",
    "\n",
    "fig = plt.figure(figsize=(18,6))\n",
    "fig.add_subplot(111)\n",
    "plt.ylabel('Calls')\n",
    "plt.xlabel('Kalenderwoche')\n",
    "plt.margins(0.01)\n",
    "plt.title('Anrufaufkommen Carexpert seit 14.11.2016')\n",
    "\n",
    "# \"Initialize\" Axes to configure them later\n",
    "ax = plt.axes()\n",
    "ax.set_axisbelow(True)\n",
    "\n",
    "# Y-Axis: major ticks every 50, minor ticks every 10                                    \n",
    "minor_ticks = np.arange(0, dayf.angekommen.max(), 10)\n",
    "major_ticks = np.arange(0, dayf.angekommen.max(), 50)\n",
    "ax.yaxis.grid(True)\n",
    "ax.set_yticks(minor_ticks, minor=True)\n",
    "ax.yaxis.grid(True, which='minor', color='#E8E6BF', linestyle='--', alpha=0.5, zorder=0)\n",
    "ax.yaxis.grid(True, which='major', color='#6DC3EC', linestyle='-', zorder=3)\n",
    "\n",
    "# X-Axis: locator set the ticks. No understanding of this, just copy-and-paste...\n",
    "ax.xaxis.set_major_locator(xtick_locator)\n",
    "ax.xaxis.set_major_formatter(xtick_formatter)\n",
    "\n",
    "# Bars for each sum and day\n",
    "plt.bar(dayf.index,dayf.angekommen,width=0.9, alpha=1, color='#8F8F8F', label='angekommen', align='center')\n",
    "plt.bar(dayf.index,dayf.verbunden,width=0.2, alpha=1, color='#00B9FF', label='verbunden', align='center')\n",
    "plt.bar(dayf.index,dayf.verloren,width=0.2, alpha=1, color='#FF0056', label='verloren', align='center')\n",
    "\n",
    "# Markers for Mondays and Months\n",
    "plt.plot(dayf[dayf.weekday=='Mon'].index, dayf[dayf.weekday=='Mon'].day, c='#00FFEB', marker='d', markersize='4', linestyle='none', label='Montage')\n",
    "plt.plot(dayf[dayf.day==1].index, dayf[dayf.day==1].day, c='#FFF800', marker='^', markersize='4', linestyle='none', label='Monatsbeginn')\n",
    "\n",
    "# Legend and Layout formatting after the plotting has taken place\n",
    "plt.legend()\n",
    "plt.tight_layout()\n"
   ]
  },
  {
   "cell_type": "code",
   "execution_count": null,
   "metadata": {
    "collapsed": true
   },
   "outputs": [],
   "source": []
  },
  {
   "cell_type": "code",
   "execution_count": null,
   "metadata": {
    "collapsed": true
   },
   "outputs": [],
   "source": []
  }
 ],
 "metadata": {
  "kernelspec": {
   "display_name": "Python 2",
   "language": "python",
   "name": "python2"
  },
  "language_info": {
   "codemirror_mode": {
    "name": "ipython",
    "version": 2
   },
   "file_extension": ".py",
   "mimetype": "text/x-python",
   "name": "python",
   "nbconvert_exporter": "python",
   "pygments_lexer": "ipython2",
   "version": "2.7.12"
  }
 },
 "nbformat": 4,
 "nbformat_minor": 2
}
