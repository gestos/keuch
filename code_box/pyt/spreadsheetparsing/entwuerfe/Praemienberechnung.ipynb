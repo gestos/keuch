{
 "cells": [
  {
   "cell_type": "markdown",
   "metadata": {},
   "source": [
    "Voraussetzungen: \n",
    "a) 50 Aufträge pro Stunde, Out- und Inbound zusammen im Monatsschnitt.\n",
    "b) Auswertung über Exklusivlogin\n",
    "\n",
    "Problem: Allrecht + Deurag-Anrufe bei Exklusivlogin ; Switchen in normales Inbound\n",
    "\n",
    "Ergibt bei 6-Stunden-Schicht 132h im Monat:\n",
    "\n",
    "132h * 0.3€ = 39,6€ im Monat.\n",
    "\n",
    "Bei 4-Stunden Schicht:\n",
    "\n",
    "88h * 0.3€ = 26,4€ im Monat\n",
    "\n",
    "\n",
    "\n",
    "Grundlage für CE ab Juni = 4*6h (Jann,Papke,Stanz,Tetzlaff) + 1*4h (Diessner) = 616h = 184.8€"
   ]
  },
  {
   "cell_type": "code",
   "execution_count": 21,
   "metadata": {},
   "outputs": [
    {
     "name": "stdout",
     "output_type": "stream",
     "text": [
      "6h-Kraft im Monat: 36.300000000000004\n",
      "4h-Kraft im Monat: 24.200000000000003\n",
      "Gesamtbetrag für CW wenn alle Zielvorgaben erfüllt: 169.4\n"
     ]
    }
   ],
   "source": [
    "h_voll = 132   #bei 6 Stunden a 22 Werktage\n",
    "h_teil = 88    #bei 4 Stunden a 22 Werktage\n",
    "Faktor = 0.275 #Prämie pr Stunde bei Erfüllung der Zielvorgabe\n",
    "MA_Vollz = 4   #MA, die 6h Outbound machen\n",
    "MA_Teilz = 1   #MA, die 4h Outbound machen\n",
    "\n",
    "Stunden_im_Monat=(MA_Vollz*h_voll) + (MA_Teilz*h_teil)  # monatliche Gesamtstunden \n",
    "Praemie=Stunden_im_Monat*Faktor # Gesamtsumme ausgez. Prämie, wenn alle den Schnitt erreichn\n",
    "P_Vollz=h_voll*Faktor # monatlich für eine 6h-Kraft \n",
    "P_Teilz=h_teil*Faktor # monatlich für eine 4h-Kraft\n",
    "\n",
    "print('6h-Kraft im Monat: '+str(P_Vollz))\n",
    "print('4h-Kraft im Monat: '+str(P_Teilz))\n",
    "print('Gesamtbetrag für CW wenn alle Zielvorgaben erfüllt: '+str(Praemie))"
   ]
  },
  {
   "cell_type": "code",
   "execution_count": 18,
   "metadata": {},
   "outputs": [
    {
     "name": "stdout",
     "output_type": "stream",
     "text": [
      "Bei 4 Voll- und 1 Teilzeit und Erfüllung der Prämie: 30800 Aufträge\n",
      "Im Schnitt ca. 2.25€ pro Auftrag mit Inbound, = 69300.0 €\n"
     ]
    }
   ],
   "source": [
    "print('Bei 4 Voll- und 1 Teilzeit und Erfüllung der Prämie: '+str(Stunden_im_Monat*50) + ' Aufträge')\n",
    "print('Im Schnitt ca. 2.25€ pro Auftrag mit Inbound, = '+str(Stunden_im_Monat*50*2.25)+' €')"
   ]
  },
  {
   "cell_type": "code",
   "execution_count": null,
   "metadata": {
    "collapsed": true
   },
   "outputs": [],
   "source": []
  }
 ],
 "metadata": {
  "kernelspec": {
   "display_name": "Python 3",
   "language": "python",
   "name": "python3"
  },
  "language_info": {
   "codemirror_mode": {
    "name": "ipython",
    "version": 3
   },
   "file_extension": ".py",
   "mimetype": "text/x-python",
   "name": "python",
   "nbconvert_exporter": "python",
   "pygments_lexer": "ipython3",
   "version": "3.4.5"
  }
 },
 "nbformat": 4,
 "nbformat_minor": 2
}
