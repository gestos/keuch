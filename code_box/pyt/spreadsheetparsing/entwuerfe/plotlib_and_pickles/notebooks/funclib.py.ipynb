{
 "cells": [
  {
   "cell_type": "code",
   "execution_count": 1,
   "metadata": {
    "collapsed": true
   },
   "outputs": [],
   "source": [
    "def determine_kernzeit(datum):\n",
    "    ### Kernzeiten\n",
    "    ### ab 01.03.2017: Mo-Fr 11:30-19:30\n",
    "    ### ab 05.06.2017: Mo-Fr 8-20\n",
    "    ### ab 08.07. plus Samstag 8-13\n",
    "    weekday=datum.strftime('%a')\n",
    "    # print(datum, weekday)\n",
    "\n",
    "    if datum.date() < datetime.date(2017,3,1):\n",
    "        bzeit = 'k'\n",
    "\n",
    "    elif datetime.date(2017,3,1) <= datum.date() < datetime.date(2017,6,5):   ## Zeit zwischen 1.Maerz und 1. Juni\n",
    "        if weekday in (\"Sat\", \"Sun\"): ## WE immer Nebenzeit\n",
    "            bzeit = 'n'\n",
    "        else:                           ## Werktage von 11:30 bis 19:30\n",
    "            if datetime.time(11,30) <= datum.time() < datetime.time(19,30):\n",
    "                bzeit = 'k'\n",
    "            else:\n",
    "                bzeit = 'n'\n",
    "\n",
    "    elif datetime.date(2017,6,5) <= datum.date() < datetime.date(2017,7,8): ## Zeit ab 05.Juni bis 07. Juli\n",
    "        if weekday in (\"Sat\", \"Sun\"): ## WE immer Nebenzeit\n",
    "            bzeit = 'n'\n",
    "        else:                           ## Werktage von 8-20\n",
    "            if datetime.time(8,00) <= datum.time() < datetime.time(20,00):\n",
    "                bzeit = 'k'\n",
    "            else:\n",
    "                bzeit = 'n'\n",
    "    ### hier noch ab wann samstags 8-13 gezaehlt wird\n",
    "    elif datum.date() >= datetime.date(2017,7,8): ## Zeit ab Sa, 08. Juli\n",
    "        if weekday in (\"Sun\"): ## So. Nebenzeit\n",
    "            bzeit = 'n'   \n",
    "        elif weekday in (\"Sat\"): ## Sa. 8-13\n",
    "            if datetime.time(8,00) <= datum.time() < datetime.time(13,00):\n",
    "                bzeit = 'k'\n",
    "            else:\n",
    "                bzeit = 'n'\n",
    "        else:                           ## Werktage von 8-20\n",
    "            if datetime.time(8,00) <= datum.time() < datetime.time(20,00):\n",
    "                bzeit = 'k'\n",
    "            else:\n",
    "                bzeit = 'n'\n",
    "\n",
    "    return bzeit"
   ]
  },
  {
   "cell_type": "code",
   "execution_count": 2,
   "metadata": {
    "collapsed": true
   },
   "outputs": [],
   "source": [
    "def peeterst():\n",
    "    print('peed success')"
   ]
  },
  {
   "cell_type": "code",
   "execution_count": null,
   "metadata": {
    "collapsed": true
   },
   "outputs": [],
   "source": []
  }
 ],
 "metadata": {
  "kernelspec": {
   "display_name": "Python 3",
   "language": "python",
   "name": "python3"
  },
  "language_info": {
   "codemirror_mode": {
    "name": "ipython",
    "version": 3
   },
   "file_extension": ".py",
   "mimetype": "text/x-python",
   "name": "python",
   "nbconvert_exporter": "python",
   "pygments_lexer": "ipython3",
   "version": "3.4.5"
  }
 },
 "nbformat": 4,
 "nbformat_minor": 2
}
