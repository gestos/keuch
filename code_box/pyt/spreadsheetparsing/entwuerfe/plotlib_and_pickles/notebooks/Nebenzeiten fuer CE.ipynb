{
 "cells": [
  {
   "cell_type": "code",
   "execution_count": 539,
   "metadata": {
    "collapsed": true
   },
   "outputs": [],
   "source": [
    "## Import necessary modules\n",
    "import os,sys\n",
    "import pandas as pd\n",
    "import matplotlib.pyplot as plt\n",
    "from matplotlib.dates import date2num, AutoDateFormatter, AutoDateLocator, WeekdayLocator, MonthLocator, DayLocator, DateLocator, DateFormatter\n",
    "from matplotlib.dates import MO, TU, WE, TH, FR, SA, SU\n",
    "from matplotlib.ticker import AutoMinorLocator, AutoLocator, FormatStrFormatter, ScalarFormatter\n",
    "import numpy as np\n",
    "import datetime, calendar\n",
    "from datetime import timedelta\n",
    "import matplotlib.patches as mpatches\n",
    "from itertools import tee\n",
    "\n",
    "%matplotlib tk"
   ]
  },
  {
   "cell_type": "code",
   "execution_count": 540,
   "metadata": {},
   "outputs": [],
   "source": [
    "######## GET A LIST OF MATCHING .xls FILES FROM THE GIVEN DIRECTORY\n",
    "arcpath='/home/keuch/gits/keuch/code_box/pyt/spreadsheetparsing/test_stats/archiv/'\n",
    "def collectxlfiles(arcpath):\n",
    "    xlfilelist=list()\n",
    "\n",
    "    for xlfile in os.listdir(arcpath):\n",
    "        if xlfile.startswith('1458_daily'):\n",
    "            xlfileabs=os.path.join(arcpath,xlfile)\n",
    "            xlfilelist.append(xlfileabs)\n",
    "    return sorted(xlfilelist)\n",
    "\n",
    "xlfilelist=collectxlfiles(arcpath)"
   ]
  },
  {
   "cell_type": "code",
   "execution_count": 541,
   "metadata": {},
   "outputs": [],
   "source": [
    "def turn_xls_to_df(file):\n",
    "    needecols=[0,1,2,3,4,5,12,21] # Liste der Spalten, die aus dem Excelfile gelesen werden sollen\n",
    "    nucolnames=['tstp','clls','ange','verb','ht','tt','acw','lost'] # Namen, die spaeter auf die Spalten kommen\n",
    "    \n",
    "    excel_df=pd.read_excel(file,skiprows=3,skip_footer=1,usecols=needecols)  # die ersten 3 werden nicht benötigt, letzte auch nicht\n",
    "    excel_df['Timestamp'] = pd.to_datetime(excel_df['Timestamp'], format=' %d.%m.%Y %H:%M ') # statt string soll das ein datetime werden\n",
    "    excel_df.columns=nucolnames\n",
    "    excel_df2=excel_df.set_index('tstp').copy() # die timestamps sollen der index sein\n",
    "        \n",
    "    return excel_df2"
   ]
  },
  {
   "cell_type": "code",
   "execution_count": 542,
   "metadata": {},
   "outputs": [],
   "source": [
    "greatframe=pd.DataFrame() # leeren df initialisieren\n",
    "for i in xlfilelist:\n",
    "    i_frame=turn_xls_to_df(i)\n",
    "    greatframe=greatframe.append(i_frame) \n",
    "# alle files werden ordentlich in df konvertiert und an den ausserhalb der funktion kreierten df angehangen\n",
    "# greatframe # hier sind alle daten vollständig enthalten, die gebraucht werden, der Ur-Frame"
   ]
  },
  {
   "cell_type": "code",
   "execution_count": 543,
   "metadata": {},
   "outputs": [],
   "source": [
    "uhrzeit=greatframe.index.time # nur die Uhrzeit der Timestamps im Index\n",
    "wday=greatframe.index.weekday\n",
    "\n",
    "# Nebenzeiten von 00:00-07:29 und wieder von 20:00-23:59\n",
    "nulluhr=datetime.time(0, 0)\n",
    "halbacht_am=datetime.time(7, 29)\n",
    "siebzehn30=datetime.time(17, 30)\n",
    "zwanzig=datetime.time(20, 0)\n",
    "vierundzwanzig=datetime.time(23, 59)\n",
    "dreizehn=datetime.time(13, 0)\n",
    "\n",
    "WeekNZ = (wday.isin([0,1,2,3,4]) & ((uhrzeit >= nulluhr) & (uhrzeit <= halbacht) | ((uhrzeit >= siebzehn30) & (uhrzeit < vierundzwanzig))))\n",
    "SamsNZ = (wday.isin([5]) & ((uhrzeit >= nulluhr) & (uhrzeit <= halbacht) | ((uhrzeit >= dreizehn) & (uhrzeit < vierundzwanzig))))\n",
    "SonnNZ = (wday.isin([6]))"
   ]
  },
  {
   "cell_type": "code",
   "execution_count": 544,
   "metadata": {
    "scrolled": true
   },
   "outputs": [],
   "source": [
    "Nebenzeit_CE = greatframe.loc[(WeekNZ|SamsNZ|SonnNZ)].copy() # Nebenzeit viertelstündlich\n",
    "\n",
    "NZ_CE_DAY=Nebenzeit_CE.groupby(pd.TimeGrouper(freq='D')).sum().copy() # Nebenzeit nach Tagen gruppiert\n",
    "NZ_CE_DAY['wd'] = NZ_CE_DAY.index.weekday"
   ]
  },
  {
   "cell_type": "code",
   "execution_count": 545,
   "metadata": {},
   "outputs": [],
   "source": [
    "index_month=NZ_CE_DAY.index.month # nur der Monat der Timestamps im Index\n",
    "index_year=NZ_CE_DAY.index.year\n",
    "\n",
    "q1 = ((index_month >= 1) & (index_month <= 3))\n",
    "q2 = ((index_month >= 4) & (index_month <= 6))\n",
    "q3 = ((index_month >= 7) & (index_month <= 9))\n",
    "q4 = ((index_month >= 10) & (index_month <= 12))"
   ]
  },
  {
   "cell_type": "code",
   "execution_count": 579,
   "metadata": {},
   "outputs": [],
   "source": [
    "def plotzi(frame,quartal):\n",
    "    fig=plt.figure(figsize=(9,4))\n",
    "    von=Quart.index.date.min().strftime('%d.%m.%Y')\n",
    "    bis=Quart.index.date.max().strftime('%d.%m.%Y')\n",
    "    #fig.suptitle('Quartal '+str(quartal)+' '+str(jahr))\n",
    "    fig.suptitle(von+' - '+bis)\n",
    "    callsoverall=int(frame.clls.sum())\n",
    "    weekcalls=int(frame.loc[frame['wd'].isin([0,1,2,3,4])]['clls'].sum())\n",
    "    suncalls=int(frame.loc[frame['wd'] == 6]['clls'].sum())\n",
    "    satcalls=int(frame.loc[frame['wd'] == 5]['clls'].sum())\n",
    "    \n",
    "    aht=\"#003873\"\n",
    "    aacw=\"#EE0042\"\n",
    "    att=\"#899EB2\"\n",
    "    nzb=\"#C7798F\"\n",
    "\n",
    "    ax=fig.add_subplot(111)\n",
    "    ax.margins(0,0)\n",
    "    ax.set_xlabel('Nebenzeit CE-Dispo')\n",
    "    ax.set_ylabel('Calls')\n",
    "\n",
    "    coor={0:aht, 1:aht, 2:aht, 3:aht, 4:aht, 5: att, 6: nzb}\n",
    "    calls=ax.bar(frame.index,frame['clls'], label='calls', color=frame.wd.map(coor))\n",
    "\n",
    "    calls_leg = mpatches.Patch(color='000000', label='Calls Nebenzeit gesamt('+str(callsoverall)+')')\n",
    "    #calls_leg = mpatches.Patch(color=aht, label='Calls Nebenzeit Quartal '+str(quartal)+' '+str(jahr)+' gesamt('+str(callsoverall)+')')\n",
    "    wee_leg = mpatches.Patch(color=aht, label='werktags 0:00-7:30 und 17:30-24('+str(weekcalls)+')')\n",
    "    sat_leg = mpatches.Patch(color=att, label='samstags 0:00-7:30 und 13-24('+str(satcalls)+')')\n",
    "    sun_leg = mpatches.Patch(color=nzb, label='sonntags('+str(suncalls)+')')\n",
    "\n",
    "    ax.legend(handles=[calls_leg,wee_leg,sat_leg,sun_leg],fontsize=8,ncol=2,loc='upper right',borderaxespad=-2)"
   ]
  },
  {
   "cell_type": "code",
   "execution_count": 582,
   "metadata": {},
   "outputs": [],
   "source": [
    "jahr = 2018\n",
    "Start_2017=datetime.date(2017,1,1)\n",
    "EndQ1_2018=datetime.date(2018,3,31)\n",
    "Quart=NZ_CE_DAY.loc[(index_year == jahr) & q1].copy()\n",
    "#Quart=NZ_CE_DAY.loc[(NZ_CE_DAY.index.date >= Start_2017) & (NZ_CE_DAY.index.date <= EndQ1_2018)].copy()\n",
    "\n",
    "plotzi(Quart,1)"
   ]
  },
  {
   "cell_type": "code",
   "execution_count": 574,
   "metadata": {},
   "outputs": [
    {
     "data": {
      "text/plain": [
       "'31.03.2017'"
      ]
     },
     "execution_count": 574,
     "metadata": {},
     "output_type": "execute_result"
    }
   ],
   "source": []
  },
  {
   "cell_type": "code",
   "execution_count": null,
   "metadata": {},
   "outputs": [],
   "source": []
  },
  {
   "cell_type": "code",
   "execution_count": null,
   "metadata": {},
   "outputs": [],
   "source": []
  },
  {
   "cell_type": "code",
   "execution_count": null,
   "metadata": {},
   "outputs": [],
   "source": []
  },
  {
   "cell_type": "code",
   "execution_count": null,
   "metadata": {},
   "outputs": [],
   "source": []
  },
  {
   "cell_type": "code",
   "execution_count": null,
   "metadata": {
    "collapsed": true
   },
   "outputs": [],
   "source": []
  }
 ],
 "metadata": {
  "kernelspec": {
   "display_name": "Python 3",
   "language": "python",
   "name": "python3"
  },
  "language_info": {
   "codemirror_mode": {
    "name": "ipython",
    "version": 3
   },
   "file_extension": ".py",
   "mimetype": "text/x-python",
   "name": "python",
   "nbconvert_exporter": "python",
   "pygments_lexer": "ipython3",
   "version": "3.4.5"
  }
 },
 "nbformat": 4,
 "nbformat_minor": 2
}
