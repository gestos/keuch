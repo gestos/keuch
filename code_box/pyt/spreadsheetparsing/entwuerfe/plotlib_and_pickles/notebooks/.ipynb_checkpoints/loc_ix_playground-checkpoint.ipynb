{
 "cells": [
  {
   "cell_type": "code",
   "execution_count": 1,
   "metadata": {
    "collapsed": true
   },
   "outputs": [],
   "source": [
    "## Import necessary modules\n",
    "import pandas as pd\n",
    "import matplotlib.pyplot as plt\n",
    "from matplotlib.dates import AutoDateFormatter, AutoDateLocator, WeekdayLocator, MonthLocator, DateFormatter\n",
    "from matplotlib.dates import MO, TU, WE, TH, FR, SA, SU\n",
    "from matplotlib.ticker import AutoMinorLocator\n",
    "import numpy as np\n",
    "import datetime, calendar\n",
    "%matplotlib tk\n",
    "\n",
    "\n",
    "## Import data frome pickle generated from hotline_daily.py\n",
    "data = pd.read_pickle('./../../xls_testruns/agentenpickel.pkl')"
   ]
  },
  {
   "cell_type": "code",
   "execution_count": 2,
   "metadata": {
    "collapsed": true
   },
   "outputs": [],
   "source": [
    "def rearrange(df):\n",
    "    index_filter=df.loc[['tix']] ## select all hours-index rows\n",
    "    \n",
    "    hourse=list(range(0,25))  ## these is from 0 to 24 (25 entries!) and maps the hour indices\n",
    "    mh=index_filter[hourse]  ## columns with half- and hour steps were named 0-24\n",
    "    oldcols=mh.columns.values.tolist() ## list of the names of the hourse\n",
    "    newcols=mh.loc['tix'].drop_duplicates().loc['tix'].values.tolist() ## one row of the hour indices provides the new column names\n",
    "    cols=dict(zip(oldcols,newcols)) ## old column names get mapped to new columns names\n",
    "\n",
    "    mhnew=df.rename(columns=cols).drop('tix') ## new dataframe has the old 'tix' entries as column names; 'tix' rows are dropped since not needed any more\n",
    "    mhnew=mhnew.reset_index().set_index(['xlday']).rename(columns={'index':'status'}) ## new index will be the excel date numbers, old index is moved to a column named 'status'\n",
    "    \n",
    "    return mhnew"
   ]
  },
  {
   "cell_type": "code",
   "execution_count": 3,
   "metadata": {
    "collapsed": true
   },
   "outputs": [],
   "source": [
    "def timerange(*,df, years, months=range(1,13), weeks=range(1,53), weekdays=['Mon','Tue','Wed','Thu','Fri','Sat','Sun']):\n",
    "    resultat=df.loc[(df['year'].isin(years)) & (df['month'].isin(months)) & (df['weekday'].isin(weekdays))]\n",
    "    return resultat"
   ]
  },
  {
   "cell_type": "markdown",
   "metadata": {},
   "source": [
    "# end of function definitions"
   ]
  },
  {
   "cell_type": "code",
   "execution_count": 5,
   "metadata": {
    "scrolled": true
   },
   "outputs": [
    {
     "data": {
      "text/html": [
       "<div>\n",
       "<style>\n",
       "    .dataframe thead tr:only-child th {\n",
       "        text-align: right;\n",
       "    }\n",
       "\n",
       "    .dataframe thead th {\n",
       "        text-align: left;\n",
       "    }\n",
       "\n",
       "    .dataframe tbody tr th {\n",
       "        vertical-align: top;\n",
       "    }\n",
       "</style>\n",
       "<table border=\"1\" class=\"dataframe\">\n",
       "  <thead>\n",
       "    <tr style=\"text-align: right;\">\n",
       "      <th></th>\n",
       "      <th></th>\n",
       "      <th>dt</th>\n",
       "      <th>yy</th>\n",
       "      <th>tt</th>\n",
       "      <th>bz</th>\n",
       "      <th>hh</th>\n",
       "      <th>dd</th>\n",
       "      <th>acw</th>\n",
       "      <th>mm</th>\n",
       "      <th>ww</th>\n",
       "      <th>wd</th>\n",
       "      <th>lo</th>\n",
       "      <th>ag</th>\n",
       "      <th>an</th>\n",
       "      <th>be</th>\n",
       "      <th>vl</th>\n",
       "      <th>ht</th>\n",
       "    </tr>\n",
       "  </thead>\n",
       "  <tbody>\n",
       "    <tr>\n",
       "      <th rowspan=\"2\" valign=\"top\">2017-03-04 08:00:00</th>\n",
       "      <th>beckfra</th>\n",
       "      <td>2017-03-04</td>\n",
       "      <td>2017</td>\n",
       "      <td>2.1333</td>\n",
       "      <td>n</td>\n",
       "      <td>8</td>\n",
       "      <td>4</td>\n",
       "      <td>0.2334</td>\n",
       "      <td>3</td>\n",
       "      <td>9</td>\n",
       "      <td>Sat</td>\n",
       "      <td>H</td>\n",
       "      <td>beckfra</td>\n",
       "      <td>1</td>\n",
       "      <td>1</td>\n",
       "      <td>0</td>\n",
       "      <td>2.3667</td>\n",
       "    </tr>\n",
       "    <tr>\n",
       "      <th>tetzlva</th>\n",
       "      <td>2017-03-04</td>\n",
       "      <td>2017</td>\n",
       "      <td>2.6167</td>\n",
       "      <td>n</td>\n",
       "      <td>8</td>\n",
       "      <td>4</td>\n",
       "      <td>0.0666001</td>\n",
       "      <td>3</td>\n",
       "      <td>9</td>\n",
       "      <td>Sat</td>\n",
       "      <td>B</td>\n",
       "      <td>tetzlva</td>\n",
       "      <td>1</td>\n",
       "      <td>1</td>\n",
       "      <td>0</td>\n",
       "      <td>2.6833</td>\n",
       "    </tr>\n",
       "    <tr>\n",
       "      <th>2017-03-04 09:00:00</th>\n",
       "      <th>tetzlva</th>\n",
       "      <td>2017-03-04</td>\n",
       "      <td>2017</td>\n",
       "      <td>0.9167</td>\n",
       "      <td>n</td>\n",
       "      <td>9</td>\n",
       "      <td>4</td>\n",
       "      <td>0.1333</td>\n",
       "      <td>3</td>\n",
       "      <td>9</td>\n",
       "      <td>Sat</td>\n",
       "      <td>B</td>\n",
       "      <td>tetzlva</td>\n",
       "      <td>2</td>\n",
       "      <td>2</td>\n",
       "      <td>0</td>\n",
       "      <td>1.05</td>\n",
       "    </tr>\n",
       "    <tr>\n",
       "      <th>2017-03-04 10:00:00</th>\n",
       "      <th>scholan</th>\n",
       "      <td>2017-03-04</td>\n",
       "      <td>2017</td>\n",
       "      <td>0.6</td>\n",
       "      <td>n</td>\n",
       "      <td>10</td>\n",
       "      <td>4</td>\n",
       "      <td>1.5</td>\n",
       "      <td>3</td>\n",
       "      <td>9</td>\n",
       "      <td>Sat</td>\n",
       "      <td>H</td>\n",
       "      <td>scholan</td>\n",
       "      <td>1</td>\n",
       "      <td>1</td>\n",
       "      <td>0</td>\n",
       "      <td>2.1</td>\n",
       "    </tr>\n",
       "    <tr>\n",
       "      <th>2017-03-04 11:00:00</th>\n",
       "      <th>beckfra</th>\n",
       "      <td>2017-03-04</td>\n",
       "      <td>2017</td>\n",
       "      <td>4.2333</td>\n",
       "      <td>n</td>\n",
       "      <td>11</td>\n",
       "      <td>4</td>\n",
       "      <td>0.0999999</td>\n",
       "      <td>3</td>\n",
       "      <td>9</td>\n",
       "      <td>Sat</td>\n",
       "      <td>H</td>\n",
       "      <td>beckfra</td>\n",
       "      <td>1</td>\n",
       "      <td>1</td>\n",
       "      <td>0</td>\n",
       "      <td>4.3333</td>\n",
       "    </tr>\n",
       "  </tbody>\n",
       "</table>\n",
       "</div>"
      ],
      "text/plain": [
       "                                     dt    yy      tt bz  hh dd        acw mm  \\\n",
       "2017-03-04 08:00:00 beckfra  2017-03-04  2017  2.1333  n   8  4     0.2334  3   \n",
       "                    tetzlva  2017-03-04  2017  2.6167  n   8  4  0.0666001  3   \n",
       "2017-03-04 09:00:00 tetzlva  2017-03-04  2017  0.9167  n   9  4     0.1333  3   \n",
       "2017-03-04 10:00:00 scholan  2017-03-04  2017     0.6  n  10  4        1.5  3   \n",
       "2017-03-04 11:00:00 beckfra  2017-03-04  2017  4.2333  n  11  4  0.0999999  3   \n",
       "\n",
       "                            ww   wd lo       ag an be vl      ht  \n",
       "2017-03-04 08:00:00 beckfra  9  Sat  H  beckfra  1  1  0  2.3667  \n",
       "                    tetzlva  9  Sat  B  tetzlva  1  1  0  2.6833  \n",
       "2017-03-04 09:00:00 tetzlva  9  Sat  B  tetzlva  2  2  0    1.05  \n",
       "2017-03-04 10:00:00 scholan  9  Sat  H  scholan  1  1  0     2.1  \n",
       "2017-03-04 11:00:00 beckfra  9  Sat  H  beckfra  1  1  0  4.3333  "
      ]
     },
     "execution_count": 5,
     "metadata": {},
     "output_type": "execute_result"
    }
   ],
   "source": [
    "#ndata=rearrange(data)\n",
    "data.head()"
   ]
  },
  {
   "cell_type": "markdown",
   "metadata": {
    "collapsed": true
   },
   "source": [
    "### time range filter:\n",
    "Arguments must be passed as a list or as a range. Example:\n",
    "\n",
    "**timerange(df=ndata,years=[2016,2017],months=[3],weeks=[6],weekdays=['Sun','Sun'])**\n",
    "\n",
    "Note the double entry for a single weekday!\n",
    "Leaving parameters empty gives default values (=all). Months and Weeks may be mutually exclusive and raise exceptions"
   ]
  },
  {
   "cell_type": "code",
   "execution_count": null,
   "metadata": {
    "collapsed": true
   },
   "outputs": [],
   "source": [
    "plotframe = timerange(df=ndata,years=[2017],months=[3])"
   ]
  },
  {
   "cell_type": "code",
   "execution_count": null,
   "metadata": {},
   "outputs": [],
   "source": [
    "plotframe"
   ]
  },
  {
   "cell_type": "code",
   "execution_count": null,
   "metadata": {
    "collapsed": true
   },
   "outputs": [],
   "source": []
  }
 ],
 "metadata": {
  "kernelspec": {
   "display_name": "Python 3",
   "language": "python",
   "name": "python3"
  },
  "language_info": {
   "codemirror_mode": {
    "name": "ipython",
    "version": 3
   },
   "file_extension": ".py",
   "mimetype": "text/x-python",
   "name": "python",
   "nbconvert_exporter": "python",
   "pygments_lexer": "ipython3",
   "version": "3.4.5"
  }
 },
 "nbformat": 4,
 "nbformat_minor": 2
}
