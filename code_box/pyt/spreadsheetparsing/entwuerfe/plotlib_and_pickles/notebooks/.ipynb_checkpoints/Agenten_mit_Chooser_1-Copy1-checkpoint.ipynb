{
 "cells": [
  {
   "cell_type": "code",
   "execution_count": 1,
   "metadata": {},
   "outputs": [],
   "source": [
    "## Import necessary modules\n",
    "import os,sys\n",
    "import pandas as pd\n",
    "import matplotlib.pyplot as plt\n",
    "from matplotlib.dates import date2num, AutoDateFormatter, AutoDateLocator, WeekdayLocator, MonthLocator, DayLocator, DateLocator, DateFormatter\n",
    "from matplotlib.dates import MO, TU, WE, TH, FR, SA, SU\n",
    "from matplotlib.ticker import AutoMinorLocator, AutoLocator, FormatStrFormatter, ScalarFormatter\n",
    "import numpy as np\n",
    "import datetime, calendar\n",
    "from datetime import timedelta\n",
    "import matplotlib.patches as mpatches\n",
    "from itertools import tee\n",
    "\n",
    "sys.path.append(os.path.abspath('/home/keuch/gits/keuch/code_box/pyt/spreadsheetparsing/entwuerfe/xls_testruns/lib/'))\n",
    "from ce_funclib import determine_kernzeit as dtkz\n",
    "from ce_funclib import continuity_check\n",
    "from ce_funclib import decminutes_to_mmss, maptix2labels, plotit\n",
    "\n",
    "from ipywidgets import widgets, interact, interactive, fixed, interact_manual, Layout\n",
    "from IPython.display import display\n",
    "#%matplotlib inline\n",
    "%matplotlib tk\n",
    "\n",
    "\n",
    "## Import data frome pickle generated from muß ein file mit agentenstats sein\n",
    "arcpth='/home/keuch/gits/keuch/code_box/pyt/spreadsheetparsing/test_stats/archiv/'\n"
   ]
  },
  {
   "cell_type": "code",
   "execution_count": 2,
   "metadata": {
    "collapsed": true
   },
   "outputs": [],
   "source": [
    "######## GET A LIST OF MATCHING .xls FILES FROM THE GIVEN DIRECTORY"
   ]
  },
  {
   "cell_type": "code",
   "execution_count": 3,
   "metadata": {
    "collapsed": true
   },
   "outputs": [],
   "source": [
    "def collectxlfiles(arcpath):\n",
    "    xlfilelist=list()\n",
    "\n",
    "    for xlfile in os.listdir(arcpath):\n",
    "        if xlfile.startswith('CE_al'):\n",
    "            xlfileabs=os.path.join(arcpath,xlfile)\n",
    "            xlfilelist.append(xlfileabs)\n",
    "    return sorted(xlfilelist)\n",
    "\n",
    "xlfilelist=collectxlfiles(arcpth)\n",
    "#xlfilelist\n",
    "#examplefile=xlfilelist[233]"
   ]
  },
  {
   "cell_type": "code",
   "execution_count": 4,
   "metadata": {
    "collapsed": true
   },
   "outputs": [],
   "source": [
    "###### TEST FOR DATA IN FILE, SORT OUT EMPTY FILES "
   ]
  },
  {
   "cell_type": "code",
   "execution_count": 5,
   "metadata": {
    "collapsed": true
   },
   "outputs": [],
   "source": [
    "## good dataframes do per definition not contain any zero values\n",
    "## fill bad DFs with nan?\n",
    "\n",
    "def filetoframe(exfile):\n",
    "    exframe=pd.read_excel(exfile) # this is a regular pd.DataFrame\n",
    "    datecell=exframe.iloc[0,1]\n",
    "    sheet_datetime=pd.to_datetime(datecell,format='%d.%m %Y : %H')\n",
    "    sheet_date=sheet_datetime.date()\n",
    "    \n",
    "    integritycheck=exframe.iloc[2,1] # files with data have \"agenten\" here, files with no calls have a 'nan'\n",
    "\n",
    "    if integritycheck != 'Agenten':\n",
    "        # if it's empty, keep date for filling it later\n",
    "        print('Exception: ', end='')\n",
    "        except_status='ex'\n",
    "        \n",
    "        usefulcols={0:'tstamp',1:'agent',3:'an',4:'be',22:'vl',24:'ht_float',29:'tt_float'} # map cols to decent names\n",
    "        exframe=exframe.reindex(columns=sorted(usefulcols.keys()))\n",
    "        exframe.rename(columns=usefulcols,inplace=True)        \n",
    "        exframe=exframe[0:1] # strip text rows and the mangled sum row\n",
    "        print(sheet_datetime)\n",
    "        \n",
    "        exframe['tstamp']=sheet_datetime\n",
    "        exframe['date']=sheet_date\n",
    "        exframe['agent']='nocalls_datum'\n",
    "        exframe[['wd','ww','mm','yy']]=exframe['tstamp'].dt.strftime('%a,%W,%m,%Y').str.split(',',expand=True) # make ww,yy,mm,wd columns\n",
    "        exframe['bz']=exframe['tstamp'].apply(dtkz)\n",
    "        exframe['ort']=exframe['agent'].str[0] # split the identifier into useable columns\n",
    "        exframe['id']='foobar' # split the identifier into useable columns\n",
    "        \n",
    "        # integers should be of appropriate datatype, we received them as strings\n",
    "        # exframe[['vl','an','be','ww','mm','yy']]=exframe[['vl','an','be','ww','mm','yy']].astype(np.int64) #just for the beauty of it\n",
    "        exframe.fillna(0, inplace=True) \n",
    "        exframe[['ww','mm','yy']]=exframe[['ww','mm','yy']].astype(np.int64) #just for the beauty of it\n",
    "        #exframe.fillna(0, inplace=True) \n",
    "        return exframe,except_status\n",
    "        \n",
    "    else:\n",
    "        except_status='reg'\n",
    "        \n",
    "        exframe.columns=range(0,30) # rename columns to a temporarily more readable format, fancy rename later\n",
    "        usefulcols={0:'tstamp',1:'agent',3:'an',4:'be',22:'vl',24:'ht_float',29:'tt_float'} # map cols to decent names\n",
    "        exframe=exframe[sorted(usefulcols.keys())] # skip cols and keep the ones we need\n",
    "        exframe.rename(columns=usefulcols,inplace=True) # rename cols\n",
    "        exframe=exframe[3:-1] # strip text rows and the mangled sum row\n",
    "        exframe['tstamp']=pd.to_datetime(exframe['tstamp'],format=' %d.%m.%Y %H:%M ')\n",
    "        exframe['date']=exframe['tstamp'].dt.date\n",
    "        exframe[['wd','ww','mm','yy']]=exframe['tstamp'].dt.strftime('%a,%W,%m,%Y').str.split(',',expand=True) # make ww,yy,mm,wd columns\n",
    "        exframe['bz']=exframe['tstamp'].apply(dtkz)\n",
    "        \n",
    "        exframe['ort']=exframe['agent'].str[0] # split the identifier into useable columns\n",
    "        exframe['id']=exframe['agent'].str[-6:] # split the identifier into useable columns\n",
    "        exframe['agent']=exframe['agent'].str[2:-7] # split the identifier into useable columns\n",
    "        \n",
    "        # integers should be of appropriate datatype, we received them as strings\n",
    "        exframe[['vl','an','be','ww','mm','yy']]=exframe[['vl','an','be','ww','mm','yy']].astype(np.int64) #just for the beauty of it\n",
    "\n",
    "        return exframe,except_status"
   ]
  },
  {
   "cell_type": "code",
   "execution_count": 6,
   "metadata": {},
   "outputs": [
    {
     "name": "stdout",
     "output_type": "stream",
     "text": [
      "Exception: 2017-04-17 00:00:00\n"
     ]
    },
    {
     "data": {
      "text/html": [
       "<div>\n",
       "<style>\n",
       "    .dataframe thead tr:only-child th {\n",
       "        text-align: right;\n",
       "    }\n",
       "\n",
       "    .dataframe thead th {\n",
       "        text-align: left;\n",
       "    }\n",
       "\n",
       "    .dataframe tbody tr th {\n",
       "        vertical-align: top;\n",
       "    }\n",
       "</style>\n",
       "<table border=\"1\" class=\"dataframe\">\n",
       "  <thead>\n",
       "    <tr style=\"text-align: right;\">\n",
       "      <th></th>\n",
       "      <th>tstamp</th>\n",
       "      <th>agent</th>\n",
       "      <th>an</th>\n",
       "      <th>be</th>\n",
       "      <th>vl</th>\n",
       "      <th>ht_float</th>\n",
       "      <th>tt_float</th>\n",
       "      <th>date</th>\n",
       "      <th>wd</th>\n",
       "      <th>ww</th>\n",
       "      <th>mm</th>\n",
       "      <th>yy</th>\n",
       "      <th>bz</th>\n",
       "      <th>ort</th>\n",
       "      <th>id</th>\n",
       "    </tr>\n",
       "  </thead>\n",
       "  <tbody>\n",
       "    <tr>\n",
       "      <th>0</th>\n",
       "      <td>2017-04-17</td>\n",
       "      <td>nocalls_datum</td>\n",
       "      <td>0.0</td>\n",
       "      <td>0.0</td>\n",
       "      <td>0.0</td>\n",
       "      <td>0.0</td>\n",
       "      <td>0.0</td>\n",
       "      <td>2017-04-17</td>\n",
       "      <td>Mon</td>\n",
       "      <td>16</td>\n",
       "      <td>4</td>\n",
       "      <td>2017</td>\n",
       "      <td>n</td>\n",
       "      <td>n</td>\n",
       "      <td>foobar</td>\n",
       "    </tr>\n",
       "  </tbody>\n",
       "</table>\n",
       "</div>"
      ],
      "text/plain": [
       "      tstamp          agent   an   be   vl  ht_float  tt_float        date  \\\n",
       "0 2017-04-17  nocalls_datum  0.0  0.0  0.0       0.0       0.0  2017-04-17   \n",
       "\n",
       "    wd  ww  mm    yy bz ort      id  \n",
       "0  Mon  16   4  2017  n   n  foobar  "
      ]
     },
     "execution_count": 6,
     "metadata": {},
     "output_type": "execute_result"
    }
   ],
   "source": [
    "example_badframe,badstatus=filetoframe('/home/keuch/gits/keuch/code_box/pyt/spreadsheetparsing/test_stats/archiv/CE_alle_Agenten_taeglich_2017-04-17.xls')\n",
    "example_goodframe,goodstatus=filetoframe('/home/keuch/gits/keuch/code_box/pyt/spreadsheetparsing/test_stats/archiv/CE_alle_Agenten_taeglich_2017-05-17.xls')\n",
    "example_badframe"
   ]
  },
  {
   "cell_type": "code",
   "execution_count": 7,
   "metadata": {},
   "outputs": [
    {
     "data": {
      "text/html": [
       "<div>\n",
       "<style>\n",
       "    .dataframe thead tr:only-child th {\n",
       "        text-align: right;\n",
       "    }\n",
       "\n",
       "    .dataframe thead th {\n",
       "        text-align: left;\n",
       "    }\n",
       "\n",
       "    .dataframe tbody tr th {\n",
       "        vertical-align: top;\n",
       "    }\n",
       "</style>\n",
       "<table border=\"1\" class=\"dataframe\">\n",
       "  <thead>\n",
       "    <tr style=\"text-align: right;\">\n",
       "      <th></th>\n",
       "      <th>tstamp</th>\n",
       "      <th>agent</th>\n",
       "      <th>an</th>\n",
       "      <th>be</th>\n",
       "      <th>vl</th>\n",
       "      <th>ht_float</th>\n",
       "      <th>tt_float</th>\n",
       "      <th>date</th>\n",
       "      <th>wd</th>\n",
       "      <th>ww</th>\n",
       "      <th>mm</th>\n",
       "      <th>yy</th>\n",
       "      <th>bz</th>\n",
       "      <th>ort</th>\n",
       "      <th>id</th>\n",
       "    </tr>\n",
       "  </thead>\n",
       "  <tbody>\n",
       "    <tr>\n",
       "      <th>3</th>\n",
       "      <td>2017-05-17 07:00:00</td>\n",
       "      <td>pletaan</td>\n",
       "      <td>1</td>\n",
       "      <td>1</td>\n",
       "      <td>0</td>\n",
       "      <td>0.8333</td>\n",
       "      <td>0.35</td>\n",
       "      <td>2017-05-17</td>\n",
       "      <td>Wed</td>\n",
       "      <td>20</td>\n",
       "      <td>5</td>\n",
       "      <td>2017</td>\n",
       "      <td>n</td>\n",
       "      <td>B</td>\n",
       "      <td>335334</td>\n",
       "    </tr>\n",
       "    <tr>\n",
       "      <th>4</th>\n",
       "      <td>2017-05-17 13:00:00</td>\n",
       "      <td>pletaan</td>\n",
       "      <td>1</td>\n",
       "      <td>1</td>\n",
       "      <td>0</td>\n",
       "      <td>8.4833</td>\n",
       "      <td>7.4833</td>\n",
       "      <td>2017-05-17</td>\n",
       "      <td>Wed</td>\n",
       "      <td>20</td>\n",
       "      <td>5</td>\n",
       "      <td>2017</td>\n",
       "      <td>k</td>\n",
       "      <td>B</td>\n",
       "      <td>335334</td>\n",
       "    </tr>\n",
       "    <tr>\n",
       "      <th>5</th>\n",
       "      <td>2017-05-17 15:00:00</td>\n",
       "      <td>beckeca</td>\n",
       "      <td>1</td>\n",
       "      <td>1</td>\n",
       "      <td>0</td>\n",
       "      <td>2.4333</td>\n",
       "      <td>2.3333</td>\n",
       "      <td>2017-05-17</td>\n",
       "      <td>Wed</td>\n",
       "      <td>20</td>\n",
       "      <td>5</td>\n",
       "      <td>2017</td>\n",
       "      <td>k</td>\n",
       "      <td>H</td>\n",
       "      <td>428869</td>\n",
       "    </tr>\n",
       "  </tbody>\n",
       "</table>\n",
       "</div>"
      ],
      "text/plain": [
       "               tstamp    agent  an  be  vl ht_float tt_float        date   wd  \\\n",
       "3 2017-05-17 07:00:00  pletaan   1   1   0   0.8333     0.35  2017-05-17  Wed   \n",
       "4 2017-05-17 13:00:00  pletaan   1   1   0   8.4833   7.4833  2017-05-17  Wed   \n",
       "5 2017-05-17 15:00:00  beckeca   1   1   0   2.4333   2.3333  2017-05-17  Wed   \n",
       "\n",
       "   ww  mm    yy bz ort      id  \n",
       "3  20   5  2017  n   B  335334  \n",
       "4  20   5  2017  k   B  335334  \n",
       "5  20   5  2017  k   H  428869  "
      ]
     },
     "execution_count": 7,
     "metadata": {},
     "output_type": "execute_result"
    }
   ],
   "source": [
    "example_goodframe.head(3)"
   ]
  },
  {
   "cell_type": "code",
   "execution_count": 8,
   "metadata": {},
   "outputs": [
    {
     "name": "stdout",
     "output_type": "stream",
     "text": [
      "Exception: 2017-04-17 00:00:00\n",
      "Exception: 2017-05-14 00:00:00\n",
      "Exception: 2017-11-19 00:00:00\n",
      "Exception: 2017-12-03 00:00:00\n",
      "Exception: 2017-12-10 00:00:00\n"
     ]
    },
    {
     "data": {
      "text/plain": [
       "['/home/keuch/gits/keuch/code_box/pyt/spreadsheetparsing/test_stats/archiv/CE_alle_Agenten_taeglich_2017-04-17.xls',\n",
       " '/home/keuch/gits/keuch/code_box/pyt/spreadsheetparsing/test_stats/archiv/CE_alle_Agenten_taeglich_2017-05-14.xls',\n",
       " '/home/keuch/gits/keuch/code_box/pyt/spreadsheetparsing/test_stats/archiv/CE_alle_Agenten_taeglich_2017-11-19.xls',\n",
       " '/home/keuch/gits/keuch/code_box/pyt/spreadsheetparsing/test_stats/archiv/CE_alle_Agenten_taeglich_2017-12-03.xls',\n",
       " '/home/keuch/gits/keuch/code_box/pyt/spreadsheetparsing/test_stats/archiv/CE_alle_Agenten_taeglich_2017-12-10.xls']"
      ]
     },
     "execution_count": 8,
     "metadata": {},
     "output_type": "execute_result"
    }
   ],
   "source": [
    "framelist=list()\n",
    "exceptionlist=list()\n",
    "for xfile in xlfilelist:\n",
    "    \n",
    "    #print('file:',xfile)\n",
    "    frame_from_file,except_status=filetoframe(xfile)\n",
    "    #print(frame_from_file.columns)\n",
    "    #print(frame_from_file['date'])\n",
    "    if except_status=='ex':\n",
    "        exceptionlist.append(xfile)\n",
    "    framelist.append(frame_from_file)\n",
    "\n",
    "exceptionlist"
   ]
  },
  {
   "cell_type": "code",
   "execution_count": null,
   "metadata": {
    "collapsed": true
   },
   "outputs": [],
   "source": []
  },
  {
   "cell_type": "code",
   "execution_count": 9,
   "metadata": {
    "collapsed": true
   },
   "outputs": [],
   "source": [
    "#### produce a unified frame with all data and sort it by timstamp and agentname\n",
    "bigframeii=pd.concat(framelist)\n",
    "\n",
    "bigframeii.sort_values(['tstamp','agent'],inplace=True)\n",
    "bigframeii.reset_index(drop=True,inplace=True) # there you go"
   ]
  },
  {
   "cell_type": "code",
   "execution_count": 10,
   "metadata": {
    "collapsed": true
   },
   "outputs": [],
   "source": [
    "# bigframeii\n",
    "# die exklusivlogins müssen zusammengelegt werden\n",
    "unify_id={'gesinst':'995887','stanzju':'878457','papkeda':'891914'}\n",
    "bigframeii.loc[bigframeii['id'] == unify_id['gesinst'],'agent'] = 'gesinst'\n",
    "bigframeii.loc[bigframeii['id'] == unify_id['stanzju'],'agent'] = 'stanzju'\n",
    "bigframeii.loc[bigframeii['id'] == unify_id['papkeda'],'agent'] = 'papkeda'"
   ]
  },
  {
   "cell_type": "code",
   "execution_count": 11,
   "metadata": {
    "collapsed": true
   },
   "outputs": [],
   "source": [
    "### some date locator play, can conveniently be checked against a single xls file\n",
    "#def check_single_day(day):\n",
    "#    dayvalues=bigframeii.loc[bigframeii['date'] == day]\n",
    "#    print('htsum',dayvalues['ht_float'].sum(), end=', ')\n",
    "#    print('bearbeitete sum',dayvalues['be'].sum())\n",
    "#check_single_day(datetime.date(2017,4,17)) # shows that days wihtout calls are in the frame, too\n",
    "#check_single_day(datetime.date(2017,4,18)) # shows that days wihtout calls are in the frame, too"
   ]
  },
  {
   "cell_type": "code",
   "execution_count": 12,
   "metadata": {},
   "outputs": [
    {
     "name": "stdout",
     "output_type": "stream",
     "text": [
      "no dates are missing\n"
     ]
    }
   ],
   "source": [
    "#### get all dates and check whether they're contiguous\n",
    "datenserie_uniq=bigframeii['date'].unique().tolist()\n",
    "tage_bestand=len(datenserie_uniq)\n",
    "tage_start=datenserie_uniq[0]\n",
    "tage_ende=datenserie_uniq[-1:]\n",
    "\n",
    "missing_dates=continuity_check(datenserie_uniq)\n",
    "if not missing_dates:\n",
    "    print('no dates are missing')\n",
    "else:\n",
    "    print('the following dates are not within the frame:')\n",
    "    print(missing_dates)"
   ]
  },
  {
   "cell_type": "code",
   "execution_count": 13,
   "metadata": {
    "collapsed": true
   },
   "outputs": [],
   "source": [
    "### PARSE AGENT DATA\n",
    "### What I want:\n",
    "### * get a list of all agents that have worked in the period \n",
    "### * get data for each agent\n",
    "### * get average of all agents as a reference\n",
    "### per agent:\n",
    "### ** get all calls that have lasted longer than x times the average of all agents\n",
    "### ** get a plot of all calls (by timestamp)\n",
    "### ** get a plot of all days (by date)\n",
    "### ** get their tendencies over the weeks (? vacation dates missing and so on)\n",
    "\n",
    "#bigframeii.tail(10)"
   ]
  },
  {
   "cell_type": "code",
   "execution_count": 14,
   "metadata": {
    "collapsed": true
   },
   "outputs": [],
   "source": [
    "# get all agents available and create frames for kern and neben\n",
    "allagents_list=sorted(bigframeii['agent'].unique())\n",
    "allagents_list.extend(['Hagenow','Berlin','Alle'])\n",
    "standorte=bigframeii.ort.unique().tolist()\n",
    "\n",
    "bigk=bigframeii.loc[bigframeii['bz']=='k']\n",
    "bign=bigframeii.loc[bigframeii['bz']=='n']"
   ]
  },
  {
   "cell_type": "markdown",
   "metadata": {},
   "source": [
    "**we can't figure out individual calls anyway, since raw data calls have been grouped by hours already  \n",
    "so we can go on and group by days to figure out averages**"
   ]
  },
  {
   "cell_type": "code",
   "execution_count": null,
   "metadata": {
    "collapsed": true
   },
   "outputs": [],
   "source": []
  },
  {
   "cell_type": "code",
   "execution_count": 15,
   "metadata": {
    "collapsed": true
   },
   "outputs": [],
   "source": [
    "def group_and_add_average(agentname,frame,gruppierung):\n",
    "    # step one: filter by agent; if agent is a location-bound group, filter by location and change agent name to group name\n",
    "    if agentname == 'Hagenow':\n",
    "        nur_agent=frame.loc[frame['ort']=='H'].copy()\n",
    "        nur_agent['agent']='Hagenow'\n",
    "        nur_agent['id']='000001'\n",
    "    elif agentname == 'Berlin':\n",
    "        nur_agent=frame.loc[frame['ort']=='B'].copy()\n",
    "        nur_agent['agent']='Berlin'\n",
    "        nur_agent['id']='000002'\n",
    "    elif agentname == 'Alle':\n",
    "        #nur_agent=frame.loc[frame['ort'].isin(standorte)].copy()\n",
    "        nur_agent=frame.copy()\n",
    "        nur_agent['agent']='Alle'\n",
    "        nur_agent['id']='000000'    \n",
    "    else:\n",
    "        nur_agent=frame.loc[frame['agent']==agentname]\n",
    "    \n",
    "\n",
    "    # step 2: split into kern and neben\n",
    "    k=nur_agent.loc[nur_agent['bz']=='k']\n",
    "    if k.empty:\n",
    "        print()\n",
    "        print(agentname,end=' ')\n",
    "        print('keine Kernzeit group_and_add_average')\n",
    "        print('###')\n",
    "        \n",
    "    n=nur_agent.loc[nur_agent['bz']=='n']\n",
    "    if n.empty:\n",
    "        print()\n",
    "        print(agentname,end=' ')\n",
    "        print('keine Nebenzeit group_and_add_average')\n",
    "        print('###')\n",
    "\n",
    "    # step 3: group by day (instead of hour, as it is now) and add average ht,tt\n",
    "    def group_and_average(agframe):\n",
    "        ### ttstamp is dropped and date will be the new index; all others summed or reduced\n",
    "        colfx_day={'agent':'first','an':'sum','be':'sum','vl':'sum','ht_float':'sum','tt_float':'sum','wd':'first','ww':'first', 'mm':'first','yy':'first','bz':'first','ort':'first','id':'first'}\n",
    "        ### ttstamp is dropped, date is dropped and ww will be the new index; all others summed or reduced\n",
    "        colfx_week={'agent':'first','an':'sum','be':'sum','vl':'sum','ht_float':'sum','tt_float':'sum','wd':'first','mm':'first','yy':'first','bz':'first','ort':'first','id':'first'}\n",
    "        \n",
    "        if gruppierung=='tag':\n",
    "            grpd=agframe.groupby('date').agg(colfx_day)\n",
    "        elif gruppierung=='woche':\n",
    "            grpd=agframe.groupby('ww').agg(colfx_week)\n",
    "        elif gruppierung=='nursplit':\n",
    "            grpd=agframe.copy()\n",
    "        \n",
    "        grpd['aht']=grpd['ht_float']/grpd['be']\n",
    "        grpd['att']=grpd['tt_float']/grpd['be']\n",
    "        grpd['acw']=grpd['aht']-grpd['att']\n",
    "\n",
    "        return grpd\n",
    "\n",
    "    # step 4 get stats grouped by day and with the average column\n",
    "    k_agent=group_and_average(k)\n",
    "    n_agent=group_and_average(n)\n",
    "\n",
    "    return k_agent,n_agent"
   ]
  },
  {
   "cell_type": "markdown",
   "metadata": {
    "collapsed": true
   },
   "source": [
    "**dictionary of frames**"
   ]
  },
  {
   "cell_type": "code",
   "execution_count": 16,
   "metadata": {},
   "outputs": [
    {
     "name": "stdout",
     "output_type": "stream",
     "text": [
      "collecting and grouping times (neben, kern) for\n",
      "\n",
      "bartsan keine Nebenzeit group_and_add_average\n",
      "###\n",
      "\n",
      "bartsan keine Nebenzeit group_and_add_average\n",
      "###\n",
      "\n",
      "behrest keine Nebenzeit group_and_add_average\n",
      "###\n",
      "\n",
      "behrest keine Nebenzeit group_and_add_average\n",
      "###\n",
      "\n",
      "haustst keine Nebenzeit group_and_add_average\n",
      "###\n",
      "\n",
      "haustst keine Nebenzeit group_and_add_average\n",
      "###\n",
      "\n",
      "jakobir keine Kernzeit group_and_add_average\n",
      "###\n",
      "\n",
      "jakobir keine Kernzeit group_and_add_average\n",
      "###\n",
      "\n",
      "klagero keine Nebenzeit group_and_add_average\n",
      "###\n",
      "\n",
      "klagero keine Nebenzeit group_and_add_average\n",
      "###\n",
      "\n",
      "kurzmsa keine Nebenzeit group_and_add_average\n",
      "###\n",
      "\n",
      "kurzmsa keine Nebenzeit group_and_add_average\n",
      "###\n",
      "\n",
      "lengkst keine Nebenzeit group_and_add_average\n",
      "###\n",
      "\n",
      "lengkst keine Nebenzeit group_and_add_average\n",
      "###\n",
      "\n",
      "nocalls_datum keine Kernzeit group_and_add_average\n",
      "###\n",
      "\n",
      "nocalls_datum keine Kernzeit group_and_add_average\n",
      "###\n",
      "\n",
      "reismat keine Nebenzeit group_and_add_average\n",
      "###\n",
      "\n",
      "reismat keine Nebenzeit group_and_add_average\n",
      "###\n",
      "\n",
      "steffci keine Nebenzeit group_and_add_average\n",
      "###\n",
      "\n",
      "steffci keine Nebenzeit group_and_add_average\n",
      "###\n",
      "\n",
      "vespean BuO keine Nebenzeit group_and_add_average\n",
      "###\n",
      "\n",
      "vespean BuO keine Nebenzeit group_and_add_average\n",
      "###\n",
      "\n",
      "wulfftr keine Nebenzeit group_and_add_average\n",
      "###\n",
      "\n",
      "wulfftr keine Nebenzeit group_and_add_average\n",
      "###\n"
     ]
    }
   ],
   "source": [
    "### generate frames grouped by day and by week for every agent, put them in a dictionary\n",
    "zeiten={}\n",
    "print('collecting and grouping times (neben, kern) for')\n",
    "for namen in allagents_list:\n",
    "    kern_byday,neben_byday=group_and_add_average(namen,bigframeii,'tag')\n",
    "    kern_byweek,neben_byweek=group_and_add_average(namen,bigframeii,'woche')\n",
    "\n",
    "    zeiten[namen]={'k_day':kern_byday,'k_week':kern_byweek,'n_day':neben_byday,'n_week':neben_byweek}"
   ]
  },
  {
   "cell_type": "code",
   "execution_count": 17,
   "metadata": {},
   "outputs": [
    {
     "data": {
      "text/html": [
       "<div>\n",
       "<style>\n",
       "    .dataframe thead tr:only-child th {\n",
       "        text-align: right;\n",
       "    }\n",
       "\n",
       "    .dataframe thead th {\n",
       "        text-align: left;\n",
       "    }\n",
       "\n",
       "    .dataframe tbody tr th {\n",
       "        vertical-align: top;\n",
       "    }\n",
       "</style>\n",
       "<table border=\"1\" class=\"dataframe\">\n",
       "  <thead>\n",
       "    <tr style=\"text-align: right;\">\n",
       "      <th></th>\n",
       "      <th>tt_float</th>\n",
       "      <th>wd</th>\n",
       "      <th>vl</th>\n",
       "      <th>id</th>\n",
       "      <th>ht_float</th>\n",
       "      <th>agent</th>\n",
       "      <th>be</th>\n",
       "      <th>mm</th>\n",
       "      <th>bz</th>\n",
       "      <th>yy</th>\n",
       "      <th>ww</th>\n",
       "      <th>ort</th>\n",
       "      <th>an</th>\n",
       "      <th>aht</th>\n",
       "      <th>att</th>\n",
       "      <th>acw</th>\n",
       "    </tr>\n",
       "    <tr>\n",
       "      <th>date</th>\n",
       "      <th></th>\n",
       "      <th></th>\n",
       "      <th></th>\n",
       "      <th></th>\n",
       "      <th></th>\n",
       "      <th></th>\n",
       "      <th></th>\n",
       "      <th></th>\n",
       "      <th></th>\n",
       "      <th></th>\n",
       "      <th></th>\n",
       "      <th></th>\n",
       "      <th></th>\n",
       "      <th></th>\n",
       "      <th></th>\n",
       "      <th></th>\n",
       "    </tr>\n",
       "  </thead>\n",
       "  <tbody>\n",
       "  </tbody>\n",
       "</table>\n",
       "</div>"
      ],
      "text/plain": [
       "Empty DataFrame\n",
       "Columns: [tt_float, wd, vl, id, ht_float, agent, be, mm, bz, yy, ww, ort, an, aht, att, acw]\n",
       "Index: []"
      ]
     },
     "execution_count": 17,
     "metadata": {},
     "output_type": "execute_result"
    }
   ],
   "source": [
    "# zeiten['haustst']['n_day']"
   ]
  },
  {
   "cell_type": "code",
   "execution_count": 23,
   "metadata": {},
   "outputs": [
    {
     "data": {
      "text/html": [
       "<div>\n",
       "<style>\n",
       "    .dataframe thead tr:only-child th {\n",
       "        text-align: right;\n",
       "    }\n",
       "\n",
       "    .dataframe thead th {\n",
       "        text-align: left;\n",
       "    }\n",
       "\n",
       "    .dataframe tbody tr th {\n",
       "        vertical-align: top;\n",
       "    }\n",
       "</style>\n",
       "<table border=\"1\" class=\"dataframe\">\n",
       "  <thead>\n",
       "    <tr style=\"text-align: right;\">\n",
       "      <th></th>\n",
       "      <th>tt_float</th>\n",
       "      <th>wd</th>\n",
       "      <th>vl</th>\n",
       "      <th>id</th>\n",
       "      <th>ht_float</th>\n",
       "      <th>agent</th>\n",
       "      <th>be</th>\n",
       "      <th>mm</th>\n",
       "      <th>bz</th>\n",
       "      <th>yy</th>\n",
       "      <th>ww</th>\n",
       "      <th>ort</th>\n",
       "      <th>an</th>\n",
       "      <th>aht</th>\n",
       "      <th>att</th>\n",
       "      <th>acw</th>\n",
       "    </tr>\n",
       "    <tr>\n",
       "      <th>date</th>\n",
       "      <th></th>\n",
       "      <th></th>\n",
       "      <th></th>\n",
       "      <th></th>\n",
       "      <th></th>\n",
       "      <th></th>\n",
       "      <th></th>\n",
       "      <th></th>\n",
       "      <th></th>\n",
       "      <th></th>\n",
       "      <th></th>\n",
       "      <th></th>\n",
       "      <th></th>\n",
       "      <th></th>\n",
       "      <th></th>\n",
       "      <th></th>\n",
       "    </tr>\n",
       "  </thead>\n",
       "  <tbody>\n",
       "    <tr>\n",
       "      <th>2017-08-12</th>\n",
       "      <td>14.7834</td>\n",
       "      <td>Sat</td>\n",
       "      <td>0.0</td>\n",
       "      <td>770628</td>\n",
       "      <td>21.6668</td>\n",
       "      <td>gesinst</td>\n",
       "      <td>14.0</td>\n",
       "      <td>8</td>\n",
       "      <td>n</td>\n",
       "      <td>2017</td>\n",
       "      <td>32</td>\n",
       "      <td>B</td>\n",
       "      <td>14.0</td>\n",
       "      <td>1.547629</td>\n",
       "      <td>1.055957</td>\n",
       "      <td>0.491671</td>\n",
       "    </tr>\n",
       "    <tr>\n",
       "      <th>2017-08-26</th>\n",
       "      <td>3.8333</td>\n",
       "      <td>Sat</td>\n",
       "      <td>0.0</td>\n",
       "      <td>770628</td>\n",
       "      <td>4.9833</td>\n",
       "      <td>gesinst</td>\n",
       "      <td>2.0</td>\n",
       "      <td>8</td>\n",
       "      <td>n</td>\n",
       "      <td>2017</td>\n",
       "      <td>34</td>\n",
       "      <td>B</td>\n",
       "      <td>2.0</td>\n",
       "      <td>2.491650</td>\n",
       "      <td>1.916650</td>\n",
       "      <td>0.575000</td>\n",
       "    </tr>\n",
       "    <tr>\n",
       "      <th>2017-09-02</th>\n",
       "      <td>3.6500</td>\n",
       "      <td>Sat</td>\n",
       "      <td>0.0</td>\n",
       "      <td>770628</td>\n",
       "      <td>4.7833</td>\n",
       "      <td>gesinst</td>\n",
       "      <td>4.0</td>\n",
       "      <td>9</td>\n",
       "      <td>n</td>\n",
       "      <td>2017</td>\n",
       "      <td>35</td>\n",
       "      <td>B</td>\n",
       "      <td>4.0</td>\n",
       "      <td>1.195825</td>\n",
       "      <td>0.912500</td>\n",
       "      <td>0.283325</td>\n",
       "    </tr>\n",
       "    <tr>\n",
       "      <th>2017-09-08</th>\n",
       "      <td>0.1167</td>\n",
       "      <td>Fri</td>\n",
       "      <td>0.0</td>\n",
       "      <td>770628</td>\n",
       "      <td>0.1500</td>\n",
       "      <td>gesinst</td>\n",
       "      <td>1.0</td>\n",
       "      <td>9</td>\n",
       "      <td>n</td>\n",
       "      <td>2017</td>\n",
       "      <td>36</td>\n",
       "      <td>B</td>\n",
       "      <td>1.0</td>\n",
       "      <td>0.150000</td>\n",
       "      <td>0.116700</td>\n",
       "      <td>0.033300</td>\n",
       "    </tr>\n",
       "    <tr>\n",
       "      <th>2017-09-09</th>\n",
       "      <td>4.6833</td>\n",
       "      <td>Sat</td>\n",
       "      <td>0.0</td>\n",
       "      <td>770628</td>\n",
       "      <td>6.7834</td>\n",
       "      <td>gesinst</td>\n",
       "      <td>7.0</td>\n",
       "      <td>9</td>\n",
       "      <td>n</td>\n",
       "      <td>2017</td>\n",
       "      <td>36</td>\n",
       "      <td>B</td>\n",
       "      <td>7.0</td>\n",
       "      <td>0.969057</td>\n",
       "      <td>0.669043</td>\n",
       "      <td>0.300014</td>\n",
       "    </tr>\n",
       "    <tr>\n",
       "      <th>2017-09-28</th>\n",
       "      <td>4.3167</td>\n",
       "      <td>Thu</td>\n",
       "      <td>0.0</td>\n",
       "      <td>770628</td>\n",
       "      <td>5.3167</td>\n",
       "      <td>gesinst</td>\n",
       "      <td>1.0</td>\n",
       "      <td>9</td>\n",
       "      <td>n</td>\n",
       "      <td>2017</td>\n",
       "      <td>39</td>\n",
       "      <td>B</td>\n",
       "      <td>1.0</td>\n",
       "      <td>5.316700</td>\n",
       "      <td>4.316700</td>\n",
       "      <td>1.000000</td>\n",
       "    </tr>\n",
       "    <tr>\n",
       "      <th>2017-10-05</th>\n",
       "      <td>0.3833</td>\n",
       "      <td>Thu</td>\n",
       "      <td>0.0</td>\n",
       "      <td>770628</td>\n",
       "      <td>0.4167</td>\n",
       "      <td>gesinst</td>\n",
       "      <td>1.0</td>\n",
       "      <td>10</td>\n",
       "      <td>n</td>\n",
       "      <td>2017</td>\n",
       "      <td>40</td>\n",
       "      <td>B</td>\n",
       "      <td>1.0</td>\n",
       "      <td>0.416700</td>\n",
       "      <td>0.383300</td>\n",
       "      <td>0.033400</td>\n",
       "    </tr>\n",
       "    <tr>\n",
       "      <th>2017-10-14</th>\n",
       "      <td>3.8167</td>\n",
       "      <td>Sat</td>\n",
       "      <td>0.0</td>\n",
       "      <td>770628</td>\n",
       "      <td>7.3167</td>\n",
       "      <td>gesinst</td>\n",
       "      <td>6.0</td>\n",
       "      <td>10</td>\n",
       "      <td>n</td>\n",
       "      <td>2017</td>\n",
       "      <td>41</td>\n",
       "      <td>B</td>\n",
       "      <td>6.0</td>\n",
       "      <td>1.219450</td>\n",
       "      <td>0.636117</td>\n",
       "      <td>0.583333</td>\n",
       "    </tr>\n",
       "  </tbody>\n",
       "</table>\n",
       "</div>"
      ],
      "text/plain": [
       "            tt_float   wd   vl      id  ht_float    agent    be  mm bz    yy  \\\n",
       "date                                                                           \n",
       "2017-08-12   14.7834  Sat  0.0  770628   21.6668  gesinst  14.0   8  n  2017   \n",
       "2017-08-26    3.8333  Sat  0.0  770628    4.9833  gesinst   2.0   8  n  2017   \n",
       "2017-09-02    3.6500  Sat  0.0  770628    4.7833  gesinst   4.0   9  n  2017   \n",
       "2017-09-08    0.1167  Fri  0.0  770628    0.1500  gesinst   1.0   9  n  2017   \n",
       "2017-09-09    4.6833  Sat  0.0  770628    6.7834  gesinst   7.0   9  n  2017   \n",
       "2017-09-28    4.3167  Thu  0.0  770628    5.3167  gesinst   1.0   9  n  2017   \n",
       "2017-10-05    0.3833  Thu  0.0  770628    0.4167  gesinst   1.0  10  n  2017   \n",
       "2017-10-14    3.8167  Sat  0.0  770628    7.3167  gesinst   6.0  10  n  2017   \n",
       "\n",
       "            ww ort    an       aht       att       acw  \n",
       "date                                                    \n",
       "2017-08-12  32   B  14.0  1.547629  1.055957  0.491671  \n",
       "2017-08-26  34   B   2.0  2.491650  1.916650  0.575000  \n",
       "2017-09-02  35   B   4.0  1.195825  0.912500  0.283325  \n",
       "2017-09-08  36   B   1.0  0.150000  0.116700  0.033300  \n",
       "2017-09-09  36   B   7.0  0.969057  0.669043  0.300014  \n",
       "2017-09-28  39   B   1.0  5.316700  4.316700  1.000000  \n",
       "2017-10-05  40   B   1.0  0.416700  0.383300  0.033400  \n",
       "2017-10-14  41   B   6.0  1.219450  0.636117  0.583333  "
      ]
     },
     "execution_count": 23,
     "metadata": {},
     "output_type": "execute_result"
    }
   ],
   "source": [
    "#### isin function is pretty neat thing for filtering\n",
    "#### obviously, ww is another datatype than mm, normalization required!\n",
    "zeiten['gesinst']['n_day'].loc[zeiten['gesinst']['n_day']['ww'].isin([32,33,34,35,36,37,38,39,40,41])]"
   ]
  },
  {
   "cell_type": "code",
   "execution_count": 19,
   "metadata": {
    "collapsed": true
   },
   "outputs": [],
   "source": [
    "def get_sortlist(frame,sortby):\n",
    "    print(sortby.lower())\n",
    "    overall_funx1={'be':'sum','ht_float':'sum'}\n",
    "    gesframe=frame.groupby('agent').agg(overall_funx1).copy()\n",
    "    gesframe['aht']=(gesframe['ht_float']/gesframe['be'])\n",
    "\n",
    "    overall_funx2={'be':'sum','ht_float':'sum'}\n",
    "    ortsframe=frame.loc[bigframeii['ort'].isin(['H','B'])].groupby('ort').agg(overall_funx2).copy()\n",
    "    ortsframe['aht']=(ortsframe['ht_float']/ortsframe['be'])\n",
    "\n",
    "    newf=ortsframe.rename(index={'B':'berlin','H':'hagenow'})\n",
    "    newf.index.names=['agent']\n",
    "    newfall=pd.concat([gesframe,newf]).fillna(0)\n",
    "    if sortby.lower() == 'calls':\n",
    "        newfall.sort_values('be',ascending=False,inplace=True)\n",
    "    elif sortby.lower() == 'aht':\n",
    "        newfall.sort_values('aht',ascending=False,inplace=True)\n",
    "    \n",
    "    #print(newfall)\n",
    "    \n",
    "    return newfall.index.tolist()"
   ]
  },
  {
   "cell_type": "code",
   "execution_count": 20,
   "metadata": {},
   "outputs": [
    {
     "name": "stdout",
     "output_type": "stream",
     "text": [
      "calls\n"
     ]
    },
    {
     "name": "stderr",
     "output_type": "stream",
     "text": [
      "Widget Javascript not detected.  It may not be installed or enabled properly.\n"
     ]
    },
    {
     "data": {
      "application/vnd.jupyter.widget-view+json": {
       "model_id": "d7cc07f4861b46dca20cf1022a8abfa9"
      }
     },
     "metadata": {},
     "output_type": "display_data"
    }
   ],
   "source": [
    "# hier erstmal die Daten\n",
    "dats=sorted(bigframeii.date.unique())\n",
    "\n",
    "# aufsetzen der Widgets, die in die Boxen kommen: \n",
    "agtsortmethod=widgets.RadioButtons(options=['Calls', 'avAHT'],value='Calls',description='Agenten sortiert nach:',disabled=False)\n",
    "agent_chooser=widgets.SelectMultiple(options=get_sortlist(bigframeii,agtsortmethod.value),layout=Layout(display=\"flex\", flex_flow='column'),description='Agents',disabled=False)\n",
    "ww_dd_chooser=widgets.RadioButtons(options=['Wochen', 'Einzeltage'],value='Wochen',description='Gruppierung:',disabled=False)\n",
    "whichweeks=widgets.IntRangeSlider(step=1,disabled=False,min=1,max=52,value=[1,52],description='Wochen')\n",
    "fromdt=widgets.SelectionSlider(options=dats,description='Von:')\n",
    "tilldt=widgets.SelectionSlider(options=dats, min=fromdt.value,max=dats[-1],description='Bis:')\n",
    "gobutton=widgets.Button(description='Click me',disabled=False,button_style='',tooltip='Click me',icon='check')\n",
    "\n",
    "# layout der widget-boxen\n",
    "overbox=widgets.HBox(description='outer box',title='outer box', name='outer box', layout=Layout(border='2px solid black'))             # Das ist der Hauptcontainer, in den die weiteren Boxen kommen\n",
    "leftbox_agents=widgets.VBox(layout=Layout(border='2px solid blue'))      # linke Box innerhalb\n",
    "rightbox_timeranges=widgets.VBox(layout=Layout(border='2px solid purple')) # rechte Box innerhalb\n",
    "overbox.children=[leftbox_agents,rightbox_timeranges]               # so werden die Boxen im Container platziert\n",
    "leftbox_agents.children=[agtsortmethod,agent_chooser]               # widgets für die linke Box\n",
    "rightbox_timeranges.children=[ww_dd_chooser,whichweeks,gobutton]    # widgets für die rechte Box\n",
    "\n",
    "# 'observe'-Funktionen für die widgets:\n",
    "def shift_tilldt(args):\n",
    "    farom=dats.index(args['new'])\n",
    "    tilldt.options=dats[farom:]\n",
    "def switchflick(args):\n",
    "    wd=args['new']\n",
    "    #print(wd)\n",
    "    #print(rightbox_timeranges)\n",
    "    if wd=='Einzeltage':\n",
    "        rightbox_timeranges.children=[ww_dd_chooser,fromdt,tilldt,gobutton]\n",
    "    elif wd=='Wochen':\n",
    "        rightbox_timeranges.children=[ww_dd_chooser,whichweeks,gobutton]\n",
    "def agtsort(args):\n",
    "    sor=(args['new'])\n",
    "    #print(sor)\n",
    "    if sor.lower() == 'calls':\n",
    "        agent_chooser.options=get_sortlist(bigframeii,'calls')\n",
    "    elif sor.lower() == 'avaht':\n",
    "        agent_chooser.options=get_sortlist(bigframeii,'aht')\n",
    "def passvalues(args):\n",
    "    agenten=agent_chooser.value\n",
    "    wwdd=ww_dd_chooser.value\n",
    "    zeitrahmen=dict()\n",
    "    if wwdd.lower()=='wochen':\n",
    "        zeitrahmen['wochen']=whichweeks.value\n",
    "    elif wwdd.lower()=='einzeltage':\n",
    "        zeitrahmen['vonbis']=fromdt.value,tilldt.value\n",
    "    printparams=tuple([agenten,wwdd,zeitrahmen])\n",
    "    print(printparams)\n",
    "    return printparams\n",
    "\n",
    "# Zuweisung/Bindung der 'observe'-Funktionen an die widgets\n",
    "agtsortmethod.observe(agtsort,'value') \n",
    "# Erklärung: das widget 'agtsortmethod' hat als potentielle Values die beiden Werte,\n",
    "# die oben beim Start des Widgets als \"Options\" hinterlegt wurden (\"Calls\" und \"avAHT\")\n",
    "# wird das widget betätigt, wird sie funktion \"agtsort\" mit dem gerade gewählten Wert als Parameter aufgerufen\n",
    "# die Funktion setzt in einem anderen widget (agent_chooser) die zur Auswahl stehenden Werte direkt\n",
    "ww_dd_chooser.observe(switchflick,'value')\n",
    "fromdt.observe(shift_tilldt,'value')\n",
    "gobutton.on_click(passvalues)\n",
    "\n",
    "display(overbox)"
   ]
  },
  {
   "cell_type": "code",
   "execution_count": 21,
   "metadata": {},
   "outputs": [
    {
     "data": {
      "text/plain": [
       "'Calls'"
      ]
     },
     "execution_count": 21,
     "metadata": {},
     "output_type": "execute_result"
    }
   ],
   "source": [
    "#plotit(printargs)\n",
    "agtsortmethod.value"
   ]
  },
  {
   "cell_type": "code",
   "execution_count": 22,
   "metadata": {},
   "outputs": [
    {
     "data": {
      "text/plain": [
       "(<matplotlib.axes._subplots.AxesSubplot at 0xaca3f20c>,\n",
       " <matplotlib.axes._subplots.AxesSubplot at 0xacb5b64c>)"
      ]
     },
     "execution_count": 22,
     "metadata": {},
     "output_type": "execute_result"
    }
   ],
   "source": [
    "plotit(zeiten, 'gesinst', 'woche')   ## funktioniert, aber zeitraum muß vorher noch gesetzt werden"
   ]
  },
  {
   "cell_type": "code",
   "execution_count": null,
   "metadata": {
    "collapsed": true
   },
   "outputs": [],
   "source": []
  },
  {
   "cell_type": "code",
   "execution_count": null,
   "metadata": {
    "collapsed": true
   },
   "outputs": [],
   "source": [
    "\n"
   ]
  },
  {
   "cell_type": "code",
   "execution_count": null,
   "metadata": {
    "collapsed": true
   },
   "outputs": [],
   "source": []
  },
  {
   "cell_type": "code",
   "execution_count": null,
   "metadata": {
    "collapsed": true
   },
   "outputs": [],
   "source": []
  }
 ],
 "metadata": {
  "kernelspec": {
   "display_name": "Python 3",
   "language": "python",
   "name": "python3"
  },
  "language_info": {
   "codemirror_mode": {
    "name": "ipython",
    "version": 3
   },
   "file_extension": ".py",
   "mimetype": "text/x-python",
   "name": "python",
   "nbconvert_exporter": "python",
   "pygments_lexer": "ipython3",
   "version": "3.4.5"
  }
 },
 "nbformat": 4,
 "nbformat_minor": 2
}
