{
 "cells": [
  {
   "cell_type": "code",
   "execution_count": 2,
   "metadata": {},
   "outputs": [
    {
     "ename": "ValueError",
     "evalue": "labels ['dt' 'dd' 'hh' 'tt' 'acw' 'wd' 'yy' 'ag' 'ht' 'vl' 'mm' 'an'] not contained in axis",
     "output_type": "error",
     "traceback": [
      "\u001b[0;31m---------------------------------------------------------------------------\u001b[0m",
      "\u001b[0;31mValueError\u001b[0m                                Traceback (most recent call last)",
      "\u001b[0;32m<ipython-input-2-632a07d350df>\u001b[0m in \u001b[0;36m<module>\u001b[0;34m()\u001b[0m\n\u001b[1;32m     13\u001b[0m \u001b[0;31m## Import data frome pickle generated from muß ein file mit agentenstats sein\u001b[0m\u001b[0;34m\u001b[0m\u001b[0;34m\u001b[0m\u001b[0m\n\u001b[1;32m     14\u001b[0m \u001b[0mdata\u001b[0m \u001b[0;34m=\u001b[0m \u001b[0mpd\u001b[0m\u001b[0;34m.\u001b[0m\u001b[0mread_pickle\u001b[0m\u001b[0;34m(\u001b[0m\u001b[0;34m'/home/keuch/gits/keuch/code_box/pyt/spreadsheetparsing/pkl_plots_calls_1458.pkl'\u001b[0m\u001b[0;34m)\u001b[0m\u001b[0;34m\u001b[0m\u001b[0m\n\u001b[0;32m---> 15\u001b[0;31m \u001b[0mdata2\u001b[0m\u001b[0;34m=\u001b[0m\u001b[0mdata\u001b[0m\u001b[0;34m.\u001b[0m\u001b[0mdrop\u001b[0m\u001b[0;34m(\u001b[0m\u001b[0;34m[\u001b[0m\u001b[0;34m'dt'\u001b[0m\u001b[0;34m,\u001b[0m\u001b[0;34m'dd'\u001b[0m\u001b[0;34m,\u001b[0m\u001b[0;34m'hh'\u001b[0m\u001b[0;34m,\u001b[0m\u001b[0;34m'tt'\u001b[0m\u001b[0;34m,\u001b[0m\u001b[0;34m'acw'\u001b[0m\u001b[0;34m,\u001b[0m\u001b[0;34m'wd'\u001b[0m\u001b[0;34m,\u001b[0m\u001b[0;34m'yy'\u001b[0m\u001b[0;34m,\u001b[0m\u001b[0;34m'ag'\u001b[0m\u001b[0;34m,\u001b[0m\u001b[0;34m'ht'\u001b[0m\u001b[0;34m,\u001b[0m\u001b[0;34m'vl'\u001b[0m\u001b[0;34m,\u001b[0m\u001b[0;34m'mm'\u001b[0m\u001b[0;34m,\u001b[0m\u001b[0;34m'an'\u001b[0m\u001b[0;34m]\u001b[0m\u001b[0;34m,\u001b[0m\u001b[0;36m1\u001b[0m\u001b[0;34m)\u001b[0m\u001b[0;34m\u001b[0m\u001b[0m\n\u001b[0m\u001b[1;32m     16\u001b[0m \u001b[0mwsplit\u001b[0m\u001b[0;34m=\u001b[0m\u001b[0mdata2\u001b[0m\u001b[0;34m.\u001b[0m\u001b[0mgroupby\u001b[0m\u001b[0;34m(\u001b[0m\u001b[0;34m[\u001b[0m\u001b[0;34m'ww'\u001b[0m\u001b[0;34m,\u001b[0m\u001b[0;34m'lo'\u001b[0m\u001b[0;34m,\u001b[0m\u001b[0;34m'bz'\u001b[0m\u001b[0;34m]\u001b[0m\u001b[0;34m)\u001b[0m\u001b[0;34m.\u001b[0m\u001b[0msum\u001b[0m\u001b[0;34m(\u001b[0m\u001b[0;34m)\u001b[0m\u001b[0;34m\u001b[0m\u001b[0m\n",
      "\u001b[0;32m/home/keuch/gits/keuch/code_box/pyt/spreadsheetparsing/entwuerfe/ve/lib/python3.4/site-packages/pandas/core/generic.py\u001b[0m in \u001b[0;36mdrop\u001b[0;34m(self, labels, axis, level, inplace, errors)\u001b[0m\n\u001b[1;32m   2159\u001b[0m                 \u001b[0mnew_axis\u001b[0m \u001b[0;34m=\u001b[0m \u001b[0maxis\u001b[0m\u001b[0;34m.\u001b[0m\u001b[0mdrop\u001b[0m\u001b[0;34m(\u001b[0m\u001b[0mlabels\u001b[0m\u001b[0;34m,\u001b[0m \u001b[0mlevel\u001b[0m\u001b[0;34m=\u001b[0m\u001b[0mlevel\u001b[0m\u001b[0;34m,\u001b[0m \u001b[0merrors\u001b[0m\u001b[0;34m=\u001b[0m\u001b[0merrors\u001b[0m\u001b[0;34m)\u001b[0m\u001b[0;34m\u001b[0m\u001b[0m\n\u001b[1;32m   2160\u001b[0m             \u001b[0;32melse\u001b[0m\u001b[0;34m:\u001b[0m\u001b[0;34m\u001b[0m\u001b[0m\n\u001b[0;32m-> 2161\u001b[0;31m                 \u001b[0mnew_axis\u001b[0m \u001b[0;34m=\u001b[0m \u001b[0maxis\u001b[0m\u001b[0;34m.\u001b[0m\u001b[0mdrop\u001b[0m\u001b[0;34m(\u001b[0m\u001b[0mlabels\u001b[0m\u001b[0;34m,\u001b[0m \u001b[0merrors\u001b[0m\u001b[0;34m=\u001b[0m\u001b[0merrors\u001b[0m\u001b[0;34m)\u001b[0m\u001b[0;34m\u001b[0m\u001b[0m\n\u001b[0m\u001b[1;32m   2162\u001b[0m             \u001b[0mdropped\u001b[0m \u001b[0;34m=\u001b[0m \u001b[0mself\u001b[0m\u001b[0;34m.\u001b[0m\u001b[0mreindex\u001b[0m\u001b[0;34m(\u001b[0m\u001b[0;34m**\u001b[0m\u001b[0;34m{\u001b[0m\u001b[0maxis_name\u001b[0m\u001b[0;34m:\u001b[0m \u001b[0mnew_axis\u001b[0m\u001b[0;34m}\u001b[0m\u001b[0;34m)\u001b[0m\u001b[0;34m\u001b[0m\u001b[0m\n\u001b[1;32m   2163\u001b[0m             \u001b[0;32mtry\u001b[0m\u001b[0;34m:\u001b[0m\u001b[0;34m\u001b[0m\u001b[0m\n",
      "\u001b[0;32m/home/keuch/gits/keuch/code_box/pyt/spreadsheetparsing/entwuerfe/ve/lib/python3.4/site-packages/pandas/core/indexes/base.py\u001b[0m in \u001b[0;36mdrop\u001b[0;34m(self, labels, errors)\u001b[0m\n\u001b[1;32m   3622\u001b[0m             \u001b[0;32mif\u001b[0m \u001b[0merrors\u001b[0m \u001b[0;34m!=\u001b[0m \u001b[0;34m'ignore'\u001b[0m\u001b[0;34m:\u001b[0m\u001b[0;34m\u001b[0m\u001b[0m\n\u001b[1;32m   3623\u001b[0m                 raise ValueError('labels %s not contained in axis' %\n\u001b[0;32m-> 3624\u001b[0;31m                                  labels[mask])\n\u001b[0m\u001b[1;32m   3625\u001b[0m             \u001b[0mindexer\u001b[0m \u001b[0;34m=\u001b[0m \u001b[0mindexer\u001b[0m\u001b[0;34m[\u001b[0m\u001b[0;34m~\u001b[0m\u001b[0mmask\u001b[0m\u001b[0;34m]\u001b[0m\u001b[0;34m\u001b[0m\u001b[0m\n\u001b[1;32m   3626\u001b[0m         \u001b[0;32mreturn\u001b[0m \u001b[0mself\u001b[0m\u001b[0;34m.\u001b[0m\u001b[0mdelete\u001b[0m\u001b[0;34m(\u001b[0m\u001b[0mindexer\u001b[0m\u001b[0;34m)\u001b[0m\u001b[0;34m\u001b[0m\u001b[0m\n",
      "\u001b[0;31mValueError\u001b[0m: labels ['dt' 'dd' 'hh' 'tt' 'acw' 'wd' 'yy' 'ag' 'ht' 'vl' 'mm' 'an'] not contained in axis"
     ]
    }
   ],
   "source": [
    "## Import necessary modules\n",
    "import pandas as pd\n",
    "import matplotlib.pyplot as plt\n",
    "from matplotlib.dates import date2num, AutoDateFormatter, AutoDateLocator, WeekdayLocator, MonthLocator, DayLocator, DateLocator, DateFormatter\n",
    "from matplotlib.dates import MO, TU, WE, TH, FR, SA, SU\n",
    "from matplotlib.ticker import AutoMinorLocator\n",
    "import numpy as np\n",
    "import datetime, calendar\n",
    "#from datetime import datetime\n",
    "import matplotlib.patches as mpatches\n",
    "%matplotlib inline\n",
    "\n",
    "## Import data frome pickle generated from muß ein file mit agentenstats sein\n",
    "data = pd.read_pickle('/home/keuch/gits/keuch/code_box/pyt/spreadsheetparsing/pkl_plots_calls_1458.pkl')\n",
    "data2=data.drop(['dt','dd','hh','tt','acw','wd','yy','ag','ht','vl','mm','an'],1)\n",
    "wsplit=data2.groupby(['ww','lo','bz']).sum()"
   ]
  },
  {
   "cell_type": "code",
   "execution_count": null,
   "metadata": {
    "collapsed": true
   },
   "outputs": [],
   "source": [
    "xlframe=pd.read_excel('/home/keuch/gits/keuch/code_box/pyt/spreadsheetparsing/test_stats/archiv/CE_alle_Agenten_taeglich_2017-03-27.xls')\n",
    "xlframe"
   ]
  },
  {
   "cell_type": "code",
   "execution_count": null,
   "metadata": {
    "collapsed": true
   },
   "outputs": [],
   "source": [
    "unstckd=wsplit.unstack().unstack()\n",
    "kernzeit=unstckd['be','k']\n",
    "nebenzeit=unstckd['be','n']\n",
    "\n",
    "fig=plt.figure(figsize=(12,6))\n",
    "fig.suptitle('Anrufverteilung Hagenow zu Berlin')\n",
    "kzh=\"#003873\"\n",
    "kzb=\"#EE0042\"\n",
    "nzh=\"#899EB2\"\n",
    "nzb=\"#C7798F\"\n",
    "\n",
    "ax=fig.add_subplot(131)\n",
    "ax.margins(0,0)\n",
    "ax.set_facecolor('#FFFAE4')\n",
    "ax.set_xticks(unstckd.index)\n",
    "ax.set_title('Gesamte Zeit')\n",
    "ax.set_ylabel('angenommene Calls')\n",
    "ax.set_xlabel('Kalenderwoche')\n",
    "ax.yaxis.grid(True, which='major', color='#8C8C8C', linestyle=':')\n",
    "ax.set_axisbelow(True)\n",
    "p2 = ax.bar(unstckd.index, nebenzeit['B']+kernzeit['B'], width=.8, color=kzb, bottom=nebenzeit['H']+kernzeit['H'], label=\"Ber\")\n",
    "p1 = ax.bar(unstckd.index, nebenzeit['H']+kernzeit['H'], width=.8, color=kzh, label=\"Hag\")\n",
    "maxcalls=ax.get_ylim()\n",
    "\n",
    "ax2=fig.add_subplot(132)\n",
    "ax2.margins(0,0)\n",
    "ax2.set_facecolor('#F4FBF3')\n",
    "ax2.set_xticks(unstckd.index)\n",
    "ax2.set_title('Kernzeit 11:30-19:30')\n",
    "ax2.set_ylim(maxcalls)\n",
    "p2 = ax2.bar(unstckd.index, kernzeit['B'], width=.8, color=nzb, bottom=kernzeit['H'], label=\"Ber\")\n",
    "p1 = ax2.bar(unstckd.index, kernzeit['H'], width=.8, color=nzh, label=\"Hag\")\n",
    "\n",
    "ax3=fig.add_subplot(133)\n",
    "ax3.margins(0,0)\n",
    "ax3.set_facecolor('#F4FBF3')\n",
    "ax3.set_xticks(unstckd.index)\n",
    "ax3.set_title('Nebenzeit 19:30-11:30')\n",
    "ax3.set_ylim(maxcalls)\n",
    "p2 = ax3.bar(unstckd.index, nebenzeit['B'], width=.8, color=nzb, bottom=nebenzeit['H'], label=\"Ber\")\n",
    "p1 = ax3.bar(unstckd.index, nebenzeit['H'], width=.8, color=nzh, label=\"Hag\")\n",
    "\n",
    "ax.legend()\n",
    "ax2.legend()\n",
    "ax3.legend()"
   ]
  },
  {
   "cell_type": "code",
   "execution_count": null,
   "metadata": {
    "collapsed": true
   },
   "outputs": [],
   "source": [
    "# Hier wird ein df erzeugt, der die einzelnen Zeiten als obere Ebene zusammenfasst, und darunter die Agenten\n",
    "# namen der Spalten wie folgt:\n",
    "# an=angenommene Anrufe, be=bearbeitete Anrufe, vl=verlorene Anrufe, tt=talktime absolut, acw=nacharbeit absolut\n",
    "# zusätzlich, berechnet:ht=gesamtarbeitszeit (tt+acw), jeweils, aht att acw = durchschnitt (ht,tt,acw/be)\n",
    "\n",
    "colfunx={'tt':'sum','acw':'sum','be':'sum','vl':'sum','an':'sum'}\n",
    "monate=data.groupby(['mm','ag']).agg(colfunx)\n",
    "monate['ht']=monate.tt+monate.acw\n",
    "monate['att']=monate['tt']/monate.be\n",
    "monate['aacw']=monate['acw']/monate.be\n",
    "monate['aht']=monate['ht']/monate.be\n",
    "ustck=monate.unstack()\n",
    "\n",
    "alleagenten=monate.reset_index().groupby('mm')[['acw','tt','ht','be']].sum()\n",
    "alleagenten['aht']=alleagenten['ht']/alleagenten['be']\n",
    "alleagenten['att']=alleagenten['tt']/alleagenten['be']\n",
    "alleagenten['aacw']=alleagenten['acw']/alleagenten['be']\n",
    "alleagenten\n",
    "\n",
    "\n",
    "ustck.loc[:,('be','alle')]=alleagenten['be']\n",
    "ustck.loc[:,('aht','alle')]=alleagenten['aht']\n",
    "ustck.loc[:,('att','alle')]=alleagenten['att']\n",
    "ustck.loc[:,('aacw','alle')]=alleagenten['aacw']\n"
   ]
  },
  {
   "cell_type": "code",
   "execution_count": null,
   "metadata": {
    "collapsed": true
   },
   "outputs": [],
   "source": [
    "#ttmonatl(ustck,'gesinst')\n",
    "#ustck.loc[7]['be']"
   ]
  },
  {
   "cell_type": "code",
   "execution_count": null,
   "metadata": {
    "collapsed": true
   },
   "outputs": [],
   "source": [
    "data.loc['2017-08'].head()"
   ]
  },
  {
   "cell_type": "code",
   "execution_count": null,
   "metadata": {
    "collapsed": true
   },
   "outputs": [],
   "source": [
    "stg=datetime.date(year=2017,month=5,day=5)\n",
    "#data.loc[('2017-08','dehnsil'),:]\n",
    "data.loc['2017-09','an'].sum()"
   ]
  },
  {
   "cell_type": "markdown",
   "metadata": {},
   "source": [
    "**SUMME KW14 = SUMME AGENTENAUSWERTUNG STIMMT MIT SUMME HOTLINE ÜBEREIN**\n",
    "**SUMME KW8: AGENTEN 19 WENIGER ALS HOTLINE. AGENTEN FEHLEN?**"
   ]
  },
  {
   "cell_type": "code",
   "execution_count": null,
   "metadata": {
    "collapsed": true
   },
   "outputs": [],
   "source": [
    "#data.be"
   ]
  },
  {
   "cell_type": "code",
   "execution_count": null,
   "metadata": {
    "collapsed": true
   },
   "outputs": [],
   "source": [
    "def ttmonatl(frame,agent):\n",
    "    fig=plt.figure(figsize=(6,4))\n",
    "    fig.suptitle('talk- und handlingtimes '+agent)\n",
    "    aht=\"#003873\"\n",
    "    aacw=\"#EE0042\"\n",
    "    att=\"#899EB2\"\n",
    "    nzb=\"#C7798F\"\n",
    "\n",
    "    ax=fig.add_subplot(111)\n",
    "    ax.margins(0,0)\n",
    "    ax.set_xlabel('Monat')\n",
    "    ax.set_ylabel('Minuten')\n",
    "    ax.set_xticks(ustck.index)\n",
    "    ax.set_ylim(0,10)\n",
    "    ax.axhline(y=3.5,color=nzb,ls='--',alpha=0.6, label='3:30min')\n",
    "    htime=ax.plot(frame.index,ustck['aht',agent],color=aht,label='aht')\n",
    "    ttime=ax.plot(frame.index,ustck['att',agent],color=att,label='att')\n",
    "    wtime=ax.plot(frame.index,ustck['aacw',agent],color=aacw,label='aacw')\n",
    "    #for mon in htime:\n",
    "    #    xpos=mon.get_xdata()\n",
    "    #    heig=mon.get_ydata()\n",
    "    #    for coord in xpos:\n",
    "    #        calls=frame['be',agent].values[coord-2]\n",
    "    #        note=ax.text(coord,ax.get_ylim()[1], s=str(int(calls)),ha='center')\n",
    "\n",
    "    ax.legend()\n",
    "    \n",
    "    #### only for showing the y values\n",
    "    print(ustck['aht',agent])"
   ]
  },
  {
   "cell_type": "code",
   "execution_count": null,
   "metadata": {
    "collapsed": true
   },
   "outputs": [],
   "source": [
    "ttmonatl(ustck,'alle')"
   ]
  },
  {
   "cell_type": "code",
   "execution_count": null,
   "metadata": {
    "collapsed": true
   },
   "outputs": [],
   "source": [
    "ustck.head()"
   ]
  },
  {
   "cell_type": "code",
   "execution_count": null,
   "metadata": {
    "collapsed": true
   },
   "outputs": [],
   "source": [
    "data.head()"
   ]
  },
  {
   "cell_type": "code",
   "execution_count": null,
   "metadata": {
    "collapsed": true
   },
   "outputs": [],
   "source": []
  }
 ],
 "metadata": {
  "kernelspec": {
   "display_name": "Python 3",
   "language": "python",
   "name": "python3"
  },
  "language_info": {
   "codemirror_mode": {
    "name": "ipython",
    "version": 3
   },
   "file_extension": ".py",
   "mimetype": "text/x-python",
   "name": "python",
   "nbconvert_exporter": "python",
   "pygments_lexer": "ipython3",
   "version": "3.4.5"
  }
 },
 "nbformat": 4,
 "nbformat_minor": 2
}
